{
 "cells": [
  {
   "cell_type": "markdown",
   "metadata": {
    "id": "dSvjwmu3vPMR"
   },
   "source": [
    "# Final Project - Reinforcements Learning \n",
    "Hello dear students,<br> this is the template notebook. Please click on the \"File\" tab and then on \"Save a copy into drive\".\n",
    "\n",
    "---\n",
    "<br>\n",
    "\n",
    "### Name and ID:\n",
    "Student 1: Avraham Raviv, 204355390\n",
    "<br>\n",
    "Student 2: Yevgeni Berkovitch, 317079234\n",
    "<br><br>\n",
    "<img src=\"https://play-lh.googleusercontent.com/e_oKlKPISbgdzut1H9opevS7-LTB8-8lsmpCdMkhlnqFenZhpjxbLmx7l158-xQQCIY\">\n",
    "\n",
    "### https://github.com/mpSchrader/gym-sokoban"
   ]
  },
  {
   "cell_type": "markdown",
   "metadata": {
    "id": "4T3qcykHFi15"
   },
   "source": [
    "# Installs"
   ]
  },
  {
   "cell_type": "code",
   "execution_count": 1,
   "metadata": {
    "id": "2dah0RrY9Kmj"
   },
   "outputs": [],
   "source": [
    "%%capture\n",
    "!sudo apt-get update\n",
    "!sudo apt-get install -y xvfb ffmpeg freeglut3-dev\n",
    "!pip install 'imageio==2.4.0'\n",
    "!pip install gym\n",
    "!pip install pygame\n",
    "!apt-get install python-opengl -y\n",
    "!apt install xvfb -y\n",
    "!pip install pyvirtualdisplay\n",
    "!pip install piglet\n",
    "!pip install gym\n",
    "!apt-get install python-opengl -y\n",
    "!apt install xvfb -y\n",
    "!pip install gym_sokoban\n",
    "\n",
    "!imageio_download_bin ffmpeg"
   ]
  },
  {
   "cell_type": "markdown",
   "metadata": {
    "id": "yHbKbI7BwIwv"
   },
   "source": [
    "# Imports"
   ]
  },
  {
   "cell_type": "code",
   "execution_count": 2,
   "metadata": {
    "id": "1cNdWkV49OqN"
   },
   "outputs": [],
   "source": [
    "import random\n",
    "\n",
    "import numpy as np\n",
    "import matplotlib.pyplot as plt\n",
    "\n",
    "import base64\n",
    "import imageio\n",
    "from pyvirtualdisplay import Display\n",
    "from IPython.display import HTML\n",
    "\n",
    "import gym\n",
    "from gym import error, spaces, utils\n",
    "from soko_pap import *\n",
    "\n",
    "from collections import deque\n",
    "\n",
    "from keras.models import Sequential\n",
    "from keras.layers import Dense, Conv2D, Flatten\n",
    "\n",
    "import tensorflow\n",
    "from tensorflow.keras.optimizers import Adam\n",
    "from tensorflow.keras.optimizers.schedules import ExponentialDecay\n",
    "\n",
    "from tqdm.notebook import tqdm\n",
    "from collections import defaultdict"
   ]
  },
  {
   "cell_type": "code",
   "execution_count": 3,
   "metadata": {},
   "outputs": [],
   "source": [
    "%matplotlib inline"
   ]
  },
  {
   "cell_type": "code",
   "execution_count": 4,
   "metadata": {},
   "outputs": [],
   "source": [
    "imageio.plugins.ffmpeg.download()"
   ]
  },
  {
   "cell_type": "code",
   "execution_count": 5,
   "metadata": {
    "id": "pa3tRhUfzEJ4"
   },
   "outputs": [],
   "source": [
    "from gym import logger as gymlogger\n",
    "gymlogger.set_level(40) # error only"
   ]
  },
  {
   "cell_type": "code",
   "execution_count": 6,
   "metadata": {},
   "outputs": [],
   "source": [
    "import warnings\n",
    "warnings.filterwarnings('ignore')"
   ]
  },
  {
   "cell_type": "markdown",
   "metadata": {
    "id": "J7bJeRHbwMIj"
   },
   "source": [
    "# Display utils\n",
    "The cell below contains the video display configuration. No need to make changes here."
   ]
  },
  {
   "cell_type": "code",
   "execution_count": 7,
   "metadata": {
    "id": "z41WGwQt9i7_"
   },
   "outputs": [],
   "source": [
    "def embed_mp4(filename):\n",
    "    \"\"\"Embeds an mp4 file in the notebook.\"\"\"\n",
    "    video = open(filename,'rb').read()\n",
    "    b64 = base64.b64encode(video)\n",
    "    tag = '''\n",
    "    <video width=\"640\" height=\"480\" controls>\n",
    "    <source src=\"data:video/mp4;base64,{0}\" type=\"video/mp4\">\n",
    "    Your browser does not support the video tag.\n",
    "    </video>'''.format(b64.decode())\n",
    "\n",
    "    return HTML(tag)"
   ]
  },
  {
   "cell_type": "markdown",
   "metadata": {},
   "source": [
    "# Utils"
   ]
  },
  {
   "cell_type": "code",
   "execution_count": 8,
   "metadata": {},
   "outputs": [],
   "source": [
    "def get_distances_for_target(room_state, target):\n",
    "    distances = np.zeros(shape=room_state.shape)\n",
    "    visited_cells = set()\n",
    "    cell_queue = deque()\n",
    "\n",
    "    visited_cells.add(target)\n",
    "    cell_queue.appendleft(target)\n",
    "\n",
    "    while len(cell_queue) != 0:\n",
    "        cell = cell_queue.pop()\n",
    "        distance = distances[cell[0]][cell[1]]\n",
    "        for x,y in ((1,0), (-1,-0), (0,1), (0,-1)):\n",
    "            next_cell_x, next_cell_y = cell[0]+x, cell[1]+y\n",
    "            if room_state[next_cell_x][next_cell_y] != 0 and not (next_cell_x, next_cell_y) in visited_cells:\n",
    "                distances[next_cell_x][next_cell_y] = distance + 1\n",
    "                visited_cells.add((next_cell_x, next_cell_y))\n",
    "                cell_queue.appendleft((next_cell_x, next_cell_y))\n",
    "                \n",
    "    return distances\n",
    "\n",
    "def get_maze_info(room_state):\n",
    "    targets = []\n",
    "    for i in range(room_state.shape[0]):\n",
    "        for j in range(room_state.shape[1]):\n",
    "            if room_state[i][j] == 2:\n",
    "                targets.append((i, j))\n",
    "\n",
    "    distances0 = get_distances_for_target(room_state, targets[0])\n",
    "    distances1 = get_distances_for_target(room_state, targets[1])\n",
    "    common_distances = np.minimum(distances0, distances1)\n",
    "    \n",
    "    maze_info = {}\n",
    "    maze_info['target0'] = targets[0]\n",
    "    maze_info['target1'] = targets[1]\n",
    "    maze_info['distances0'] = distances0\n",
    "    maze_info['distances1'] = distances1\n",
    "    maze_info['common_distances'] = common_distances\n",
    "    return maze_info\n",
    "\n",
    "def calc_distances(room_state, distances):\n",
    "    boxes = []\n",
    "    for i in range(room_state.shape[0]):\n",
    "        for j in range(room_state.shape[1]):            \n",
    "            if room_state[i][j] == 4:\n",
    "                boxes.append((i,j))\n",
    "    if len(boxes) == 2:\n",
    "        return distances[boxes[0][0]][boxes[0][1]] + distances[boxes[1][0]][boxes[1][1]]\n",
    "    \n",
    "    return distances[boxes[0][0]][boxes[0][1]]\n",
    "\n",
    "def box2target_change_reward(room_state, next_room_state, maze_info):\n",
    "    if np.array_equal(room_state, next_room_state):\n",
    "        return -5.0\n",
    "    \n",
    "    target0 = maze_info['target0']\n",
    "    target1 = maze_info['target1']\n",
    "    distances0 = maze_info['distances0']\n",
    "    distances1 = maze_info['distances1']\n",
    "    common_distances = maze_info['common_distances']\n",
    "    \n",
    "    relevant_distances = common_distances    \n",
    "    \n",
    "    if room_state[target0[0]][target0[1]] == 3:\n",
    "        relevant_distances = distances1\n",
    "    elif room_state[target1[0]][target1[1]] == 3:\n",
    "        relevant_distances = distances0\n",
    "    \n",
    "    change_reward = 0.0      \n",
    "    t2b = calc_distances(room_state, relevant_distances)\n",
    "    n_t2b = calc_distances(next_room_state, relevant_distances)\n",
    "    if n_t2b < t2b:\n",
    "        change_reward += 5.0\n",
    "    elif n_t2b > t2b:\n",
    "        change_reward -= 5.0\n",
    "        \n",
    "    return change_reward  "
   ]
  },
  {
   "cell_type": "markdown",
   "metadata": {
    "id": "I6Qnw883yqGH"
   },
   "source": [
    "# Solution"
   ]
  },
  {
   "cell_type": "code",
   "execution_count": 19,
   "metadata": {
    "id": "gGl0DQvSQG0d"
   },
   "outputs": [],
   "source": [
    "class SOK_Agent:\n",
    "    def __init__(self):\n",
    "        # Construct DQN models\n",
    "        self.state_size = (112,112,1) \n",
    "        self.action_size = 8\n",
    "        self.model = self._build_model()\n",
    "        self.target_model = self._build_model()\n",
    "        self.target_model.set_weights(self.model.get_weights())\n",
    "        self.batch_size = 8\n",
    "        \n",
    "        # Replay buffers\n",
    "        self.replay_buffer = deque(maxlen=5000)\n",
    "        self.prioritized_replay_buffer = deque(maxlen=1000)\n",
    "        \n",
    "        # Hyperparameters\n",
    "        self.gamma = 0.9\n",
    "        self.epsilon = 0.2   \n",
    "        self.epsilon_min = 0.2\n",
    "        self.epsilon_decay = 0.9995\n",
    "        self.replay_rate = 20\n",
    "        self.update_beta = 0.9995\n",
    "        \n",
    "        self.action_rotation_map = {\n",
    "            0: 2,\n",
    "            1: 3,\n",
    "            2: 1,\n",
    "            3: 0,\n",
    "            4: 6,\n",
    "            5: 7,\n",
    "            6: 5,\n",
    "            7: 4\n",
    "        }\n",
    "\n",
    "    def _build_model(self):\n",
    "        model = Sequential()\n",
    "        model.add(Conv2D(32, (16,16), strides=(16,16), input_shape=self.state_size, activation='relu'))\n",
    "        model.add(Conv2D(64, (3,3), activation='relu'))\n",
    "        model.add(Conv2D(64, (3,3), activation='relu'))\n",
    "        model.add(Flatten())\n",
    "        model.add(Dense(512, activation='relu'))  \n",
    "        model.add(Dense(64, activation='relu'))\n",
    "        model.add(Dense(self.action_size, activation='linear'))\n",
    "        \n",
    "        lr_schedule = ExponentialDecay(1e-5, decay_steps=10000, decay_rate=0.99, staircase=False)\n",
    "        model.compile(optimizer=Adam(learning_rate=lr_schedule), loss='mse')        \n",
    "        return model\n",
    "\n",
    "    def remember(self, state, action, reward, next_state, done):\n",
    "        self.replay_buffer.append([state, action, reward, next_state, done])    \n",
    "        \n",
    "    def copy_to_prioritized_buffer(self, n):\n",
    "        for i in range(n):\n",
    "            self.prioritized_replay_buffer.append(self.replay_buffer[-1-i])  \n",
    "\n",
    "    def act(self, state, stochastic=False):\n",
    "        if np.random.rand() <= self.epsilon:\n",
    "            return random.randrange(self.action_size)\n",
    "        \n",
    "        act_values = self.model.predict(state, verbose=0)[0]\n",
    "        \n",
    "        if stochastic:\n",
    "            act_probs = np.exp(act_values)/np.exp(act_values).sum()\n",
    "            return np.random.choice(np.arange(self.action_size), size=1, p=act_probs)[0]\n",
    "              \n",
    "        return np.argmax(act_values) \n",
    "\n",
    "    def replay(self): \n",
    "        if len(self.replay_buffer) < self.batch_size:\n",
    "            return\n",
    "        \n",
    "        if len(self.prioritized_replay_buffer) < self.batch_size//2:\n",
    "            minibatch = random.sample(self.replay_buffer, self.batch_size) \n",
    "        else:    \n",
    "            minibatch = random.sample(self.replay_buffer, self.batch_size//2) \n",
    "            minibatch.extend(random.sample(self.prioritized_replay_buffer, self.batch_size//2))\n",
    "        \n",
    "        states = np.zeros((self.batch_size*4, self.state_size[0], self.state_size[1]))\n",
    "        actions = np.zeros(self.batch_size*4, dtype=int)\n",
    "        rewards = np.zeros(self.batch_size*4)\n",
    "        next_states = np.zeros((self.batch_size*4, self.state_size[0], self.state_size[1]))\n",
    "        statuses = np.zeros(self.batch_size*4)\n",
    "        targets = np.zeros((self.batch_size*4, self.action_size)) \n",
    "        \n",
    "        for i, (state, action, reward, next_state, done) in enumerate(minibatch): \n",
    "            for rot in range(4):  \n",
    "                ind = i*4+rot\n",
    "                if rot != 0:\n",
    "                    state = np.rot90(state, axes=(1,2))\n",
    "                    next_state = np.rot90(next_state, axes=(1,2))\n",
    "                    action = self.action_rotation_map.get(action)\n",
    "\n",
    "                states[ind] = state.copy()\n",
    "                actions[ind] = action\n",
    "                rewards[ind] = reward\n",
    "                next_states[ind] = next_state.copy()\n",
    "                statuses[ind] = 1 if done else 0          \n",
    "        \n",
    "        targets = self.model.predict(states) \n",
    "        max_actions = np.argmax(self.model.predict(next_states), axis=1)\n",
    "        next_rewards = self.target_model.predict(next_states)\n",
    "        \n",
    "        ind = 0\n",
    "        for action, reward, next_reward, max_action, done in zip(actions, rewards, next_rewards, max_actions, statuses):  \n",
    "            if not done:\n",
    "                reward += self.gamma * next_reward[max_action]\n",
    "            targets[ind][action] = reward\n",
    "            ind += 1\n",
    "        \n",
    "        self.model.fit(states, targets, epochs=10, verbose=0) \n",
    "        \n",
    "        self.update_target_model()        \n",
    "    \n",
    "        if self.epsilon > self.epsilon_min:\n",
    "            self.epsilon = self.epsilon * self.epsilon_decay    \n",
    "        \n",
    "    def update_target_model(self):\n",
    "        model_w = self.model.get_weights()\n",
    "        target_model_w = self.target_model.get_weights()\n",
    "        updated_target_model_w = []\n",
    "        for i in range(len(model_w)):\n",
    "            updated_target_model_w.append(self.update_beta*target_model_w[i] + (1-self.update_beta)*model_w[i])\n",
    "        self.target_model.set_weights(updated_target_model_w)    \n",
    "            \n",
    "    def load(self, name):\n",
    "        self.model.load_weights(name)\n",
    "        self.target_model.load_weights(name)\n",
    "\n",
    "    def save(self, name):\n",
    "        self.model.save_weights(name)"
   ]
  },
  {
   "cell_type": "code",
   "execution_count": 20,
   "metadata": {
    "id": "I8TqYhBX1lD4"
   },
   "outputs": [],
   "source": [
    "def process_frame(frame):\n",
    "    f = frame.mean(axis=2)\n",
    "    f = f / 255\n",
    "    return np.expand_dims(f, axis=0)"
   ]
  },
  {
   "cell_type": "markdown",
   "metadata": {},
   "source": [
    "## Training"
   ]
  },
  {
   "cell_type": "markdown",
   "metadata": {},
   "source": [
    "#### Test Suite"
   ]
  },
  {
   "cell_type": "code",
   "execution_count": 21,
   "metadata": {},
   "outputs": [],
   "source": [
    "def init_sok(r, max_steps=40):\n",
    "    random.seed(r)\n",
    "    sok = PushAndPullSokobanEnv(dim_room=(7, 7), num_boxes=2)\n",
    "    sok.set_maxsteps(max_steps)\n",
    "    return sok"
   ]
  },
  {
   "cell_type": "code",
   "execution_count": 22,
   "metadata": {},
   "outputs": [],
   "source": [
    "def test_agent(e, cur_record, stochastic=False):\n",
    "    current_epsilon = agent.epsilon\n",
    "    agent.epsilon = 0.0\n",
    "    num_solved = 0\n",
    "\n",
    "    for t in tqdm(range(100)):    \n",
    "        sok = init_sok(t, 30)\n",
    "        steps = 0\n",
    "\n",
    "        state = sok.get_image('rgb_array')\n",
    "        done = False\n",
    "        while not done:\n",
    "            steps += 1\n",
    "            action = agent.act(process_frame(state), stochastic)\n",
    "            if action < 4:\n",
    "                action += 1\n",
    "            else:\n",
    "                action += 5\n",
    "            state, reward, done, info = sok.step(action)\n",
    "\n",
    "        if sok.boxes_on_target == 2:            \n",
    "            num_solved += 1\n",
    "            \n",
    "    agent.epsilon = current_epsilon    \n",
    "    print(\"Episode %d Epsilon %.3f Learning Rate %.6f Solved: %d\" % (\n",
    "        e+1, \n",
    "        agent.epsilon, \n",
    "        agent.model.optimizer._decayed_lr(tensorflow.float32).numpy(),\n",
    "        num_solved))\n",
    "    \n",
    "    if num_solved > cur_record:\n",
    "        agent.save(\"models\\Q3_06A_%d.h5\" % (num_solved)) \n",
    "        cur_record = num_solved\n",
    "        \n",
    "    return num_solved, cur_record "
   ]
  },
  {
   "cell_type": "code",
   "execution_count": null,
   "metadata": {
    "colab": {
     "base_uri": "https://localhost:8080/",
     "height": 1000
    },
    "id": "s2Km5jCqDqbz",
    "outputId": "abab4d45-7d3a-4a49-8b54-10c34549249d",
    "scrolled": true
   },
   "outputs": [
    {
     "name": "stdout",
     "output_type": "stream",
     "text": [
      "8 | 10\n",
      "17 | 20\n",
      "22 | 30\n",
      "27 | 40\n",
      "33 | 50\n",
      "42 | 60\n",
      "49 | 70\n",
      "55 | 80\n",
      "64 | 90\n",
      "71 | 100\n"
     ]
    },
    {
     "data": {
      "application/vnd.jupyter.widget-view+json": {
       "model_id": "4c964ae83a1e45029a8d73af6516d314",
       "version_major": 2,
       "version_minor": 0
      },
      "text/plain": [
       "HBox(children=(FloatProgress(value=0.0), HTML(value='')))"
      ]
     },
     "metadata": {},
     "output_type": "display_data"
    },
    {
     "name": "stdout",
     "output_type": "stream",
     "text": [
      "[SOKOBAN] Runtime Error/Warning: Not enough free spots (#3) to place 1 player and 2 boxes.\n",
      "[SOKOBAN] Retry . . .\n",
      "\n",
      "Episode 100 Epsilon 0.200 Learning Rate 0.000010 Solved: 69\n",
      "7 | 10\n",
      "13 | 20\n",
      "17 | 30\n",
      "25 | 40\n",
      "34 | 50\n",
      "43 | 60\n",
      "49 | 70\n",
      "56 | 80\n",
      "62 | 90\n",
      "[SOKOBAN] Runtime Error/Warning: Generated Model with score == 0\n",
      "[SOKOBAN] Retry . . .\n",
      "71 | 100\n"
     ]
    },
    {
     "data": {
      "application/vnd.jupyter.widget-view+json": {
       "model_id": "1ac7bfc600fa4734b6274614c25dc88b",
       "version_major": 2,
       "version_minor": 0
      },
      "text/plain": [
       "HBox(children=(FloatProgress(value=0.0), HTML(value='')))"
      ]
     },
     "metadata": {},
     "output_type": "display_data"
    },
    {
     "name": "stdout",
     "output_type": "stream",
     "text": [
      "[SOKOBAN] Runtime Error/Warning: Not enough free spots (#3) to place 1 player and 2 boxes.\n",
      "[SOKOBAN] Retry . . .\n",
      "\n",
      "Episode 200 Epsilon 0.200 Learning Rate 0.000010 Solved: 69\n",
      "7 | 10\n",
      "13 | 20\n",
      "22 | 30\n",
      "30 | 40\n",
      "36 | 50\n",
      "[SOKOBAN] Runtime Error/Warning: Generated Model with score == 0\n",
      "[SOKOBAN] Retry . . .\n",
      "43 | 60\n",
      "[SOKOBAN] Runtime Error/Warning: Not enough free spots (#3) to place 1 player and 2 boxes.\n",
      "[SOKOBAN] Retry . . .\n",
      "53 | 70\n",
      "59 | 80\n",
      "65 | 90\n",
      "72 | 100\n"
     ]
    },
    {
     "data": {
      "application/vnd.jupyter.widget-view+json": {
       "model_id": "8be04d9ead0941cc9033c06199a22cea",
       "version_major": 2,
       "version_minor": 0
      },
      "text/plain": [
       "HBox(children=(FloatProgress(value=0.0), HTML(value='')))"
      ]
     },
     "metadata": {},
     "output_type": "display_data"
    },
    {
     "name": "stdout",
     "output_type": "stream",
     "text": [
      "[SOKOBAN] Runtime Error/Warning: Not enough free spots (#3) to place 1 player and 2 boxes.\n",
      "[SOKOBAN] Retry . . .\n",
      "\n",
      "Episode 300 Epsilon 0.200 Learning Rate 0.000010 Solved: 65\n",
      "7 | 10\n",
      "13 | 20\n",
      "19 | 30\n",
      "27 | 40\n",
      "35 | 50\n",
      "40 | 60\n",
      "45 | 70\n",
      "52 | 80\n",
      "57 | 90\n",
      "63 | 100\n"
     ]
    },
    {
     "data": {
      "application/vnd.jupyter.widget-view+json": {
       "model_id": "a3244fa9723c4991a8fae11dec1f508a",
       "version_major": 2,
       "version_minor": 0
      },
      "text/plain": [
       "HBox(children=(FloatProgress(value=0.0), HTML(value='')))"
      ]
     },
     "metadata": {},
     "output_type": "display_data"
    },
    {
     "name": "stdout",
     "output_type": "stream",
     "text": [
      "[SOKOBAN] Runtime Error/Warning: Not enough free spots (#3) to place 1 player and 2 boxes.\n",
      "[SOKOBAN] Retry . . .\n",
      "\n",
      "Episode 400 Epsilon 0.200 Learning Rate 0.000010 Solved: 64\n",
      "6 | 10\n",
      "15 | 20\n",
      "22 | 30\n",
      "28 | 40\n",
      "34 | 50\n",
      "[SOKOBAN] Runtime Error/Warning: Not enough free spots (#3) to place 1 player and 2 boxes.\n",
      "[SOKOBAN] Retry . . .\n",
      "42 | 60\n",
      "[SOKOBAN] Runtime Error/Warning: Not enough free spots (#3) to place 1 player and 2 boxes.\n",
      "[SOKOBAN] Retry . . .\n",
      "50 | 70\n",
      "57 | 80\n",
      "63 | 90\n",
      "72 | 100\n"
     ]
    },
    {
     "data": {
      "application/vnd.jupyter.widget-view+json": {
       "model_id": "7cfeaa54405947e3902d7232605c4a05",
       "version_major": 2,
       "version_minor": 0
      },
      "text/plain": [
       "HBox(children=(FloatProgress(value=0.0), HTML(value='')))"
      ]
     },
     "metadata": {},
     "output_type": "display_data"
    },
    {
     "name": "stdout",
     "output_type": "stream",
     "text": [
      "[SOKOBAN] Runtime Error/Warning: Not enough free spots (#3) to place 1 player and 2 boxes.\n",
      "[SOKOBAN] Retry . . .\n",
      "\n",
      "Episode 500 Epsilon 0.200 Learning Rate 0.000010 Solved: 67\n",
      "8 | 10\n",
      "[SOKOBAN] Runtime Error/Warning: Generated Model with score == 0\n",
      "[SOKOBAN] Retry . . .\n",
      "15 | 20\n",
      "23 | 30\n",
      "30 | 40\n",
      "[SOKOBAN] Runtime Error/Warning: Not enough free spots (#3) to place 1 player and 2 boxes.\n",
      "[SOKOBAN] Retry . . .\n",
      "35 | 50\n",
      "40 | 60\n",
      "47 | 70\n",
      "[SOKOBAN] Runtime Error/Warning: Not enough free spots (#3) to place 1 player and 2 boxes.\n",
      "[SOKOBAN] Retry . . .\n",
      "55 | 80\n",
      "61 | 90\n",
      "67 | 100\n"
     ]
    },
    {
     "data": {
      "application/vnd.jupyter.widget-view+json": {
       "model_id": "d25782fba9c04f4e9474dced6a2e50b6",
       "version_major": 2,
       "version_minor": 0
      },
      "text/plain": [
       "HBox(children=(FloatProgress(value=0.0), HTML(value='')))"
      ]
     },
     "metadata": {},
     "output_type": "display_data"
    },
    {
     "name": "stdout",
     "output_type": "stream",
     "text": [
      "[SOKOBAN] Runtime Error/Warning: Not enough free spots (#3) to place 1 player and 2 boxes.\n",
      "[SOKOBAN] Retry . . .\n",
      "\n",
      "Episode 600 Epsilon 0.200 Learning Rate 0.000010 Solved: 63\n",
      "7 | 10\n",
      "16 | 20\n",
      "24 | 30\n",
      "31 | 40\n",
      "37 | 50\n",
      "[SOKOBAN] Runtime Error/Warning: Not enough free spots (#3) to place 1 player and 2 boxes.\n",
      "[SOKOBAN] Retry . . .\n",
      "41 | 60\n",
      "44 | 70\n",
      "53 | 80\n",
      "59 | 90\n",
      "65 | 100\n"
     ]
    },
    {
     "data": {
      "application/vnd.jupyter.widget-view+json": {
       "model_id": "c1e8a1a9f9164909a54842925ded20bc",
       "version_major": 2,
       "version_minor": 0
      },
      "text/plain": [
       "HBox(children=(FloatProgress(value=0.0), HTML(value='')))"
      ]
     },
     "metadata": {},
     "output_type": "display_data"
    },
    {
     "name": "stdout",
     "output_type": "stream",
     "text": [
      "[SOKOBAN] Runtime Error/Warning: Not enough free spots (#3) to place 1 player and 2 boxes.\n",
      "[SOKOBAN] Retry . . .\n",
      "\n",
      "Episode 700 Epsilon 0.200 Learning Rate 0.000010 Solved: 64\n",
      "6 | 10\n",
      "[SOKOBAN] Runtime Error/Warning: Not enough free spots (#3) to place 1 player and 2 boxes.\n",
      "[SOKOBAN] Retry . . .\n",
      "12 | 20\n",
      "17 | 30\n",
      "24 | 40\n",
      "30 | 50\n",
      "38 | 60\n",
      "46 | 70\n",
      "51 | 80\n",
      "[SOKOBAN] Runtime Error/Warning: Generated Model with score == 0\n",
      "[SOKOBAN] Retry . . .\n",
      "58 | 90\n",
      "62 | 100\n"
     ]
    },
    {
     "data": {
      "application/vnd.jupyter.widget-view+json": {
       "model_id": "3c9b08ecf67e48e198384b11a51dff66",
       "version_major": 2,
       "version_minor": 0
      },
      "text/plain": [
       "HBox(children=(FloatProgress(value=0.0), HTML(value='')))"
      ]
     },
     "metadata": {},
     "output_type": "display_data"
    },
    {
     "name": "stdout",
     "output_type": "stream",
     "text": [
      "[SOKOBAN] Runtime Error/Warning: Not enough free spots (#3) to place 1 player and 2 boxes.\n",
      "[SOKOBAN] Retry . . .\n",
      "\n",
      "Episode 800 Epsilon 0.200 Learning Rate 0.000010 Solved: 63\n",
      "8 | 10\n",
      "12 | 20\n",
      "[SOKOBAN] Runtime Error/Warning: Not enough free spots (#3) to place 1 player and 2 boxes.\n",
      "[SOKOBAN] Retry . . .\n",
      "21 | 30\n",
      "26 | 40\n",
      "34 | 50\n",
      "42 | 60\n",
      "46 | 70\n",
      "53 | 80\n",
      "58 | 90\n",
      "64 | 100\n"
     ]
    },
    {
     "data": {
      "application/vnd.jupyter.widget-view+json": {
       "model_id": "b12c1e7cf6c44d8fbe72ce77bf0f51eb",
       "version_major": 2,
       "version_minor": 0
      },
      "text/plain": [
       "HBox(children=(FloatProgress(value=0.0), HTML(value='')))"
      ]
     },
     "metadata": {},
     "output_type": "display_data"
    },
    {
     "name": "stdout",
     "output_type": "stream",
     "text": [
      "[SOKOBAN] Runtime Error/Warning: Not enough free spots (#3) to place 1 player and 2 boxes.\n",
      "[SOKOBAN] Retry . . .\n",
      "\n",
      "Episode 900 Epsilon 0.200 Learning Rate 0.000010 Solved: 65\n",
      "7 | 10\n",
      "[SOKOBAN] Runtime Error/Warning: Not enough free spots (#3) to place 1 player and 2 boxes.\n",
      "[SOKOBAN] Retry . . .\n",
      "15 | 20\n",
      "21 | 30\n",
      "27 | 40\n",
      "33 | 50\n",
      "41 | 60\n",
      "49 | 70\n",
      "56 | 80\n",
      "62 | 90\n",
      "70 | 100\n"
     ]
    },
    {
     "data": {
      "application/vnd.jupyter.widget-view+json": {
       "model_id": "31529ae96188443f9e198a69134de65c",
       "version_major": 2,
       "version_minor": 0
      },
      "text/plain": [
       "HBox(children=(FloatProgress(value=0.0), HTML(value='')))"
      ]
     },
     "metadata": {},
     "output_type": "display_data"
    },
    {
     "name": "stdout",
     "output_type": "stream",
     "text": [
      "[SOKOBAN] Runtime Error/Warning: Not enough free spots (#3) to place 1 player and 2 boxes.\n",
      "[SOKOBAN] Retry . . .\n",
      "\n",
      "Episode 1000 Epsilon 0.200 Learning Rate 0.000010 Solved: 64\n",
      "7 | 10\n",
      "[SOKOBAN] Runtime Error/Warning: Generated Model with score == 0\n",
      "[SOKOBAN] Retry . . .\n",
      "[SOKOBAN] Runtime Error/Warning: Not enough free spots (#3) to place 1 player and 2 boxes.\n",
      "[SOKOBAN] Retry . . .\n",
      "[SOKOBAN] Runtime Error/Warning: Not enough free spots (#3) to place 1 player and 2 boxes.\n",
      "[SOKOBAN] Retry . . .\n",
      "16 | 20\n",
      "23 | 30\n",
      "30 | 40\n",
      "37 | 50\n",
      "42 | 60\n",
      "48 | 70\n",
      "55 | 80\n",
      "59 | 90\n",
      "64 | 100\n"
     ]
    },
    {
     "data": {
      "application/vnd.jupyter.widget-view+json": {
       "model_id": "5975279e897a4e89a69492f0bc98a617",
       "version_major": 2,
       "version_minor": 0
      },
      "text/plain": [
       "HBox(children=(FloatProgress(value=0.0), HTML(value='')))"
      ]
     },
     "metadata": {},
     "output_type": "display_data"
    },
    {
     "name": "stdout",
     "output_type": "stream",
     "text": [
      "[SOKOBAN] Runtime Error/Warning: Not enough free spots (#3) to place 1 player and 2 boxes.\n",
      "[SOKOBAN] Retry . . .\n",
      "\n",
      "Episode 1100 Epsilon 0.200 Learning Rate 0.000010 Solved: 65\n",
      "8 | 10\n",
      "15 | 20\n",
      "20 | 30\n",
      "25 | 40\n",
      "34 | 50\n",
      "41 | 60\n",
      "49 | 70\n",
      "56 | 80\n",
      "61 | 90\n",
      "68 | 100\n"
     ]
    },
    {
     "data": {
      "application/vnd.jupyter.widget-view+json": {
       "model_id": "4a668a0e3dcf4687876cacbb514c386c",
       "version_major": 2,
       "version_minor": 0
      },
      "text/plain": [
       "HBox(children=(FloatProgress(value=0.0), HTML(value='')))"
      ]
     },
     "metadata": {},
     "output_type": "display_data"
    },
    {
     "name": "stdout",
     "output_type": "stream",
     "text": [
      "[SOKOBAN] Runtime Error/Warning: Not enough free spots (#3) to place 1 player and 2 boxes.\n",
      "[SOKOBAN] Retry . . .\n",
      "\n",
      "Episode 1200 Epsilon 0.200 Learning Rate 0.000010 Solved: 66\n",
      "5 | 10\n",
      "12 | 20\n",
      "18 | 30\n",
      "24 | 40\n",
      "[SOKOBAN] Runtime Error/Warning: Not enough free spots (#3) to place 1 player and 2 boxes.\n",
      "[SOKOBAN] Retry . . .\n",
      "30 | 50\n",
      "36 | 60\n",
      "44 | 70\n",
      "51 | 80\n",
      "60 | 90\n",
      "[SOKOBAN] Runtime Error/Warning: Generated Model with score == 0\n",
      "[SOKOBAN] Retry . . .\n",
      "67 | 100\n"
     ]
    },
    {
     "data": {
      "application/vnd.jupyter.widget-view+json": {
       "model_id": "cd4c92d9692449e481332c79d47a3c89",
       "version_major": 2,
       "version_minor": 0
      },
      "text/plain": [
       "HBox(children=(FloatProgress(value=0.0), HTML(value='')))"
      ]
     },
     "metadata": {},
     "output_type": "display_data"
    },
    {
     "name": "stdout",
     "output_type": "stream",
     "text": [
      "[SOKOBAN] Runtime Error/Warning: Not enough free spots (#3) to place 1 player and 2 boxes.\n",
      "[SOKOBAN] Retry . . .\n",
      "\n",
      "Episode 1300 Epsilon 0.200 Learning Rate 0.000010 Solved: 64\n",
      "6 | 10\n",
      "10 | 20\n",
      "[SOKOBAN] Runtime Error/Warning: Generated Model with score == 0\n",
      "[SOKOBAN] Retry . . .\n",
      "17 | 30\n",
      "[SOKOBAN] Runtime Error/Warning: Generated Model with score == 0\n",
      "[SOKOBAN] Retry . . .\n",
      "22 | 40\n",
      "29 | 50\n",
      "33 | 60\n",
      "43 | 70\n",
      "48 | 80\n",
      "55 | 90\n",
      "62 | 100\n"
     ]
    },
    {
     "data": {
      "application/vnd.jupyter.widget-view+json": {
       "model_id": "920a28d253454098a118e2649fc032ce",
       "version_major": 2,
       "version_minor": 0
      },
      "text/plain": [
       "HBox(children=(FloatProgress(value=0.0), HTML(value='')))"
      ]
     },
     "metadata": {},
     "output_type": "display_data"
    },
    {
     "name": "stdout",
     "output_type": "stream",
     "text": [
      "[SOKOBAN] Runtime Error/Warning: Not enough free spots (#3) to place 1 player and 2 boxes.\n",
      "[SOKOBAN] Retry . . .\n",
      "\n",
      "Episode 1400 Epsilon 0.200 Learning Rate 0.000010 Solved: 64\n",
      "8 | 10\n",
      "12 | 20\n",
      "19 | 30\n",
      "[SOKOBAN] Runtime Error/Warning: Generated Model with score == 0\n",
      "[SOKOBAN] Retry . . .\n",
      "26 | 40\n",
      "32 | 50\n",
      "37 | 60\n",
      "41 | 70\n",
      "48 | 80\n",
      "[SOKOBAN] Runtime Error/Warning: Not enough free spots (#3) to place 1 player and 2 boxes.\n",
      "[SOKOBAN] Retry . . .\n",
      "52 | 90\n",
      "59 | 100\n"
     ]
    },
    {
     "data": {
      "application/vnd.jupyter.widget-view+json": {
       "model_id": "e25fc6a0e7a04d3b951e9ea599e4d041",
       "version_major": 2,
       "version_minor": 0
      },
      "text/plain": [
       "HBox(children=(FloatProgress(value=0.0), HTML(value='')))"
      ]
     },
     "metadata": {},
     "output_type": "display_data"
    },
    {
     "name": "stdout",
     "output_type": "stream",
     "text": [
      "[SOKOBAN] Runtime Error/Warning: Not enough free spots (#3) to place 1 player and 2 boxes.\n",
      "[SOKOBAN] Retry . . .\n",
      "\n",
      "Episode 1500 Epsilon 0.200 Learning Rate 0.000010 Solved: 65\n",
      "8 | 10\n",
      "13 | 20\n",
      "18 | 30\n",
      "[SOKOBAN] Runtime Error/Warning: Not enough free spots (#3) to place 1 player and 2 boxes.\n",
      "[SOKOBAN] Retry . . .\n",
      "23 | 40\n",
      "29 | 50\n",
      "[SOKOBAN] Runtime Error/Warning: Not enough free spots (#3) to place 1 player and 2 boxes.\n",
      "[SOKOBAN] Retry . . .\n",
      "38 | 60\n",
      "45 | 70\n",
      "53 | 80\n",
      "59 | 90\n",
      "67 | 100\n"
     ]
    },
    {
     "data": {
      "application/vnd.jupyter.widget-view+json": {
       "model_id": "e967594f6080457abd151b62543fd3df",
       "version_major": 2,
       "version_minor": 0
      },
      "text/plain": [
       "HBox(children=(FloatProgress(value=0.0), HTML(value='')))"
      ]
     },
     "metadata": {},
     "output_type": "display_data"
    },
    {
     "name": "stdout",
     "output_type": "stream",
     "text": [
      "[SOKOBAN] Runtime Error/Warning: Not enough free spots (#3) to place 1 player and 2 boxes.\n",
      "[SOKOBAN] Retry . . .\n",
      "\n",
      "Episode 1600 Epsilon 0.200 Learning Rate 0.000010 Solved: 63\n",
      "8 | 10\n",
      "14 | 20\n",
      "19 | 30\n",
      "26 | 40\n",
      "[SOKOBAN] Runtime Error/Warning: Not enough free spots (#3) to place 1 player and 2 boxes.\n",
      "[SOKOBAN] Retry . . .\n",
      "34 | 50\n",
      "39 | 60\n",
      "43 | 70\n",
      "47 | 80\n",
      "51 | 90\n",
      "[SOKOBAN] Runtime Error/Warning: Not enough free spots (#3) to place 1 player and 2 boxes.\n",
      "[SOKOBAN] Retry . . .\n",
      "59 | 100\n"
     ]
    },
    {
     "data": {
      "application/vnd.jupyter.widget-view+json": {
       "model_id": "cc51e90136d34efd84f4602ea29883e3",
       "version_major": 2,
       "version_minor": 0
      },
      "text/plain": [
       "HBox(children=(FloatProgress(value=0.0), HTML(value='')))"
      ]
     },
     "metadata": {},
     "output_type": "display_data"
    },
    {
     "name": "stdout",
     "output_type": "stream",
     "text": [
      "[SOKOBAN] Runtime Error/Warning: Not enough free spots (#3) to place 1 player and 2 boxes.\n",
      "[SOKOBAN] Retry . . .\n",
      "\n",
      "Episode 1700 Epsilon 0.200 Learning Rate 0.000010 Solved: 63\n",
      "[SOKOBAN] Runtime Error/Warning: Not enough free spots (#3) to place 1 player and 2 boxes.\n",
      "[SOKOBAN] Retry . . .\n",
      "7 | 10\n",
      "11 | 20\n",
      "18 | 30\n",
      "26 | 40\n",
      "33 | 50\n",
      "[SOKOBAN] Runtime Error/Warning: Generated Model with score == 0\n",
      "[SOKOBAN] Retry . . .\n",
      "39 | 60\n",
      "46 | 70\n",
      "[SOKOBAN] Runtime Error/Warning: Not enough free spots (#3) to place 1 player and 2 boxes.\n",
      "[SOKOBAN] Retry . . .\n",
      "52 | 80\n",
      "[SOKOBAN] Runtime Error/Warning: Not enough free spots (#3) to place 1 player and 2 boxes.\n",
      "[SOKOBAN] Retry . . .\n",
      "58 | 90\n",
      "66 | 100\n"
     ]
    },
    {
     "data": {
      "application/vnd.jupyter.widget-view+json": {
       "model_id": "567d3046c97446489ac36941121e4d19",
       "version_major": 2,
       "version_minor": 0
      },
      "text/plain": [
       "HBox(children=(FloatProgress(value=0.0), HTML(value='')))"
      ]
     },
     "metadata": {},
     "output_type": "display_data"
    },
    {
     "name": "stdout",
     "output_type": "stream",
     "text": [
      "[SOKOBAN] Runtime Error/Warning: Not enough free spots (#3) to place 1 player and 2 boxes.\n",
      "[SOKOBAN] Retry . . .\n",
      "\n",
      "Episode 1800 Epsilon 0.200 Learning Rate 0.000010 Solved: 64\n",
      "7 | 10\n",
      "[SOKOBAN] Runtime Error/Warning: Generated Model with score == 0\n",
      "[SOKOBAN] Retry . . .\n",
      "14 | 20\n",
      "[SOKOBAN] Runtime Error/Warning: Not enough free spots (#3) to place 1 player and 2 boxes.\n",
      "[SOKOBAN] Retry . . .\n",
      "21 | 30\n",
      "[SOKOBAN] Runtime Error/Warning: Generated Model with score == 0\n",
      "[SOKOBAN] Retry . . .\n",
      "30 | 40\n",
      "[SOKOBAN] Runtime Error/Warning: Not enough free spots (#3) to place 1 player and 2 boxes.\n",
      "[SOKOBAN] Retry . . .\n",
      "37 | 50\n",
      "44 | 60\n",
      "51 | 70\n",
      "[SOKOBAN] Runtime Error/Warning: Not enough free spots (#3) to place 1 player and 2 boxes.\n",
      "[SOKOBAN] Retry . . .\n",
      "59 | 80\n",
      "64 | 90\n",
      "73 | 100\n"
     ]
    },
    {
     "data": {
      "application/vnd.jupyter.widget-view+json": {
       "model_id": "ed308db7f5c7494a8a357b17c7358c29",
       "version_major": 2,
       "version_minor": 0
      },
      "text/plain": [
       "HBox(children=(FloatProgress(value=0.0), HTML(value='')))"
      ]
     },
     "metadata": {},
     "output_type": "display_data"
    },
    {
     "name": "stdout",
     "output_type": "stream",
     "text": [
      "[SOKOBAN] Runtime Error/Warning: Not enough free spots (#3) to place 1 player and 2 boxes.\n",
      "[SOKOBAN] Retry . . .\n",
      "\n",
      "Episode 1900 Epsilon 0.200 Learning Rate 0.000010 Solved: 63\n",
      "6 | 10\n",
      "13 | 20\n",
      "[SOKOBAN] Runtime Error/Warning: Generated Model with score == 0\n",
      "[SOKOBAN] Retry . . .\n",
      "18 | 30\n",
      "[SOKOBAN] Runtime Error/Warning: Not enough free spots (#3) to place 1 player and 2 boxes.\n",
      "[SOKOBAN] Retry . . .\n",
      "26 | 40\n",
      "33 | 50\n",
      "39 | 60\n",
      "46 | 70\n",
      "[SOKOBAN] Runtime Error/Warning: Generated Model with score == 0\n",
      "[SOKOBAN] Retry . . .\n",
      "53 | 80\n",
      "[SOKOBAN] Runtime Error/Warning: Not enough free spots (#3) to place 1 player and 2 boxes.\n",
      "[SOKOBAN] Retry . . .\n",
      "59 | 90\n",
      "66 | 100\n"
     ]
    },
    {
     "data": {
      "application/vnd.jupyter.widget-view+json": {
       "model_id": "37833f86e4ae4b03aaa2c8e629971d63",
       "version_major": 2,
       "version_minor": 0
      },
      "text/plain": [
       "HBox(children=(FloatProgress(value=0.0), HTML(value='')))"
      ]
     },
     "metadata": {},
     "output_type": "display_data"
    },
    {
     "name": "stdout",
     "output_type": "stream",
     "text": [
      "[SOKOBAN] Runtime Error/Warning: Not enough free spots (#3) to place 1 player and 2 boxes.\n",
      "[SOKOBAN] Retry . . .\n",
      "\n",
      "Episode 2000 Epsilon 0.200 Learning Rate 0.000010 Solved: 64\n",
      "4 | 10\n",
      "[SOKOBAN] Runtime Error/Warning: Not enough free spots (#3) to place 1 player and 2 boxes.\n",
      "[SOKOBAN] Retry . . .\n",
      "12 | 20\n",
      "[SOKOBAN] Runtime Error/Warning: Generated Model with score == 0\n",
      "[SOKOBAN] Retry . . .\n",
      "20 | 30\n",
      "26 | 40\n",
      "34 | 50\n",
      "41 | 60\n",
      "50 | 70\n",
      "56 | 80\n",
      "60 | 90\n",
      "67 | 100\n"
     ]
    },
    {
     "data": {
      "application/vnd.jupyter.widget-view+json": {
       "model_id": "1860f3a9869f44f982e315efba6e356c",
       "version_major": 2,
       "version_minor": 0
      },
      "text/plain": [
       "HBox(children=(FloatProgress(value=0.0), HTML(value='')))"
      ]
     },
     "metadata": {},
     "output_type": "display_data"
    },
    {
     "name": "stdout",
     "output_type": "stream",
     "text": [
      "[SOKOBAN] Runtime Error/Warning: Not enough free spots (#3) to place 1 player and 2 boxes.\n",
      "[SOKOBAN] Retry . . .\n",
      "\n",
      "Episode 2100 Epsilon 0.200 Learning Rate 0.000010 Solved: 64\n",
      "4 | 10\n",
      "10 | 20\n",
      "[SOKOBAN] Runtime Error/Warning: Not enough free spots (#3) to place 1 player and 2 boxes.\n",
      "[SOKOBAN] Retry . . .\n",
      "14 | 30\n",
      "21 | 40\n",
      "28 | 50\n",
      "35 | 60\n",
      "37 | 70\n",
      "46 | 80\n",
      "53 | 90\n",
      "57 | 100\n"
     ]
    },
    {
     "data": {
      "application/vnd.jupyter.widget-view+json": {
       "model_id": "c4d62c2d39cc4c51bd64c3e55f9eca53",
       "version_major": 2,
       "version_minor": 0
      },
      "text/plain": [
       "HBox(children=(FloatProgress(value=0.0), HTML(value='')))"
      ]
     },
     "metadata": {},
     "output_type": "display_data"
    },
    {
     "name": "stdout",
     "output_type": "stream",
     "text": [
      "[SOKOBAN] Runtime Error/Warning: Not enough free spots (#3) to place 1 player and 2 boxes.\n",
      "[SOKOBAN] Retry . . .\n",
      "\n",
      "Episode 2200 Epsilon 0.200 Learning Rate 0.000010 Solved: 64\n",
      "6 | 10\n",
      "14 | 20\n",
      "21 | 30\n",
      "[SOKOBAN] Runtime Error/Warning: Not enough free spots (#3) to place 1 player and 2 boxes.\n",
      "[SOKOBAN] Retry . . .\n",
      "27 | 40\n",
      "35 | 50\n",
      "43 | 60\n",
      "51 | 70\n",
      "59 | 80\n",
      "66 | 90\n",
      "72 | 100\n"
     ]
    },
    {
     "data": {
      "application/vnd.jupyter.widget-view+json": {
       "model_id": "ffba86b4148f4560a0b9aa95e79ffd79",
       "version_major": 2,
       "version_minor": 0
      },
      "text/plain": [
       "HBox(children=(FloatProgress(value=0.0), HTML(value='')))"
      ]
     },
     "metadata": {},
     "output_type": "display_data"
    },
    {
     "name": "stdout",
     "output_type": "stream",
     "text": [
      "[SOKOBAN] Runtime Error/Warning: Not enough free spots (#3) to place 1 player and 2 boxes.\n",
      "[SOKOBAN] Retry . . .\n",
      "\n",
      "Episode 2300 Epsilon 0.200 Learning Rate 0.000010 Solved: 65\n",
      "7 | 10\n",
      "12 | 20\n",
      "19 | 30\n",
      "25 | 40\n",
      "32 | 50\n",
      "[SOKOBAN] Runtime Error/Warning: Not enough free spots (#3) to place 1 player and 2 boxes.\n",
      "[SOKOBAN] Retry . . .\n",
      "38 | 60\n",
      "[SOKOBAN] Runtime Error/Warning: Generated Model with score == 0\n",
      "[SOKOBAN] Retry . . .\n",
      "44 | 70\n",
      "49 | 80\n",
      "58 | 90\n",
      "67 | 100\n"
     ]
    },
    {
     "data": {
      "application/vnd.jupyter.widget-view+json": {
       "model_id": "200c47947caa41aaa8033abc14765bf8",
       "version_major": 2,
       "version_minor": 0
      },
      "text/plain": [
       "HBox(children=(FloatProgress(value=0.0), HTML(value='')))"
      ]
     },
     "metadata": {},
     "output_type": "display_data"
    },
    {
     "name": "stdout",
     "output_type": "stream",
     "text": [
      "[SOKOBAN] Runtime Error/Warning: Not enough free spots (#3) to place 1 player and 2 boxes.\n",
      "[SOKOBAN] Retry . . .\n",
      "\n",
      "Episode 2400 Epsilon 0.200 Learning Rate 0.000010 Solved: 65\n",
      "8 | 10\n",
      "14 | 20\n",
      "21 | 30\n",
      "27 | 40\n",
      "34 | 50\n",
      "41 | 60\n",
      "47 | 70\n",
      "54 | 80\n",
      "62 | 90\n",
      "[SOKOBAN] Runtime Error/Warning: Not enough free spots (#3) to place 1 player and 2 boxes.\n",
      "[SOKOBAN] Retry . . .\n",
      "71 | 100\n"
     ]
    },
    {
     "data": {
      "application/vnd.jupyter.widget-view+json": {
       "model_id": "5d0930001526466d8a90ceb841948be7",
       "version_major": 2,
       "version_minor": 0
      },
      "text/plain": [
       "HBox(children=(FloatProgress(value=0.0), HTML(value='')))"
      ]
     },
     "metadata": {},
     "output_type": "display_data"
    },
    {
     "name": "stdout",
     "output_type": "stream",
     "text": [
      "[SOKOBAN] Runtime Error/Warning: Not enough free spots (#3) to place 1 player and 2 boxes.\n",
      "[SOKOBAN] Retry . . .\n",
      "\n",
      "Episode 2500 Epsilon 0.200 Learning Rate 0.000010 Solved: 64\n",
      "8 | 10\n",
      "14 | 20\n",
      "[SOKOBAN] Runtime Error/Warning: Not enough free spots (#3) to place 1 player and 2 boxes.\n",
      "[SOKOBAN] Retry . . .\n",
      "21 | 30\n",
      "26 | 40\n",
      "34 | 50\n",
      "40 | 60\n",
      "45 | 70\n",
      "51 | 80\n",
      "59 | 90\n",
      "63 | 100\n"
     ]
    },
    {
     "data": {
      "application/vnd.jupyter.widget-view+json": {
       "model_id": "a92f547c72a547ae9f85095bc55c893f",
       "version_major": 2,
       "version_minor": 0
      },
      "text/plain": [
       "HBox(children=(FloatProgress(value=0.0), HTML(value='')))"
      ]
     },
     "metadata": {},
     "output_type": "display_data"
    },
    {
     "name": "stdout",
     "output_type": "stream",
     "text": [
      "[SOKOBAN] Runtime Error/Warning: Not enough free spots (#3) to place 1 player and 2 boxes.\n",
      "[SOKOBAN] Retry . . .\n",
      "\n",
      "Episode 2600 Epsilon 0.200 Learning Rate 0.000010 Solved: 66\n",
      "6 | 10\n",
      "12 | 20\n",
      "19 | 30\n",
      "25 | 40\n",
      "32 | 50\n",
      "40 | 60\n",
      "47 | 70\n",
      "54 | 80\n",
      "60 | 90\n",
      "68 | 100\n"
     ]
    },
    {
     "data": {
      "application/vnd.jupyter.widget-view+json": {
       "model_id": "7af0cc3de63742249b2fc7f97d49a0fa",
       "version_major": 2,
       "version_minor": 0
      },
      "text/plain": [
       "HBox(children=(FloatProgress(value=0.0), HTML(value='')))"
      ]
     },
     "metadata": {},
     "output_type": "display_data"
    },
    {
     "name": "stdout",
     "output_type": "stream",
     "text": [
      "[SOKOBAN] Runtime Error/Warning: Not enough free spots (#3) to place 1 player and 2 boxes.\n",
      "[SOKOBAN] Retry . . .\n",
      "\n",
      "Episode 2700 Epsilon 0.200 Learning Rate 0.000010 Solved: 63\n",
      "6 | 10\n",
      "13 | 20\n",
      "21 | 30\n",
      "29 | 40\n",
      "35 | 50\n",
      "[SOKOBAN] Runtime Error/Warning: Generated Model with score == 0\n",
      "[SOKOBAN] Retry . . .\n",
      "41 | 60\n",
      "49 | 70\n",
      "57 | 80\n",
      "61 | 90\n",
      "[SOKOBAN] Runtime Error/Warning: Not enough free spots (#3) to place 1 player and 2 boxes.\n",
      "[SOKOBAN] Retry . . .\n",
      "69 | 100\n"
     ]
    },
    {
     "data": {
      "application/vnd.jupyter.widget-view+json": {
       "model_id": "a97a917b60d24a839460ad719b139c4a",
       "version_major": 2,
       "version_minor": 0
      },
      "text/plain": [
       "HBox(children=(FloatProgress(value=0.0), HTML(value='')))"
      ]
     },
     "metadata": {},
     "output_type": "display_data"
    },
    {
     "name": "stdout",
     "output_type": "stream",
     "text": [
      "[SOKOBAN] Runtime Error/Warning: Not enough free spots (#3) to place 1 player and 2 boxes.\n",
      "[SOKOBAN] Retry . . .\n",
      "\n",
      "Episode 2800 Epsilon 0.200 Learning Rate 0.000010 Solved: 65\n",
      "8 | 10\n",
      "14 | 20\n",
      "19 | 30\n",
      "[SOKOBAN] Runtime Error/Warning: Not enough free spots (#3) to place 1 player and 2 boxes.\n",
      "[SOKOBAN] Retry . . .\n",
      "26 | 40\n",
      "31 | 50\n",
      "36 | 60\n",
      "45 | 70\n",
      "52 | 80\n",
      "60 | 90\n",
      "66 | 100\n"
     ]
    },
    {
     "data": {
      "application/vnd.jupyter.widget-view+json": {
       "model_id": "1de7c5cbc9944bc483a77db38805941c",
       "version_major": 2,
       "version_minor": 0
      },
      "text/plain": [
       "HBox(children=(FloatProgress(value=0.0), HTML(value='')))"
      ]
     },
     "metadata": {},
     "output_type": "display_data"
    },
    {
     "name": "stdout",
     "output_type": "stream",
     "text": [
      "[SOKOBAN] Runtime Error/Warning: Not enough free spots (#3) to place 1 player and 2 boxes.\n",
      "[SOKOBAN] Retry . . .\n",
      "\n",
      "Episode 2900 Epsilon 0.200 Learning Rate 0.000010 Solved: 66\n",
      "9 | 10\n",
      "19 | 20\n",
      "26 | 30\n",
      "32 | 40\n",
      "39 | 50\n",
      "45 | 60\n",
      "52 | 70\n",
      "61 | 80\n",
      "66 | 90\n",
      "72 | 100\n"
     ]
    },
    {
     "data": {
      "application/vnd.jupyter.widget-view+json": {
       "model_id": "05918a99d8c144b68c6998d4638412fb",
       "version_major": 2,
       "version_minor": 0
      },
      "text/plain": [
       "HBox(children=(FloatProgress(value=0.0), HTML(value='')))"
      ]
     },
     "metadata": {},
     "output_type": "display_data"
    },
    {
     "name": "stdout",
     "output_type": "stream",
     "text": [
      "[SOKOBAN] Runtime Error/Warning: Not enough free spots (#3) to place 1 player and 2 boxes.\n",
      "[SOKOBAN] Retry . . .\n",
      "\n",
      "Episode 3000 Epsilon 0.200 Learning Rate 0.000010 Solved: 66\n",
      "8 | 10\n",
      "12 | 20\n",
      "19 | 30\n",
      "[SOKOBAN] Runtime Error/Warning: Generated Model with score == 0\n",
      "[SOKOBAN] Retry . . .\n",
      "27 | 40\n",
      "32 | 50\n",
      "39 | 60\n",
      "48 | 70\n",
      "54 | 80\n",
      "[SOKOBAN] Runtime Error/Warning: Not enough free spots (#3) to place 1 player and 2 boxes.\n",
      "[SOKOBAN] Retry . . .\n",
      "61 | 90\n",
      "69 | 100\n"
     ]
    },
    {
     "data": {
      "application/vnd.jupyter.widget-view+json": {
       "model_id": "e58fb2a37cb54552972de3b9bb0465c3",
       "version_major": 2,
       "version_minor": 0
      },
      "text/plain": [
       "HBox(children=(FloatProgress(value=0.0), HTML(value='')))"
      ]
     },
     "metadata": {},
     "output_type": "display_data"
    },
    {
     "name": "stdout",
     "output_type": "stream",
     "text": [
      "[SOKOBAN] Runtime Error/Warning: Not enough free spots (#3) to place 1 player and 2 boxes.\n",
      "[SOKOBAN] Retry . . .\n",
      "\n",
      "Episode 3100 Epsilon 0.200 Learning Rate 0.000010 Solved: 65\n",
      "6 | 10\n",
      "12 | 20\n",
      "19 | 30\n",
      "25 | 40\n",
      "31 | 50\n",
      "37 | 60\n",
      "44 | 70\n",
      "51 | 80\n",
      "59 | 90\n",
      "[SOKOBAN] Runtime Error/Warning: Not enough free spots (#3) to place 1 player and 2 boxes.\n",
      "[SOKOBAN] Retry . . .\n",
      "64 | 100\n"
     ]
    },
    {
     "data": {
      "application/vnd.jupyter.widget-view+json": {
       "model_id": "4bc014d2d18044e0b965d350c887354c",
       "version_major": 2,
       "version_minor": 0
      },
      "text/plain": [
       "HBox(children=(FloatProgress(value=0.0), HTML(value='')))"
      ]
     },
     "metadata": {},
     "output_type": "display_data"
    },
    {
     "name": "stdout",
     "output_type": "stream",
     "text": [
      "[SOKOBAN] Runtime Error/Warning: Not enough free spots (#3) to place 1 player and 2 boxes.\n",
      "[SOKOBAN] Retry . . .\n",
      "\n",
      "Episode 3200 Epsilon 0.200 Learning Rate 0.000010 Solved: 66\n",
      "8 | 10\n",
      "13 | 20\n",
      "19 | 30\n",
      "26 | 40\n",
      "[SOKOBAN] Runtime Error/Warning: Generated Model with score == 0\n",
      "[SOKOBAN] Retry . . .\n",
      "33 | 50\n",
      "40 | 60\n",
      "45 | 70\n",
      "53 | 80\n",
      "60 | 90\n",
      "[SOKOBAN] Runtime Error/Warning: Generated Model with score == 0\n",
      "[SOKOBAN] Retry . . .\n",
      "67 | 100\n"
     ]
    },
    {
     "data": {
      "application/vnd.jupyter.widget-view+json": {
       "model_id": "e522bd432c5b47fe9f7855e67a702f63",
       "version_major": 2,
       "version_minor": 0
      },
      "text/plain": [
       "HBox(children=(FloatProgress(value=0.0), HTML(value='')))"
      ]
     },
     "metadata": {},
     "output_type": "display_data"
    },
    {
     "name": "stdout",
     "output_type": "stream",
     "text": [
      "[SOKOBAN] Runtime Error/Warning: Not enough free spots (#3) to place 1 player and 2 boxes.\n",
      "[SOKOBAN] Retry . . .\n",
      "\n",
      "Episode 3300 Epsilon 0.200 Learning Rate 0.000010 Solved: 65\n",
      "8 | 10\n",
      "14 | 20\n",
      "21 | 30\n",
      "27 | 40\n",
      "32 | 50\n",
      "39 | 60\n",
      "46 | 70\n",
      "51 | 80\n",
      "56 | 90\n",
      "61 | 100\n"
     ]
    },
    {
     "data": {
      "application/vnd.jupyter.widget-view+json": {
       "model_id": "5234655f172b4a3d80419055e265ae9f",
       "version_major": 2,
       "version_minor": 0
      },
      "text/plain": [
       "HBox(children=(FloatProgress(value=0.0), HTML(value='')))"
      ]
     },
     "metadata": {},
     "output_type": "display_data"
    },
    {
     "name": "stdout",
     "output_type": "stream",
     "text": [
      "[SOKOBAN] Runtime Error/Warning: Not enough free spots (#3) to place 1 player and 2 boxes.\n",
      "[SOKOBAN] Retry . . .\n",
      "\n",
      "Episode 3400 Epsilon 0.200 Learning Rate 0.000010 Solved: 65\n",
      "6 | 10\n",
      "15 | 20\n",
      "20 | 30\n",
      "29 | 40\n",
      "34 | 50\n",
      "[SOKOBAN] Runtime Error/Warning: Not enough free spots (#3) to place 1 player and 2 boxes.\n",
      "[SOKOBAN] Retry . . .\n",
      "39 | 60\n",
      "47 | 70\n",
      "56 | 80\n",
      "63 | 90\n",
      "68 | 100\n"
     ]
    },
    {
     "data": {
      "application/vnd.jupyter.widget-view+json": {
       "model_id": "3618cf4dfd57446cbf493c3791846c90",
       "version_major": 2,
       "version_minor": 0
      },
      "text/plain": [
       "HBox(children=(FloatProgress(value=0.0), HTML(value='')))"
      ]
     },
     "metadata": {},
     "output_type": "display_data"
    },
    {
     "name": "stdout",
     "output_type": "stream",
     "text": [
      "[SOKOBAN] Runtime Error/Warning: Not enough free spots (#3) to place 1 player and 2 boxes.\n",
      "[SOKOBAN] Retry . . .\n",
      "\n",
      "Episode 3500 Epsilon 0.200 Learning Rate 0.000010 Solved: 65\n",
      "7 | 10\n",
      "13 | 20\n",
      "20 | 30\n",
      "28 | 40\n",
      "35 | 50\n",
      "43 | 60\n",
      "50 | 70\n",
      "57 | 80\n",
      "67 | 90\n",
      "[SOKOBAN] Runtime Error/Warning: Generated Model with score == 0\n",
      "[SOKOBAN] Retry . . .\n",
      "74 | 100\n"
     ]
    },
    {
     "data": {
      "application/vnd.jupyter.widget-view+json": {
       "model_id": "2e378dbda7504c0a9501f9fd6153bc00",
       "version_major": 2,
       "version_minor": 0
      },
      "text/plain": [
       "HBox(children=(FloatProgress(value=0.0), HTML(value='')))"
      ]
     },
     "metadata": {},
     "output_type": "display_data"
    },
    {
     "name": "stdout",
     "output_type": "stream",
     "text": [
      "[SOKOBAN] Runtime Error/Warning: Not enough free spots (#3) to place 1 player and 2 boxes.\n",
      "[SOKOBAN] Retry . . .\n",
      "\n",
      "Episode 3600 Epsilon 0.200 Learning Rate 0.000010 Solved: 65\n",
      "5 | 10\n",
      "14 | 20\n",
      "19 | 30\n",
      "27 | 40\n",
      "35 | 50\n",
      "43 | 60\n",
      "48 | 70\n",
      "55 | 80\n",
      "60 | 90\n",
      "67 | 100\n"
     ]
    },
    {
     "data": {
      "application/vnd.jupyter.widget-view+json": {
       "model_id": "f57ee39a76204c83ab017ce53f87f815",
       "version_major": 2,
       "version_minor": 0
      },
      "text/plain": [
       "HBox(children=(FloatProgress(value=0.0), HTML(value='')))"
      ]
     },
     "metadata": {},
     "output_type": "display_data"
    },
    {
     "name": "stdout",
     "output_type": "stream",
     "text": [
      "[SOKOBAN] Runtime Error/Warning: Not enough free spots (#3) to place 1 player and 2 boxes.\n",
      "[SOKOBAN] Retry . . .\n",
      "\n",
      "Episode 3700 Epsilon 0.200 Learning Rate 0.000010 Solved: 65\n",
      "7 | 10\n",
      "15 | 20\n",
      "20 | 30\n",
      "28 | 40\n",
      "33 | 50\n",
      "[SOKOBAN] Runtime Error/Warning: Generated Model with score == 0\n",
      "[SOKOBAN] Retry . . .\n",
      "39 | 60\n",
      "45 | 70\n",
      "51 | 80\n",
      "60 | 90\n",
      "66 | 100\n"
     ]
    },
    {
     "data": {
      "application/vnd.jupyter.widget-view+json": {
       "model_id": "05e78202b68c4f7686f5af0df3e61ac5",
       "version_major": 2,
       "version_minor": 0
      },
      "text/plain": [
       "HBox(children=(FloatProgress(value=0.0), HTML(value='')))"
      ]
     },
     "metadata": {},
     "output_type": "display_data"
    },
    {
     "name": "stdout",
     "output_type": "stream",
     "text": [
      "[SOKOBAN] Runtime Error/Warning: Not enough free spots (#3) to place 1 player and 2 boxes.\n",
      "[SOKOBAN] Retry . . .\n",
      "\n",
      "Episode 3800 Epsilon 0.200 Learning Rate 0.000010 Solved: 63\n",
      "[SOKOBAN] Runtime Error/Warning: Generated Model with score == 0\n",
      "[SOKOBAN] Retry . . .\n",
      "4 | 10\n",
      "10 | 20\n",
      "16 | 30\n",
      "24 | 40\n",
      "30 | 50\n",
      "37 | 60\n",
      "43 | 70\n",
      "50 | 80\n",
      "56 | 90\n",
      "64 | 100\n"
     ]
    },
    {
     "data": {
      "application/vnd.jupyter.widget-view+json": {
       "model_id": "6c677fbfbb294164b8254a5658e68338",
       "version_major": 2,
       "version_minor": 0
      },
      "text/plain": [
       "HBox(children=(FloatProgress(value=0.0), HTML(value='')))"
      ]
     },
     "metadata": {},
     "output_type": "display_data"
    },
    {
     "name": "stdout",
     "output_type": "stream",
     "text": [
      "[SOKOBAN] Runtime Error/Warning: Not enough free spots (#3) to place 1 player and 2 boxes.\n",
      "[SOKOBAN] Retry . . .\n",
      "\n",
      "Episode 3900 Epsilon 0.200 Learning Rate 0.000010 Solved: 65\n",
      "6 | 10\n",
      "9 | 20\n",
      "15 | 30\n",
      "22 | 40\n",
      "30 | 50\n",
      "[SOKOBAN] Runtime Error/Warning: Generated Model with score == 0\n",
      "[SOKOBAN] Retry . . .\n",
      "[SOKOBAN] Runtime Error/Warning: Not enough free spots (#3) to place 1 player and 2 boxes.\n",
      "[SOKOBAN] Retry . . .\n",
      "38 | 60\n",
      "46 | 70\n",
      "[SOKOBAN] Runtime Error/Warning: Not enough free spots (#3) to place 1 player and 2 boxes.\n",
      "[SOKOBAN] Retry . . .\n",
      "52 | 80\n",
      "58 | 90\n",
      "66 | 100\n"
     ]
    },
    {
     "data": {
      "application/vnd.jupyter.widget-view+json": {
       "model_id": "8cca849029dc41518ed2bf3551b166c0",
       "version_major": 2,
       "version_minor": 0
      },
      "text/plain": [
       "HBox(children=(FloatProgress(value=0.0), HTML(value='')))"
      ]
     },
     "metadata": {},
     "output_type": "display_data"
    },
    {
     "name": "stdout",
     "output_type": "stream",
     "text": [
      "[SOKOBAN] Runtime Error/Warning: Not enough free spots (#3) to place 1 player and 2 boxes.\n",
      "[SOKOBAN] Retry . . .\n",
      "\n",
      "Episode 4000 Epsilon 0.200 Learning Rate 0.000010 Solved: 65\n",
      "[SOKOBAN] Runtime Error/Warning: Generated Model with score == 0\n",
      "[SOKOBAN] Retry . . .\n",
      "[SOKOBAN] Runtime Error/Warning: Not enough free spots (#3) to place 1 player and 2 boxes.\n",
      "[SOKOBAN] Retry . . .\n",
      "5 | 10\n",
      "[SOKOBAN] Runtime Error/Warning: Generated Model with score == 0\n",
      "[SOKOBAN] Retry . . .\n",
      "14 | 20\n",
      "22 | 30\n",
      "26 | 40\n",
      "33 | 50\n",
      "37 | 60\n",
      "42 | 70\n",
      "48 | 80\n",
      "57 | 90\n",
      "67 | 100\n"
     ]
    },
    {
     "data": {
      "application/vnd.jupyter.widget-view+json": {
       "model_id": "ceb4127b7acb41afa03055827c2fd14e",
       "version_major": 2,
       "version_minor": 0
      },
      "text/plain": [
       "HBox(children=(FloatProgress(value=0.0), HTML(value='')))"
      ]
     },
     "metadata": {},
     "output_type": "display_data"
    },
    {
     "name": "stdout",
     "output_type": "stream",
     "text": [
      "[SOKOBAN] Runtime Error/Warning: Not enough free spots (#3) to place 1 player and 2 boxes.\n",
      "[SOKOBAN] Retry . . .\n",
      "\n",
      "Episode 4100 Epsilon 0.200 Learning Rate 0.000010 Solved: 65\n",
      "7 | 10\n",
      "12 | 20\n",
      "[SOKOBAN] Runtime Error/Warning: Not enough free spots (#3) to place 1 player and 2 boxes.\n",
      "[SOKOBAN] Retry . . .\n",
      "19 | 30\n",
      "[SOKOBAN] Runtime Error/Warning: Not enough free spots (#3) to place 1 player and 2 boxes.\n",
      "[SOKOBAN] Retry . . .\n",
      "[SOKOBAN] Runtime Error/Warning: Not enough free spots (#3) to place 1 player and 2 boxes.\n",
      "[SOKOBAN] Retry . . .\n",
      "25 | 40\n",
      "29 | 50\n",
      "35 | 60\n",
      "42 | 70\n",
      "48 | 80\n",
      "54 | 90\n",
      "58 | 100\n"
     ]
    },
    {
     "data": {
      "application/vnd.jupyter.widget-view+json": {
       "model_id": "f1caa553744e4e288be599b229540cf9",
       "version_major": 2,
       "version_minor": 0
      },
      "text/plain": [
       "HBox(children=(FloatProgress(value=0.0), HTML(value='')))"
      ]
     },
     "metadata": {},
     "output_type": "display_data"
    },
    {
     "name": "stdout",
     "output_type": "stream",
     "text": [
      "[SOKOBAN] Runtime Error/Warning: Not enough free spots (#3) to place 1 player and 2 boxes.\n",
      "[SOKOBAN] Retry . . .\n",
      "\n",
      "Episode 4200 Epsilon 0.200 Learning Rate 0.000010 Solved: 65\n",
      "6 | 10\n",
      "14 | 20\n",
      "20 | 30\n",
      "23 | 40\n",
      "29 | 50\n",
      "34 | 60\n",
      "43 | 70\n",
      "51 | 80\n",
      "56 | 90\n",
      "64 | 100\n"
     ]
    },
    {
     "data": {
      "application/vnd.jupyter.widget-view+json": {
       "model_id": "fdb4c1a64cb94e85882f847e3b9bbb52",
       "version_major": 2,
       "version_minor": 0
      },
      "text/plain": [
       "HBox(children=(FloatProgress(value=0.0), HTML(value='')))"
      ]
     },
     "metadata": {},
     "output_type": "display_data"
    },
    {
     "name": "stdout",
     "output_type": "stream",
     "text": [
      "[SOKOBAN] Runtime Error/Warning: Not enough free spots (#3) to place 1 player and 2 boxes.\n",
      "[SOKOBAN] Retry . . .\n",
      "\n",
      "Episode 4300 Epsilon 0.200 Learning Rate 0.000010 Solved: 64\n",
      "7 | 10\n",
      "15 | 20\n",
      "21 | 30\n",
      "29 | 40\n",
      "37 | 50\n",
      "44 | 60\n",
      "51 | 70\n",
      "57 | 80\n",
      "62 | 90\n",
      "66 | 100\n"
     ]
    },
    {
     "data": {
      "application/vnd.jupyter.widget-view+json": {
       "model_id": "672075d1929543d3922a98842b4270d8",
       "version_major": 2,
       "version_minor": 0
      },
      "text/plain": [
       "HBox(children=(FloatProgress(value=0.0), HTML(value='')))"
      ]
     },
     "metadata": {},
     "output_type": "display_data"
    },
    {
     "name": "stdout",
     "output_type": "stream",
     "text": [
      "[SOKOBAN] Runtime Error/Warning: Not enough free spots (#3) to place 1 player and 2 boxes.\n",
      "[SOKOBAN] Retry . . .\n",
      "\n",
      "Episode 4400 Epsilon 0.200 Learning Rate 0.000010 Solved: 65\n",
      "6 | 10\n",
      "11 | 20\n",
      "14 | 30\n",
      "20 | 40\n",
      "28 | 50\n",
      "35 | 60\n",
      "42 | 70\n",
      "49 | 80\n",
      "[SOKOBAN] Runtime Error/Warning: Generated Model with score == 0\n",
      "[SOKOBAN] Retry . . .\n",
      "56 | 90\n",
      "[SOKOBAN] Runtime Error/Warning: Not enough free spots (#3) to place 1 player and 2 boxes.\n",
      "[SOKOBAN] Retry . . .\n",
      "63 | 100\n"
     ]
    },
    {
     "data": {
      "application/vnd.jupyter.widget-view+json": {
       "model_id": "15cb85713e8c4879be1c6f6ca42115b0",
       "version_major": 2,
       "version_minor": 0
      },
      "text/plain": [
       "HBox(children=(FloatProgress(value=0.0), HTML(value='')))"
      ]
     },
     "metadata": {},
     "output_type": "display_data"
    },
    {
     "name": "stdout",
     "output_type": "stream",
     "text": [
      "[SOKOBAN] Runtime Error/Warning: Not enough free spots (#3) to place 1 player and 2 boxes.\n",
      "[SOKOBAN] Retry . . .\n",
      "\n",
      "Episode 4500 Epsilon 0.200 Learning Rate 0.000010 Solved: 66\n",
      "6 | 10\n",
      "12 | 20\n",
      "18 | 30\n",
      "[SOKOBAN] Runtime Error/Warning: Not enough free spots (#3) to place 1 player and 2 boxes.\n",
      "[SOKOBAN] Retry . . .\n",
      "26 | 40\n",
      "34 | 50\n",
      "38 | 60\n",
      "43 | 70\n",
      "[SOKOBAN] Runtime Error/Warning: Not enough free spots (#3) to place 1 player and 2 boxes.\n",
      "[SOKOBAN] Retry . . .\n",
      "49 | 80\n",
      "55 | 90\n",
      "61 | 100\n"
     ]
    },
    {
     "data": {
      "application/vnd.jupyter.widget-view+json": {
       "model_id": "19be4af3ba914e7e8e404684d12b2a51",
       "version_major": 2,
       "version_minor": 0
      },
      "text/plain": [
       "HBox(children=(FloatProgress(value=0.0), HTML(value='')))"
      ]
     },
     "metadata": {},
     "output_type": "display_data"
    },
    {
     "name": "stdout",
     "output_type": "stream",
     "text": [
      "[SOKOBAN] Runtime Error/Warning: Not enough free spots (#3) to place 1 player and 2 boxes.\n",
      "[SOKOBAN] Retry . . .\n",
      "\n",
      "Episode 4600 Epsilon 0.200 Learning Rate 0.000010 Solved: 63\n",
      "4 | 10\n",
      "13 | 20\n",
      "21 | 30\n",
      "27 | 40\n",
      "36 | 50\n",
      "44 | 60\n",
      "52 | 70\n",
      "57 | 80\n",
      "64 | 90\n",
      "71 | 100\n"
     ]
    },
    {
     "data": {
      "application/vnd.jupyter.widget-view+json": {
       "model_id": "97aec7ac2d7444c086177c1346ffddd2",
       "version_major": 2,
       "version_minor": 0
      },
      "text/plain": [
       "HBox(children=(FloatProgress(value=0.0), HTML(value='')))"
      ]
     },
     "metadata": {},
     "output_type": "display_data"
    },
    {
     "name": "stdout",
     "output_type": "stream",
     "text": [
      "[SOKOBAN] Runtime Error/Warning: Not enough free spots (#3) to place 1 player and 2 boxes.\n",
      "[SOKOBAN] Retry . . .\n",
      "\n",
      "Episode 4700 Epsilon 0.200 Learning Rate 0.000010 Solved: 65\n",
      "7 | 10\n",
      "14 | 20\n",
      "20 | 30\n",
      "29 | 40\n",
      "[SOKOBAN] Runtime Error/Warning: Not enough free spots (#3) to place 1 player and 2 boxes.\n",
      "[SOKOBAN] Retry . . .\n",
      "35 | 50\n",
      "44 | 60\n",
      "50 | 70\n",
      "56 | 80\n",
      "64 | 90\n",
      "71 | 100\n"
     ]
    },
    {
     "data": {
      "application/vnd.jupyter.widget-view+json": {
       "model_id": "0b7f9d4670fb40ec963970505da1d4db",
       "version_major": 2,
       "version_minor": 0
      },
      "text/plain": [
       "HBox(children=(FloatProgress(value=0.0), HTML(value='')))"
      ]
     },
     "metadata": {},
     "output_type": "display_data"
    },
    {
     "name": "stdout",
     "output_type": "stream",
     "text": [
      "[SOKOBAN] Runtime Error/Warning: Not enough free spots (#3) to place 1 player and 2 boxes.\n",
      "[SOKOBAN] Retry . . .\n",
      "\n",
      "Episode 4800 Epsilon 0.200 Learning Rate 0.000010 Solved: 64\n",
      "5 | 10\n",
      "11 | 20\n",
      "20 | 30\n",
      "28 | 40\n",
      "[SOKOBAN] Runtime Error/Warning: Not enough free spots (#3) to place 1 player and 2 boxes.\n",
      "[SOKOBAN] Retry . . .\n",
      "35 | 50\n",
      "42 | 60\n",
      "48 | 70\n",
      "54 | 80\n",
      "60 | 90\n",
      "65 | 100\n"
     ]
    },
    {
     "data": {
      "application/vnd.jupyter.widget-view+json": {
       "model_id": "f2ab961891614eefa5751083ae76b237",
       "version_major": 2,
       "version_minor": 0
      },
      "text/plain": [
       "HBox(children=(FloatProgress(value=0.0), HTML(value='')))"
      ]
     },
     "metadata": {},
     "output_type": "display_data"
    },
    {
     "name": "stdout",
     "output_type": "stream",
     "text": [
      "[SOKOBAN] Runtime Error/Warning: Not enough free spots (#3) to place 1 player and 2 boxes.\n",
      "[SOKOBAN] Retry . . .\n",
      "\n",
      "Episode 4900 Epsilon 0.200 Learning Rate 0.000010 Solved: 64\n",
      "6 | 10\n",
      "12 | 20\n",
      "18 | 30\n",
      "27 | 40\n",
      "34 | 50\n",
      "40 | 60\n",
      "47 | 70\n",
      "53 | 80\n",
      "59 | 90\n",
      "65 | 100\n"
     ]
    },
    {
     "data": {
      "application/vnd.jupyter.widget-view+json": {
       "model_id": "babb04f92f0249179432227d02d615b2",
       "version_major": 2,
       "version_minor": 0
      },
      "text/plain": [
       "HBox(children=(FloatProgress(value=0.0), HTML(value='')))"
      ]
     },
     "metadata": {},
     "output_type": "display_data"
    },
    {
     "name": "stdout",
     "output_type": "stream",
     "text": [
      "[SOKOBAN] Runtime Error/Warning: Not enough free spots (#3) to place 1 player and 2 boxes.\n",
      "[SOKOBAN] Retry . . .\n",
      "\n",
      "Episode 5000 Epsilon 0.200 Learning Rate 0.000010 Solved: 65\n",
      "8 | 10\n",
      "14 | 20\n",
      "22 | 30\n",
      "28 | 40\n",
      "35 | 50\n",
      "43 | 60\n",
      "50 | 70\n",
      "57 | 80\n",
      "63 | 90\n",
      "70 | 100\n"
     ]
    },
    {
     "data": {
      "application/vnd.jupyter.widget-view+json": {
       "model_id": "fe9f3e864ef7465eb89b6f73ebf84246",
       "version_major": 2,
       "version_minor": 0
      },
      "text/plain": [
       "HBox(children=(FloatProgress(value=0.0), HTML(value='')))"
      ]
     },
     "metadata": {},
     "output_type": "display_data"
    },
    {
     "name": "stdout",
     "output_type": "stream",
     "text": [
      "[SOKOBAN] Runtime Error/Warning: Not enough free spots (#3) to place 1 player and 2 boxes.\n",
      "[SOKOBAN] Retry . . .\n",
      "\n",
      "Episode 5100 Epsilon 0.200 Learning Rate 0.000010 Solved: 64\n",
      "6 | 10\n",
      "15 | 20\n",
      "21 | 30\n",
      "26 | 40\n",
      "33 | 50\n",
      "38 | 60\n",
      "46 | 70\n",
      "54 | 80\n",
      "61 | 90\n",
      "70 | 100\n"
     ]
    },
    {
     "data": {
      "application/vnd.jupyter.widget-view+json": {
       "model_id": "04632b6fe04c4043b801bee4e9fc6c40",
       "version_major": 2,
       "version_minor": 0
      },
      "text/plain": [
       "HBox(children=(FloatProgress(value=0.0), HTML(value='')))"
      ]
     },
     "metadata": {},
     "output_type": "display_data"
    },
    {
     "name": "stdout",
     "output_type": "stream",
     "text": [
      "[SOKOBAN] Runtime Error/Warning: Not enough free spots (#3) to place 1 player and 2 boxes.\n",
      "[SOKOBAN] Retry . . .\n",
      "\n",
      "Episode 5200 Epsilon 0.200 Learning Rate 0.000010 Solved: 65\n",
      "7 | 10\n",
      "[SOKOBAN] Runtime Error/Warning: Generated Model with score == 0\n",
      "[SOKOBAN] Retry . . .\n",
      "[SOKOBAN] Runtime Error/Warning: Not enough free spots (#3) to place 1 player and 2 boxes.\n",
      "[SOKOBAN] Retry . . .\n",
      "15 | 20\n",
      "[SOKOBAN] Runtime Error/Warning: Generated Model with score == 0\n",
      "[SOKOBAN] Retry . . .\n",
      "21 | 30\n",
      "[SOKOBAN] Runtime Error/Warning: Generated Model with score == 0\n",
      "[SOKOBAN] Retry . . .\n",
      "27 | 40\n",
      "[SOKOBAN] Runtime Error/Warning: Generated Model with score == 0\n",
      "[SOKOBAN] Retry . . .\n",
      "31 | 50\n",
      "37 | 60\n",
      "42 | 70\n",
      "50 | 80\n",
      "57 | 90\n",
      "64 | 100\n"
     ]
    },
    {
     "data": {
      "application/vnd.jupyter.widget-view+json": {
       "model_id": "38499e8df8e345b09b973c8781e8d2aa",
       "version_major": 2,
       "version_minor": 0
      },
      "text/plain": [
       "HBox(children=(FloatProgress(value=0.0), HTML(value='')))"
      ]
     },
     "metadata": {},
     "output_type": "display_data"
    },
    {
     "name": "stdout",
     "output_type": "stream",
     "text": [
      "[SOKOBAN] Runtime Error/Warning: Not enough free spots (#3) to place 1 player and 2 boxes.\n",
      "[SOKOBAN] Retry . . .\n",
      "\n",
      "Episode 5300 Epsilon 0.200 Learning Rate 0.000010 Solved: 67\n",
      "7 | 10\n",
      "15 | 20\n",
      "21 | 30\n",
      "25 | 40\n",
      "[SOKOBAN] Runtime Error/Warning: Generated Model with score == 0\n",
      "[SOKOBAN] Retry . . .\n",
      "[SOKOBAN] Runtime Error/Warning: Not enough free spots (#3) to place 1 player and 2 boxes.\n",
      "[SOKOBAN] Retry . . .\n",
      "32 | 50\n",
      "41 | 60\n",
      "50 | 70\n",
      "58 | 80\n",
      "63 | 90\n",
      "71 | 100\n"
     ]
    },
    {
     "data": {
      "application/vnd.jupyter.widget-view+json": {
       "model_id": "279d7472ad5b4090bebdc086f85caeb2",
       "version_major": 2,
       "version_minor": 0
      },
      "text/plain": [
       "HBox(children=(FloatProgress(value=0.0), HTML(value='')))"
      ]
     },
     "metadata": {},
     "output_type": "display_data"
    },
    {
     "name": "stdout",
     "output_type": "stream",
     "text": [
      "[SOKOBAN] Runtime Error/Warning: Not enough free spots (#3) to place 1 player and 2 boxes.\n",
      "[SOKOBAN] Retry . . .\n",
      "\n",
      "Episode 5400 Epsilon 0.200 Learning Rate 0.000010 Solved: 67\n",
      "5 | 10\n",
      "13 | 20\n",
      "21 | 30\n",
      "27 | 40\n",
      "33 | 50\n",
      "39 | 60\n",
      "[SOKOBAN] Runtime Error/Warning: Not enough free spots (#3) to place 1 player and 2 boxes.\n",
      "[SOKOBAN] Retry . . .\n",
      "45 | 70\n",
      "53 | 80\n",
      "59 | 90\n",
      "64 | 100\n"
     ]
    },
    {
     "data": {
      "application/vnd.jupyter.widget-view+json": {
       "model_id": "f28d6e43a85b42ffacdef1b6d2bf79bf",
       "version_major": 2,
       "version_minor": 0
      },
      "text/plain": [
       "HBox(children=(FloatProgress(value=0.0), HTML(value='')))"
      ]
     },
     "metadata": {},
     "output_type": "display_data"
    },
    {
     "name": "stdout",
     "output_type": "stream",
     "text": [
      "[SOKOBAN] Runtime Error/Warning: Not enough free spots (#3) to place 1 player and 2 boxes.\n",
      "[SOKOBAN] Retry . . .\n",
      "\n",
      "Episode 5500 Epsilon 0.200 Learning Rate 0.000010 Solved: 67\n",
      "7 | 10\n",
      "13 | 20\n",
      "20 | 30\n",
      "29 | 40\n",
      "37 | 50\n",
      "46 | 60\n",
      "53 | 70\n",
      "60 | 80\n",
      "67 | 90\n",
      "74 | 100\n"
     ]
    },
    {
     "data": {
      "application/vnd.jupyter.widget-view+json": {
       "model_id": "7c7e0ec640644a8d9dc7bcd9b85be9e4",
       "version_major": 2,
       "version_minor": 0
      },
      "text/plain": [
       "HBox(children=(FloatProgress(value=0.0), HTML(value='')))"
      ]
     },
     "metadata": {},
     "output_type": "display_data"
    },
    {
     "name": "stdout",
     "output_type": "stream",
     "text": [
      "[SOKOBAN] Runtime Error/Warning: Not enough free spots (#3) to place 1 player and 2 boxes.\n",
      "[SOKOBAN] Retry . . .\n",
      "\n",
      "Episode 5600 Epsilon 0.200 Learning Rate 0.000010 Solved: 67\n",
      "2 | 10\n",
      "6 | 20\n",
      "[SOKOBAN] Runtime Error/Warning: Generated Model with score == 0\n",
      "[SOKOBAN] Retry . . .\n",
      "12 | 30\n",
      "18 | 40\n",
      "22 | 50\n",
      "30 | 60\n",
      "36 | 70\n",
      "44 | 80\n",
      "50 | 90\n",
      "58 | 100\n"
     ]
    },
    {
     "data": {
      "application/vnd.jupyter.widget-view+json": {
       "model_id": "e5499a93f5484fa6bfc839f7f5873820",
       "version_major": 2,
       "version_minor": 0
      },
      "text/plain": [
       "HBox(children=(FloatProgress(value=0.0), HTML(value='')))"
      ]
     },
     "metadata": {},
     "output_type": "display_data"
    },
    {
     "name": "stdout",
     "output_type": "stream",
     "text": [
      "[SOKOBAN] Runtime Error/Warning: Not enough free spots (#3) to place 1 player and 2 boxes.\n",
      "[SOKOBAN] Retry . . .\n",
      "\n",
      "Episode 5700 Epsilon 0.200 Learning Rate 0.000010 Solved: 66\n",
      "6 | 10\n",
      "15 | 20\n",
      "[SOKOBAN] Runtime Error/Warning: Generated Model with score == 0\n",
      "[SOKOBAN] Retry . . .\n",
      "22 | 30\n",
      "[SOKOBAN] Runtime Error/Warning: Generated Model with score == 0\n",
      "[SOKOBAN] Retry . . .\n",
      "28 | 40\n",
      "34 | 50\n",
      "38 | 60\n",
      "44 | 70\n",
      "[SOKOBAN] Runtime Error/Warning: Generated Model with score == 0\n",
      "[SOKOBAN] Retry . . .\n",
      "50 | 80\n",
      "55 | 90\n",
      "63 | 100\n"
     ]
    },
    {
     "data": {
      "application/vnd.jupyter.widget-view+json": {
       "model_id": "d172e7f48b3f45f194b62b712e376737",
       "version_major": 2,
       "version_minor": 0
      },
      "text/plain": [
       "HBox(children=(FloatProgress(value=0.0), HTML(value='')))"
      ]
     },
     "metadata": {},
     "output_type": "display_data"
    },
    {
     "name": "stdout",
     "output_type": "stream",
     "text": [
      "[SOKOBAN] Runtime Error/Warning: Not enough free spots (#3) to place 1 player and 2 boxes.\n",
      "[SOKOBAN] Retry . . .\n",
      "\n",
      "Episode 5800 Epsilon 0.200 Learning Rate 0.000010 Solved: 66\n",
      "8 | 10\n",
      "16 | 20\n",
      "23 | 30\n",
      "32 | 40\n",
      "38 | 50\n",
      "44 | 60\n",
      "52 | 70\n",
      "60 | 80\n",
      "69 | 90\n",
      "74 | 100\n"
     ]
    },
    {
     "data": {
      "application/vnd.jupyter.widget-view+json": {
       "model_id": "a3c824917c384077ac1eb77fc6a51f3e",
       "version_major": 2,
       "version_minor": 0
      },
      "text/plain": [
       "HBox(children=(FloatProgress(value=0.0), HTML(value='')))"
      ]
     },
     "metadata": {},
     "output_type": "display_data"
    },
    {
     "name": "stdout",
     "output_type": "stream",
     "text": [
      "[SOKOBAN] Runtime Error/Warning: Not enough free spots (#3) to place 1 player and 2 boxes.\n",
      "[SOKOBAN] Retry . . .\n",
      "\n",
      "Episode 5900 Epsilon 0.200 Learning Rate 0.000010 Solved: 65\n",
      "7 | 10\n",
      "12 | 20\n",
      "18 | 30\n",
      "21 | 40\n",
      "25 | 50\n",
      "32 | 60\n",
      "38 | 70\n",
      "[SOKOBAN] Runtime Error/Warning: Not enough free spots (#3) to place 1 player and 2 boxes.\n",
      "[SOKOBAN] Retry . . .\n",
      "45 | 80\n",
      "[SOKOBAN] Runtime Error/Warning: Generated Model with score == 0\n",
      "[SOKOBAN] Retry . . .\n",
      "50 | 90\n",
      "58 | 100\n"
     ]
    },
    {
     "data": {
      "application/vnd.jupyter.widget-view+json": {
       "model_id": "938848408bc0475194be1dc2cabb76c9",
       "version_major": 2,
       "version_minor": 0
      },
      "text/plain": [
       "HBox(children=(FloatProgress(value=0.0), HTML(value='')))"
      ]
     },
     "metadata": {},
     "output_type": "display_data"
    },
    {
     "name": "stdout",
     "output_type": "stream",
     "text": [
      "[SOKOBAN] Runtime Error/Warning: Not enough free spots (#3) to place 1 player and 2 boxes.\n",
      "[SOKOBAN] Retry . . .\n",
      "\n",
      "Episode 6000 Epsilon 0.200 Learning Rate 0.000010 Solved: 67\n",
      "7 | 10\n",
      "15 | 20\n",
      "22 | 30\n",
      "29 | 40\n",
      "37 | 50\n",
      "44 | 60\n",
      "52 | 70\n",
      "[SOKOBAN] Runtime Error/Warning: Not enough free spots (#3) to place 1 player and 2 boxes.\n",
      "[SOKOBAN] Retry . . .\n",
      "60 | 80\n",
      "[SOKOBAN] Runtime Error/Warning: Not enough free spots (#3) to place 1 player and 2 boxes.\n",
      "[SOKOBAN] Retry . . .\n",
      "64 | 90\n",
      "72 | 100\n"
     ]
    },
    {
     "data": {
      "application/vnd.jupyter.widget-view+json": {
       "model_id": "144d945132914d76859908e910cb8d3b",
       "version_major": 2,
       "version_minor": 0
      },
      "text/plain": [
       "HBox(children=(FloatProgress(value=0.0), HTML(value='')))"
      ]
     },
     "metadata": {},
     "output_type": "display_data"
    },
    {
     "name": "stdout",
     "output_type": "stream",
     "text": [
      "[SOKOBAN] Runtime Error/Warning: Not enough free spots (#3) to place 1 player and 2 boxes.\n",
      "[SOKOBAN] Retry . . .\n",
      "\n",
      "Episode 6100 Epsilon 0.200 Learning Rate 0.000010 Solved: 67\n",
      "6 | 10\n",
      "14 | 20\n",
      "20 | 30\n",
      "[SOKOBAN] Runtime Error/Warning: Not enough free spots (#3) to place 1 player and 2 boxes.\n",
      "[SOKOBAN] Retry . . .\n",
      "27 | 40\n",
      "33 | 50\n",
      "40 | 60\n",
      "47 | 70\n",
      "55 | 80\n",
      "63 | 90\n",
      "70 | 100\n"
     ]
    },
    {
     "data": {
      "application/vnd.jupyter.widget-view+json": {
       "model_id": "96610ead0f944893bb07f87ce5a94b91",
       "version_major": 2,
       "version_minor": 0
      },
      "text/plain": [
       "HBox(children=(FloatProgress(value=0.0), HTML(value='')))"
      ]
     },
     "metadata": {},
     "output_type": "display_data"
    },
    {
     "name": "stdout",
     "output_type": "stream",
     "text": [
      "[SOKOBAN] Runtime Error/Warning: Not enough free spots (#3) to place 1 player and 2 boxes.\n",
      "[SOKOBAN] Retry . . .\n",
      "\n",
      "Episode 6200 Epsilon 0.200 Learning Rate 0.000010 Solved: 66\n",
      "5 | 10\n",
      "11 | 20\n",
      "17 | 30\n",
      "26 | 40\n",
      "[SOKOBAN] Runtime Error/Warning: Not enough free spots (#3) to place 1 player and 2 boxes.\n",
      "[SOKOBAN] Retry . . .\n",
      "34 | 50\n",
      "42 | 60\n",
      "49 | 70\n",
      "55 | 80\n",
      "65 | 90\n",
      "71 | 100\n"
     ]
    },
    {
     "data": {
      "application/vnd.jupyter.widget-view+json": {
       "model_id": "6df1394d8e4645d39ebdad25ddfb97e7",
       "version_major": 2,
       "version_minor": 0
      },
      "text/plain": [
       "HBox(children=(FloatProgress(value=0.0), HTML(value='')))"
      ]
     },
     "metadata": {},
     "output_type": "display_data"
    },
    {
     "name": "stdout",
     "output_type": "stream",
     "text": [
      "[SOKOBAN] Runtime Error/Warning: Not enough free spots (#3) to place 1 player and 2 boxes.\n",
      "[SOKOBAN] Retry . . .\n",
      "\n",
      "Episode 6300 Epsilon 0.200 Learning Rate 0.000010 Solved: 67\n",
      "7 | 10\n",
      "13 | 20\n",
      "22 | 30\n",
      "26 | 40\n",
      "[SOKOBAN] Runtime Error/Warning: Not enough free spots (#3) to place 1 player and 2 boxes.\n",
      "[SOKOBAN] Retry . . .\n",
      "32 | 50\n",
      "37 | 60\n",
      "42 | 70\n",
      "51 | 80\n",
      "58 | 90\n",
      "63 | 100\n"
     ]
    },
    {
     "data": {
      "application/vnd.jupyter.widget-view+json": {
       "model_id": "03ae9de274cf46aaa6ecc771aaeaa224",
       "version_major": 2,
       "version_minor": 0
      },
      "text/plain": [
       "HBox(children=(FloatProgress(value=0.0), HTML(value='')))"
      ]
     },
     "metadata": {},
     "output_type": "display_data"
    },
    {
     "name": "stdout",
     "output_type": "stream",
     "text": [
      "[SOKOBAN] Runtime Error/Warning: Not enough free spots (#3) to place 1 player and 2 boxes.\n",
      "[SOKOBAN] Retry . . .\n",
      "\n",
      "Episode 6400 Epsilon 0.200 Learning Rate 0.000009 Solved: 65\n",
      "7 | 10\n",
      "[SOKOBAN] Runtime Error/Warning: Not enough free spots (#3) to place 1 player and 2 boxes.\n",
      "[SOKOBAN] Retry . . .\n",
      "16 | 20\n",
      "22 | 30\n",
      "29 | 40\n",
      "37 | 50\n",
      "44 | 60\n",
      "49 | 70\n",
      "55 | 80\n",
      "57 | 90\n",
      "63 | 100\n"
     ]
    },
    {
     "data": {
      "application/vnd.jupyter.widget-view+json": {
       "model_id": "a8ddaf835bbd442789ed002d2d55ffb8",
       "version_major": 2,
       "version_minor": 0
      },
      "text/plain": [
       "HBox(children=(FloatProgress(value=0.0), HTML(value='')))"
      ]
     },
     "metadata": {},
     "output_type": "display_data"
    },
    {
     "name": "stdout",
     "output_type": "stream",
     "text": [
      "[SOKOBAN] Runtime Error/Warning: Not enough free spots (#3) to place 1 player and 2 boxes.\n",
      "[SOKOBAN] Retry . . .\n",
      "\n",
      "Episode 6500 Epsilon 0.200 Learning Rate 0.000009 Solved: 64\n",
      "8 | 10\n",
      "17 | 20\n",
      "22 | 30\n",
      "30 | 40\n",
      "39 | 50\n",
      "[SOKOBAN] Runtime Error/Warning: Not enough free spots (#3) to place 1 player and 2 boxes.\n",
      "[SOKOBAN] Retry . . .\n",
      "46 | 60\n",
      "[SOKOBAN] Runtime Error/Warning: Generated Model with score == 0\n",
      "[SOKOBAN] Retry . . .\n",
      "53 | 70\n",
      "[SOKOBAN] Runtime Error/Warning: Generated Model with score == 0\n",
      "[SOKOBAN] Retry . . .\n",
      "60 | 80\n",
      "66 | 90\n",
      "73 | 100\n"
     ]
    },
    {
     "data": {
      "application/vnd.jupyter.widget-view+json": {
       "model_id": "9e27e44ef8cf4fd3bd95938592688509",
       "version_major": 2,
       "version_minor": 0
      },
      "text/plain": [
       "HBox(children=(FloatProgress(value=0.0), HTML(value='')))"
      ]
     },
     "metadata": {},
     "output_type": "display_data"
    },
    {
     "name": "stdout",
     "output_type": "stream",
     "text": [
      "[SOKOBAN] Runtime Error/Warning: Not enough free spots (#3) to place 1 player and 2 boxes.\n",
      "[SOKOBAN] Retry . . .\n",
      "\n",
      "Episode 6600 Epsilon 0.200 Learning Rate 0.000009 Solved: 66\n",
      "[SOKOBAN] Runtime Error/Warning: Not enough free spots (#3) to place 1 player and 2 boxes.\n",
      "[SOKOBAN] Retry . . .\n",
      "[SOKOBAN] Runtime Error/Warning: Generated Model with score == 0\n",
      "[SOKOBAN] Retry . . .\n",
      "5 | 10\n",
      "14 | 20\n",
      "20 | 30\n",
      "26 | 40\n",
      "32 | 50\n",
      "38 | 60\n",
      "47 | 70\n",
      "54 | 80\n",
      "59 | 90\n",
      "66 | 100\n"
     ]
    },
    {
     "data": {
      "application/vnd.jupyter.widget-view+json": {
       "model_id": "9f0612a90db642eb9d013911eb3c1049",
       "version_major": 2,
       "version_minor": 0
      },
      "text/plain": [
       "HBox(children=(FloatProgress(value=0.0), HTML(value='')))"
      ]
     },
     "metadata": {},
     "output_type": "display_data"
    },
    {
     "name": "stdout",
     "output_type": "stream",
     "text": [
      "[SOKOBAN] Runtime Error/Warning: Not enough free spots (#3) to place 1 player and 2 boxes.\n",
      "[SOKOBAN] Retry . . .\n",
      "\n",
      "Episode 6700 Epsilon 0.200 Learning Rate 0.000009 Solved: 65\n",
      "6 | 10\n",
      "12 | 20\n",
      "20 | 30\n",
      "28 | 40\n",
      "35 | 50\n",
      "42 | 60\n",
      "49 | 70\n",
      "56 | 80\n",
      "64 | 90\n",
      "[SOKOBAN] Runtime Error/Warning: Not enough free spots (#3) to place 1 player and 2 boxes.\n",
      "[SOKOBAN] Retry . . .\n",
      "70 | 100\n"
     ]
    },
    {
     "data": {
      "application/vnd.jupyter.widget-view+json": {
       "model_id": "bc09606b018d4d498f04d955ca80a0ea",
       "version_major": 2,
       "version_minor": 0
      },
      "text/plain": [
       "HBox(children=(FloatProgress(value=0.0), HTML(value='')))"
      ]
     },
     "metadata": {},
     "output_type": "display_data"
    },
    {
     "name": "stdout",
     "output_type": "stream",
     "text": [
      "[SOKOBAN] Runtime Error/Warning: Not enough free spots (#3) to place 1 player and 2 boxes.\n",
      "[SOKOBAN] Retry . . .\n",
      "\n",
      "Episode 6800 Epsilon 0.200 Learning Rate 0.000009 Solved: 65\n",
      "8 | 10\n",
      "15 | 20\n",
      "22 | 30\n",
      "29 | 40\n",
      "35 | 50\n",
      "40 | 60\n",
      "47 | 70\n",
      "[SOKOBAN] Runtime Error/Warning: Generated Model with score == 0\n",
      "[SOKOBAN] Retry . . .\n",
      "54 | 80\n",
      "62 | 90\n",
      "68 | 100\n"
     ]
    },
    {
     "data": {
      "application/vnd.jupyter.widget-view+json": {
       "model_id": "16783cb1697b4d378ca939b31a6e1952",
       "version_major": 2,
       "version_minor": 0
      },
      "text/plain": [
       "HBox(children=(FloatProgress(value=0.0), HTML(value='')))"
      ]
     },
     "metadata": {},
     "output_type": "display_data"
    },
    {
     "name": "stdout",
     "output_type": "stream",
     "text": [
      "[SOKOBAN] Runtime Error/Warning: Not enough free spots (#3) to place 1 player and 2 boxes.\n",
      "[SOKOBAN] Retry . . .\n",
      "\n",
      "Episode 6900 Epsilon 0.200 Learning Rate 0.000009 Solved: 65\n",
      "7 | 10\n",
      "15 | 20\n",
      "[SOKOBAN] Runtime Error/Warning: Generated Model with score == 0\n",
      "[SOKOBAN] Retry . . .\n",
      "22 | 30\n",
      "24 | 40\n",
      "32 | 50\n",
      "39 | 60\n",
      "43 | 70\n",
      "49 | 80\n",
      "55 | 90\n",
      "61 | 100\n"
     ]
    },
    {
     "data": {
      "application/vnd.jupyter.widget-view+json": {
       "model_id": "213e8a920b60490ebe3993dba6481c87",
       "version_major": 2,
       "version_minor": 0
      },
      "text/plain": [
       "HBox(children=(FloatProgress(value=0.0), HTML(value='')))"
      ]
     },
     "metadata": {},
     "output_type": "display_data"
    },
    {
     "name": "stdout",
     "output_type": "stream",
     "text": [
      "[SOKOBAN] Runtime Error/Warning: Not enough free spots (#3) to place 1 player and 2 boxes.\n",
      "[SOKOBAN] Retry . . .\n",
      "\n",
      "Episode 7000 Epsilon 0.200 Learning Rate 0.000009 Solved: 64\n",
      "3 | 10\n",
      "[SOKOBAN] Runtime Error/Warning: Not enough free spots (#3) to place 1 player and 2 boxes.\n",
      "[SOKOBAN] Retry . . .\n",
      "11 | 20\n",
      "15 | 30\n",
      "21 | 40\n",
      "30 | 50\n",
      "37 | 60\n",
      "42 | 70\n",
      "48 | 80\n",
      "56 | 90\n",
      "61 | 100\n"
     ]
    },
    {
     "data": {
      "application/vnd.jupyter.widget-view+json": {
       "model_id": "4b28a34976ce4a338f895cef465f766e",
       "version_major": 2,
       "version_minor": 0
      },
      "text/plain": [
       "HBox(children=(FloatProgress(value=0.0), HTML(value='')))"
      ]
     },
     "metadata": {},
     "output_type": "display_data"
    },
    {
     "name": "stdout",
     "output_type": "stream",
     "text": [
      "[SOKOBAN] Runtime Error/Warning: Not enough free spots (#3) to place 1 player and 2 boxes.\n",
      "[SOKOBAN] Retry . . .\n",
      "\n",
      "Episode 7100 Epsilon 0.200 Learning Rate 0.000009 Solved: 66\n",
      "6 | 10\n",
      "13 | 20\n",
      "21 | 30\n",
      "[SOKOBAN] Runtime Error/Warning: Generated Model with score == 0\n",
      "[SOKOBAN] Retry . . .\n",
      "[SOKOBAN] Runtime Error/Warning: Generated Model with score == 0\n",
      "[SOKOBAN] Retry . . .\n",
      "29 | 40\n",
      "36 | 50\n",
      "[SOKOBAN] Runtime Error/Warning: Not enough free spots (#3) to place 1 player and 2 boxes.\n",
      "[SOKOBAN] Retry . . .\n",
      "41 | 60\n",
      "47 | 70\n",
      "54 | 80\n",
      "[SOKOBAN] Runtime Error/Warning: Not enough free spots (#3) to place 1 player and 2 boxes.\n",
      "[SOKOBAN] Retry . . .\n",
      "60 | 90\n",
      "65 | 100\n"
     ]
    },
    {
     "data": {
      "application/vnd.jupyter.widget-view+json": {
       "model_id": "19727d1927574e2ba898e32687595526",
       "version_major": 2,
       "version_minor": 0
      },
      "text/plain": [
       "HBox(children=(FloatProgress(value=0.0), HTML(value='')))"
      ]
     },
     "metadata": {},
     "output_type": "display_data"
    },
    {
     "name": "stdout",
     "output_type": "stream",
     "text": [
      "[SOKOBAN] Runtime Error/Warning: Not enough free spots (#3) to place 1 player and 2 boxes.\n",
      "[SOKOBAN] Retry . . .\n",
      "\n",
      "Episode 7200 Epsilon 0.200 Learning Rate 0.000009 Solved: 66\n",
      "6 | 10\n",
      "14 | 20\n",
      "22 | 30\n",
      "30 | 40\n",
      "37 | 50\n",
      "43 | 60\n",
      "48 | 70\n",
      "54 | 80\n",
      "61 | 90\n",
      "68 | 100\n"
     ]
    },
    {
     "data": {
      "application/vnd.jupyter.widget-view+json": {
       "model_id": "d21bc066763146ad8b92c96d3dfcb3b7",
       "version_major": 2,
       "version_minor": 0
      },
      "text/plain": [
       "HBox(children=(FloatProgress(value=0.0), HTML(value='')))"
      ]
     },
     "metadata": {},
     "output_type": "display_data"
    },
    {
     "name": "stdout",
     "output_type": "stream",
     "text": [
      "[SOKOBAN] Runtime Error/Warning: Not enough free spots (#3) to place 1 player and 2 boxes.\n",
      "[SOKOBAN] Retry . . .\n",
      "\n",
      "Episode 7300 Epsilon 0.200 Learning Rate 0.000009 Solved: 66\n",
      "6 | 10\n",
      "13 | 20\n",
      "19 | 30\n",
      "25 | 40\n",
      "34 | 50\n",
      "41 | 60\n",
      "[SOKOBAN] Runtime Error/Warning: Not enough free spots (#3) to place 1 player and 2 boxes.\n",
      "[SOKOBAN] Retry . . .\n",
      "45 | 70\n",
      "55 | 80\n",
      "64 | 90\n",
      "71 | 100\n"
     ]
    },
    {
     "data": {
      "application/vnd.jupyter.widget-view+json": {
       "model_id": "e92f1c5bed854e25a415eab14bf699a9",
       "version_major": 2,
       "version_minor": 0
      },
      "text/plain": [
       "HBox(children=(FloatProgress(value=0.0), HTML(value='')))"
      ]
     },
     "metadata": {},
     "output_type": "display_data"
    },
    {
     "name": "stdout",
     "output_type": "stream",
     "text": [
      "[SOKOBAN] Runtime Error/Warning: Not enough free spots (#3) to place 1 player and 2 boxes.\n",
      "[SOKOBAN] Retry . . .\n",
      "\n",
      "Episode 7400 Epsilon 0.200 Learning Rate 0.000009 Solved: 66\n",
      "6 | 10\n",
      "14 | 20\n",
      "22 | 30\n",
      "30 | 40\n",
      "34 | 50\n",
      "[SOKOBAN] Runtime Error/Warning: Generated Model with score == 0\n",
      "[SOKOBAN] Retry . . .\n",
      "42 | 60\n",
      "47 | 70\n",
      "53 | 80\n",
      "60 | 90\n",
      "67 | 100\n"
     ]
    },
    {
     "data": {
      "application/vnd.jupyter.widget-view+json": {
       "model_id": "a3bde9277aff4beb894ac43942ee755a",
       "version_major": 2,
       "version_minor": 0
      },
      "text/plain": [
       "HBox(children=(FloatProgress(value=0.0), HTML(value='')))"
      ]
     },
     "metadata": {},
     "output_type": "display_data"
    },
    {
     "name": "stdout",
     "output_type": "stream",
     "text": [
      "[SOKOBAN] Runtime Error/Warning: Not enough free spots (#3) to place 1 player and 2 boxes.\n",
      "[SOKOBAN] Retry . . .\n",
      "\n",
      "Episode 7500 Epsilon 0.200 Learning Rate 0.000009 Solved: 67\n",
      "6 | 10\n",
      "13 | 20\n",
      "20 | 30\n",
      "27 | 40\n",
      "[SOKOBAN] Runtime Error/Warning: Not enough free spots (#3) to place 1 player and 2 boxes.\n",
      "[SOKOBAN] Retry . . .\n",
      "34 | 50\n",
      "38 | 60\n",
      "44 | 70\n",
      "50 | 80\n",
      "57 | 90\n",
      "66 | 100\n"
     ]
    },
    {
     "data": {
      "application/vnd.jupyter.widget-view+json": {
       "model_id": "4011397b3cfe4c62a93d30245037180c",
       "version_major": 2,
       "version_minor": 0
      },
      "text/plain": [
       "HBox(children=(FloatProgress(value=0.0), HTML(value='')))"
      ]
     },
     "metadata": {},
     "output_type": "display_data"
    },
    {
     "name": "stdout",
     "output_type": "stream",
     "text": [
      "[SOKOBAN] Runtime Error/Warning: Not enough free spots (#3) to place 1 player and 2 boxes.\n",
      "[SOKOBAN] Retry . . .\n",
      "\n",
      "Episode 7600 Epsilon 0.200 Learning Rate 0.000009 Solved: 66\n",
      "3 | 10\n",
      "[SOKOBAN] Runtime Error/Warning: Generated Model with score == 0\n",
      "[SOKOBAN] Retry . . .\n",
      "7 | 20\n",
      "15 | 30\n",
      "[SOKOBAN] Runtime Error/Warning: Generated Model with score == 0\n",
      "[SOKOBAN] Retry . . .\n",
      "23 | 40\n",
      "32 | 50\n",
      "41 | 60\n",
      "50 | 70\n",
      "57 | 80\n",
      "65 | 90\n",
      "69 | 100\n"
     ]
    },
    {
     "data": {
      "application/vnd.jupyter.widget-view+json": {
       "model_id": "a12af090433f40e684bc662452666e29",
       "version_major": 2,
       "version_minor": 0
      },
      "text/plain": [
       "HBox(children=(FloatProgress(value=0.0), HTML(value='')))"
      ]
     },
     "metadata": {},
     "output_type": "display_data"
    },
    {
     "name": "stdout",
     "output_type": "stream",
     "text": [
      "[SOKOBAN] Runtime Error/Warning: Not enough free spots (#3) to place 1 player and 2 boxes.\n",
      "[SOKOBAN] Retry . . .\n",
      "\n",
      "Episode 7700 Epsilon 0.200 Learning Rate 0.000009 Solved: 65\n",
      "9 | 10\n",
      "16 | 20\n",
      "[SOKOBAN] Runtime Error/Warning: Not enough free spots (#3) to place 1 player and 2 boxes.\n",
      "[SOKOBAN] Retry . . .\n",
      "23 | 30\n",
      "28 | 40\n",
      "[SOKOBAN] Runtime Error/Warning: Generated Model with score == 0\n",
      "[SOKOBAN] Retry . . .\n",
      "32 | 50\n",
      "41 | 60\n",
      "48 | 70\n",
      "[SOKOBAN] Runtime Error/Warning: Not enough free spots (#3) to place 1 player and 2 boxes.\n",
      "[SOKOBAN] Retry . . .\n",
      "53 | 80\n",
      "59 | 90\n",
      "65 | 100\n"
     ]
    },
    {
     "data": {
      "application/vnd.jupyter.widget-view+json": {
       "model_id": "07ad91a0f19d4bf88e43c251b25c8f1e",
       "version_major": 2,
       "version_minor": 0
      },
      "text/plain": [
       "HBox(children=(FloatProgress(value=0.0), HTML(value='')))"
      ]
     },
     "metadata": {},
     "output_type": "display_data"
    },
    {
     "name": "stdout",
     "output_type": "stream",
     "text": [
      "[SOKOBAN] Runtime Error/Warning: Not enough free spots (#3) to place 1 player and 2 boxes.\n",
      "[SOKOBAN] Retry . . .\n",
      "\n",
      "Episode 7800 Epsilon 0.200 Learning Rate 0.000009 Solved: 65\n",
      "7 | 10\n",
      "[SOKOBAN] Runtime Error/Warning: Not enough free spots (#3) to place 1 player and 2 boxes.\n",
      "[SOKOBAN] Retry . . .\n",
      "11 | 20\n",
      "16 | 30\n",
      "24 | 40\n",
      "30 | 50\n",
      "36 | 60\n",
      "44 | 70\n",
      "49 | 80\n",
      "55 | 90\n",
      "62 | 100\n"
     ]
    },
    {
     "data": {
      "application/vnd.jupyter.widget-view+json": {
       "model_id": "e090062cf11b40fe8f6fc49410df94c0",
       "version_major": 2,
       "version_minor": 0
      },
      "text/plain": [
       "HBox(children=(FloatProgress(value=0.0), HTML(value='')))"
      ]
     },
     "metadata": {},
     "output_type": "display_data"
    },
    {
     "name": "stdout",
     "output_type": "stream",
     "text": [
      "[SOKOBAN] Runtime Error/Warning: Not enough free spots (#3) to place 1 player and 2 boxes.\n",
      "[SOKOBAN] Retry . . .\n",
      "\n",
      "Episode 7900 Epsilon 0.200 Learning Rate 0.000009 Solved: 65\n",
      "7 | 10\n",
      "14 | 20\n",
      "[SOKOBAN] Runtime Error/Warning: Generated Model with score == 0\n",
      "[SOKOBAN] Retry . . .\n",
      "18 | 30\n",
      "25 | 40\n",
      "32 | 50\n",
      "39 | 60\n",
      "[SOKOBAN] Runtime Error/Warning: Not enough free spots (#3) to place 1 player and 2 boxes.\n",
      "[SOKOBAN] Retry . . .\n",
      "46 | 70\n",
      "51 | 80\n",
      "[SOKOBAN] Runtime Error/Warning: Generated Model with score == 0\n",
      "[SOKOBAN] Retry . . .\n",
      "[SOKOBAN] Runtime Error/Warning: Not enough free spots (#3) to place 1 player and 2 boxes.\n",
      "[SOKOBAN] Retry . . .\n",
      "55 | 90\n",
      "58 | 100\n"
     ]
    },
    {
     "data": {
      "application/vnd.jupyter.widget-view+json": {
       "model_id": "27c00431b65d4afa8878c2f1eff51e51",
       "version_major": 2,
       "version_minor": 0
      },
      "text/plain": [
       "HBox(children=(FloatProgress(value=0.0), HTML(value='')))"
      ]
     },
     "metadata": {},
     "output_type": "display_data"
    },
    {
     "name": "stdout",
     "output_type": "stream",
     "text": [
      "[SOKOBAN] Runtime Error/Warning: Not enough free spots (#3) to place 1 player and 2 boxes.\n",
      "[SOKOBAN] Retry . . .\n",
      "\n",
      "Episode 8000 Epsilon 0.200 Learning Rate 0.000009 Solved: 65\n",
      "8 | 10\n",
      "13 | 20\n",
      "[SOKOBAN] Runtime Error/Warning: Not enough free spots (#3) to place 1 player and 2 boxes.\n",
      "[SOKOBAN] Retry . . .\n",
      "[SOKOBAN] Runtime Error/Warning: Generated Model with score == 0\n",
      "[SOKOBAN] Retry . . .\n",
      "19 | 30\n",
      "[SOKOBAN] Runtime Error/Warning: Generated Model with score == 0\n",
      "[SOKOBAN] Retry . . .\n",
      "27 | 40\n",
      "35 | 50\n",
      "40 | 60\n",
      "46 | 70\n",
      "52 | 80\n",
      "57 | 90\n",
      "63 | 100\n"
     ]
    },
    {
     "data": {
      "application/vnd.jupyter.widget-view+json": {
       "model_id": "30bc405a33d745198f9f856ed17b14dd",
       "version_major": 2,
       "version_minor": 0
      },
      "text/plain": [
       "HBox(children=(FloatProgress(value=0.0), HTML(value='')))"
      ]
     },
     "metadata": {},
     "output_type": "display_data"
    },
    {
     "name": "stdout",
     "output_type": "stream",
     "text": [
      "[SOKOBAN] Runtime Error/Warning: Not enough free spots (#3) to place 1 player and 2 boxes.\n",
      "[SOKOBAN] Retry . . .\n",
      "\n",
      "Episode 8100 Epsilon 0.200 Learning Rate 0.000009 Solved: 67\n",
      "7 | 10\n",
      "15 | 20\n",
      "[SOKOBAN] Runtime Error/Warning: Generated Model with score == 0\n",
      "[SOKOBAN] Retry . . .\n",
      "23 | 30\n",
      "31 | 40\n",
      "37 | 50\n",
      "45 | 60\n",
      "54 | 70\n",
      "60 | 80\n",
      "65 | 90\n",
      "73 | 100\n"
     ]
    },
    {
     "data": {
      "application/vnd.jupyter.widget-view+json": {
       "model_id": "7e342d080e994d4ea1fd30400e30860a",
       "version_major": 2,
       "version_minor": 0
      },
      "text/plain": [
       "HBox(children=(FloatProgress(value=0.0), HTML(value='')))"
      ]
     },
     "metadata": {},
     "output_type": "display_data"
    },
    {
     "name": "stdout",
     "output_type": "stream",
     "text": [
      "[SOKOBAN] Runtime Error/Warning: Not enough free spots (#3) to place 1 player and 2 boxes.\n",
      "[SOKOBAN] Retry . . .\n",
      "\n",
      "Episode 8200 Epsilon 0.200 Learning Rate 0.000009 Solved: 65\n",
      "7 | 10\n",
      "15 | 20\n",
      "[SOKOBAN] Runtime Error/Warning: Not enough free spots (#3) to place 1 player and 2 boxes.\n",
      "[SOKOBAN] Retry . . .\n",
      "23 | 30\n",
      "30 | 40\n",
      "36 | 50\n",
      "43 | 60\n",
      "52 | 70\n",
      "58 | 80\n",
      "64 | 90\n",
      "71 | 100\n"
     ]
    },
    {
     "data": {
      "application/vnd.jupyter.widget-view+json": {
       "model_id": "cc692ffbbcbb4b65bbee64d9e926cbc3",
       "version_major": 2,
       "version_minor": 0
      },
      "text/plain": [
       "HBox(children=(FloatProgress(value=0.0), HTML(value='')))"
      ]
     },
     "metadata": {},
     "output_type": "display_data"
    },
    {
     "name": "stdout",
     "output_type": "stream",
     "text": [
      "[SOKOBAN] Runtime Error/Warning: Not enough free spots (#3) to place 1 player and 2 boxes.\n",
      "[SOKOBAN] Retry . . .\n",
      "\n",
      "Episode 8300 Epsilon 0.200 Learning Rate 0.000009 Solved: 65\n",
      "8 | 10\n",
      "15 | 20\n",
      "22 | 30\n",
      "27 | 40\n",
      "[SOKOBAN] Runtime Error/Warning: Generated Model with score == 0\n",
      "[SOKOBAN] Retry . . .\n",
      "31 | 50\n",
      "[SOKOBAN] Runtime Error/Warning: Generated Model with score == 0\n",
      "[SOKOBAN] Retry . . .\n",
      "37 | 60\n",
      "[SOKOBAN] Runtime Error/Warning: Not enough free spots (#3) to place 1 player and 2 boxes.\n",
      "[SOKOBAN] Retry . . .\n",
      "43 | 70\n",
      "50 | 80\n",
      "58 | 90\n",
      "67 | 100\n"
     ]
    },
    {
     "data": {
      "application/vnd.jupyter.widget-view+json": {
       "model_id": "bdd8bb7f298a4622ace84e8d3d10d5c8",
       "version_major": 2,
       "version_minor": 0
      },
      "text/plain": [
       "HBox(children=(FloatProgress(value=0.0), HTML(value='')))"
      ]
     },
     "metadata": {},
     "output_type": "display_data"
    },
    {
     "name": "stdout",
     "output_type": "stream",
     "text": [
      "[SOKOBAN] Runtime Error/Warning: Not enough free spots (#3) to place 1 player and 2 boxes.\n",
      "[SOKOBAN] Retry . . .\n",
      "\n",
      "Episode 8400 Epsilon 0.200 Learning Rate 0.000009 Solved: 63\n",
      "5 | 10\n",
      "11 | 20\n",
      "18 | 30\n",
      "25 | 40\n",
      "32 | 50\n",
      "37 | 60\n",
      "47 | 70\n",
      "53 | 80\n",
      "58 | 90\n",
      "66 | 100\n"
     ]
    },
    {
     "data": {
      "application/vnd.jupyter.widget-view+json": {
       "model_id": "e2c03b0364584d749f88bae00c3db71b",
       "version_major": 2,
       "version_minor": 0
      },
      "text/plain": [
       "HBox(children=(FloatProgress(value=0.0), HTML(value='')))"
      ]
     },
     "metadata": {},
     "output_type": "display_data"
    },
    {
     "name": "stdout",
     "output_type": "stream",
     "text": [
      "[SOKOBAN] Runtime Error/Warning: Not enough free spots (#3) to place 1 player and 2 boxes.\n",
      "[SOKOBAN] Retry . . .\n",
      "\n",
      "Episode 8500 Epsilon 0.200 Learning Rate 0.000009 Solved: 64\n",
      "6 | 10\n",
      "[SOKOBAN] Runtime Error/Warning: Generated Model with score == 0\n",
      "[SOKOBAN] Retry . . .\n",
      "14 | 20\n",
      "22 | 30\n",
      "[SOKOBAN] Runtime Error/Warning: Generated Model with score == 0\n",
      "[SOKOBAN] Retry . . .\n",
      "28 | 40\n",
      "35 | 50\n",
      "43 | 60\n",
      "47 | 70\n",
      "[SOKOBAN] Runtime Error/Warning: Generated Model with score == 0\n",
      "[SOKOBAN] Retry . . .\n",
      "55 | 80\n",
      "63 | 90\n",
      "69 | 100\n"
     ]
    },
    {
     "data": {
      "application/vnd.jupyter.widget-view+json": {
       "model_id": "b1903987cd4b4ac7a60015908a452934",
       "version_major": 2,
       "version_minor": 0
      },
      "text/plain": [
       "HBox(children=(FloatProgress(value=0.0), HTML(value='')))"
      ]
     },
     "metadata": {},
     "output_type": "display_data"
    },
    {
     "name": "stdout",
     "output_type": "stream",
     "text": [
      "[SOKOBAN] Runtime Error/Warning: Not enough free spots (#3) to place 1 player and 2 boxes.\n",
      "[SOKOBAN] Retry . . .\n",
      "\n",
      "Episode 8600 Epsilon 0.200 Learning Rate 0.000009 Solved: 65\n",
      "6 | 10\n",
      "14 | 20\n",
      "23 | 30\n",
      "31 | 40\n",
      "37 | 50\n",
      "[SOKOBAN] Runtime Error/Warning: Generated Model with score == 0\n",
      "[SOKOBAN] Retry . . .\n",
      "45 | 60\n",
      "52 | 70\n",
      "59 | 80\n",
      "62 | 90\n",
      "69 | 100\n"
     ]
    },
    {
     "data": {
      "application/vnd.jupyter.widget-view+json": {
       "model_id": "5e9edba3bd3d466a8754ebd27037381e",
       "version_major": 2,
       "version_minor": 0
      },
      "text/plain": [
       "HBox(children=(FloatProgress(value=0.0), HTML(value='')))"
      ]
     },
     "metadata": {},
     "output_type": "display_data"
    },
    {
     "name": "stdout",
     "output_type": "stream",
     "text": [
      "[SOKOBAN] Runtime Error/Warning: Not enough free spots (#3) to place 1 player and 2 boxes.\n",
      "[SOKOBAN] Retry . . .\n",
      "\n",
      "Episode 8700 Epsilon 0.200 Learning Rate 0.000009 Solved: 63\n",
      "7 | 10\n",
      "17 | 20\n",
      "24 | 30\n",
      "30 | 40\n",
      "37 | 50\n",
      "44 | 60\n",
      "50 | 70\n",
      "58 | 80\n",
      "65 | 90\n",
      "70 | 100\n"
     ]
    },
    {
     "data": {
      "application/vnd.jupyter.widget-view+json": {
       "model_id": "817daac41e6a46388dea942ca8df670c",
       "version_major": 2,
       "version_minor": 0
      },
      "text/plain": [
       "HBox(children=(FloatProgress(value=0.0), HTML(value='')))"
      ]
     },
     "metadata": {},
     "output_type": "display_data"
    },
    {
     "name": "stdout",
     "output_type": "stream",
     "text": [
      "[SOKOBAN] Runtime Error/Warning: Not enough free spots (#3) to place 1 player and 2 boxes.\n",
      "[SOKOBAN] Retry . . .\n",
      "\n",
      "Episode 8800 Epsilon 0.200 Learning Rate 0.000009 Solved: 65\n",
      "6 | 10\n",
      "10 | 20\n",
      "18 | 30\n",
      "26 | 40\n",
      "[SOKOBAN] Runtime Error/Warning: Generated Model with score == 0\n",
      "[SOKOBAN] Retry . . .\n",
      "34 | 50\n",
      "[SOKOBAN] Runtime Error/Warning: Not enough free spots (#3) to place 1 player and 2 boxes.\n",
      "[SOKOBAN] Retry . . .\n",
      "39 | 60\n",
      "46 | 70\n",
      "55 | 80\n",
      "[SOKOBAN] Runtime Error/Warning: Generated Model with score == 0\n",
      "[SOKOBAN] Retry . . .\n",
      "61 | 90\n",
      "70 | 100\n"
     ]
    },
    {
     "data": {
      "application/vnd.jupyter.widget-view+json": {
       "model_id": "78bc32f6923b4b4b951c21bf9c81781a",
       "version_major": 2,
       "version_minor": 0
      },
      "text/plain": [
       "HBox(children=(FloatProgress(value=0.0), HTML(value='')))"
      ]
     },
     "metadata": {},
     "output_type": "display_data"
    },
    {
     "name": "stdout",
     "output_type": "stream",
     "text": [
      "[SOKOBAN] Runtime Error/Warning: Not enough free spots (#3) to place 1 player and 2 boxes.\n",
      "[SOKOBAN] Retry . . .\n",
      "\n",
      "Episode 8900 Epsilon 0.200 Learning Rate 0.000009 Solved: 64\n",
      "7 | 10\n",
      "15 | 20\n",
      "18 | 30\n",
      "25 | 40\n",
      "34 | 50\n",
      "41 | 60\n",
      "50 | 70\n",
      "56 | 80\n",
      "63 | 90\n",
      "71 | 100\n"
     ]
    },
    {
     "data": {
      "application/vnd.jupyter.widget-view+json": {
       "model_id": "25a9bfa8c7434f7f898d53fda36fb5b3",
       "version_major": 2,
       "version_minor": 0
      },
      "text/plain": [
       "HBox(children=(FloatProgress(value=0.0), HTML(value='')))"
      ]
     },
     "metadata": {},
     "output_type": "display_data"
    },
    {
     "name": "stdout",
     "output_type": "stream",
     "text": [
      "[SOKOBAN] Runtime Error/Warning: Not enough free spots (#3) to place 1 player and 2 boxes.\n",
      "[SOKOBAN] Retry . . .\n",
      "\n",
      "Episode 9000 Epsilon 0.200 Learning Rate 0.000009 Solved: 63\n",
      "[SOKOBAN] Runtime Error/Warning: Generated Model with score == 0\n",
      "[SOKOBAN] Retry . . .\n",
      "8 | 10\n",
      "16 | 20\n",
      "21 | 30\n",
      "29 | 40\n",
      "35 | 50\n",
      "42 | 60\n",
      "47 | 70\n",
      "53 | 80\n",
      "59 | 90\n",
      "66 | 100\n"
     ]
    },
    {
     "data": {
      "application/vnd.jupyter.widget-view+json": {
       "model_id": "e3b7759733064dbcb64952b228510872",
       "version_major": 2,
       "version_minor": 0
      },
      "text/plain": [
       "HBox(children=(FloatProgress(value=0.0), HTML(value='')))"
      ]
     },
     "metadata": {},
     "output_type": "display_data"
    },
    {
     "name": "stdout",
     "output_type": "stream",
     "text": [
      "[SOKOBAN] Runtime Error/Warning: Not enough free spots (#3) to place 1 player and 2 boxes.\n",
      "[SOKOBAN] Retry . . .\n",
      "\n",
      "Episode 9100 Epsilon 0.200 Learning Rate 0.000009 Solved: 64\n",
      "6 | 10\n",
      "10 | 20\n",
      "14 | 30\n",
      "20 | 40\n",
      "26 | 50\n",
      "[SOKOBAN] Runtime Error/Warning: Generated Model with score == 0\n",
      "[SOKOBAN] Retry . . .\n",
      "32 | 60\n",
      "40 | 70\n",
      "49 | 80\n",
      "56 | 90\n",
      "61 | 100\n"
     ]
    },
    {
     "data": {
      "application/vnd.jupyter.widget-view+json": {
       "model_id": "a1e1a06370444ee08b2d156066aa007d",
       "version_major": 2,
       "version_minor": 0
      },
      "text/plain": [
       "HBox(children=(FloatProgress(value=0.0), HTML(value='')))"
      ]
     },
     "metadata": {},
     "output_type": "display_data"
    },
    {
     "name": "stdout",
     "output_type": "stream",
     "text": [
      "[SOKOBAN] Runtime Error/Warning: Not enough free spots (#3) to place 1 player and 2 boxes.\n",
      "[SOKOBAN] Retry . . .\n",
      "\n",
      "Episode 9200 Epsilon 0.200 Learning Rate 0.000009 Solved: 64\n",
      "6 | 10\n",
      "10 | 20\n",
      "[SOKOBAN] Runtime Error/Warning: Generated Model with score == 0\n",
      "[SOKOBAN] Retry . . .\n",
      "17 | 30\n",
      "21 | 40\n",
      "29 | 50\n",
      "38 | 60\n",
      "43 | 70\n",
      "52 | 80\n",
      "[SOKOBAN] Runtime Error/Warning: Generated Model with score == 0\n",
      "[SOKOBAN] Retry . . .\n",
      "59 | 90\n",
      "67 | 100\n"
     ]
    },
    {
     "data": {
      "application/vnd.jupyter.widget-view+json": {
       "model_id": "24568524ba9e4680a38298332007a6bc",
       "version_major": 2,
       "version_minor": 0
      },
      "text/plain": [
       "HBox(children=(FloatProgress(value=0.0), HTML(value='')))"
      ]
     },
     "metadata": {},
     "output_type": "display_data"
    },
    {
     "name": "stdout",
     "output_type": "stream",
     "text": [
      "[SOKOBAN] Runtime Error/Warning: Not enough free spots (#3) to place 1 player and 2 boxes.\n",
      "[SOKOBAN] Retry . . .\n",
      "\n",
      "Episode 9300 Epsilon 0.200 Learning Rate 0.000009 Solved: 64\n",
      "5 | 10\n",
      "12 | 20\n",
      "20 | 30\n",
      "[SOKOBAN] Runtime Error/Warning: Generated Model with score == 0\n",
      "[SOKOBAN] Retry . . .\n",
      "23 | 40\n",
      "29 | 50\n",
      "36 | 60\n",
      "42 | 70\n",
      "45 | 80\n",
      "52 | 90\n",
      "56 | 100\n"
     ]
    },
    {
     "data": {
      "application/vnd.jupyter.widget-view+json": {
       "model_id": "675fc619068c4f99af13ea1f09cae4f8",
       "version_major": 2,
       "version_minor": 0
      },
      "text/plain": [
       "HBox(children=(FloatProgress(value=0.0), HTML(value='')))"
      ]
     },
     "metadata": {},
     "output_type": "display_data"
    },
    {
     "name": "stdout",
     "output_type": "stream",
     "text": [
      "[SOKOBAN] Runtime Error/Warning: Not enough free spots (#3) to place 1 player and 2 boxes.\n",
      "[SOKOBAN] Retry . . .\n",
      "\n",
      "Episode 9400 Epsilon 0.200 Learning Rate 0.000009 Solved: 64\n",
      "8 | 10\n",
      "16 | 20\n",
      "24 | 30\n",
      "[SOKOBAN] Runtime Error/Warning: Not enough free spots (#3) to place 1 player and 2 boxes.\n",
      "[SOKOBAN] Retry . . .\n",
      "31 | 40\n",
      "34 | 50\n",
      "42 | 60\n",
      "48 | 70\n",
      "53 | 80\n",
      "61 | 90\n",
      "69 | 100\n"
     ]
    },
    {
     "data": {
      "application/vnd.jupyter.widget-view+json": {
       "model_id": "abdf7b4645c1403380dc96a76c02a760",
       "version_major": 2,
       "version_minor": 0
      },
      "text/plain": [
       "HBox(children=(FloatProgress(value=0.0), HTML(value='')))"
      ]
     },
     "metadata": {},
     "output_type": "display_data"
    },
    {
     "name": "stdout",
     "output_type": "stream",
     "text": [
      "[SOKOBAN] Runtime Error/Warning: Not enough free spots (#3) to place 1 player and 2 boxes.\n",
      "[SOKOBAN] Retry . . .\n",
      "\n",
      "Episode 9500 Epsilon 0.200 Learning Rate 0.000009 Solved: 64\n",
      "7 | 10\n",
      "[SOKOBAN] Runtime Error/Warning: Generated Model with score == 0\n",
      "[SOKOBAN] Retry . . .\n",
      "13 | 20\n",
      "21 | 30\n",
      "28 | 40\n",
      "35 | 50\n",
      "[SOKOBAN] Runtime Error/Warning: Not enough free spots (#3) to place 1 player and 2 boxes.\n",
      "[SOKOBAN] Retry . . .\n",
      "43 | 60\n",
      "[SOKOBAN] Runtime Error/Warning: Not enough free spots (#3) to place 1 player and 2 boxes.\n",
      "[SOKOBAN] Retry . . .\n",
      "52 | 70\n",
      "59 | 80\n",
      "[SOKOBAN] Runtime Error/Warning: Not enough free spots (#3) to place 1 player and 2 boxes.\n",
      "[SOKOBAN] Retry . . .\n",
      "63 | 90\n",
      "69 | 100\n"
     ]
    },
    {
     "data": {
      "application/vnd.jupyter.widget-view+json": {
       "model_id": "68aac0c631374b468602ff3593004d7d",
       "version_major": 2,
       "version_minor": 0
      },
      "text/plain": [
       "HBox(children=(FloatProgress(value=0.0), HTML(value='')))"
      ]
     },
     "metadata": {},
     "output_type": "display_data"
    },
    {
     "name": "stdout",
     "output_type": "stream",
     "text": [
      "[SOKOBAN] Runtime Error/Warning: Not enough free spots (#3) to place 1 player and 2 boxes.\n",
      "[SOKOBAN] Retry . . .\n",
      "\n",
      "Episode 9600 Epsilon 0.200 Learning Rate 0.000009 Solved: 67\n",
      "7 | 10\n",
      "12 | 20\n",
      "20 | 30\n",
      "28 | 40\n",
      "36 | 50\n",
      "[SOKOBAN] Runtime Error/Warning: Generated Model with score == 0\n",
      "[SOKOBAN] Retry . . .\n",
      "45 | 60\n"
     ]
    }
   ],
   "source": [
    "agent = SOK_Agent()\n",
    "\n",
    "agent.load(\"models\\Q3_06A_69.h5\")\n",
    "\n",
    "running_puzzles = 0\n",
    "running_solved = 0\n",
    "solved_in_train = []\n",
    "solved_in_test = []\n",
    "test_record = 69\n",
    "\n",
    "for e in range(50000):\n",
    "    sok = init_sok(e+100)\n",
    "    random.seed(e)\n",
    "    running_puzzles += 1\n",
    "    \n",
    "    state = process_frame(sok.get_image('rgb_array'))\n",
    "    room_state = sok.room_state.copy() \n",
    "    maze_info = get_maze_info(room_state)\n",
    "    \n",
    "    for step in range(sok.max_steps):\n",
    "        action = agent.act(state, stochastic=True)\n",
    "        if action < 4:\n",
    "            next_state, reward, done, _ = sok.step(action+1) \n",
    "        else:\n",
    "            next_state, reward, done, _ = sok.step(action+5)         \n",
    "        \n",
    "        next_state = process_frame(next_state)        \n",
    "        next_room_state = sok.room_state\n",
    "        \n",
    "        if not done:\n",
    "            reward += box2target_change_reward(room_state, next_room_state, maze_info)\n",
    "        \n",
    "        agent.remember(state, action, reward, next_state, done)\n",
    "        \n",
    "        state = next_state.copy() \n",
    "        room_state = next_room_state.copy()                \n",
    "        \n",
    "        if e >= 200 and (step+1) % agent.replay_rate == 0:\n",
    "            agent.replay()            \n",
    "        \n",
    "        if done: \n",
    "            if sok.boxes_on_target == 2:  \n",
    "                agent.copy_to_prioritized_buffer(step+1)  \n",
    "                running_solved += 1\n",
    "                \n",
    "            if (e+1) % 10 == 0 and e > 0:\n",
    "                print(f\"{running_solved} | {running_puzzles}\") \n",
    "\n",
    "                if (e+1) % 100 == 0:\n",
    "                    solved_in_train.append(running_solved)\n",
    "                    running_puzzles = 0\n",
    "                    running_solved = 0\n",
    "                    \n",
    "            break\n",
    "            \n",
    "    if (e+1) % 100 == 0 and e > 0:\n",
    "        solved_tests, test_record = test_agent(e, test_record, stochastic=False) \n",
    "        solved_in_test.append(solved_tests)"
   ]
  },
  {
   "cell_type": "code",
   "execution_count": null,
   "metadata": {},
   "outputs": [],
   "source": []
  }
 ],
 "metadata": {
  "colab": {
   "provenance": []
  },
  "gpuClass": "standard",
  "kernelspec": {
   "display_name": "Python 3",
   "language": "python",
   "name": "python3"
  },
  "language_info": {
   "codemirror_mode": {
    "name": "ipython",
    "version": 3
   },
   "file_extension": ".py",
   "mimetype": "text/x-python",
   "name": "python",
   "nbconvert_exporter": "python",
   "pygments_lexer": "ipython3",
   "version": "3.8.3"
  }
 },
 "nbformat": 4,
 "nbformat_minor": 1
}
