{
 "cells": [
  {
   "cell_type": "markdown",
   "metadata": {
    "id": "dSvjwmu3vPMR"
   },
   "source": [
    "# Final Project - Reinforcements Learning \n",
    "Hello dear students,<br> this is the template notebook. Please click on the \"File\" tab and then on \"Save a copy into drive\".\n",
    "\n",
    "---\n",
    "<br>\n",
    "\n",
    "### Name and ID:\n",
    "Student 1: Avraham Raviv, 204355390\n",
    "<br>\n",
    "Student 2: Yevgeni Berkovitch, 317079234\n",
    "<br><br>\n",
    "<img src=\"https://play-lh.googleusercontent.com/e_oKlKPISbgdzut1H9opevS7-LTB8-8lsmpCdMkhlnqFenZhpjxbLmx7l158-xQQCIY\">\n",
    "\n",
    "### https://github.com/mpSchrader/gym-sokoban"
   ]
  },
  {
   "cell_type": "markdown",
   "metadata": {
    "id": "4T3qcykHFi15"
   },
   "source": [
    "# Installs"
   ]
  },
  {
   "cell_type": "code",
   "execution_count": 1,
   "metadata": {
    "id": "2dah0RrY9Kmj"
   },
   "outputs": [],
   "source": [
    "%%capture\n",
    "!sudo apt-get update\n",
    "!sudo apt-get install -y xvfb ffmpeg freeglut3-dev\n",
    "!pip install 'imageio==2.4.0'\n",
    "!pip install gym\n",
    "!pip install pygame\n",
    "!apt-get install python-opengl -y\n",
    "!apt install xvfb -y\n",
    "!pip install pyvirtualdisplay\n",
    "!pip install piglet\n",
    "!pip install gym\n",
    "!apt-get install python-opengl -y\n",
    "!apt install xvfb -y\n",
    "!pip install gym_sokoban\n",
    "\n",
    "!imageio_download_bin ffmpeg"
   ]
  },
  {
   "cell_type": "markdown",
   "metadata": {
    "id": "yHbKbI7BwIwv"
   },
   "source": [
    "# Imports"
   ]
  },
  {
   "cell_type": "code",
   "execution_count": 2,
   "metadata": {
    "id": "1cNdWkV49OqN"
   },
   "outputs": [],
   "source": [
    "import random\n",
    "\n",
    "import numpy as np\n",
    "import matplotlib.pyplot as plt\n",
    "\n",
    "import base64\n",
    "import imageio\n",
    "from pyvirtualdisplay import Display\n",
    "from IPython.display import HTML\n",
    "\n",
    "import gym\n",
    "from gym import error, spaces, utils\n",
    "from soko_pap import *\n",
    "\n",
    "from collections import deque\n",
    "\n",
    "from keras.models import Sequential\n",
    "from keras.layers import Dense, Conv2D, Flatten\n",
    "\n",
    "import tensorflow\n",
    "from tensorflow.keras.optimizers import Adam\n",
    "from tensorflow.keras.optimizers.schedules import ExponentialDecay\n",
    "\n",
    "from tqdm.notebook import tqdm\n",
    "from collections import defaultdict"
   ]
  },
  {
   "cell_type": "code",
   "execution_count": 3,
   "metadata": {},
   "outputs": [],
   "source": [
    "%matplotlib inline"
   ]
  },
  {
   "cell_type": "code",
   "execution_count": 4,
   "metadata": {},
   "outputs": [],
   "source": [
    "imageio.plugins.ffmpeg.download()"
   ]
  },
  {
   "cell_type": "code",
   "execution_count": 5,
   "metadata": {
    "id": "pa3tRhUfzEJ4"
   },
   "outputs": [],
   "source": [
    "from gym import logger as gymlogger\n",
    "gymlogger.set_level(40) # error only"
   ]
  },
  {
   "cell_type": "code",
   "execution_count": 6,
   "metadata": {},
   "outputs": [],
   "source": [
    "import warnings\n",
    "warnings.filterwarnings('ignore')"
   ]
  },
  {
   "cell_type": "markdown",
   "metadata": {
    "id": "J7bJeRHbwMIj"
   },
   "source": [
    "# Display utils\n",
    "The cell below contains the video display configuration. No need to make changes here."
   ]
  },
  {
   "cell_type": "code",
   "execution_count": 7,
   "metadata": {
    "id": "z41WGwQt9i7_"
   },
   "outputs": [],
   "source": [
    "def embed_mp4(filename):\n",
    "    \"\"\"Embeds an mp4 file in the notebook.\"\"\"\n",
    "    video = open(filename,'rb').read()\n",
    "    b64 = base64.b64encode(video)\n",
    "    tag = '''\n",
    "    <video width=\"640\" height=\"480\" controls>\n",
    "    <source src=\"data:video/mp4;base64,{0}\" type=\"video/mp4\">\n",
    "    Your browser does not support the video tag.\n",
    "    </video>'''.format(b64.decode())\n",
    "\n",
    "    return HTML(tag)"
   ]
  },
  {
   "cell_type": "markdown",
   "metadata": {},
   "source": [
    "# Utils"
   ]
  },
  {
   "cell_type": "code",
   "execution_count": 8,
   "metadata": {},
   "outputs": [],
   "source": [
    "def get_distances_for_target(room_state, target):\n",
    "    distances = np.zeros(shape=room_state.shape)\n",
    "    visited_cells = set()\n",
    "    cell_queue = deque()\n",
    "\n",
    "    visited_cells.add(target)\n",
    "    cell_queue.appendleft(target)\n",
    "\n",
    "    while len(cell_queue) != 0:\n",
    "        cell = cell_queue.pop()\n",
    "        distance = distances[cell[0]][cell[1]]\n",
    "        for x,y in ((1,0), (-1,-0), (0,1), (0,-1)):\n",
    "            next_cell_x, next_cell_y = cell[0]+x, cell[1]+y\n",
    "            if room_state[next_cell_x][next_cell_y] != 0 and not (next_cell_x, next_cell_y) in visited_cells:\n",
    "                distances[next_cell_x][next_cell_y] = distance + 1\n",
    "                visited_cells.add((next_cell_x, next_cell_y))\n",
    "                cell_queue.appendleft((next_cell_x, next_cell_y))\n",
    "                \n",
    "    return distances\n",
    "\n",
    "def get_maze_info(room_state):\n",
    "    targets = []\n",
    "    for i in range(room_state.shape[0]):\n",
    "        for j in range(room_state.shape[1]):\n",
    "            if room_state[i][j] == 2:\n",
    "                targets.append((i, j))\n",
    "\n",
    "    distances0 = get_distances_for_target(room_state, targets[0])\n",
    "    distances1 = get_distances_for_target(room_state, targets[1])\n",
    "    common_distances = np.minimum(distances0, distances1)\n",
    "    \n",
    "    maze_info = {}\n",
    "    maze_info['target0'] = targets[0]\n",
    "    maze_info['target1'] = targets[1]\n",
    "    maze_info['distances0'] = distances0\n",
    "    maze_info['distances1'] = distances1\n",
    "    maze_info['coomon_distances'] = common_distances\n",
    "    return maze_info\n",
    "\n",
    "def calc_distances(room_state, distances):\n",
    "    boxes = []\n",
    "    for i in range(room_state.shape[0]):\n",
    "        for j in range(room_state.shape[1]):            \n",
    "            if room_state[i][j] == 4:\n",
    "                boxes.append((i,j))\n",
    "    if len(boxes) == 2:\n",
    "        return distances[boxes[0][0]][boxes[0][1]] + distances[boxes[1][0]][boxes[1][1]]\n",
    "    \n",
    "    return distances[boxes[0][0]][boxes[0][1]]\n",
    "\n",
    "def box2target_change_reward(room_state, next_room_state, maze_info):    \n",
    "    target0 = maze_info['target0']\n",
    "    target1 = maze_info['target1']\n",
    "    distances0 = maze_info['distances0']\n",
    "    distances1 = maze_info['distances1']\n",
    "    common_distances = maze_info['coomon_distances']\n",
    "    \n",
    "    relevant_distances = common_distances    \n",
    "    \n",
    "    if room_state[target0[0]][target0[1]] == 3:\n",
    "        relevant_distances = distances1\n",
    "    elif room_state[target1[0]][target1[1]] == 3:\n",
    "        relevant_distances = distances0\n",
    "    \n",
    "    change_reward = 0.0      \n",
    "    t2b = calc_distances(room_state, relevant_distances)\n",
    "    n_t2b = calc_distances(next_room_state, relevant_distances)\n",
    "    if n_t2b < t2b:\n",
    "        change_reward += 5.0\n",
    "    elif n_t2b > t2b:\n",
    "        change_reward -= 5.0\n",
    "        \n",
    "    return change_reward  "
   ]
  },
  {
   "cell_type": "markdown",
   "metadata": {
    "id": "I6Qnw883yqGH"
   },
   "source": [
    "# Solution"
   ]
  },
  {
   "cell_type": "code",
   "execution_count": 9,
   "metadata": {
    "id": "gGl0DQvSQG0d"
   },
   "outputs": [],
   "source": [
    "class SOK_Agent:\n",
    "    def __init__(self):\n",
    "        # Construct DQN models\n",
    "        self.state_size = (112,112,1) \n",
    "        self.action_size = 8\n",
    "        self.model = self._build_model()\n",
    "        self.target_model = self._build_model()\n",
    "        self.target_model.set_weights(self.model.get_weights())\n",
    "        self.batch_size = 8\n",
    "        \n",
    "        # Replay buffers\n",
    "        self.replay_buffer = deque(maxlen=50000)\n",
    "        self.prioritized_replay_buffer = deque(maxlen=50000)\n",
    "        \n",
    "        # Hyperparameters\n",
    "        self.gamma = 0.9\n",
    "        self.epsilon = 1.0   \n",
    "        self.epsilon_min = 0.3\n",
    "        self.epsilon_decay = 0.995\n",
    "        self.replay_rate = 10\n",
    "        self.update_beta = 0.999\n",
    "        \n",
    "        self.action_rotation_map = {\n",
    "            0: 2,\n",
    "            1: 3,\n",
    "            2: 1,\n",
    "            3: 0,\n",
    "            4: 6,\n",
    "            5: 7,\n",
    "            6: 5,\n",
    "            7: 4\n",
    "        }\n",
    "\n",
    "    def _build_model(self):\n",
    "        model = Sequential()\n",
    "        model.add(Conv2D(32, (16,16), strides=(16,16), input_shape=self.state_size, activation='relu'))\n",
    "        model.add(Conv2D(64, (3,3), activation='relu'))\n",
    "        model.add(Conv2D(64, (3,3), padding='same', activation='relu'))\n",
    "        model.add(Flatten())\n",
    "        model.add(Dense(512, activation='relu'))    \n",
    "        model.add(Dense(64, activation='relu'))\n",
    "        model.add(Dense(self.action_size, activation='linear'))\n",
    "        \n",
    "        lr_schedule = ExponentialDecay(0.001, decay_steps=2000, decay_rate=0.99, staircase=False)\n",
    "        model.compile(optimizer=Adam(learning_rate=lr_schedule), loss='mse')        \n",
    "        return model\n",
    "\n",
    "    def remember(self, state, action, reward, next_state, done):\n",
    "        self.replay_buffer.append([state, action, reward, next_state, done])    \n",
    "        \n",
    "    def copy_to_prioritized_buffer(self, n):\n",
    "        for i in range(n):\n",
    "            self.prioritized_replay_buffer.append(self.replay_buffer[-1-i])  \n",
    "\n",
    "    def act(self, state, stochastic=False):\n",
    "        if np.random.rand() <= self.epsilon:\n",
    "            return random.randrange(self.action_size)\n",
    "        \n",
    "        act_values = self.model.predict(state, verbose=0)[0]\n",
    "        \n",
    "        if stochastic:\n",
    "            act_probs = np.exp(act_values)/np.exp(act_values).sum()\n",
    "            return np.random.choice(np.arange(self.action_size), size=1, p=act_probs)[0]\n",
    "              \n",
    "        return np.argmax(act_values) \n",
    "\n",
    "    def replay(self): \n",
    "        if len(self.replay_buffer) < self.batch_size:\n",
    "            return\n",
    "        \n",
    "        if len(self.prioritized_replay_buffer) < self.batch_size//2:\n",
    "            minibatch = random.sample(self.replay_buffer, self.batch_size) \n",
    "        else:    \n",
    "            minibatch = random.sample(self.replay_buffer, self.batch_size//2) \n",
    "            minibatch.extend(random.sample(self.prioritized_replay_buffer, self.batch_size//2))\n",
    "        \n",
    "        states = np.zeros((self.batch_size*4, self.state_size[0], self.state_size[1]))\n",
    "        actions = np.zeros(self.batch_size*4, dtype=int)\n",
    "        rewards = np.zeros(self.batch_size*4)\n",
    "        next_states = np.zeros((self.batch_size*4, self.state_size[0], self.state_size[1]))\n",
    "        statuses = np.zeros(self.batch_size*4)\n",
    "        targets = np.zeros((self.batch_size*4, self.action_size)) \n",
    "        \n",
    "        for i, (state, action, reward, next_state, done) in enumerate(minibatch): \n",
    "            for rot in range(4):  \n",
    "                ind = i*4+rot\n",
    "                if rot != 0:\n",
    "                    state = np.rot90(state, axes=(1,2))\n",
    "                    next_state = np.rot90(next_state, axes=(1,2))\n",
    "                    action = self.action_rotation_map.get(action)\n",
    "\n",
    "                states[ind] = state.copy()\n",
    "                actions[ind] = action\n",
    "                rewards[ind] = reward\n",
    "                next_states[ind] = next_state.copy()\n",
    "                statuses[ind] = 1 if done else 0          \n",
    "        \n",
    "        targets = self.model.predict(states) \n",
    "        max_actions = np.argmax(self.model.predict(next_states), axis=1)\n",
    "        next_rewards = self.target_model.predict(next_states)\n",
    "        \n",
    "        ind = 0\n",
    "        for action, reward, next_reward, max_action, done in zip(actions, rewards, next_rewards, max_actions, statuses):  \n",
    "            if not done:\n",
    "                reward += self.gamma * next_reward[max_action]\n",
    "            targets[ind][action] = reward\n",
    "            ind += 1\n",
    "        \n",
    "        self.model.fit(states, targets, epochs=10, verbose=0) \n",
    "        \n",
    "        self.update_target_model()        \n",
    "    \n",
    "        if self.epsilon > self.epsilon_min:\n",
    "            self.epsilon = self.epsilon * self.epsilon_decay    \n",
    "        \n",
    "    def update_target_model(self):\n",
    "        model_w = self.model.get_weights()\n",
    "        target_model_w = self.target_model.get_weights()\n",
    "        updated_target_model_w = []\n",
    "        for i in range(len(model_w)):\n",
    "            updated_target_model_w.append(self.update_beta*target_model_w[i] + (1-self.update_beta)*model_w[i])\n",
    "        self.target_model.set_weights(updated_target_model_w)    \n",
    "            \n",
    "    def load(self, name):\n",
    "        self.model.load_weights(name)\n",
    "\n",
    "    def save(self, name):\n",
    "        self.model.save_weights(name)"
   ]
  },
  {
   "cell_type": "code",
   "execution_count": 10,
   "metadata": {
    "id": "I8TqYhBX1lD4"
   },
   "outputs": [],
   "source": [
    "def process_frame(frame):\n",
    "    f = frame.mean(axis=2)\n",
    "    f = f / 255\n",
    "    return np.expand_dims(f, axis=0)"
   ]
  },
  {
   "cell_type": "markdown",
   "metadata": {},
   "source": [
    "## Training"
   ]
  },
  {
   "cell_type": "markdown",
   "metadata": {},
   "source": [
    "#### Test Suite"
   ]
  },
  {
   "cell_type": "code",
   "execution_count": 11,
   "metadata": {},
   "outputs": [],
   "source": [
    "max_episodes = 50000\n",
    "max_steps = 40\n",
    "\n",
    "def init_sok(r):\n",
    "    random.seed(r)\n",
    "    sok = PushAndPullSokobanEnv(dim_room=(7, 7), num_boxes=2)\n",
    "    sok.set_maxsteps(max_steps)\n",
    "    return sok"
   ]
  },
  {
   "cell_type": "code",
   "execution_count": 12,
   "metadata": {},
   "outputs": [],
   "source": [
    "def test_agent(e, cur_record, stochastic=False):\n",
    "    current_epsilon = agent.epsilon\n",
    "    agent.epsilon = 0.0\n",
    "    num_solved = 0\n",
    "\n",
    "    for t in tqdm(range(100)):    \n",
    "        sok = init_sok(t)\n",
    "        steps = 0\n",
    "\n",
    "        state = sok.get_image('rgb_array')\n",
    "        done = False\n",
    "        while not done:\n",
    "            steps += 1\n",
    "            action = agent.act(process_frame(state), stochastic)\n",
    "            if action < 4:\n",
    "                action += 1\n",
    "            else:\n",
    "                action += 5\n",
    "            state, reward, done, info = sok.step(action)\n",
    "\n",
    "        if sok.boxes_on_target == 2:            \n",
    "            num_solved += 1\n",
    "            \n",
    "    agent.epsilon = current_epsilon    \n",
    "    print(\"Episode %d Epsilon %.3f Learning Rate %.6f Solved: %d\" % (\n",
    "        e+1, \n",
    "        agent.epsilon, \n",
    "        agent.model.optimizer._decayed_lr(tensorflow.float32).numpy(),\n",
    "        num_solved))\n",
    "    \n",
    "    if num_solved > cur_record:\n",
    "        agent.save(\"models\\Q3_04A_%d.h5\" % (num_solved)) \n",
    "        cur_record = num_solved\n",
    "        \n",
    "    return num_solved, cur_record "
   ]
  },
  {
   "cell_type": "code",
   "execution_count": 13,
   "metadata": {
    "colab": {
     "base_uri": "https://localhost:8080/",
     "height": 1000
    },
    "id": "s2Km5jCqDqbz",
    "outputId": "abab4d45-7d3a-4a49-8b54-10c34549249d"
   },
   "outputs": [
    {
     "name": "stdout",
     "output_type": "stream",
     "text": [
      "3 | 10\n",
      "6 | 20\n",
      "9 | 30\n",
      "9 | 40\n",
      "9 | 50\n",
      "10 | 60\n",
      "11 | 70\n",
      "13 | 80\n",
      "17 | 90\n",
      "19 | 100\n"
     ]
    },
    {
     "data": {
      "application/vnd.jupyter.widget-view+json": {
       "model_id": "6e80175af4ce4328b2988668462532f0",
       "version_major": 2,
       "version_minor": 0
      },
      "text/plain": [
       "HBox(children=(FloatProgress(value=0.0), HTML(value='')))"
      ]
     },
     "metadata": {},
     "output_type": "display_data"
    },
    {
     "name": "stdout",
     "output_type": "stream",
     "text": [
      "[SOKOBAN] Runtime Error/Warning: Not enough free spots (#3) to place 1 player and 2 boxes.\n",
      "[SOKOBAN] Retry . . .\n",
      "\n",
      "Episode 100 Epsilon 0.300 Learning Rate 0.000983 Solved: 4\n",
      "1 | 10\n",
      "2 | 20\n",
      "2 | 30\n",
      "3 | 40\n",
      "6 | 50\n",
      "9 | 60\n",
      "9 | 70\n",
      "9 | 80\n",
      "11 | 90\n",
      "[SOKOBAN] Runtime Error/Warning: Generated Model with score == 0\n",
      "[SOKOBAN] Retry . . .\n",
      "12 | 100\n"
     ]
    },
    {
     "data": {
      "application/vnd.jupyter.widget-view+json": {
       "model_id": "1b01e9a50dba47838c7f96dbe9bca71f",
       "version_major": 2,
       "version_minor": 0
      },
      "text/plain": [
       "HBox(children=(FloatProgress(value=0.0), HTML(value='')))"
      ]
     },
     "metadata": {},
     "output_type": "display_data"
    },
    {
     "name": "stdout",
     "output_type": "stream",
     "text": [
      "[SOKOBAN] Runtime Error/Warning: Not enough free spots (#3) to place 1 player and 2 boxes.\n",
      "[SOKOBAN] Retry . . .\n",
      "\n",
      "Episode 200 Epsilon 0.300 Learning Rate 0.000965 Solved: 2\n",
      "1 | 10\n",
      "3 | 20\n",
      "6 | 30\n",
      "8 | 40\n",
      "11 | 50\n",
      "[SOKOBAN] Runtime Error/Warning: Generated Model with score == 0\n",
      "[SOKOBAN] Retry . . .\n",
      "12 | 60\n",
      "[SOKOBAN] Runtime Error/Warning: Not enough free spots (#3) to place 1 player and 2 boxes.\n",
      "[SOKOBAN] Retry . . .\n",
      "13 | 70\n",
      "14 | 80\n",
      "14 | 90\n",
      "14 | 100\n"
     ]
    },
    {
     "data": {
      "application/vnd.jupyter.widget-view+json": {
       "model_id": "b6323203d766437faddd234c3ca2bbe1",
       "version_major": 2,
       "version_minor": 0
      },
      "text/plain": [
       "HBox(children=(FloatProgress(value=0.0), HTML(value='')))"
      ]
     },
     "metadata": {},
     "output_type": "display_data"
    },
    {
     "name": "stdout",
     "output_type": "stream",
     "text": [
      "[SOKOBAN] Runtime Error/Warning: Not enough free spots (#3) to place 1 player and 2 boxes.\n",
      "[SOKOBAN] Retry . . .\n",
      "\n",
      "Episode 300 Epsilon 0.300 Learning Rate 0.000948 Solved: 3\n",
      "4 | 10\n",
      "5 | 20\n",
      "6 | 30\n",
      "8 | 40\n",
      "10 | 50\n",
      "12 | 60\n",
      "13 | 70\n",
      "15 | 80\n",
      "16 | 90\n",
      "18 | 100\n"
     ]
    },
    {
     "data": {
      "application/vnd.jupyter.widget-view+json": {
       "model_id": "cd0c63a3e12e469fb9f3008d59fa9f94",
       "version_major": 2,
       "version_minor": 0
      },
      "text/plain": [
       "HBox(children=(FloatProgress(value=0.0), HTML(value='')))"
      ]
     },
     "metadata": {},
     "output_type": "display_data"
    },
    {
     "name": "stdout",
     "output_type": "stream",
     "text": [
      "[SOKOBAN] Runtime Error/Warning: Not enough free spots (#3) to place 1 player and 2 boxes.\n",
      "[SOKOBAN] Retry . . .\n",
      "\n",
      "Episode 400 Epsilon 0.300 Learning Rate 0.000932 Solved: 7\n",
      "1 | 10\n",
      "4 | 20\n",
      "5 | 30\n",
      "5 | 40\n",
      "7 | 50\n",
      "[SOKOBAN] Runtime Error/Warning: Not enough free spots (#3) to place 1 player and 2 boxes.\n",
      "[SOKOBAN] Retry . . .\n",
      "9 | 60\n",
      "[SOKOBAN] Runtime Error/Warning: Not enough free spots (#3) to place 1 player and 2 boxes.\n",
      "[SOKOBAN] Retry . . .\n",
      "11 | 70\n",
      "12 | 80\n",
      "13 | 90\n",
      "17 | 100\n"
     ]
    },
    {
     "data": {
      "application/vnd.jupyter.widget-view+json": {
       "model_id": "6163779cd04d4411b316afc1a700da13",
       "version_major": 2,
       "version_minor": 0
      },
      "text/plain": [
       "HBox(children=(FloatProgress(value=0.0), HTML(value='')))"
      ]
     },
     "metadata": {},
     "output_type": "display_data"
    },
    {
     "name": "stdout",
     "output_type": "stream",
     "text": [
      "[SOKOBAN] Runtime Error/Warning: Not enough free spots (#3) to place 1 player and 2 boxes.\n",
      "[SOKOBAN] Retry . . .\n",
      "\n",
      "Episode 500 Epsilon 0.300 Learning Rate 0.000915 Solved: 9\n",
      "3 | 10\n",
      "[SOKOBAN] Runtime Error/Warning: Generated Model with score == 0\n",
      "[SOKOBAN] Retry . . .\n",
      "5 | 20\n",
      "7 | 30\n",
      "9 | 40\n",
      "[SOKOBAN] Runtime Error/Warning: Not enough free spots (#3) to place 1 player and 2 boxes.\n",
      "[SOKOBAN] Retry . . .\n",
      "10 | 50\n",
      "12 | 60\n",
      "16 | 70\n",
      "[SOKOBAN] Runtime Error/Warning: Not enough free spots (#3) to place 1 player and 2 boxes.\n",
      "[SOKOBAN] Retry . . .\n",
      "16 | 80\n",
      "18 | 90\n",
      "20 | 100\n"
     ]
    },
    {
     "data": {
      "application/vnd.jupyter.widget-view+json": {
       "model_id": "eff73016eac34db588bc208ad941addb",
       "version_major": 2,
       "version_minor": 0
      },
      "text/plain": [
       "HBox(children=(FloatProgress(value=0.0), HTML(value='')))"
      ]
     },
     "metadata": {},
     "output_type": "display_data"
    },
    {
     "name": "stdout",
     "output_type": "stream",
     "text": [
      "[SOKOBAN] Runtime Error/Warning: Not enough free spots (#3) to place 1 player and 2 boxes.\n",
      "[SOKOBAN] Retry . . .\n",
      "\n",
      "Episode 600 Epsilon 0.300 Learning Rate 0.000900 Solved: 17\n",
      "3 | 10\n",
      "4 | 20\n",
      "5 | 30\n",
      "8 | 40\n",
      "11 | 50\n",
      "[SOKOBAN] Runtime Error/Warning: Not enough free spots (#3) to place 1 player and 2 boxes.\n",
      "[SOKOBAN] Retry . . .\n",
      "14 | 60\n",
      "17 | 70\n",
      "19 | 80\n",
      "20 | 90\n",
      "22 | 100\n"
     ]
    },
    {
     "data": {
      "application/vnd.jupyter.widget-view+json": {
       "model_id": "54fa1c79edf24a858c63359dd20b931d",
       "version_major": 2,
       "version_minor": 0
      },
      "text/plain": [
       "HBox(children=(FloatProgress(value=0.0), HTML(value='')))"
      ]
     },
     "metadata": {},
     "output_type": "display_data"
    },
    {
     "name": "stdout",
     "output_type": "stream",
     "text": [
      "[SOKOBAN] Runtime Error/Warning: Not enough free spots (#3) to place 1 player and 2 boxes.\n",
      "[SOKOBAN] Retry . . .\n",
      "\n",
      "Episode 700 Epsilon 0.300 Learning Rate 0.000886 Solved: 23\n",
      "3 | 10\n",
      "[SOKOBAN] Runtime Error/Warning: Not enough free spots (#3) to place 1 player and 2 boxes.\n",
      "[SOKOBAN] Retry . . .\n",
      "3 | 20\n",
      "6 | 30\n",
      "8 | 40\n",
      "12 | 50\n",
      "16 | 60\n",
      "21 | 70\n",
      "25 | 80\n",
      "[SOKOBAN] Runtime Error/Warning: Generated Model with score == 0\n",
      "[SOKOBAN] Retry . . .\n",
      "29 | 90\n",
      "32 | 100\n"
     ]
    },
    {
     "data": {
      "application/vnd.jupyter.widget-view+json": {
       "model_id": "f50a59586bf14441829894cdcd6f8ff4",
       "version_major": 2,
       "version_minor": 0
      },
      "text/plain": [
       "HBox(children=(FloatProgress(value=0.0), HTML(value='')))"
      ]
     },
     "metadata": {},
     "output_type": "display_data"
    },
    {
     "name": "stdout",
     "output_type": "stream",
     "text": [
      "[SOKOBAN] Runtime Error/Warning: Not enough free spots (#3) to place 1 player and 2 boxes.\n",
      "[SOKOBAN] Retry . . .\n",
      "\n",
      "Episode 800 Epsilon 0.300 Learning Rate 0.000873 Solved: 22\n",
      "3 | 10\n",
      "3 | 20\n",
      "[SOKOBAN] Runtime Error/Warning: Not enough free spots (#3) to place 1 player and 2 boxes.\n",
      "[SOKOBAN] Retry . . .\n",
      "6 | 30\n",
      "9 | 40\n",
      "10 | 50\n",
      "16 | 60\n",
      "16 | 70\n",
      "19 | 80\n",
      "23 | 90\n",
      "25 | 100\n"
     ]
    },
    {
     "data": {
      "application/vnd.jupyter.widget-view+json": {
       "model_id": "cbe6efd3e13244878bb3b6a2f2d8a660",
       "version_major": 2,
       "version_minor": 0
      },
      "text/plain": [
       "HBox(children=(FloatProgress(value=0.0), HTML(value='')))"
      ]
     },
     "metadata": {},
     "output_type": "display_data"
    },
    {
     "name": "stdout",
     "output_type": "stream",
     "text": [
      "[SOKOBAN] Runtime Error/Warning: Not enough free spots (#3) to place 1 player and 2 boxes.\n",
      "[SOKOBAN] Retry . . .\n",
      "\n",
      "Episode 900 Epsilon 0.300 Learning Rate 0.000860 Solved: 21\n",
      "1 | 10\n",
      "[SOKOBAN] Runtime Error/Warning: Not enough free spots (#3) to place 1 player and 2 boxes.\n",
      "[SOKOBAN] Retry . . .\n",
      "5 | 20\n",
      "7 | 30\n",
      "7 | 40\n",
      "8 | 50\n",
      "9 | 60\n",
      "12 | 70\n",
      "14 | 80\n",
      "18 | 90\n",
      "23 | 100\n"
     ]
    },
    {
     "data": {
      "application/vnd.jupyter.widget-view+json": {
       "model_id": "68dcc570da1647949b1c299910289637",
       "version_major": 2,
       "version_minor": 0
      },
      "text/plain": [
       "HBox(children=(FloatProgress(value=0.0), HTML(value='')))"
      ]
     },
     "metadata": {},
     "output_type": "display_data"
    },
    {
     "name": "stdout",
     "output_type": "stream",
     "text": [
      "[SOKOBAN] Runtime Error/Warning: Not enough free spots (#3) to place 1 player and 2 boxes.\n",
      "[SOKOBAN] Retry . . .\n",
      "\n",
      "Episode 1000 Epsilon 0.300 Learning Rate 0.000846 Solved: 13\n",
      "1 | 10\n",
      "[SOKOBAN] Runtime Error/Warning: Generated Model with score == 0\n",
      "[SOKOBAN] Retry . . .\n",
      "[SOKOBAN] Runtime Error/Warning: Not enough free spots (#3) to place 1 player and 2 boxes.\n",
      "[SOKOBAN] Retry . . .\n",
      "[SOKOBAN] Runtime Error/Warning: Not enough free spots (#3) to place 1 player and 2 boxes.\n",
      "[SOKOBAN] Retry . . .\n",
      "3 | 20\n",
      "6 | 30\n",
      "8 | 40\n",
      "12 | 50\n",
      "15 | 60\n",
      "16 | 70\n",
      "20 | 80\n",
      "23 | 90\n",
      "26 | 100\n"
     ]
    },
    {
     "data": {
      "application/vnd.jupyter.widget-view+json": {
       "model_id": "676c326b1a664fb499df6ee0404f888e",
       "version_major": 2,
       "version_minor": 0
      },
      "text/plain": [
       "HBox(children=(FloatProgress(value=0.0), HTML(value='')))"
      ]
     },
     "metadata": {},
     "output_type": "display_data"
    },
    {
     "name": "stdout",
     "output_type": "stream",
     "text": [
      "[SOKOBAN] Runtime Error/Warning: Not enough free spots (#3) to place 1 player and 2 boxes.\n",
      "[SOKOBAN] Retry . . .\n",
      "\n",
      "Episode 1100 Epsilon 0.300 Learning Rate 0.000833 Solved: 21\n",
      "2 | 10\n",
      "6 | 20\n",
      "7 | 30\n",
      "9 | 40\n",
      "12 | 50\n",
      "14 | 60\n",
      "17 | 70\n",
      "21 | 80\n",
      "24 | 90\n",
      "28 | 100\n"
     ]
    },
    {
     "data": {
      "application/vnd.jupyter.widget-view+json": {
       "model_id": "ba6891906bd942f5824d8c953dfdfe38",
       "version_major": 2,
       "version_minor": 0
      },
      "text/plain": [
       "HBox(children=(FloatProgress(value=0.0), HTML(value='')))"
      ]
     },
     "metadata": {},
     "output_type": "display_data"
    },
    {
     "name": "stdout",
     "output_type": "stream",
     "text": [
      "[SOKOBAN] Runtime Error/Warning: Not enough free spots (#3) to place 1 player and 2 boxes.\n",
      "[SOKOBAN] Retry . . .\n",
      "\n",
      "Episode 1200 Epsilon 0.300 Learning Rate 0.000820 Solved: 23\n",
      "0 | 10\n",
      "3 | 20\n",
      "5 | 30\n",
      "7 | 40\n",
      "[SOKOBAN] Runtime Error/Warning: Not enough free spots (#3) to place 1 player and 2 boxes.\n",
      "[SOKOBAN] Retry . . .\n",
      "7 | 50\n",
      "10 | 60\n",
      "11 | 70\n",
      "14 | 80\n",
      "16 | 90\n",
      "[SOKOBAN] Runtime Error/Warning: Generated Model with score == 0\n",
      "[SOKOBAN] Retry . . .\n",
      "18 | 100\n"
     ]
    },
    {
     "data": {
      "application/vnd.jupyter.widget-view+json": {
       "model_id": "b22aaefa5156497c8d79e7b8988881b1",
       "version_major": 2,
       "version_minor": 0
      },
      "text/plain": [
       "HBox(children=(FloatProgress(value=0.0), HTML(value='')))"
      ]
     },
     "metadata": {},
     "output_type": "display_data"
    },
    {
     "name": "stdout",
     "output_type": "stream",
     "text": [
      "[SOKOBAN] Runtime Error/Warning: Not enough free spots (#3) to place 1 player and 2 boxes.\n",
      "[SOKOBAN] Retry . . .\n",
      "\n",
      "Episode 1300 Epsilon 0.300 Learning Rate 0.000806 Solved: 20\n",
      "2 | 10\n",
      "3 | 20\n",
      "[SOKOBAN] Runtime Error/Warning: Generated Model with score == 0\n",
      "[SOKOBAN] Retry . . .\n",
      "6 | 30\n",
      "[SOKOBAN] Runtime Error/Warning: Generated Model with score == 0\n",
      "[SOKOBAN] Retry . . .\n",
      "12 | 40\n",
      "17 | 50\n",
      "18 | 60\n",
      "19 | 70\n",
      "21 | 80\n",
      "23 | 90\n",
      "26 | 100\n"
     ]
    },
    {
     "data": {
      "application/vnd.jupyter.widget-view+json": {
       "model_id": "9b35d8cc201e4911b18b2593bc6cc9f9",
       "version_major": 2,
       "version_minor": 0
      },
      "text/plain": [
       "HBox(children=(FloatProgress(value=0.0), HTML(value='')))"
      ]
     },
     "metadata": {},
     "output_type": "display_data"
    },
    {
     "name": "stdout",
     "output_type": "stream",
     "text": [
      "[SOKOBAN] Runtime Error/Warning: Not enough free spots (#3) to place 1 player and 2 boxes.\n",
      "[SOKOBAN] Retry . . .\n",
      "\n",
      "Episode 1400 Epsilon 0.300 Learning Rate 0.000794 Solved: 22\n",
      "4 | 10\n",
      "7 | 20\n",
      "12 | 30\n",
      "[SOKOBAN] Runtime Error/Warning: Generated Model with score == 0\n",
      "[SOKOBAN] Retry . . .\n",
      "14 | 40\n",
      "18 | 50\n",
      "20 | 60\n",
      "20 | 70\n",
      "23 | 80\n",
      "[SOKOBAN] Runtime Error/Warning: Not enough free spots (#3) to place 1 player and 2 boxes.\n",
      "[SOKOBAN] Retry . . .\n",
      "26 | 90\n",
      "29 | 100\n"
     ]
    },
    {
     "data": {
      "application/vnd.jupyter.widget-view+json": {
       "model_id": "a2c417de4c5e4f0fa37e054f6e317a7c",
       "version_major": 2,
       "version_minor": 0
      },
      "text/plain": [
       "HBox(children=(FloatProgress(value=0.0), HTML(value='')))"
      ]
     },
     "metadata": {},
     "output_type": "display_data"
    },
    {
     "name": "stdout",
     "output_type": "stream",
     "text": [
      "[SOKOBAN] Runtime Error/Warning: Not enough free spots (#3) to place 1 player and 2 boxes.\n",
      "[SOKOBAN] Retry . . .\n",
      "\n",
      "Episode 1500 Epsilon 0.300 Learning Rate 0.000782 Solved: 19\n",
      "4 | 10\n",
      "5 | 20\n",
      "8 | 30\n",
      "[SOKOBAN] Runtime Error/Warning: Not enough free spots (#3) to place 1 player and 2 boxes.\n",
      "[SOKOBAN] Retry . . .\n",
      "11 | 40\n",
      "13 | 50\n",
      "[SOKOBAN] Runtime Error/Warning: Not enough free spots (#3) to place 1 player and 2 boxes.\n",
      "[SOKOBAN] Retry . . .\n",
      "17 | 60\n",
      "21 | 70\n",
      "23 | 80\n",
      "24 | 90\n",
      "26 | 100\n"
     ]
    },
    {
     "data": {
      "application/vnd.jupyter.widget-view+json": {
       "model_id": "54c834ca2b8d4c58a003e458dce3e671",
       "version_major": 2,
       "version_minor": 0
      },
      "text/plain": [
       "HBox(children=(FloatProgress(value=0.0), HTML(value='')))"
      ]
     },
     "metadata": {},
     "output_type": "display_data"
    },
    {
     "name": "stdout",
     "output_type": "stream",
     "text": [
      "[SOKOBAN] Runtime Error/Warning: Not enough free spots (#3) to place 1 player and 2 boxes.\n",
      "[SOKOBAN] Retry . . .\n",
      "\n",
      "Episode 1600 Epsilon 0.300 Learning Rate 0.000769 Solved: 18\n",
      "6 | 10\n",
      "8 | 20\n",
      "12 | 30\n",
      "17 | 40\n",
      "[SOKOBAN] Runtime Error/Warning: Not enough free spots (#3) to place 1 player and 2 boxes.\n",
      "[SOKOBAN] Retry . . .\n",
      "19 | 50\n",
      "20 | 60\n",
      "24 | 70\n",
      "26 | 80\n",
      "28 | 90\n",
      "[SOKOBAN] Runtime Error/Warning: Not enough free spots (#3) to place 1 player and 2 boxes.\n",
      "[SOKOBAN] Retry . . .\n",
      "31 | 100\n"
     ]
    },
    {
     "data": {
      "application/vnd.jupyter.widget-view+json": {
       "model_id": "ee49d211cb0443e0801eaf957fb01ebd",
       "version_major": 2,
       "version_minor": 0
      },
      "text/plain": [
       "HBox(children=(FloatProgress(value=0.0), HTML(value='')))"
      ]
     },
     "metadata": {},
     "output_type": "display_data"
    },
    {
     "name": "stdout",
     "output_type": "stream",
     "text": [
      "[SOKOBAN] Runtime Error/Warning: Not enough free spots (#3) to place 1 player and 2 boxes.\n",
      "[SOKOBAN] Retry . . .\n",
      "\n",
      "Episode 1700 Epsilon 0.300 Learning Rate 0.000758 Solved: 24\n",
      "[SOKOBAN] Runtime Error/Warning: Not enough free spots (#3) to place 1 player and 2 boxes.\n",
      "[SOKOBAN] Retry . . .\n",
      "1 | 10\n",
      "4 | 20\n",
      "6 | 30\n",
      "9 | 40\n",
      "12 | 50\n",
      "[SOKOBAN] Runtime Error/Warning: Generated Model with score == 0\n",
      "[SOKOBAN] Retry . . .\n",
      "14 | 60\n",
      "17 | 70\n",
      "[SOKOBAN] Runtime Error/Warning: Not enough free spots (#3) to place 1 player and 2 boxes.\n",
      "[SOKOBAN] Retry . . .\n",
      "18 | 80\n",
      "[SOKOBAN] Runtime Error/Warning: Not enough free spots (#3) to place 1 player and 2 boxes.\n",
      "[SOKOBAN] Retry . . .\n",
      "19 | 90\n",
      "21 | 100\n"
     ]
    },
    {
     "data": {
      "application/vnd.jupyter.widget-view+json": {
       "model_id": "63eb1404b8f248ad92ad06109ec93136",
       "version_major": 2,
       "version_minor": 0
      },
      "text/plain": [
       "HBox(children=(FloatProgress(value=0.0), HTML(value='')))"
      ]
     },
     "metadata": {},
     "output_type": "display_data"
    },
    {
     "name": "stdout",
     "output_type": "stream",
     "text": [
      "[SOKOBAN] Runtime Error/Warning: Not enough free spots (#3) to place 1 player and 2 boxes.\n",
      "[SOKOBAN] Retry . . .\n",
      "\n",
      "Episode 1800 Epsilon 0.300 Learning Rate 0.000745 Solved: 11\n",
      "3 | 10\n",
      "[SOKOBAN] Runtime Error/Warning: Generated Model with score == 0\n",
      "[SOKOBAN] Retry . . .\n",
      "7 | 20\n",
      "[SOKOBAN] Runtime Error/Warning: Not enough free spots (#3) to place 1 player and 2 boxes.\n",
      "[SOKOBAN] Retry . . .\n",
      "9 | 30\n",
      "[SOKOBAN] Runtime Error/Warning: Generated Model with score == 0\n",
      "[SOKOBAN] Retry . . .\n",
      "15 | 40\n",
      "[SOKOBAN] Runtime Error/Warning: Not enough free spots (#3) to place 1 player and 2 boxes.\n",
      "[SOKOBAN] Retry . . .\n",
      "17 | 50\n",
      "21 | 60\n",
      "25 | 70\n",
      "[SOKOBAN] Runtime Error/Warning: Not enough free spots (#3) to place 1 player and 2 boxes.\n",
      "[SOKOBAN] Retry . . .\n",
      "29 | 80\n",
      "31 | 90\n",
      "36 | 100\n"
     ]
    },
    {
     "data": {
      "application/vnd.jupyter.widget-view+json": {
       "model_id": "260ec04657af4e58b655202be701d574",
       "version_major": 2,
       "version_minor": 0
      },
      "text/plain": [
       "HBox(children=(FloatProgress(value=0.0), HTML(value='')))"
      ]
     },
     "metadata": {},
     "output_type": "display_data"
    },
    {
     "name": "stdout",
     "output_type": "stream",
     "text": [
      "[SOKOBAN] Runtime Error/Warning: Not enough free spots (#3) to place 1 player and 2 boxes.\n",
      "[SOKOBAN] Retry . . .\n",
      "\n",
      "Episode 1900 Epsilon 0.300 Learning Rate 0.000734 Solved: 23\n",
      "3 | 10\n",
      "6 | 20\n",
      "[SOKOBAN] Runtime Error/Warning: Generated Model with score == 0\n",
      "[SOKOBAN] Retry . . .\n",
      "9 | 30\n",
      "[SOKOBAN] Runtime Error/Warning: Not enough free spots (#3) to place 1 player and 2 boxes.\n",
      "[SOKOBAN] Retry . . .\n",
      "14 | 40\n",
      "19 | 50\n",
      "21 | 60\n",
      "24 | 70\n",
      "[SOKOBAN] Runtime Error/Warning: Generated Model with score == 0\n",
      "[SOKOBAN] Retry . . .\n",
      "26 | 80\n",
      "[SOKOBAN] Runtime Error/Warning: Not enough free spots (#3) to place 1 player and 2 boxes.\n",
      "[SOKOBAN] Retry . . .\n",
      "29 | 90\n",
      "32 | 100\n"
     ]
    },
    {
     "data": {
      "application/vnd.jupyter.widget-view+json": {
       "model_id": "3f42c11aaa474145818a3e81fb324460",
       "version_major": 2,
       "version_minor": 0
      },
      "text/plain": [
       "HBox(children=(FloatProgress(value=0.0), HTML(value='')))"
      ]
     },
     "metadata": {},
     "output_type": "display_data"
    },
    {
     "name": "stdout",
     "output_type": "stream",
     "text": [
      "[SOKOBAN] Runtime Error/Warning: Not enough free spots (#3) to place 1 player and 2 boxes.\n",
      "[SOKOBAN] Retry . . .\n",
      "\n",
      "Episode 2000 Epsilon 0.300 Learning Rate 0.000723 Solved: 22\n",
      "3 | 10\n",
      "[SOKOBAN] Runtime Error/Warning: Not enough free spots (#3) to place 1 player and 2 boxes.\n",
      "[SOKOBAN] Retry . . .\n",
      "3 | 20\n",
      "[SOKOBAN] Runtime Error/Warning: Generated Model with score == 0\n",
      "[SOKOBAN] Retry . . .\n",
      "6 | 30\n",
      "8 | 40\n",
      "13 | 50\n",
      "17 | 60\n",
      "21 | 70\n",
      "25 | 80\n",
      "27 | 90\n",
      "30 | 100\n"
     ]
    },
    {
     "data": {
      "application/vnd.jupyter.widget-view+json": {
       "model_id": "c878b859cf72429d87d8d8c76b5f8527",
       "version_major": 2,
       "version_minor": 0
      },
      "text/plain": [
       "HBox(children=(FloatProgress(value=0.0), HTML(value='')))"
      ]
     },
     "metadata": {},
     "output_type": "display_data"
    },
    {
     "name": "stdout",
     "output_type": "stream",
     "text": [
      "[SOKOBAN] Runtime Error/Warning: Not enough free spots (#3) to place 1 player and 2 boxes.\n",
      "[SOKOBAN] Retry . . .\n",
      "\n",
      "Episode 2100 Epsilon 0.300 Learning Rate 0.000712 Solved: 25\n",
      "3 | 10\n",
      "5 | 20\n",
      "[SOKOBAN] Runtime Error/Warning: Not enough free spots (#3) to place 1 player and 2 boxes.\n",
      "[SOKOBAN] Retry . . .\n",
      "7 | 30\n",
      "11 | 40\n",
      "16 | 50\n",
      "18 | 60\n",
      "19 | 70\n",
      "22 | 80\n",
      "24 | 90\n",
      "25 | 100\n"
     ]
    },
    {
     "data": {
      "application/vnd.jupyter.widget-view+json": {
       "model_id": "d15443c17a0940a89f02581a8816b2bc",
       "version_major": 2,
       "version_minor": 0
      },
      "text/plain": [
       "HBox(children=(FloatProgress(value=0.0), HTML(value='')))"
      ]
     },
     "metadata": {},
     "output_type": "display_data"
    },
    {
     "name": "stdout",
     "output_type": "stream",
     "text": [
      "[SOKOBAN] Runtime Error/Warning: Not enough free spots (#3) to place 1 player and 2 boxes.\n",
      "[SOKOBAN] Retry . . .\n",
      "\n",
      "Episode 2200 Epsilon 0.300 Learning Rate 0.000701 Solved: 16\n",
      "1 | 10\n",
      "4 | 20\n",
      "6 | 30\n",
      "[SOKOBAN] Runtime Error/Warning: Not enough free spots (#3) to place 1 player and 2 boxes.\n",
      "[SOKOBAN] Retry . . .\n",
      "8 | 40\n",
      "11 | 50\n",
      "15 | 60\n",
      "18 | 70\n",
      "22 | 80\n",
      "26 | 90\n",
      "28 | 100\n"
     ]
    },
    {
     "data": {
      "application/vnd.jupyter.widget-view+json": {
       "model_id": "37c06b0a8f774645a425ca813aea6620",
       "version_major": 2,
       "version_minor": 0
      },
      "text/plain": [
       "HBox(children=(FloatProgress(value=0.0), HTML(value='')))"
      ]
     },
     "metadata": {},
     "output_type": "display_data"
    },
    {
     "name": "stdout",
     "output_type": "stream",
     "text": [
      "[SOKOBAN] Runtime Error/Warning: Not enough free spots (#3) to place 1 player and 2 boxes.\n",
      "[SOKOBAN] Retry . . .\n",
      "\n",
      "Episode 2300 Epsilon 0.300 Learning Rate 0.000690 Solved: 20\n",
      "1 | 10\n",
      "3 | 20\n",
      "5 | 30\n",
      "10 | 40\n",
      "13 | 50\n",
      "[SOKOBAN] Runtime Error/Warning: Not enough free spots (#3) to place 1 player and 2 boxes.\n",
      "[SOKOBAN] Retry . . .\n",
      "16 | 60\n",
      "[SOKOBAN] Runtime Error/Warning: Generated Model with score == 0\n",
      "[SOKOBAN] Retry . . .\n",
      "20 | 70\n",
      "21 | 80\n",
      "25 | 90\n",
      "28 | 100\n"
     ]
    },
    {
     "data": {
      "application/vnd.jupyter.widget-view+json": {
       "model_id": "575c61539db346a7acd553f2a1c306ee",
       "version_major": 2,
       "version_minor": 0
      },
      "text/plain": [
       "HBox(children=(FloatProgress(value=0.0), HTML(value='')))"
      ]
     },
     "metadata": {},
     "output_type": "display_data"
    },
    {
     "name": "stdout",
     "output_type": "stream",
     "text": [
      "[SOKOBAN] Runtime Error/Warning: Not enough free spots (#3) to place 1 player and 2 boxes.\n",
      "[SOKOBAN] Retry . . .\n",
      "\n",
      "Episode 2400 Epsilon 0.300 Learning Rate 0.000679 Solved: 29\n",
      "3 | 10\n",
      "6 | 20\n",
      "9 | 30\n",
      "13 | 40\n",
      "15 | 50\n",
      "16 | 60\n",
      "16 | 70\n",
      "22 | 80\n",
      "27 | 90\n",
      "[SOKOBAN] Runtime Error/Warning: Not enough free spots (#3) to place 1 player and 2 boxes.\n",
      "[SOKOBAN] Retry . . .\n",
      "33 | 100\n"
     ]
    },
    {
     "data": {
      "application/vnd.jupyter.widget-view+json": {
       "model_id": "6c2ab4a5fb584980b21da94e5ca0c485",
       "version_major": 2,
       "version_minor": 0
      },
      "text/plain": [
       "HBox(children=(FloatProgress(value=0.0), HTML(value='')))"
      ]
     },
     "metadata": {},
     "output_type": "display_data"
    },
    {
     "name": "stdout",
     "output_type": "stream",
     "text": [
      "[SOKOBAN] Runtime Error/Warning: Not enough free spots (#3) to place 1 player and 2 boxes.\n",
      "[SOKOBAN] Retry . . .\n",
      "\n",
      "Episode 2500 Epsilon 0.300 Learning Rate 0.000669 Solved: 30\n",
      "4 | 10\n",
      "8 | 20\n",
      "[SOKOBAN] Runtime Error/Warning: Not enough free spots (#3) to place 1 player and 2 boxes.\n",
      "[SOKOBAN] Retry . . .\n",
      "13 | 30\n",
      "15 | 40\n",
      "17 | 50\n",
      "21 | 60\n",
      "23 | 70\n",
      "27 | 80\n",
      "29 | 90\n",
      "32 | 100\n"
     ]
    },
    {
     "data": {
      "application/vnd.jupyter.widget-view+json": {
       "model_id": "daa9e16ef4cd4ae8a9a330fb686a1a7d",
       "version_major": 2,
       "version_minor": 0
      },
      "text/plain": [
       "HBox(children=(FloatProgress(value=0.0), HTML(value='')))"
      ]
     },
     "metadata": {},
     "output_type": "display_data"
    },
    {
     "name": "stdout",
     "output_type": "stream",
     "text": [
      "[SOKOBAN] Runtime Error/Warning: Not enough free spots (#3) to place 1 player and 2 boxes.\n",
      "[SOKOBAN] Retry . . .\n",
      "\n",
      "Episode 2600 Epsilon 0.300 Learning Rate 0.000659 Solved: 12\n",
      "5 | 10\n",
      "7 | 20\n",
      "11 | 30\n",
      "13 | 40\n",
      "15 | 50\n",
      "18 | 60\n",
      "20 | 70\n",
      "23 | 80\n",
      "26 | 90\n",
      "29 | 100\n"
     ]
    },
    {
     "data": {
      "application/vnd.jupyter.widget-view+json": {
       "model_id": "da10776f445f4087888383709e415230",
       "version_major": 2,
       "version_minor": 0
      },
      "text/plain": [
       "HBox(children=(FloatProgress(value=0.0), HTML(value='')))"
      ]
     },
     "metadata": {},
     "output_type": "display_data"
    },
    {
     "name": "stdout",
     "output_type": "stream",
     "text": [
      "[SOKOBAN] Runtime Error/Warning: Not enough free spots (#3) to place 1 player and 2 boxes.\n",
      "[SOKOBAN] Retry . . .\n",
      "\n",
      "Episode 2700 Epsilon 0.300 Learning Rate 0.000649 Solved: 24\n",
      "3 | 10\n",
      "5 | 20\n",
      "8 | 30\n",
      "12 | 40\n",
      "14 | 50\n",
      "[SOKOBAN] Runtime Error/Warning: Generated Model with score == 0\n",
      "[SOKOBAN] Retry . . .\n",
      "19 | 60\n",
      "26 | 70\n",
      "29 | 80\n",
      "30 | 90\n",
      "[SOKOBAN] Runtime Error/Warning: Not enough free spots (#3) to place 1 player and 2 boxes.\n",
      "[SOKOBAN] Retry . . .\n",
      "35 | 100\n"
     ]
    },
    {
     "data": {
      "application/vnd.jupyter.widget-view+json": {
       "model_id": "e86a118c4a594e8ca804b654b2e7d5f6",
       "version_major": 2,
       "version_minor": 0
      },
      "text/plain": [
       "HBox(children=(FloatProgress(value=0.0), HTML(value='')))"
      ]
     },
     "metadata": {},
     "output_type": "display_data"
    },
    {
     "name": "stdout",
     "output_type": "stream",
     "text": [
      "[SOKOBAN] Runtime Error/Warning: Not enough free spots (#3) to place 1 player and 2 boxes.\n",
      "[SOKOBAN] Retry . . .\n",
      "\n",
      "Episode 2800 Epsilon 0.300 Learning Rate 0.000640 Solved: 18\n",
      "2 | 10\n",
      "5 | 20\n",
      "7 | 30\n",
      "[SOKOBAN] Runtime Error/Warning: Not enough free spots (#3) to place 1 player and 2 boxes.\n",
      "[SOKOBAN] Retry . . .\n",
      "10 | 40\n",
      "13 | 50\n",
      "16 | 60\n",
      "18 | 70\n",
      "24 | 80\n",
      "28 | 90\n",
      "32 | 100\n"
     ]
    },
    {
     "data": {
      "application/vnd.jupyter.widget-view+json": {
       "model_id": "3c00161f552f4854afb4b64fb176426e",
       "version_major": 2,
       "version_minor": 0
      },
      "text/plain": [
       "HBox(children=(FloatProgress(value=0.0), HTML(value='')))"
      ]
     },
     "metadata": {},
     "output_type": "display_data"
    },
    {
     "name": "stdout",
     "output_type": "stream",
     "text": [
      "[SOKOBAN] Runtime Error/Warning: Not enough free spots (#3) to place 1 player and 2 boxes.\n",
      "[SOKOBAN] Retry . . .\n",
      "\n",
      "Episode 2900 Epsilon 0.300 Learning Rate 0.000630 Solved: 26\n",
      "1 | 10\n",
      "5 | 20\n",
      "9 | 30\n",
      "10 | 40\n",
      "13 | 50\n",
      "18 | 60\n",
      "24 | 70\n",
      "27 | 80\n",
      "29 | 90\n",
      "32 | 100\n"
     ]
    },
    {
     "data": {
      "application/vnd.jupyter.widget-view+json": {
       "model_id": "10aa632cc6ed4a48b0ef9c5891c256a7",
       "version_major": 2,
       "version_minor": 0
      },
      "text/plain": [
       "HBox(children=(FloatProgress(value=0.0), HTML(value='')))"
      ]
     },
     "metadata": {},
     "output_type": "display_data"
    },
    {
     "name": "stdout",
     "output_type": "stream",
     "text": [
      "[SOKOBAN] Runtime Error/Warning: Not enough free spots (#3) to place 1 player and 2 boxes.\n",
      "[SOKOBAN] Retry . . .\n",
      "\n",
      "Episode 3000 Epsilon 0.300 Learning Rate 0.000620 Solved: 19\n",
      "6 | 10\n",
      "10 | 20\n",
      "14 | 30\n",
      "[SOKOBAN] Runtime Error/Warning: Generated Model with score == 0\n",
      "[SOKOBAN] Retry . . .\n",
      "19 | 40\n",
      "22 | 50\n",
      "26 | 60\n",
      "28 | 70\n",
      "31 | 80\n",
      "[SOKOBAN] Runtime Error/Warning: Not enough free spots (#3) to place 1 player and 2 boxes.\n",
      "[SOKOBAN] Retry . . .\n",
      "34 | 90\n",
      "37 | 100\n"
     ]
    },
    {
     "data": {
      "application/vnd.jupyter.widget-view+json": {
       "model_id": "b5949eaec586469786d1b1f8e851b0a3",
       "version_major": 2,
       "version_minor": 0
      },
      "text/plain": [
       "HBox(children=(FloatProgress(value=0.0), HTML(value='')))"
      ]
     },
     "metadata": {},
     "output_type": "display_data"
    },
    {
     "name": "stdout",
     "output_type": "stream",
     "text": [
      "[SOKOBAN] Runtime Error/Warning: Not enough free spots (#3) to place 1 player and 2 boxes.\n",
      "[SOKOBAN] Retry . . .\n",
      "\n",
      "Episode 3100 Epsilon 0.300 Learning Rate 0.000612 Solved: 25\n",
      "2 | 10\n",
      "7 | 20\n",
      "11 | 30\n",
      "14 | 40\n",
      "17 | 50\n",
      "21 | 60\n",
      "24 | 70\n",
      "28 | 80\n",
      "32 | 90\n",
      "[SOKOBAN] Runtime Error/Warning: Not enough free spots (#3) to place 1 player and 2 boxes.\n",
      "[SOKOBAN] Retry . . .\n",
      "35 | 100\n"
     ]
    },
    {
     "data": {
      "application/vnd.jupyter.widget-view+json": {
       "model_id": "40f247c23e6e4a3abcc47dd9a18489cd",
       "version_major": 2,
       "version_minor": 0
      },
      "text/plain": [
       "HBox(children=(FloatProgress(value=0.0), HTML(value='')))"
      ]
     },
     "metadata": {},
     "output_type": "display_data"
    },
    {
     "name": "stdout",
     "output_type": "stream",
     "text": [
      "[SOKOBAN] Runtime Error/Warning: Not enough free spots (#3) to place 1 player and 2 boxes.\n",
      "[SOKOBAN] Retry . . .\n",
      "\n",
      "Episode 3200 Epsilon 0.300 Learning Rate 0.000603 Solved: 12\n",
      "1 | 10\n",
      "2 | 20\n",
      "4 | 30\n",
      "6 | 40\n",
      "[SOKOBAN] Runtime Error/Warning: Generated Model with score == 0\n",
      "[SOKOBAN] Retry . . .\n",
      "11 | 50\n",
      "13 | 60\n",
      "16 | 70\n",
      "19 | 80\n",
      "21 | 90\n",
      "[SOKOBAN] Runtime Error/Warning: Generated Model with score == 0\n",
      "[SOKOBAN] Retry . . .\n",
      "23 | 100\n"
     ]
    },
    {
     "data": {
      "application/vnd.jupyter.widget-view+json": {
       "model_id": "33dce113ae1b43d2b0801311e49749c8",
       "version_major": 2,
       "version_minor": 0
      },
      "text/plain": [
       "HBox(children=(FloatProgress(value=0.0), HTML(value='')))"
      ]
     },
     "metadata": {},
     "output_type": "display_data"
    },
    {
     "name": "stdout",
     "output_type": "stream",
     "text": [
      "[SOKOBAN] Runtime Error/Warning: Not enough free spots (#3) to place 1 player and 2 boxes.\n",
      "[SOKOBAN] Retry . . .\n",
      "\n",
      "Episode 3300 Epsilon 0.300 Learning Rate 0.000593 Solved: 14\n",
      "2 | 10\n"
     ]
    },
    {
     "ename": "KeyboardInterrupt",
     "evalue": "",
     "output_type": "error",
     "traceback": [
      "\u001b[1;31m---------------------------------------------------------------------------\u001b[0m",
      "\u001b[1;31mKeyboardInterrupt\u001b[0m                         Traceback (most recent call last)",
      "\u001b[1;32m<ipython-input-13-57f941533b26>\u001b[0m in \u001b[0;36m<module>\u001b[1;34m\u001b[0m\n\u001b[0;32m     41\u001b[0m \u001b[1;33m\u001b[0m\u001b[0m\n\u001b[0;32m     42\u001b[0m         \u001b[1;32mif\u001b[0m \u001b[1;33m(\u001b[0m\u001b[0mstep\u001b[0m\u001b[1;33m+\u001b[0m\u001b[1;36m1\u001b[0m\u001b[1;33m)\u001b[0m \u001b[1;33m%\u001b[0m \u001b[0magent\u001b[0m\u001b[1;33m.\u001b[0m\u001b[0mreplay_rate\u001b[0m \u001b[1;33m==\u001b[0m \u001b[1;36m0\u001b[0m\u001b[1;33m:\u001b[0m\u001b[1;33m\u001b[0m\u001b[1;33m\u001b[0m\u001b[0m\n\u001b[1;32m---> 43\u001b[1;33m             \u001b[0magent\u001b[0m\u001b[1;33m.\u001b[0m\u001b[0mreplay\u001b[0m\u001b[1;33m(\u001b[0m\u001b[1;33m)\u001b[0m\u001b[1;33m\u001b[0m\u001b[1;33m\u001b[0m\u001b[0m\n\u001b[0m\u001b[0;32m     44\u001b[0m \u001b[1;33m\u001b[0m\u001b[0m\n\u001b[0;32m     45\u001b[0m         \u001b[1;32mif\u001b[0m \u001b[0mdone\u001b[0m\u001b[1;33m:\u001b[0m\u001b[1;33m\u001b[0m\u001b[1;33m\u001b[0m\u001b[0m\n",
      "\u001b[1;32m<ipython-input-9-99567a8e0d0e>\u001b[0m in \u001b[0;36mreplay\u001b[1;34m(self)\u001b[0m\n\u001b[0;32m    107\u001b[0m             \u001b[0mind\u001b[0m \u001b[1;33m+=\u001b[0m \u001b[1;36m1\u001b[0m\u001b[1;33m\u001b[0m\u001b[1;33m\u001b[0m\u001b[0m\n\u001b[0;32m    108\u001b[0m \u001b[1;33m\u001b[0m\u001b[0m\n\u001b[1;32m--> 109\u001b[1;33m         \u001b[0mself\u001b[0m\u001b[1;33m.\u001b[0m\u001b[0mmodel\u001b[0m\u001b[1;33m.\u001b[0m\u001b[0mfit\u001b[0m\u001b[1;33m(\u001b[0m\u001b[0mstates\u001b[0m\u001b[1;33m,\u001b[0m \u001b[0mtargets\u001b[0m\u001b[1;33m,\u001b[0m \u001b[0mepochs\u001b[0m\u001b[1;33m=\u001b[0m\u001b[1;36m10\u001b[0m\u001b[1;33m,\u001b[0m \u001b[0mverbose\u001b[0m\u001b[1;33m=\u001b[0m\u001b[1;36m0\u001b[0m\u001b[1;33m)\u001b[0m\u001b[1;33m\u001b[0m\u001b[1;33m\u001b[0m\u001b[0m\n\u001b[0m\u001b[0;32m    110\u001b[0m \u001b[1;33m\u001b[0m\u001b[0m\n\u001b[0;32m    111\u001b[0m         \u001b[0mself\u001b[0m\u001b[1;33m.\u001b[0m\u001b[0mupdate_target_model\u001b[0m\u001b[1;33m(\u001b[0m\u001b[1;33m)\u001b[0m\u001b[1;33m\u001b[0m\u001b[1;33m\u001b[0m\u001b[0m\n",
      "\u001b[1;32m~\\anaconda3\\lib\\site-packages\\keras\\utils\\traceback_utils.py\u001b[0m in \u001b[0;36merror_handler\u001b[1;34m(*args, **kwargs)\u001b[0m\n\u001b[0;32m     62\u001b[0m     \u001b[0mfiltered_tb\u001b[0m \u001b[1;33m=\u001b[0m \u001b[1;32mNone\u001b[0m\u001b[1;33m\u001b[0m\u001b[1;33m\u001b[0m\u001b[0m\n\u001b[0;32m     63\u001b[0m     \u001b[1;32mtry\u001b[0m\u001b[1;33m:\u001b[0m\u001b[1;33m\u001b[0m\u001b[1;33m\u001b[0m\u001b[0m\n\u001b[1;32m---> 64\u001b[1;33m       \u001b[1;32mreturn\u001b[0m \u001b[0mfn\u001b[0m\u001b[1;33m(\u001b[0m\u001b[1;33m*\u001b[0m\u001b[0margs\u001b[0m\u001b[1;33m,\u001b[0m \u001b[1;33m**\u001b[0m\u001b[0mkwargs\u001b[0m\u001b[1;33m)\u001b[0m\u001b[1;33m\u001b[0m\u001b[1;33m\u001b[0m\u001b[0m\n\u001b[0m\u001b[0;32m     65\u001b[0m     \u001b[1;32mexcept\u001b[0m \u001b[0mException\u001b[0m \u001b[1;32mas\u001b[0m \u001b[0me\u001b[0m\u001b[1;33m:\u001b[0m  \u001b[1;31m# pylint: disable=broad-except\u001b[0m\u001b[1;33m\u001b[0m\u001b[1;33m\u001b[0m\u001b[0m\n\u001b[0;32m     66\u001b[0m       \u001b[0mfiltered_tb\u001b[0m \u001b[1;33m=\u001b[0m \u001b[0m_process_traceback_frames\u001b[0m\u001b[1;33m(\u001b[0m\u001b[0me\u001b[0m\u001b[1;33m.\u001b[0m\u001b[0m__traceback__\u001b[0m\u001b[1;33m)\u001b[0m\u001b[1;33m\u001b[0m\u001b[1;33m\u001b[0m\u001b[0m\n",
      "\u001b[1;32m~\\anaconda3\\lib\\site-packages\\keras\\engine\\training.py\u001b[0m in \u001b[0;36mfit\u001b[1;34m(self, x, y, batch_size, epochs, verbose, callbacks, validation_split, validation_data, shuffle, class_weight, sample_weight, initial_epoch, steps_per_epoch, validation_steps, validation_batch_size, validation_freq, max_queue_size, workers, use_multiprocessing)\u001b[0m\n\u001b[0;32m   1214\u001b[0m                 _r=1):\n\u001b[0;32m   1215\u001b[0m               \u001b[0mcallbacks\u001b[0m\u001b[1;33m.\u001b[0m\u001b[0mon_train_batch_begin\u001b[0m\u001b[1;33m(\u001b[0m\u001b[0mstep\u001b[0m\u001b[1;33m)\u001b[0m\u001b[1;33m\u001b[0m\u001b[1;33m\u001b[0m\u001b[0m\n\u001b[1;32m-> 1216\u001b[1;33m               \u001b[0mtmp_logs\u001b[0m \u001b[1;33m=\u001b[0m \u001b[0mself\u001b[0m\u001b[1;33m.\u001b[0m\u001b[0mtrain_function\u001b[0m\u001b[1;33m(\u001b[0m\u001b[0miterator\u001b[0m\u001b[1;33m)\u001b[0m\u001b[1;33m\u001b[0m\u001b[1;33m\u001b[0m\u001b[0m\n\u001b[0m\u001b[0;32m   1217\u001b[0m               \u001b[1;32mif\u001b[0m \u001b[0mdata_handler\u001b[0m\u001b[1;33m.\u001b[0m\u001b[0mshould_sync\u001b[0m\u001b[1;33m:\u001b[0m\u001b[1;33m\u001b[0m\u001b[1;33m\u001b[0m\u001b[0m\n\u001b[0;32m   1218\u001b[0m                 \u001b[0mcontext\u001b[0m\u001b[1;33m.\u001b[0m\u001b[0masync_wait\u001b[0m\u001b[1;33m(\u001b[0m\u001b[1;33m)\u001b[0m\u001b[1;33m\u001b[0m\u001b[1;33m\u001b[0m\u001b[0m\n",
      "\u001b[1;32m~\\anaconda3\\lib\\site-packages\\tensorflow\\python\\util\\traceback_utils.py\u001b[0m in \u001b[0;36merror_handler\u001b[1;34m(*args, **kwargs)\u001b[0m\n\u001b[0;32m    148\u001b[0m     \u001b[0mfiltered_tb\u001b[0m \u001b[1;33m=\u001b[0m \u001b[1;32mNone\u001b[0m\u001b[1;33m\u001b[0m\u001b[1;33m\u001b[0m\u001b[0m\n\u001b[0;32m    149\u001b[0m     \u001b[1;32mtry\u001b[0m\u001b[1;33m:\u001b[0m\u001b[1;33m\u001b[0m\u001b[1;33m\u001b[0m\u001b[0m\n\u001b[1;32m--> 150\u001b[1;33m       \u001b[1;32mreturn\u001b[0m \u001b[0mfn\u001b[0m\u001b[1;33m(\u001b[0m\u001b[1;33m*\u001b[0m\u001b[0margs\u001b[0m\u001b[1;33m,\u001b[0m \u001b[1;33m**\u001b[0m\u001b[0mkwargs\u001b[0m\u001b[1;33m)\u001b[0m\u001b[1;33m\u001b[0m\u001b[1;33m\u001b[0m\u001b[0m\n\u001b[0m\u001b[0;32m    151\u001b[0m     \u001b[1;32mexcept\u001b[0m \u001b[0mException\u001b[0m \u001b[1;32mas\u001b[0m \u001b[0me\u001b[0m\u001b[1;33m:\u001b[0m\u001b[1;33m\u001b[0m\u001b[1;33m\u001b[0m\u001b[0m\n\u001b[0;32m    152\u001b[0m       \u001b[0mfiltered_tb\u001b[0m \u001b[1;33m=\u001b[0m \u001b[0m_process_traceback_frames\u001b[0m\u001b[1;33m(\u001b[0m\u001b[0me\u001b[0m\u001b[1;33m.\u001b[0m\u001b[0m__traceback__\u001b[0m\u001b[1;33m)\u001b[0m\u001b[1;33m\u001b[0m\u001b[1;33m\u001b[0m\u001b[0m\n",
      "\u001b[1;32m~\\anaconda3\\lib\\site-packages\\tensorflow\\python\\eager\\def_function.py\u001b[0m in \u001b[0;36m__call__\u001b[1;34m(self, *args, **kwds)\u001b[0m\n\u001b[0;32m    908\u001b[0m \u001b[1;33m\u001b[0m\u001b[0m\n\u001b[0;32m    909\u001b[0m       \u001b[1;32mwith\u001b[0m \u001b[0mOptionalXlaContext\u001b[0m\u001b[1;33m(\u001b[0m\u001b[0mself\u001b[0m\u001b[1;33m.\u001b[0m\u001b[0m_jit_compile\u001b[0m\u001b[1;33m)\u001b[0m\u001b[1;33m:\u001b[0m\u001b[1;33m\u001b[0m\u001b[1;33m\u001b[0m\u001b[0m\n\u001b[1;32m--> 910\u001b[1;33m         \u001b[0mresult\u001b[0m \u001b[1;33m=\u001b[0m \u001b[0mself\u001b[0m\u001b[1;33m.\u001b[0m\u001b[0m_call\u001b[0m\u001b[1;33m(\u001b[0m\u001b[1;33m*\u001b[0m\u001b[0margs\u001b[0m\u001b[1;33m,\u001b[0m \u001b[1;33m**\u001b[0m\u001b[0mkwds\u001b[0m\u001b[1;33m)\u001b[0m\u001b[1;33m\u001b[0m\u001b[1;33m\u001b[0m\u001b[0m\n\u001b[0m\u001b[0;32m    911\u001b[0m \u001b[1;33m\u001b[0m\u001b[0m\n\u001b[0;32m    912\u001b[0m       \u001b[0mnew_tracing_count\u001b[0m \u001b[1;33m=\u001b[0m \u001b[0mself\u001b[0m\u001b[1;33m.\u001b[0m\u001b[0mexperimental_get_tracing_count\u001b[0m\u001b[1;33m(\u001b[0m\u001b[1;33m)\u001b[0m\u001b[1;33m\u001b[0m\u001b[1;33m\u001b[0m\u001b[0m\n",
      "\u001b[1;32m~\\anaconda3\\lib\\site-packages\\tensorflow\\python\\eager\\def_function.py\u001b[0m in \u001b[0;36m_call\u001b[1;34m(self, *args, **kwds)\u001b[0m\n\u001b[0;32m    940\u001b[0m       \u001b[1;31m# In this case we have created variables on the first call, so we run the\u001b[0m\u001b[1;33m\u001b[0m\u001b[1;33m\u001b[0m\u001b[1;33m\u001b[0m\u001b[0m\n\u001b[0;32m    941\u001b[0m       \u001b[1;31m# defunned version which is guaranteed to never create variables.\u001b[0m\u001b[1;33m\u001b[0m\u001b[1;33m\u001b[0m\u001b[1;33m\u001b[0m\u001b[0m\n\u001b[1;32m--> 942\u001b[1;33m       \u001b[1;32mreturn\u001b[0m \u001b[0mself\u001b[0m\u001b[1;33m.\u001b[0m\u001b[0m_stateless_fn\u001b[0m\u001b[1;33m(\u001b[0m\u001b[1;33m*\u001b[0m\u001b[0margs\u001b[0m\u001b[1;33m,\u001b[0m \u001b[1;33m**\u001b[0m\u001b[0mkwds\u001b[0m\u001b[1;33m)\u001b[0m  \u001b[1;31m# pylint: disable=not-callable\u001b[0m\u001b[1;33m\u001b[0m\u001b[1;33m\u001b[0m\u001b[0m\n\u001b[0m\u001b[0;32m    943\u001b[0m     \u001b[1;32melif\u001b[0m \u001b[0mself\u001b[0m\u001b[1;33m.\u001b[0m\u001b[0m_stateful_fn\u001b[0m \u001b[1;32mis\u001b[0m \u001b[1;32mnot\u001b[0m \u001b[1;32mNone\u001b[0m\u001b[1;33m:\u001b[0m\u001b[1;33m\u001b[0m\u001b[1;33m\u001b[0m\u001b[0m\n\u001b[0;32m    944\u001b[0m       \u001b[1;31m# Release the lock early so that multiple threads can perform the call\u001b[0m\u001b[1;33m\u001b[0m\u001b[1;33m\u001b[0m\u001b[1;33m\u001b[0m\u001b[0m\n",
      "\u001b[1;32m~\\anaconda3\\lib\\site-packages\\tensorflow\\python\\eager\\function.py\u001b[0m in \u001b[0;36m__call__\u001b[1;34m(self, *args, **kwargs)\u001b[0m\n\u001b[0;32m   3128\u001b[0m       (graph_function,\n\u001b[0;32m   3129\u001b[0m        filtered_flat_args) = self._maybe_define_function(args, kwargs)\n\u001b[1;32m-> 3130\u001b[1;33m     return graph_function._call_flat(\n\u001b[0m\u001b[0;32m   3131\u001b[0m         filtered_flat_args, captured_inputs=graph_function.captured_inputs)  # pylint: disable=protected-access\n\u001b[0;32m   3132\u001b[0m \u001b[1;33m\u001b[0m\u001b[0m\n",
      "\u001b[1;32m~\\anaconda3\\lib\\site-packages\\tensorflow\\python\\eager\\function.py\u001b[0m in \u001b[0;36m_call_flat\u001b[1;34m(self, args, captured_inputs, cancellation_manager)\u001b[0m\n\u001b[0;32m   1957\u001b[0m         and executing_eagerly):\n\u001b[0;32m   1958\u001b[0m       \u001b[1;31m# No tape is watching; skip to running the function.\u001b[0m\u001b[1;33m\u001b[0m\u001b[1;33m\u001b[0m\u001b[1;33m\u001b[0m\u001b[0m\n\u001b[1;32m-> 1959\u001b[1;33m       return self._build_call_outputs(self._inference_function.call(\n\u001b[0m\u001b[0;32m   1960\u001b[0m           ctx, args, cancellation_manager=cancellation_manager))\n\u001b[0;32m   1961\u001b[0m     forward_backward = self._select_forward_and_backward_functions(\n",
      "\u001b[1;32m~\\anaconda3\\lib\\site-packages\\tensorflow\\python\\eager\\function.py\u001b[0m in \u001b[0;36mcall\u001b[1;34m(self, ctx, args, cancellation_manager)\u001b[0m\n\u001b[0;32m    596\u001b[0m       \u001b[1;32mwith\u001b[0m \u001b[0m_InterpolateFunctionError\u001b[0m\u001b[1;33m(\u001b[0m\u001b[0mself\u001b[0m\u001b[1;33m)\u001b[0m\u001b[1;33m:\u001b[0m\u001b[1;33m\u001b[0m\u001b[1;33m\u001b[0m\u001b[0m\n\u001b[0;32m    597\u001b[0m         \u001b[1;32mif\u001b[0m \u001b[0mcancellation_manager\u001b[0m \u001b[1;32mis\u001b[0m \u001b[1;32mNone\u001b[0m\u001b[1;33m:\u001b[0m\u001b[1;33m\u001b[0m\u001b[1;33m\u001b[0m\u001b[0m\n\u001b[1;32m--> 598\u001b[1;33m           outputs = execute.execute(\n\u001b[0m\u001b[0;32m    599\u001b[0m               \u001b[0mstr\u001b[0m\u001b[1;33m(\u001b[0m\u001b[0mself\u001b[0m\u001b[1;33m.\u001b[0m\u001b[0msignature\u001b[0m\u001b[1;33m.\u001b[0m\u001b[0mname\u001b[0m\u001b[1;33m)\u001b[0m\u001b[1;33m,\u001b[0m\u001b[1;33m\u001b[0m\u001b[1;33m\u001b[0m\u001b[0m\n\u001b[0;32m    600\u001b[0m               \u001b[0mnum_outputs\u001b[0m\u001b[1;33m=\u001b[0m\u001b[0mself\u001b[0m\u001b[1;33m.\u001b[0m\u001b[0m_num_outputs\u001b[0m\u001b[1;33m,\u001b[0m\u001b[1;33m\u001b[0m\u001b[1;33m\u001b[0m\u001b[0m\n",
      "\u001b[1;32m~\\anaconda3\\lib\\site-packages\\tensorflow\\python\\eager\\execute.py\u001b[0m in \u001b[0;36mquick_execute\u001b[1;34m(op_name, num_outputs, inputs, attrs, ctx, name)\u001b[0m\n\u001b[0;32m     56\u001b[0m   \u001b[1;32mtry\u001b[0m\u001b[1;33m:\u001b[0m\u001b[1;33m\u001b[0m\u001b[1;33m\u001b[0m\u001b[0m\n\u001b[0;32m     57\u001b[0m     \u001b[0mctx\u001b[0m\u001b[1;33m.\u001b[0m\u001b[0mensure_initialized\u001b[0m\u001b[1;33m(\u001b[0m\u001b[1;33m)\u001b[0m\u001b[1;33m\u001b[0m\u001b[1;33m\u001b[0m\u001b[0m\n\u001b[1;32m---> 58\u001b[1;33m     tensors = pywrap_tfe.TFE_Py_Execute(ctx._handle, device_name, op_name,\n\u001b[0m\u001b[0;32m     59\u001b[0m                                         inputs, attrs, num_outputs)\n\u001b[0;32m     60\u001b[0m   \u001b[1;32mexcept\u001b[0m \u001b[0mcore\u001b[0m\u001b[1;33m.\u001b[0m\u001b[0m_NotOkStatusException\u001b[0m \u001b[1;32mas\u001b[0m \u001b[0me\u001b[0m\u001b[1;33m:\u001b[0m\u001b[1;33m\u001b[0m\u001b[1;33m\u001b[0m\u001b[0m\n",
      "\u001b[1;31mKeyboardInterrupt\u001b[0m: "
     ]
    }
   ],
   "source": [
    "agent = SOK_Agent()\n",
    "agent.load('models\\Q3_04A_23.h5')\n",
    "agent.epsilon = 0.3\n",
    "\n",
    "running_puzzles = 0\n",
    "running_solved = 0\n",
    "solved_in_train = []\n",
    "solved_in_test = []\n",
    "test_record = 0\n",
    "\n",
    "for e in range(max_episodes):\n",
    "    sok = init_sok(e+100)\n",
    "    random.seed(e)\n",
    "    running_puzzles += 1\n",
    "    \n",
    "    state = process_frame(sok.get_image('rgb_array'))\n",
    "    room_state = sok.room_state.copy() \n",
    "    maze_info = get_maze_info(room_state)\n",
    "    \n",
    "    for step in range(sok.max_steps):\n",
    "        action = agent.act(state)\n",
    "        if action < 4:\n",
    "            next_state, reward, done, _ = sok.step(action+1) \n",
    "        else:\n",
    "            next_state, reward, done, _ = sok.step(action+5)         \n",
    "        \n",
    "        next_state = process_frame(next_state)        \n",
    "        next_room_state = sok.room_state\n",
    "        \n",
    "        if reward <= -1.0:\n",
    "            reward = -10.0\n",
    "        elif reward >= 1.0:\n",
    "            reward = 10.0\n",
    "        elif not done:\n",
    "            reward += box2target_change_reward(room_state, next_room_state, maze_info)\n",
    "        \n",
    "        agent.remember(state, action, reward, next_state, done)\n",
    "        \n",
    "        state = next_state.copy() \n",
    "        room_state = next_room_state.copy()                \n",
    "        \n",
    "        if (step+1) % agent.replay_rate == 0:\n",
    "            agent.replay()            \n",
    "        \n",
    "        if done: \n",
    "            if sok.boxes_on_target == 2:  \n",
    "                agent.copy_to_prioritized_buffer(step+1)  \n",
    "                running_solved += 1\n",
    "                \n",
    "            if (e+1) % 10 == 0 and e > 0:\n",
    "                print(f\"{running_solved} | {running_puzzles}\") \n",
    "\n",
    "                if (e+1) % 100 == 0:\n",
    "                    solved_in_train.append(running_solved)\n",
    "                    running_puzzles = 0\n",
    "                    running_solved = 0\n",
    "                    \n",
    "            break\n",
    "            \n",
    "    if (e+1) % 100 == 0 and e > 0:\n",
    "        solved_tests, test_record = test_agent(e, test_record, stochastic=False) \n",
    "        solved_in_test.append(solved_tests)"
   ]
  },
  {
   "cell_type": "code",
   "execution_count": null,
   "metadata": {},
   "outputs": [],
   "source": []
  },
  {
   "cell_type": "code",
   "execution_count": null,
   "metadata": {},
   "outputs": [],
   "source": []
  },
  {
   "cell_type": "code",
   "execution_count": null,
   "metadata": {},
   "outputs": [],
   "source": [
    "# check what agent solves\n",
    "# check rewards"
   ]
  },
  {
   "cell_type": "code",
   "execution_count": null,
   "metadata": {},
   "outputs": [],
   "source": []
  },
  {
   "cell_type": "code",
   "execution_count": null,
   "metadata": {},
   "outputs": [],
   "source": []
  },
  {
   "cell_type": "code",
   "execution_count": 16,
   "metadata": {},
   "outputs": [
    {
     "name": "stdout",
     "output_type": "stream",
     "text": [
      "Solved 0 Steps 11\n",
      "Solved 4 Steps 4\n",
      "Solved 6 Steps 4\n",
      "Solved 7 Steps 4\n",
      "Solved 11 Steps 3\n",
      "Solved 14 Steps 3\n",
      "Solved 20 Steps 4\n",
      "Solved 22 Steps 9\n",
      "Solved 25 Steps 3\n",
      "Solved 35 Steps 4\n",
      "Solved 37 Steps 4\n",
      "Solved 41 Steps 8\n",
      "Solved 43 Steps 8\n",
      "Solved 48 Steps 9\n",
      "Solved 52 Steps 6\n",
      "Solved 53 Steps 4\n",
      "Solved 54 Steps 3\n",
      "Solved 57 Steps 3\n",
      "Solved 58 Steps 4\n",
      "Solved 66 Steps 3\n",
      "Solved 68 Steps 3\n",
      "Solved 74 Steps 5\n",
      "Solved 76 Steps 10\n",
      "Solved 82 Steps 3\n",
      "[SOKOBAN] Runtime Error/Warning: Not enough free spots (#3) to place 1 player and 2 boxes.\n",
      "[SOKOBAN] Retry . . .\n",
      "Solved 89 Steps 6\n",
      "Solved 93 Steps 11\n",
      "Solved 95 Steps 6\n",
      "Solved 96 Steps 6\n"
     ]
    }
   ],
   "source": [
    "agent.epsilon = 0.0\n",
    "\n",
    "for t in range(100):    \n",
    "    sok = init_sok(t)\n",
    "    steps = 0\n",
    "\n",
    "    state = sok.get_image('rgb_array')\n",
    "    done = False\n",
    "    while not done:\n",
    "        steps += 1\n",
    "        action = agent.act(process_frame(state), stochastic=False)\n",
    "        if action < 4:\n",
    "            action += 1\n",
    "        else:\n",
    "            action += 5\n",
    "        state, reward, done, info = sok.step(action)\n",
    "\n",
    "    if sok.boxes_on_target == 2:            \n",
    "        print(\"Solved %d Steps %d\" % (t, steps))"
   ]
  },
  {
   "cell_type": "code",
   "execution_count": 107,
   "metadata": {},
   "outputs": [
    {
     "data": {
      "text/plain": [
       "<matplotlib.image.AxesImage at 0x22a4c06c910>"
      ]
     },
     "execution_count": 107,
     "metadata": {},
     "output_type": "execute_result"
    },
    {
     "data": {
      "image/png": "[encoded data removed]",
      "text/plain": [
       "<Figure size 432x288 with 1 Axes>"
      ]
     },
     "metadata": {
      "needs_background": "light"
     },
     "output_type": "display_data"
    }
   ],
   "source": [
    "sok = init_sok(24)\n",
    "screen = sok.get_image('rgb_array')\n",
    "room_state = sok.room_state.copy() \n",
    "maze_info = get_maze_info(room_state)\n",
    "plt.imshow(screen)"
   ]
  },
  {
   "cell_type": "code",
   "execution_count": 128,
   "metadata": {},
   "outputs": [
    {
     "name": "stdout",
     "output_type": "stream",
     "text": [
      "[[0 0 0 0 0 0 0]\n",
      " [0 2 5 1 0 0 0]\n",
      " [0 1 4 2 0 0 0]\n",
      " [0 1 1 4 0 0 0]\n",
      " [0 1 1 0 0 0 0]\n",
      " [0 1 1 0 0 0 0]\n",
      " [0 0 0 0 0 0 0]]\n",
      "+++++++++++++++++++++++++\n",
      "[[0 0 0 0 0 0 0]\n",
      " [0 5 1 1 0 0 0]\n",
      " [0 1 4 2 0 0 0]\n",
      " [0 1 1 4 0 0 0]\n",
      " [0 1 1 0 0 0 0]\n",
      " [0 1 1 0 0 0 0]\n",
      " [0 0 0 0 0 0 0]]\n",
      "+++++++++++++++++++++++++\n",
      "-0.1\n"
     ]
    }
   ],
   "source": [
    "room_state = sok.room_state.copy()\n",
    "next_state, reward, done, _ = sok.step(3)      \n",
    "next_room_state = sok.room_state.copy()\n",
    "\n",
    "if reward <= -1.0:\n",
    "    reward = -10.0\n",
    "elif reward >= 1.0:\n",
    "    reward = 10.0\n",
    "elif not done:\n",
    "    reward += box2target_change_reward(room_state, next_room_state, maze_info)\n",
    "    \n",
    "print(room_state)\n",
    "print(\"+++++++++++++++++++++++++\")\n",
    "print(next_room_state)\n",
    "print(\"+++++++++++++++++++++++++\")\n",
    "print(reward)"
   ]
  },
  {
   "cell_type": "code",
   "execution_count": 116,
   "metadata": {},
   "outputs": [
    {
     "data": {
      "text/plain": [
       "dict_keys([-0.1, -5.1, 4.9, 5.9, 10.0, -10.0, 0.1])"
      ]
     },
     "execution_count": 116,
     "metadata": {},
     "output_type": "execute_result"
    }
   ],
   "source": [
    "check.keys()"
   ]
  },
  {
   "cell_type": "code",
   "execution_count": null,
   "metadata": {},
   "outputs": [],
   "source": []
  }
 ],
 "metadata": {
  "colab": {
   "provenance": []
  },
  "gpuClass": "standard",
  "kernelspec": {
   "display_name": "Python 3",
   "language": "python",
   "name": "python3"
  },
  "language_info": {
   "codemirror_mode": {
    "name": "ipython",
    "version": 3
   },
   "file_extension": ".py",
   "mimetype": "text/x-python",
   "name": "python",
   "nbconvert_exporter": "python",
   "pygments_lexer": "ipython3",
   "version": "3.8.3"
  }
 },
 "nbformat": 4,
 "nbformat_minor": 1
}
