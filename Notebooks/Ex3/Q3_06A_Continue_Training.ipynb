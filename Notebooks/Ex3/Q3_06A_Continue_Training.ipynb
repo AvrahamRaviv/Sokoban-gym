{
 "cells": [
  {
   "cell_type": "markdown",
   "metadata": {
    "id": "dSvjwmu3vPMR"
   },
   "source": [
    "# Final Project - Reinforcements Learning \n",
    "Hello dear students,<br> this is the template notebook. Please click on the \"File\" tab and then on \"Save a copy into drive\".\n",
    "\n",
    "---\n",
    "<br>\n",
    "\n",
    "### Name and ID:\n",
    "Student 1: Avraham Raviv, 204355390\n",
    "<br>\n",
    "Student 2: Yevgeni Berkovitch, 317079234\n",
    "<br><br>\n",
    "<img src=\"https://play-lh.googleusercontent.com/e_oKlKPISbgdzut1H9opevS7-LTB8-8lsmpCdMkhlnqFenZhpjxbLmx7l158-xQQCIY\">\n",
    "\n",
    "### https://github.com/mpSchrader/gym-sokoban"
   ]
  },
  {
   "cell_type": "markdown",
   "metadata": {
    "id": "4T3qcykHFi15"
   },
   "source": [
    "# Installs"
   ]
  },
  {
   "cell_type": "code",
   "execution_count": 1,
   "metadata": {
    "id": "2dah0RrY9Kmj"
   },
   "outputs": [],
   "source": [
    "%%capture\n",
    "!sudo apt-get update\n",
    "!sudo apt-get install -y xvfb ffmpeg freeglut3-dev\n",
    "!pip install 'imageio==2.4.0'\n",
    "!pip install gym\n",
    "!pip install pygame\n",
    "!apt-get install python-opengl -y\n",
    "!apt install xvfb -y\n",
    "!pip install pyvirtualdisplay\n",
    "!pip install piglet\n",
    "!pip install gym\n",
    "!apt-get install python-opengl -y\n",
    "!apt install xvfb -y\n",
    "!pip install gym_sokoban\n",
    "\n",
    "!imageio_download_bin ffmpeg"
   ]
  },
  {
   "cell_type": "markdown",
   "metadata": {
    "id": "yHbKbI7BwIwv"
   },
   "source": [
    "# Imports"
   ]
  },
  {
   "cell_type": "code",
   "execution_count": 2,
   "metadata": {
    "id": "1cNdWkV49OqN"
   },
   "outputs": [],
   "source": [
    "import random\n",
    "\n",
    "import numpy as np\n",
    "import matplotlib.pyplot as plt\n",
    "\n",
    "import base64\n",
    "import imageio\n",
    "from pyvirtualdisplay import Display\n",
    "from IPython.display import HTML\n",
    "\n",
    "import gym\n",
    "from gym import error, spaces, utils\n",
    "from soko_pap import *\n",
    "\n",
    "from collections import deque\n",
    "\n",
    "from keras.models import Sequential\n",
    "from keras.layers import Dense, Conv2D, Flatten\n",
    "\n",
    "import tensorflow\n",
    "from tensorflow.keras.optimizers import Adam\n",
    "from tensorflow.keras.optimizers.schedules import ExponentialDecay\n",
    "\n",
    "from tqdm.notebook import tqdm\n",
    "from collections import defaultdict"
   ]
  },
  {
   "cell_type": "code",
   "execution_count": 3,
   "metadata": {},
   "outputs": [],
   "source": [
    "%matplotlib inline"
   ]
  },
  {
   "cell_type": "code",
   "execution_count": 4,
   "metadata": {},
   "outputs": [],
   "source": [
    "imageio.plugins.ffmpeg.download()"
   ]
  },
  {
   "cell_type": "code",
   "execution_count": 5,
   "metadata": {
    "id": "pa3tRhUfzEJ4"
   },
   "outputs": [],
   "source": [
    "from gym import logger as gymlogger\n",
    "gymlogger.set_level(40) # error only"
   ]
  },
  {
   "cell_type": "code",
   "execution_count": 6,
   "metadata": {},
   "outputs": [],
   "source": [
    "import warnings\n",
    "warnings.filterwarnings('ignore')"
   ]
  },
  {
   "cell_type": "markdown",
   "metadata": {
    "id": "J7bJeRHbwMIj"
   },
   "source": [
    "# Display utils\n",
    "The cell below contains the video display configuration. No need to make changes here."
   ]
  },
  {
   "cell_type": "code",
   "execution_count": 7,
   "metadata": {
    "id": "z41WGwQt9i7_"
   },
   "outputs": [],
   "source": [
    "def embed_mp4(filename):\n",
    "    \"\"\"Embeds an mp4 file in the notebook.\"\"\"\n",
    "    video = open(filename,'rb').read()\n",
    "    b64 = base64.b64encode(video)\n",
    "    tag = '''\n",
    "    <video width=\"640\" height=\"480\" controls>\n",
    "    <source src=\"data:video/mp4;base64,{0}\" type=\"video/mp4\">\n",
    "    Your browser does not support the video tag.\n",
    "    </video>'''.format(b64.decode())\n",
    "\n",
    "    return HTML(tag)"
   ]
  },
  {
   "cell_type": "markdown",
   "metadata": {},
   "source": [
    "# Utils"
   ]
  },
  {
   "cell_type": "code",
   "execution_count": 8,
   "metadata": {},
   "outputs": [],
   "source": [
    "def get_distances_for_target(room_state, target):\n",
    "    distances = np.zeros(shape=room_state.shape)\n",
    "    visited_cells = set()\n",
    "    cell_queue = deque()\n",
    "\n",
    "    visited_cells.add(target)\n",
    "    cell_queue.appendleft(target)\n",
    "\n",
    "    while len(cell_queue) != 0:\n",
    "        cell = cell_queue.pop()\n",
    "        distance = distances[cell[0]][cell[1]]\n",
    "        for x,y in ((1,0), (-1,-0), (0,1), (0,-1)):\n",
    "            next_cell_x, next_cell_y = cell[0]+x, cell[1]+y\n",
    "            if room_state[next_cell_x][next_cell_y] != 0 and not (next_cell_x, next_cell_y) in visited_cells:\n",
    "                distances[next_cell_x][next_cell_y] = distance + 1\n",
    "                visited_cells.add((next_cell_x, next_cell_y))\n",
    "                cell_queue.appendleft((next_cell_x, next_cell_y))\n",
    "                \n",
    "    return distances\n",
    "\n",
    "def get_maze_info(room_state):\n",
    "    targets = []\n",
    "    for i in range(room_state.shape[0]):\n",
    "        for j in range(room_state.shape[1]):\n",
    "            if room_state[i][j] == 2:\n",
    "                targets.append((i, j))\n",
    "\n",
    "    distances0 = get_distances_for_target(room_state, targets[0])\n",
    "    distances1 = get_distances_for_target(room_state, targets[1])\n",
    "    common_distances = np.minimum(distances0, distances1)\n",
    "    \n",
    "    maze_info = {}\n",
    "    maze_info['target0'] = targets[0]\n",
    "    maze_info['target1'] = targets[1]\n",
    "    maze_info['distances0'] = distances0\n",
    "    maze_info['distances1'] = distances1\n",
    "    maze_info['common_distances'] = common_distances\n",
    "    return maze_info\n",
    "\n",
    "def calc_distances(room_state, distances):\n",
    "    boxes = []\n",
    "    for i in range(room_state.shape[0]):\n",
    "        for j in range(room_state.shape[1]):            \n",
    "            if room_state[i][j] == 4:\n",
    "                boxes.append((i,j))\n",
    "    if len(boxes) == 2:\n",
    "        return distances[boxes[0][0]][boxes[0][1]] + distances[boxes[1][0]][boxes[1][1]]\n",
    "    \n",
    "    return distances[boxes[0][0]][boxes[0][1]]\n",
    "\n",
    "def box2target_change_reward(room_state, next_room_state, maze_info):\n",
    "    if np.array_equal(room_state, next_room_state):\n",
    "        return -5.0\n",
    "    \n",
    "    target0 = maze_info['target0']\n",
    "    target1 = maze_info['target1']\n",
    "    distances0 = maze_info['distances0']\n",
    "    distances1 = maze_info['distances1']\n",
    "    common_distances = maze_info['common_distances']\n",
    "    \n",
    "    relevant_distances = common_distances    \n",
    "    \n",
    "    if room_state[target0[0]][target0[1]] == 3:\n",
    "        relevant_distances = distances1\n",
    "    elif room_state[target1[0]][target1[1]] == 3:\n",
    "        relevant_distances = distances0\n",
    "    \n",
    "    change_reward = 0.0      \n",
    "    t2b = calc_distances(room_state, relevant_distances)\n",
    "    n_t2b = calc_distances(next_room_state, relevant_distances)\n",
    "    if n_t2b < t2b:\n",
    "        change_reward += 5.0\n",
    "    elif n_t2b > t2b:\n",
    "        change_reward -= 5.0\n",
    "        \n",
    "    return change_reward  "
   ]
  },
  {
   "cell_type": "markdown",
   "metadata": {
    "id": "I6Qnw883yqGH"
   },
   "source": [
    "# Solution"
   ]
  },
  {
   "cell_type": "code",
   "execution_count": 9,
   "metadata": {
    "id": "gGl0DQvSQG0d"
   },
   "outputs": [],
   "source": [
    "class SOK_Agent:\n",
    "    def __init__(self):\n",
    "        # Construct DQN models\n",
    "        self.state_size = (112,112,1) \n",
    "        self.action_size = 8\n",
    "        self.model = self._build_model()\n",
    "        self.target_model = self._build_model()\n",
    "        self.target_model.set_weights(self.model.get_weights())\n",
    "        self.batch_size = 8\n",
    "        \n",
    "        # Replay buffers\n",
    "        self.replay_buffer = deque(maxlen=5000)\n",
    "        self.prioritized_replay_buffer = deque(maxlen=1000)\n",
    "        \n",
    "        # Hyperparameters\n",
    "        self.gamma = 0.9\n",
    "        self.epsilon = 0.2   \n",
    "        self.epsilon_min = 0.2\n",
    "        self.epsilon_decay = 0.9995\n",
    "        self.replay_rate = 10\n",
    "        self.update_beta = 0.999\n",
    "        \n",
    "        self.action_rotation_map = {\n",
    "            0: 2,\n",
    "            1: 3,\n",
    "            2: 1,\n",
    "            3: 0,\n",
    "            4: 6,\n",
    "            5: 7,\n",
    "            6: 5,\n",
    "            7: 4\n",
    "        }\n",
    "\n",
    "    def _build_model(self):\n",
    "        model = Sequential()\n",
    "        model.add(Conv2D(32, (16,16), strides=(16,16), input_shape=self.state_size, activation='relu'))\n",
    "        model.add(Conv2D(64, (3,3), activation='relu'))\n",
    "        model.add(Conv2D(64, (3,3), activation='relu'))\n",
    "        model.add(Flatten())\n",
    "        model.add(Dense(512, activation='relu'))  \n",
    "        model.add(Dense(64, activation='relu'))\n",
    "        model.add(Dense(self.action_size, activation='linear'))\n",
    "        \n",
    "        lr_schedule = ExponentialDecay(0.0001, decay_steps=2000, decay_rate=0.99, staircase=False)\n",
    "        model.compile(optimizer=Adam(learning_rate=lr_schedule), loss='mse')        \n",
    "        return model\n",
    "\n",
    "    def remember(self, state, action, reward, next_state, done):\n",
    "        self.replay_buffer.append([state, action, reward, next_state, done])    \n",
    "        \n",
    "    def copy_to_prioritized_buffer(self, n):\n",
    "        for i in range(n):\n",
    "            self.prioritized_replay_buffer.append(self.replay_buffer[-1-i])  \n",
    "\n",
    "    def act(self, state, stochastic=False):\n",
    "        if np.random.rand() <= self.epsilon:\n",
    "            return random.randrange(self.action_size)\n",
    "        \n",
    "        act_values = self.model.predict(state, verbose=0)[0]\n",
    "        \n",
    "        if stochastic:\n",
    "            act_probs = np.exp(act_values)/np.exp(act_values).sum()\n",
    "            return np.random.choice(np.arange(self.action_size), size=1, p=act_probs)[0]\n",
    "              \n",
    "        return np.argmax(act_values) \n",
    "\n",
    "    def replay(self): \n",
    "        if len(self.replay_buffer) < self.batch_size:\n",
    "            return\n",
    "        \n",
    "        if len(self.prioritized_replay_buffer) < self.batch_size//2:\n",
    "            minibatch = random.sample(self.replay_buffer, self.batch_size) \n",
    "        else:    \n",
    "            minibatch = random.sample(self.replay_buffer, self.batch_size//2) \n",
    "            minibatch.extend(random.sample(self.prioritized_replay_buffer, self.batch_size//2))\n",
    "        \n",
    "        states = np.zeros((self.batch_size*4, self.state_size[0], self.state_size[1]))\n",
    "        actions = np.zeros(self.batch_size*4, dtype=int)\n",
    "        rewards = np.zeros(self.batch_size*4)\n",
    "        next_states = np.zeros((self.batch_size*4, self.state_size[0], self.state_size[1]))\n",
    "        statuses = np.zeros(self.batch_size*4)\n",
    "        targets = np.zeros((self.batch_size*4, self.action_size)) \n",
    "        \n",
    "        for i, (state, action, reward, next_state, done) in enumerate(minibatch): \n",
    "            for rot in range(4):  \n",
    "                ind = i*4+rot\n",
    "                if rot != 0:\n",
    "                    state = np.rot90(state, axes=(1,2))\n",
    "                    next_state = np.rot90(next_state, axes=(1,2))\n",
    "                    action = self.action_rotation_map.get(action)\n",
    "\n",
    "                states[ind] = state.copy()\n",
    "                actions[ind] = action\n",
    "                rewards[ind] = reward\n",
    "                next_states[ind] = next_state.copy()\n",
    "                statuses[ind] = 1 if done else 0          \n",
    "        \n",
    "        targets = self.model.predict(states) \n",
    "        max_actions = np.argmax(self.model.predict(next_states), axis=1)\n",
    "        next_rewards = self.target_model.predict(next_states)\n",
    "        \n",
    "        ind = 0\n",
    "        for action, reward, next_reward, max_action, done in zip(actions, rewards, next_rewards, max_actions, statuses):  \n",
    "            if not done:\n",
    "                reward += self.gamma * next_reward[max_action]\n",
    "            targets[ind][action] = reward\n",
    "            ind += 1\n",
    "        \n",
    "        self.model.fit(states, targets, epochs=10, verbose=0) \n",
    "        \n",
    "        self.update_target_model()        \n",
    "    \n",
    "        if self.epsilon > self.epsilon_min:\n",
    "            self.epsilon = self.epsilon * self.epsilon_decay    \n",
    "        \n",
    "    def update_target_model(self):\n",
    "        model_w = self.model.get_weights()\n",
    "        target_model_w = self.target_model.get_weights()\n",
    "        updated_target_model_w = []\n",
    "        for i in range(len(model_w)):\n",
    "            updated_target_model_w.append(self.update_beta*target_model_w[i] + (1-self.update_beta)*model_w[i])\n",
    "        self.target_model.set_weights(updated_target_model_w)    \n",
    "            \n",
    "    def load(self, name):\n",
    "        self.model.load_weights(name)\n",
    "        self.target_model.load_weights(name)\n",
    "\n",
    "    def save(self, name):\n",
    "        self.model.save_weights(name)"
   ]
  },
  {
   "cell_type": "code",
   "execution_count": 10,
   "metadata": {
    "id": "I8TqYhBX1lD4"
   },
   "outputs": [],
   "source": [
    "def process_frame(frame):\n",
    "    f = frame.mean(axis=2)\n",
    "    f = f / 255\n",
    "    return np.expand_dims(f, axis=0)"
   ]
  },
  {
   "cell_type": "markdown",
   "metadata": {},
   "source": [
    "## Training"
   ]
  },
  {
   "cell_type": "markdown",
   "metadata": {},
   "source": [
    "#### Test Suite"
   ]
  },
  {
   "cell_type": "code",
   "execution_count": 11,
   "metadata": {},
   "outputs": [],
   "source": [
    "max_episodes = 50000\n",
    "max_steps = 30\n",
    "\n",
    "def init_sok(r):\n",
    "    random.seed(r)\n",
    "    sok = PushAndPullSokobanEnv(dim_room=(7, 7), num_boxes=2)\n",
    "    sok.set_maxsteps(max_steps)\n",
    "    return sok"
   ]
  },
  {
   "cell_type": "code",
   "execution_count": 12,
   "metadata": {},
   "outputs": [],
   "source": [
    "def test_agent(e, cur_record, stochastic=False):\n",
    "    current_epsilon = agent.epsilon\n",
    "    agent.epsilon = 0.0\n",
    "    num_solved = 0\n",
    "\n",
    "    for t in tqdm(range(100)):    \n",
    "        sok = init_sok(t)\n",
    "        steps = 0\n",
    "\n",
    "        state = sok.get_image('rgb_array')\n",
    "        done = False\n",
    "        while not done:\n",
    "            steps += 1\n",
    "            action = agent.act(process_frame(state), stochastic)\n",
    "            if action < 4:\n",
    "                action += 1\n",
    "            else:\n",
    "                action += 5\n",
    "            state, reward, done, info = sok.step(action)\n",
    "\n",
    "        if sok.boxes_on_target == 2:            \n",
    "            num_solved += 1\n",
    "            \n",
    "    agent.epsilon = current_epsilon    \n",
    "    print(\"Episode %d Epsilon %.3f Learning Rate %.6f Solved: %d\" % (\n",
    "        e+1, \n",
    "        agent.epsilon, \n",
    "        agent.model.optimizer._decayed_lr(tensorflow.float32).numpy(),\n",
    "        num_solved))\n",
    "    \n",
    "    if num_solved > cur_record:\n",
    "        agent.save(\"models\\Q3_06A_%d.h5\" % (num_solved)) \n",
    "        cur_record = num_solved\n",
    "        \n",
    "    return num_solved, cur_record "
   ]
  },
  {
   "cell_type": "code",
   "execution_count": null,
   "metadata": {
    "colab": {
     "base_uri": "https://localhost:8080/",
     "height": 1000
    },
    "id": "s2Km5jCqDqbz",
    "outputId": "abab4d45-7d3a-4a49-8b54-10c34549249d",
    "scrolled": true
   },
   "outputs": [
    {
     "name": "stdout",
     "output_type": "stream",
     "text": [
      "8 | 10\n",
      "15 | 20\n",
      "20 | 30\n",
      "23 | 40\n",
      "28 | 50\n",
      "33 | 60\n",
      "37 | 70\n",
      "43 | 80\n",
      "52 | 90\n",
      "58 | 100\n"
     ]
    },
    {
     "data": {
      "application/vnd.jupyter.widget-view+json": {
       "model_id": "45a78eafb5134cf1b4508fee8ffa1ce2",
       "version_major": 2,
       "version_minor": 0
      },
      "text/plain": [
       "HBox(children=(FloatProgress(value=0.0), HTML(value='')))"
      ]
     },
     "metadata": {},
     "output_type": "display_data"
    },
    {
     "name": "stdout",
     "output_type": "stream",
     "text": [
      "[SOKOBAN] Runtime Error/Warning: Not enough free spots (#3) to place 1 player and 2 boxes.\n",
      "[SOKOBAN] Retry . . .\n",
      "\n",
      "Episode 100 Epsilon 0.200 Learning Rate 0.000100 Solved: 53\n",
      "5 | 10\n",
      "10 | 20\n",
      "13 | 30\n",
      "21 | 40\n",
      "28 | 50\n",
      "35 | 60\n",
      "41 | 70\n",
      "48 | 80\n",
      "53 | 90\n",
      "[SOKOBAN] Runtime Error/Warning: Generated Model with score == 0\n",
      "[SOKOBAN] Retry . . .\n",
      "61 | 100\n"
     ]
    },
    {
     "data": {
      "application/vnd.jupyter.widget-view+json": {
       "model_id": "4aef7147a91f4f3cb52d1b6dce6aeef8",
       "version_major": 2,
       "version_minor": 0
      },
      "text/plain": [
       "HBox(children=(FloatProgress(value=0.0), HTML(value='')))"
      ]
     },
     "metadata": {},
     "output_type": "display_data"
    },
    {
     "name": "stdout",
     "output_type": "stream",
     "text": [
      "[SOKOBAN] Runtime Error/Warning: Not enough free spots (#3) to place 1 player and 2 boxes.\n",
      "[SOKOBAN] Retry . . .\n",
      "\n",
      "Episode 200 Epsilon 0.200 Learning Rate 0.000100 Solved: 53\n",
      "4 | 10\n",
      "8 | 20\n",
      "14 | 30\n",
      "24 | 40\n",
      "29 | 50\n",
      "[SOKOBAN] Runtime Error/Warning: Generated Model with score == 0\n",
      "[SOKOBAN] Retry . . .\n",
      "35 | 60\n",
      "[SOKOBAN] Runtime Error/Warning: Not enough free spots (#3) to place 1 player and 2 boxes.\n",
      "[SOKOBAN] Retry . . .\n",
      "41 | 70\n",
      "45 | 80\n",
      "49 | 90\n",
      "56 | 100\n"
     ]
    },
    {
     "data": {
      "application/vnd.jupyter.widget-view+json": {
       "model_id": "8b2d3d7faccd4a189cc72e3f7c137867",
       "version_major": 2,
       "version_minor": 0
      },
      "text/plain": [
       "HBox(children=(FloatProgress(value=0.0), HTML(value='')))"
      ]
     },
     "metadata": {},
     "output_type": "display_data"
    },
    {
     "name": "stdout",
     "output_type": "stream",
     "text": [
      "[SOKOBAN] Runtime Error/Warning: Not enough free spots (#3) to place 1 player and 2 boxes.\n",
      "[SOKOBAN] Retry . . .\n",
      "\n",
      "Episode 300 Epsilon 0.200 Learning Rate 0.000099 Solved: 49\n",
      "6 | 10\n",
      "12 | 20\n",
      "17 | 30\n",
      "25 | 40\n",
      "32 | 50\n",
      "37 | 60\n",
      "41 | 70\n",
      "47 | 80\n",
      "53 | 90\n",
      "61 | 100\n"
     ]
    },
    {
     "data": {
      "application/vnd.jupyter.widget-view+json": {
       "model_id": "bd98dfeeea0b4e0583cb8ecaf1f8b32a",
       "version_major": 2,
       "version_minor": 0
      },
      "text/plain": [
       "HBox(children=(FloatProgress(value=0.0), HTML(value='')))"
      ]
     },
     "metadata": {},
     "output_type": "display_data"
    },
    {
     "name": "stdout",
     "output_type": "stream",
     "text": [
      "[SOKOBAN] Runtime Error/Warning: Not enough free spots (#3) to place 1 player and 2 boxes.\n",
      "[SOKOBAN] Retry . . .\n",
      "\n",
      "Episode 400 Epsilon 0.200 Learning Rate 0.000098 Solved: 47\n",
      "4 | 10\n",
      "13 | 20\n",
      "19 | 30\n",
      "23 | 40\n",
      "29 | 50\n",
      "[SOKOBAN] Runtime Error/Warning: Not enough free spots (#3) to place 1 player and 2 boxes.\n",
      "[SOKOBAN] Retry . . .\n",
      "37 | 60\n",
      "[SOKOBAN] Runtime Error/Warning: Not enough free spots (#3) to place 1 player and 2 boxes.\n",
      "[SOKOBAN] Retry . . .\n",
      "45 | 70\n",
      "51 | 80\n",
      "55 | 90\n",
      "62 | 100\n"
     ]
    },
    {
     "data": {
      "application/vnd.jupyter.widget-view+json": {
       "model_id": "61b26aded5014660ac63e538054ac8fe",
       "version_major": 2,
       "version_minor": 0
      },
      "text/plain": [
       "HBox(children=(FloatProgress(value=0.0), HTML(value='')))"
      ]
     },
     "metadata": {},
     "output_type": "display_data"
    },
    {
     "name": "stdout",
     "output_type": "stream",
     "text": [
      "[SOKOBAN] Runtime Error/Warning: Not enough free spots (#3) to place 1 player and 2 boxes.\n",
      "[SOKOBAN] Retry . . .\n",
      "\n",
      "Episode 500 Epsilon 0.200 Learning Rate 0.000098 Solved: 47\n",
      "7 | 10\n",
      "[SOKOBAN] Runtime Error/Warning: Generated Model with score == 0\n",
      "[SOKOBAN] Retry . . .\n",
      "15 | 20\n",
      "19 | 30\n",
      "25 | 40\n",
      "[SOKOBAN] Runtime Error/Warning: Not enough free spots (#3) to place 1 player and 2 boxes.\n",
      "[SOKOBAN] Retry . . .\n",
      "29 | 50\n",
      "33 | 60\n",
      "40 | 70\n",
      "[SOKOBAN] Runtime Error/Warning: Not enough free spots (#3) to place 1 player and 2 boxes.\n",
      "[SOKOBAN] Retry . . .\n",
      "44 | 80\n",
      "50 | 90\n",
      "53 | 100\n"
     ]
    },
    {
     "data": {
      "application/vnd.jupyter.widget-view+json": {
       "model_id": "bdb9aabe167948718460c7823f66dfd2",
       "version_major": 2,
       "version_minor": 0
      },
      "text/plain": [
       "HBox(children=(FloatProgress(value=0.0), HTML(value='')))"
      ]
     },
     "metadata": {},
     "output_type": "display_data"
    },
    {
     "name": "stdout",
     "output_type": "stream",
     "text": [
      "[SOKOBAN] Runtime Error/Warning: Not enough free spots (#3) to place 1 player and 2 boxes.\n",
      "[SOKOBAN] Retry . . .\n",
      "\n",
      "Episode 600 Epsilon 0.200 Learning Rate 0.000097 Solved: 50\n",
      "7 | 10\n",
      "13 | 20\n",
      "20 | 30\n",
      "28 | 40\n",
      "34 | 50\n",
      "[SOKOBAN] Runtime Error/Warning: Not enough free spots (#3) to place 1 player and 2 boxes.\n",
      "[SOKOBAN] Retry . . .\n",
      "38 | 60\n",
      "42 | 70\n",
      "51 | 80\n",
      "54 | 90\n",
      "60 | 100\n"
     ]
    },
    {
     "data": {
      "application/vnd.jupyter.widget-view+json": {
       "model_id": "952f841d61474715ba0c3e5931709c05",
       "version_major": 2,
       "version_minor": 0
      },
      "text/plain": [
       "HBox(children=(FloatProgress(value=0.0), HTML(value='')))"
      ]
     },
     "metadata": {},
     "output_type": "display_data"
    },
    {
     "name": "stdout",
     "output_type": "stream",
     "text": [
      "[SOKOBAN] Runtime Error/Warning: Not enough free spots (#3) to place 1 player and 2 boxes.\n",
      "[SOKOBAN] Retry . . .\n",
      "\n",
      "Episode 700 Epsilon 0.200 Learning Rate 0.000096 Solved: 53\n",
      "7 | 10\n",
      "[SOKOBAN] Runtime Error/Warning: Not enough free spots (#3) to place 1 player and 2 boxes.\n",
      "[SOKOBAN] Retry . . .\n",
      "12 | 20\n",
      "18 | 30\n",
      "21 | 40\n",
      "25 | 50\n",
      "33 | 60\n",
      "41 | 70\n",
      "46 | 80\n",
      "[SOKOBAN] Runtime Error/Warning: Generated Model with score == 0\n",
      "[SOKOBAN] Retry . . .\n",
      "51 | 90\n",
      "56 | 100\n"
     ]
    },
    {
     "data": {
      "application/vnd.jupyter.widget-view+json": {
       "model_id": "1e9f280b92314fbd9a6b70266c518883",
       "version_major": 2,
       "version_minor": 0
      },
      "text/plain": [
       "HBox(children=(FloatProgress(value=0.0), HTML(value='')))"
      ]
     },
     "metadata": {},
     "output_type": "display_data"
    },
    {
     "name": "stdout",
     "output_type": "stream",
     "text": [
      "[SOKOBAN] Runtime Error/Warning: Not enough free spots (#3) to place 1 player and 2 boxes.\n",
      "[SOKOBAN] Retry . . .\n",
      "\n",
      "Episode 800 Epsilon 0.200 Learning Rate 0.000095 Solved: 41\n",
      "5 | 10\n",
      "9 | 20\n",
      "[SOKOBAN] Runtime Error/Warning: Not enough free spots (#3) to place 1 player and 2 boxes.\n",
      "[SOKOBAN] Retry . . .\n",
      "17 | 30\n",
      "22 | 40\n",
      "28 | 50\n",
      "33 | 60\n",
      "36 | 70\n",
      "42 | 80\n",
      "47 | 90\n",
      "51 | 100\n"
     ]
    },
    {
     "data": {
      "application/vnd.jupyter.widget-view+json": {
       "model_id": "e7940908561a4e398b60b4a30f5d5ed5",
       "version_major": 2,
       "version_minor": 0
      },
      "text/plain": [
       "HBox(children=(FloatProgress(value=0.0), HTML(value='')))"
      ]
     },
     "metadata": {},
     "output_type": "display_data"
    },
    {
     "name": "stdout",
     "output_type": "stream",
     "text": [
      "[SOKOBAN] Runtime Error/Warning: Not enough free spots (#3) to place 1 player and 2 boxes.\n",
      "[SOKOBAN] Retry . . .\n",
      "\n",
      "Episode 900 Epsilon 0.200 Learning Rate 0.000094 Solved: 55\n",
      "6 | 10\n",
      "[SOKOBAN] Runtime Error/Warning: Not enough free spots (#3) to place 1 player and 2 boxes.\n",
      "[SOKOBAN] Retry . . .\n",
      "14 | 20\n",
      "20 | 30\n",
      "25 | 40\n",
      "30 | 50\n",
      "36 | 60\n",
      "42 | 70\n",
      "48 | 80\n",
      "55 | 90\n",
      "60 | 100\n"
     ]
    },
    {
     "data": {
      "application/vnd.jupyter.widget-view+json": {
       "model_id": "83d743d913fa46cbb9c4a01217d1f887",
       "version_major": 2,
       "version_minor": 0
      },
      "text/plain": [
       "HBox(children=(FloatProgress(value=0.0), HTML(value='')))"
      ]
     },
     "metadata": {},
     "output_type": "display_data"
    },
    {
     "name": "stdout",
     "output_type": "stream",
     "text": [
      "[SOKOBAN] Runtime Error/Warning: Not enough free spots (#3) to place 1 player and 2 boxes.\n",
      "[SOKOBAN] Retry . . .\n",
      "\n",
      "Episode 1000 Epsilon 0.200 Learning Rate 0.000093 Solved: 46\n",
      "4 | 10\n",
      "[SOKOBAN] Runtime Error/Warning: Generated Model with score == 0\n",
      "[SOKOBAN] Retry . . .\n",
      "[SOKOBAN] Runtime Error/Warning: Not enough free spots (#3) to place 1 player and 2 boxes.\n",
      "[SOKOBAN] Retry . . .\n",
      "[SOKOBAN] Runtime Error/Warning: Not enough free spots (#3) to place 1 player and 2 boxes.\n",
      "[SOKOBAN] Retry . . .\n",
      "12 | 20\n",
      "19 | 30\n",
      "26 | 40\n",
      "32 | 50\n",
      "36 | 60\n",
      "40 | 70\n",
      "48 | 80\n",
      "52 | 90\n",
      "58 | 100\n"
     ]
    },
    {
     "data": {
      "application/vnd.jupyter.widget-view+json": {
       "model_id": "5bc97bb296c246e7886869e685745b72",
       "version_major": 2,
       "version_minor": 0
      },
      "text/plain": [
       "HBox(children=(FloatProgress(value=0.0), HTML(value='')))"
      ]
     },
     "metadata": {},
     "output_type": "display_data"
    },
    {
     "name": "stdout",
     "output_type": "stream",
     "text": [
      "[SOKOBAN] Runtime Error/Warning: Not enough free spots (#3) to place 1 player and 2 boxes.\n",
      "[SOKOBAN] Retry . . .\n",
      "\n",
      "Episode 1100 Epsilon 0.200 Learning Rate 0.000092 Solved: 58\n",
      "4 | 10\n",
      "9 | 20\n",
      "11 | 30\n",
      "16 | 40\n",
      "24 | 50\n",
      "30 | 60\n",
      "36 | 70\n",
      "40 | 80\n",
      "45 | 90\n",
      "51 | 100\n"
     ]
    },
    {
     "data": {
      "application/vnd.jupyter.widget-view+json": {
       "model_id": "c08b78bca1134823a0f40ab4c0ff05eb",
       "version_major": 2,
       "version_minor": 0
      },
      "text/plain": [
       "HBox(children=(FloatProgress(value=0.0), HTML(value='')))"
      ]
     },
     "metadata": {},
     "output_type": "display_data"
    },
    {
     "name": "stdout",
     "output_type": "stream",
     "text": [
      "[SOKOBAN] Runtime Error/Warning: Not enough free spots (#3) to place 1 player and 2 boxes.\n",
      "[SOKOBAN] Retry . . .\n",
      "\n",
      "Episode 1200 Epsilon 0.200 Learning Rate 0.000092 Solved: 55\n",
      "3 | 10\n",
      "9 | 20\n",
      "14 | 30\n",
      "18 | 40\n",
      "[SOKOBAN] Runtime Error/Warning: Not enough free spots (#3) to place 1 player and 2 boxes.\n",
      "[SOKOBAN] Retry . . .\n",
      "20 | 50\n",
      "26 | 60\n",
      "33 | 70\n",
      "40 | 80\n",
      "47 | 90\n",
      "[SOKOBAN] Runtime Error/Warning: Generated Model with score == 0\n",
      "[SOKOBAN] Retry . . .\n",
      "53 | 100\n"
     ]
    },
    {
     "data": {
      "application/vnd.jupyter.widget-view+json": {
       "model_id": "9b25ed36e5204501923efc0963bf4efd",
       "version_major": 2,
       "version_minor": 0
      },
      "text/plain": [
       "HBox(children=(FloatProgress(value=0.0), HTML(value='')))"
      ]
     },
     "metadata": {},
     "output_type": "display_data"
    },
    {
     "name": "stdout",
     "output_type": "stream",
     "text": [
      "[SOKOBAN] Runtime Error/Warning: Not enough free spots (#3) to place 1 player and 2 boxes.\n",
      "[SOKOBAN] Retry . . .\n",
      "\n",
      "Episode 1300 Epsilon 0.200 Learning Rate 0.000091 Solved: 57\n",
      "7 | 10\n",
      "11 | 20\n",
      "[SOKOBAN] Runtime Error/Warning: Generated Model with score == 0\n",
      "[SOKOBAN] Retry . . .\n",
      "17 | 30\n",
      "[SOKOBAN] Runtime Error/Warning: Generated Model with score == 0\n",
      "[SOKOBAN] Retry . . .\n",
      "23 | 40\n",
      "29 | 50\n",
      "32 | 60\n",
      "40 | 70\n",
      "44 | 80\n",
      "49 | 90\n",
      "53 | 100\n"
     ]
    },
    {
     "data": {
      "application/vnd.jupyter.widget-view+json": {
       "model_id": "41d3e4dd8adc4efaadb835da764c1b15",
       "version_major": 2,
       "version_minor": 0
      },
      "text/plain": [
       "HBox(children=(FloatProgress(value=0.0), HTML(value='')))"
      ]
     },
     "metadata": {},
     "output_type": "display_data"
    },
    {
     "name": "stdout",
     "output_type": "stream",
     "text": [
      "[SOKOBAN] Runtime Error/Warning: Not enough free spots (#3) to place 1 player and 2 boxes.\n",
      "[SOKOBAN] Retry . . .\n",
      "\n",
      "Episode 1400 Epsilon 0.200 Learning Rate 0.000090 Solved: 60\n",
      "7 | 10\n",
      "12 | 20\n",
      "18 | 30\n",
      "[SOKOBAN] Runtime Error/Warning: Generated Model with score == 0\n",
      "[SOKOBAN] Retry . . .\n",
      "24 | 40\n",
      "27 | 50\n",
      "32 | 60\n",
      "36 | 70\n",
      "42 | 80\n",
      "[SOKOBAN] Runtime Error/Warning: Not enough free spots (#3) to place 1 player and 2 boxes.\n",
      "[SOKOBAN] Retry . . .\n",
      "45 | 90\n",
      "50 | 100\n"
     ]
    },
    {
     "data": {
      "application/vnd.jupyter.widget-view+json": {
       "model_id": "3c63aed20e50447891a6d969e12c14d7",
       "version_major": 2,
       "version_minor": 0
      },
      "text/plain": [
       "HBox(children=(FloatProgress(value=0.0), HTML(value='')))"
      ]
     },
     "metadata": {},
     "output_type": "display_data"
    },
    {
     "name": "stdout",
     "output_type": "stream",
     "text": [
      "[SOKOBAN] Runtime Error/Warning: Not enough free spots (#3) to place 1 player and 2 boxes.\n",
      "[SOKOBAN] Retry . . .\n",
      "\n",
      "Episode 1500 Epsilon 0.200 Learning Rate 0.000089 Solved: 56\n",
      "5 | 10\n",
      "9 | 20\n",
      "14 | 30\n",
      "[SOKOBAN] Runtime Error/Warning: Not enough free spots (#3) to place 1 player and 2 boxes.\n",
      "[SOKOBAN] Retry . . .\n",
      "19 | 40\n",
      "23 | 50\n",
      "[SOKOBAN] Runtime Error/Warning: Not enough free spots (#3) to place 1 player and 2 boxes.\n",
      "[SOKOBAN] Retry . . .\n",
      "32 | 60\n",
      "38 | 70\n",
      "46 | 80\n",
      "51 | 90\n",
      "56 | 100\n"
     ]
    },
    {
     "data": {
      "application/vnd.jupyter.widget-view+json": {
       "model_id": "c03edc9ed87d45449b168f7c38577779",
       "version_major": 2,
       "version_minor": 0
      },
      "text/plain": [
       "HBox(children=(FloatProgress(value=0.0), HTML(value='')))"
      ]
     },
     "metadata": {},
     "output_type": "display_data"
    },
    {
     "name": "stdout",
     "output_type": "stream",
     "text": [
      "[SOKOBAN] Runtime Error/Warning: Not enough free spots (#3) to place 1 player and 2 boxes.\n",
      "[SOKOBAN] Retry . . .\n",
      "\n",
      "Episode 1600 Epsilon 0.200 Learning Rate 0.000088 Solved: 53\n",
      "7 | 10\n",
      "12 | 20\n",
      "16 | 30\n",
      "24 | 40\n",
      "[SOKOBAN] Runtime Error/Warning: Not enough free spots (#3) to place 1 player and 2 boxes.\n",
      "[SOKOBAN] Retry . . .\n",
      "32 | 50\n",
      "35 | 60\n",
      "38 | 70\n",
      "42 | 80\n",
      "46 | 90\n",
      "[SOKOBAN] Runtime Error/Warning: Not enough free spots (#3) to place 1 player and 2 boxes.\n",
      "[SOKOBAN] Retry . . .\n",
      "51 | 100\n"
     ]
    },
    {
     "data": {
      "application/vnd.jupyter.widget-view+json": {
       "model_id": "f0ab780a007f4caf9645d1ec28898c4e",
       "version_major": 2,
       "version_minor": 0
      },
      "text/plain": [
       "HBox(children=(FloatProgress(value=0.0), HTML(value='')))"
      ]
     },
     "metadata": {},
     "output_type": "display_data"
    },
    {
     "name": "stdout",
     "output_type": "stream",
     "text": [
      "[SOKOBAN] Runtime Error/Warning: Not enough free spots (#3) to place 1 player and 2 boxes.\n",
      "[SOKOBAN] Retry . . .\n",
      "\n",
      "Episode 1700 Epsilon 0.200 Learning Rate 0.000087 Solved: 57\n",
      "[SOKOBAN] Runtime Error/Warning: Not enough free spots (#3) to place 1 player and 2 boxes.\n",
      "[SOKOBAN] Retry . . .\n",
      "4 | 10\n",
      "9 | 20\n",
      "14 | 30\n",
      "17 | 40\n",
      "22 | 50\n",
      "[SOKOBAN] Runtime Error/Warning: Generated Model with score == 0\n",
      "[SOKOBAN] Retry . . .\n",
      "27 | 60\n",
      "35 | 70\n",
      "[SOKOBAN] Runtime Error/Warning: Not enough free spots (#3) to place 1 player and 2 boxes.\n",
      "[SOKOBAN] Retry . . .\n",
      "40 | 80\n",
      "[SOKOBAN] Runtime Error/Warning: Not enough free spots (#3) to place 1 player and 2 boxes.\n",
      "[SOKOBAN] Retry . . .\n",
      "45 | 90\n",
      "51 | 100\n"
     ]
    },
    {
     "data": {
      "application/vnd.jupyter.widget-view+json": {
       "model_id": "35aeebde23374621a157a0e20f17b74e",
       "version_major": 2,
       "version_minor": 0
      },
      "text/plain": [
       "HBox(children=(FloatProgress(value=0.0), HTML(value='')))"
      ]
     },
     "metadata": {},
     "output_type": "display_data"
    },
    {
     "name": "stdout",
     "output_type": "stream",
     "text": [
      "[SOKOBAN] Runtime Error/Warning: Not enough free spots (#3) to place 1 player and 2 boxes.\n",
      "[SOKOBAN] Retry . . .\n",
      "\n",
      "Episode 1800 Epsilon 0.200 Learning Rate 0.000087 Solved: 53\n",
      "6 | 10\n",
      "[SOKOBAN] Runtime Error/Warning: Generated Model with score == 0\n",
      "[SOKOBAN] Retry . . .\n",
      "12 | 20\n",
      "[SOKOBAN] Runtime Error/Warning: Not enough free spots (#3) to place 1 player and 2 boxes.\n",
      "[SOKOBAN] Retry . . .\n",
      "18 | 30\n",
      "[SOKOBAN] Runtime Error/Warning: Generated Model with score == 0\n",
      "[SOKOBAN] Retry . . .\n",
      "26 | 40\n",
      "[SOKOBAN] Runtime Error/Warning: Not enough free spots (#3) to place 1 player and 2 boxes.\n",
      "[SOKOBAN] Retry . . .\n",
      "31 | 50\n",
      "38 | 60\n",
      "45 | 70\n",
      "[SOKOBAN] Runtime Error/Warning: Not enough free spots (#3) to place 1 player and 2 boxes.\n",
      "[SOKOBAN] Retry . . .\n",
      "52 | 80\n",
      "57 | 90\n",
      "64 | 100\n"
     ]
    },
    {
     "data": {
      "application/vnd.jupyter.widget-view+json": {
       "model_id": "f3c39bc35d2f4135a2049d212f58fe10",
       "version_major": 2,
       "version_minor": 0
      },
      "text/plain": [
       "HBox(children=(FloatProgress(value=0.0), HTML(value='')))"
      ]
     },
     "metadata": {},
     "output_type": "display_data"
    },
    {
     "name": "stdout",
     "output_type": "stream",
     "text": [
      "[SOKOBAN] Runtime Error/Warning: Not enough free spots (#3) to place 1 player and 2 boxes.\n",
      "[SOKOBAN] Retry . . .\n",
      "\n",
      "Episode 1900 Epsilon 0.200 Learning Rate 0.000086 Solved: 54\n",
      "5 | 10\n",
      "10 | 20\n",
      "[SOKOBAN] Runtime Error/Warning: Generated Model with score == 0\n",
      "[SOKOBAN] Retry . . .\n",
      "15 | 30\n",
      "[SOKOBAN] Runtime Error/Warning: Not enough free spots (#3) to place 1 player and 2 boxes.\n",
      "[SOKOBAN] Retry . . .\n",
      "21 | 40\n",
      "29 | 50\n",
      "35 | 60\n",
      "41 | 70\n",
      "[SOKOBAN] Runtime Error/Warning: Generated Model with score == 0\n",
      "[SOKOBAN] Retry . . .\n",
      "47 | 80\n",
      "[SOKOBAN] Runtime Error/Warning: Not enough free spots (#3) to place 1 player and 2 boxes.\n",
      "[SOKOBAN] Retry . . .\n",
      "52 | 90\n",
      "57 | 100\n"
     ]
    },
    {
     "data": {
      "application/vnd.jupyter.widget-view+json": {
       "model_id": "b5e0bb3e40e5409487f5881c9fbaa56f",
       "version_major": 2,
       "version_minor": 0
      },
      "text/plain": [
       "HBox(children=(FloatProgress(value=0.0), HTML(value='')))"
      ]
     },
     "metadata": {},
     "output_type": "display_data"
    },
    {
     "name": "stdout",
     "output_type": "stream",
     "text": [
      "[SOKOBAN] Runtime Error/Warning: Not enough free spots (#3) to place 1 player and 2 boxes.\n",
      "[SOKOBAN] Retry . . .\n",
      "\n",
      "Episode 2000 Epsilon 0.200 Learning Rate 0.000085 Solved: 54\n",
      "4 | 10\n",
      "[SOKOBAN] Runtime Error/Warning: Not enough free spots (#3) to place 1 player and 2 boxes.\n",
      "[SOKOBAN] Retry . . .\n",
      "10 | 20\n",
      "[SOKOBAN] Runtime Error/Warning: Generated Model with score == 0\n",
      "[SOKOBAN] Retry . . .\n",
      "16 | 30\n",
      "24 | 40\n",
      "31 | 50\n",
      "38 | 60\n",
      "47 | 70\n",
      "54 | 80\n",
      "58 | 90\n",
      "64 | 100\n"
     ]
    },
    {
     "data": {
      "application/vnd.jupyter.widget-view+json": {
       "model_id": "6af0fb8e5f294cf5828f83cb37059756",
       "version_major": 2,
       "version_minor": 0
      },
      "text/plain": [
       "HBox(children=(FloatProgress(value=0.0), HTML(value='')))"
      ]
     },
     "metadata": {},
     "output_type": "display_data"
    },
    {
     "name": "stdout",
     "output_type": "stream",
     "text": [
      "[SOKOBAN] Runtime Error/Warning: Not enough free spots (#3) to place 1 player and 2 boxes.\n",
      "[SOKOBAN] Retry . . .\n",
      "\n",
      "Episode 2100 Epsilon 0.200 Learning Rate 0.000084 Solved: 55\n",
      "3 | 10\n",
      "8 | 20\n",
      "[SOKOBAN] Runtime Error/Warning: Not enough free spots (#3) to place 1 player and 2 boxes.\n",
      "[SOKOBAN] Retry . . .\n",
      "12 | 30\n",
      "19 | 40\n",
      "26 | 50\n",
      "33 | 60\n",
      "34 | 70\n",
      "43 | 80\n",
      "48 | 90\n",
      "52 | 100\n"
     ]
    },
    {
     "data": {
      "application/vnd.jupyter.widget-view+json": {
       "model_id": "8737fe42f22d48a6a9d8da9c8ec18898",
       "version_major": 2,
       "version_minor": 0
      },
      "text/plain": [
       "HBox(children=(FloatProgress(value=0.0), HTML(value='')))"
      ]
     },
     "metadata": {},
     "output_type": "display_data"
    },
    {
     "name": "stdout",
     "output_type": "stream",
     "text": [
      "[SOKOBAN] Runtime Error/Warning: Not enough free spots (#3) to place 1 player and 2 boxes.\n",
      "[SOKOBAN] Retry . . .\n",
      "\n",
      "Episode 2200 Epsilon 0.200 Learning Rate 0.000084 Solved: 57\n",
      "5 | 10\n",
      "13 | 20\n",
      "20 | 30\n",
      "[SOKOBAN] Runtime Error/Warning: Not enough free spots (#3) to place 1 player and 2 boxes.\n",
      "[SOKOBAN] Retry . . .\n",
      "26 | 40\n",
      "33 | 50\n",
      "41 | 60\n",
      "48 | 70\n",
      "55 | 80\n",
      "61 | 90\n",
      "66 | 100\n"
     ]
    },
    {
     "data": {
      "application/vnd.jupyter.widget-view+json": {
       "model_id": "2cd4ce8b74fa4a3791e3fb7f5cbb66ae",
       "version_major": 2,
       "version_minor": 0
      },
      "text/plain": [
       "HBox(children=(FloatProgress(value=0.0), HTML(value='')))"
      ]
     },
     "metadata": {},
     "output_type": "display_data"
    },
    {
     "name": "stdout",
     "output_type": "stream",
     "text": [
      "[SOKOBAN] Runtime Error/Warning: Not enough free spots (#3) to place 1 player and 2 boxes.\n",
      "[SOKOBAN] Retry . . .\n",
      "\n",
      "Episode 2300 Epsilon 0.200 Learning Rate 0.000083 Solved: 59\n",
      "5 | 10\n",
      "8 | 20\n",
      "13 | 30\n",
      "18 | 40\n",
      "23 | 50\n",
      "[SOKOBAN] Runtime Error/Warning: Not enough free spots (#3) to place 1 player and 2 boxes.\n",
      "[SOKOBAN] Retry . . .\n",
      "28 | 60\n",
      "[SOKOBAN] Runtime Error/Warning: Generated Model with score == 0\n",
      "[SOKOBAN] Retry . . .\n",
      "33 | 70\n",
      "38 | 80\n",
      "45 | 90\n",
      "53 | 100\n"
     ]
    },
    {
     "data": {
      "application/vnd.jupyter.widget-view+json": {
       "model_id": "2e7667f89a5c45679895840501d81cbd",
       "version_major": 2,
       "version_minor": 0
      },
      "text/plain": [
       "HBox(children=(FloatProgress(value=0.0), HTML(value='')))"
      ]
     },
     "metadata": {},
     "output_type": "display_data"
    },
    {
     "name": "stdout",
     "output_type": "stream",
     "text": [
      "[SOKOBAN] Runtime Error/Warning: Not enough free spots (#3) to place 1 player and 2 boxes.\n",
      "[SOKOBAN] Retry . . .\n",
      "\n",
      "Episode 2400 Epsilon 0.200 Learning Rate 0.000082 Solved: 57\n",
      "7 | 10\n",
      "13 | 20\n",
      "20 | 30\n",
      "25 | 40\n",
      "29 | 50\n",
      "36 | 60\n",
      "40 | 70\n",
      "45 | 80\n",
      "52 | 90\n",
      "[SOKOBAN] Runtime Error/Warning: Not enough free spots (#3) to place 1 player and 2 boxes.\n",
      "[SOKOBAN] Retry . . .\n",
      "62 | 100\n"
     ]
    },
    {
     "data": {
      "application/vnd.jupyter.widget-view+json": {
       "model_id": "5cc9b8c85c6746379c5d532eded0d4f5",
       "version_major": 2,
       "version_minor": 0
      },
      "text/plain": [
       "HBox(children=(FloatProgress(value=0.0), HTML(value='')))"
      ]
     },
     "metadata": {},
     "output_type": "display_data"
    },
    {
     "name": "stdout",
     "output_type": "stream",
     "text": [
      "[SOKOBAN] Runtime Error/Warning: Not enough free spots (#3) to place 1 player and 2 boxes.\n",
      "[SOKOBAN] Retry . . .\n",
      "\n",
      "Episode 2500 Epsilon 0.200 Learning Rate 0.000081 Solved: 53\n",
      "7 | 10\n",
      "12 | 20\n",
      "[SOKOBAN] Runtime Error/Warning: Not enough free spots (#3) to place 1 player and 2 boxes.\n",
      "[SOKOBAN] Retry . . .\n",
      "18 | 30\n",
      "24 | 40\n",
      "30 | 50\n",
      "38 | 60\n",
      "43 | 70\n",
      "47 | 80\n",
      "54 | 90\n",
      "58 | 100\n"
     ]
    },
    {
     "data": {
      "application/vnd.jupyter.widget-view+json": {
       "model_id": "b7bd64915c054c53a6ebc5f90e7a6e8c",
       "version_major": 2,
       "version_minor": 0
      },
      "text/plain": [
       "HBox(children=(FloatProgress(value=0.0), HTML(value='')))"
      ]
     },
     "metadata": {},
     "output_type": "display_data"
    },
    {
     "name": "stdout",
     "output_type": "stream",
     "text": [
      "[SOKOBAN] Runtime Error/Warning: Not enough free spots (#3) to place 1 player and 2 boxes.\n",
      "[SOKOBAN] Retry . . .\n",
      "\n",
      "Episode 2600 Epsilon 0.200 Learning Rate 0.000081 Solved: 54\n",
      "6 | 10\n",
      "11 | 20\n",
      "16 | 30\n",
      "22 | 40\n",
      "24 | 50\n",
      "32 | 60\n",
      "39 | 70\n",
      "45 | 80\n",
      "51 | 90\n",
      "58 | 100\n"
     ]
    },
    {
     "data": {
      "application/vnd.jupyter.widget-view+json": {
       "model_id": "2ccc1cab441e48beb503118571e4eb20",
       "version_major": 2,
       "version_minor": 0
      },
      "text/plain": [
       "HBox(children=(FloatProgress(value=0.0), HTML(value='')))"
      ]
     },
     "metadata": {},
     "output_type": "display_data"
    },
    {
     "name": "stdout",
     "output_type": "stream",
     "text": [
      "[SOKOBAN] Runtime Error/Warning: Not enough free spots (#3) to place 1 player and 2 boxes.\n",
      "[SOKOBAN] Retry . . .\n",
      "\n",
      "Episode 2700 Epsilon 0.200 Learning Rate 0.000080 Solved: 58\n",
      "4 | 10\n",
      "9 | 20\n",
      "16 | 30\n",
      "22 | 40\n",
      "26 | 50\n",
      "[SOKOBAN] Runtime Error/Warning: Generated Model with score == 0\n",
      "[SOKOBAN] Retry . . .\n",
      "31 | 60\n",
      "39 | 70\n",
      "46 | 80\n",
      "50 | 90\n",
      "[SOKOBAN] Runtime Error/Warning: Not enough free spots (#3) to place 1 player and 2 boxes.\n",
      "[SOKOBAN] Retry . . .\n",
      "59 | 100\n"
     ]
    },
    {
     "data": {
      "application/vnd.jupyter.widget-view+json": {
       "model_id": "6092a5c4c31140b9b8a4f76e3c512b6f",
       "version_major": 2,
       "version_minor": 0
      },
      "text/plain": [
       "HBox(children=(FloatProgress(value=0.0), HTML(value='')))"
      ]
     },
     "metadata": {},
     "output_type": "display_data"
    },
    {
     "name": "stdout",
     "output_type": "stream",
     "text": [
      "[SOKOBAN] Runtime Error/Warning: Not enough free spots (#3) to place 1 player and 2 boxes.\n",
      "[SOKOBAN] Retry . . .\n",
      "\n",
      "Episode 2800 Epsilon 0.200 Learning Rate 0.000079 Solved: 58\n",
      "6 | 10\n",
      "12 | 20\n",
      "16 | 30\n",
      "[SOKOBAN] Runtime Error/Warning: Not enough free spots (#3) to place 1 player and 2 boxes.\n",
      "[SOKOBAN] Retry . . .\n",
      "22 | 40\n",
      "26 | 50\n",
      "29 | 60\n",
      "37 | 70\n",
      "44 | 80\n",
      "51 | 90\n",
      "56 | 100\n"
     ]
    },
    {
     "data": {
      "application/vnd.jupyter.widget-view+json": {
       "model_id": "c42980b93fb642c3b29fa5e007bed07b",
       "version_major": 2,
       "version_minor": 0
      },
      "text/plain": [
       "HBox(children=(FloatProgress(value=0.0), HTML(value='')))"
      ]
     },
     "metadata": {},
     "output_type": "display_data"
    },
    {
     "name": "stdout",
     "output_type": "stream",
     "text": [
      "[SOKOBAN] Runtime Error/Warning: Not enough free spots (#3) to place 1 player and 2 boxes.\n",
      "[SOKOBAN] Retry . . .\n",
      "\n",
      "Episode 2900 Epsilon 0.200 Learning Rate 0.000079 Solved: 56\n",
      "5 | 10\n",
      "13 | 20\n",
      "18 | 30\n",
      "24 | 40\n",
      "29 | 50\n",
      "36 | 60\n",
      "43 | 70\n",
      "50 | 80\n",
      "55 | 90\n",
      "61 | 100\n"
     ]
    },
    {
     "data": {
      "application/vnd.jupyter.widget-view+json": {
       "model_id": "e9710c1da08e439197f0658abc44af30",
       "version_major": 2,
       "version_minor": 0
      },
      "text/plain": [
       "HBox(children=(FloatProgress(value=0.0), HTML(value='')))"
      ]
     },
     "metadata": {},
     "output_type": "display_data"
    },
    {
     "name": "stdout",
     "output_type": "stream",
     "text": [
      "[SOKOBAN] Runtime Error/Warning: Not enough free spots (#3) to place 1 player and 2 boxes.\n",
      "[SOKOBAN] Retry . . .\n",
      "\n",
      "Episode 3000 Epsilon 0.200 Learning Rate 0.000078 Solved: 60\n",
      "8 | 10\n",
      "12 | 20\n",
      "17 | 30\n",
      "[SOKOBAN] Runtime Error/Warning: Generated Model with score == 0\n",
      "[SOKOBAN] Retry . . .\n",
      "23 | 40\n",
      "28 | 50\n",
      "34 | 60\n",
      "42 | 70\n",
      "44 | 80\n",
      "[SOKOBAN] Runtime Error/Warning: Not enough free spots (#3) to place 1 player and 2 boxes.\n",
      "[SOKOBAN] Retry . . .\n",
      "51 | 90\n",
      "60 | 100\n"
     ]
    },
    {
     "data": {
      "application/vnd.jupyter.widget-view+json": {
       "model_id": "3a00d2ab9b8e4306a95c9aeefbcdd240",
       "version_major": 2,
       "version_minor": 0
      },
      "text/plain": [
       "HBox(children=(FloatProgress(value=0.0), HTML(value='')))"
      ]
     },
     "metadata": {},
     "output_type": "display_data"
    },
    {
     "name": "stdout",
     "output_type": "stream",
     "text": [
      "[SOKOBAN] Runtime Error/Warning: Not enough free spots (#3) to place 1 player and 2 boxes.\n",
      "[SOKOBAN] Retry . . .\n",
      "\n",
      "Episode 3100 Epsilon 0.200 Learning Rate 0.000077 Solved: 59\n",
      "6 | 10\n",
      "10 | 20\n",
      "14 | 30\n",
      "20 | 40\n",
      "26 | 50\n",
      "31 | 60\n",
      "37 | 70\n",
      "43 | 80\n",
      "49 | 90\n",
      "[SOKOBAN] Runtime Error/Warning: Not enough free spots (#3) to place 1 player and 2 boxes.\n",
      "[SOKOBAN] Retry . . .\n",
      "52 | 100\n"
     ]
    },
    {
     "data": {
      "application/vnd.jupyter.widget-view+json": {
       "model_id": "40750d0d5716434b87be39b9e54144fe",
       "version_major": 2,
       "version_minor": 0
      },
      "text/plain": [
       "HBox(children=(FloatProgress(value=0.0), HTML(value='')))"
      ]
     },
     "metadata": {},
     "output_type": "display_data"
    },
    {
     "name": "stdout",
     "output_type": "stream",
     "text": [
      "[SOKOBAN] Runtime Error/Warning: Not enough free spots (#3) to place 1 player and 2 boxes.\n",
      "[SOKOBAN] Retry . . .\n",
      "\n",
      "Episode 3200 Epsilon 0.200 Learning Rate 0.000077 Solved: 58\n",
      "7 | 10\n",
      "11 | 20\n",
      "16 | 30\n",
      "24 | 40\n",
      "[SOKOBAN] Runtime Error/Warning: Generated Model with score == 0\n",
      "[SOKOBAN] Retry . . .\n",
      "31 | 50\n",
      "37 | 60\n",
      "43 | 70\n",
      "48 | 80\n",
      "54 | 90\n",
      "[SOKOBAN] Runtime Error/Warning: Generated Model with score == 0\n",
      "[SOKOBAN] Retry . . .\n",
      "59 | 100\n"
     ]
    },
    {
     "data": {
      "application/vnd.jupyter.widget-view+json": {
       "model_id": "3863624f95654ebf91d609e9997291a7",
       "version_major": 2,
       "version_minor": 0
      },
      "text/plain": [
       "HBox(children=(FloatProgress(value=0.0), HTML(value='')))"
      ]
     },
     "metadata": {},
     "output_type": "display_data"
    },
    {
     "name": "stdout",
     "output_type": "stream",
     "text": [
      "[SOKOBAN] Runtime Error/Warning: Not enough free spots (#3) to place 1 player and 2 boxes.\n",
      "[SOKOBAN] Retry . . .\n",
      "\n",
      "Episode 3300 Epsilon 0.200 Learning Rate 0.000076 Solved: 60\n",
      "7 | 10\n",
      "12 | 20\n",
      "17 | 30\n",
      "24 | 40\n",
      "29 | 50\n",
      "34 | 60\n",
      "40 | 70\n",
      "45 | 80\n",
      "49 | 90\n",
      "54 | 100\n"
     ]
    },
    {
     "data": {
      "application/vnd.jupyter.widget-view+json": {
       "model_id": "e2fe331bea114acfa21b287aff1539b8",
       "version_major": 2,
       "version_minor": 0
      },
      "text/plain": [
       "HBox(children=(FloatProgress(value=0.0), HTML(value='')))"
      ]
     },
     "metadata": {},
     "output_type": "display_data"
    },
    {
     "name": "stdout",
     "output_type": "stream",
     "text": [
      "[SOKOBAN] Runtime Error/Warning: Not enough free spots (#3) to place 1 player and 2 boxes.\n",
      "[SOKOBAN] Retry . . .\n",
      "\n",
      "Episode 3400 Epsilon 0.200 Learning Rate 0.000075 Solved: 50\n",
      "7 | 10\n",
      "16 | 20\n",
      "22 | 30\n",
      "29 | 40\n",
      "33 | 50\n",
      "[SOKOBAN] Runtime Error/Warning: Not enough free spots (#3) to place 1 player and 2 boxes.\n",
      "[SOKOBAN] Retry . . .\n",
      "37 | 60\n",
      "45 | 70\n",
      "54 | 80\n",
      "61 | 90\n",
      "66 | 100\n"
     ]
    },
    {
     "data": {
      "application/vnd.jupyter.widget-view+json": {
       "model_id": "ff69770a9e84455cbb1cee52cbec4da0",
       "version_major": 2,
       "version_minor": 0
      },
      "text/plain": [
       "HBox(children=(FloatProgress(value=0.0), HTML(value='')))"
      ]
     },
     "metadata": {},
     "output_type": "display_data"
    },
    {
     "name": "stdout",
     "output_type": "stream",
     "text": [
      "[SOKOBAN] Runtime Error/Warning: Not enough free spots (#3) to place 1 player and 2 boxes.\n",
      "[SOKOBAN] Retry . . .\n",
      "\n",
      "Episode 3500 Epsilon 0.200 Learning Rate 0.000075 Solved: 56\n",
      "4 | 10\n",
      "9 | 20\n",
      "16 | 30\n",
      "23 | 40\n",
      "30 | 50\n",
      "38 | 60\n",
      "46 | 70\n",
      "50 | 80\n",
      "57 | 90\n",
      "[SOKOBAN] Runtime Error/Warning: Generated Model with score == 0\n",
      "[SOKOBAN] Retry . . .\n",
      "62 | 100\n"
     ]
    },
    {
     "data": {
      "application/vnd.jupyter.widget-view+json": {
       "model_id": "8f470db37f674ad0b3dc95c08fe6c19b",
       "version_major": 2,
       "version_minor": 0
      },
      "text/plain": [
       "HBox(children=(FloatProgress(value=0.0), HTML(value='')))"
      ]
     },
     "metadata": {},
     "output_type": "display_data"
    },
    {
     "name": "stdout",
     "output_type": "stream",
     "text": [
      "[SOKOBAN] Runtime Error/Warning: Not enough free spots (#3) to place 1 player and 2 boxes.\n",
      "[SOKOBAN] Retry . . .\n",
      "\n",
      "Episode 3600 Epsilon 0.200 Learning Rate 0.000074 Solved: 57\n",
      "6 | 10\n",
      "12 | 20\n",
      "21 | 30\n",
      "27 | 40\n",
      "34 | 50\n",
      "41 | 60\n",
      "47 | 70\n",
      "54 | 80\n",
      "57 | 90\n",
      "61 | 100\n"
     ]
    },
    {
     "data": {
      "application/vnd.jupyter.widget-view+json": {
       "model_id": "2b99469dba7c477a8431250e4e425e64",
       "version_major": 2,
       "version_minor": 0
      },
      "text/plain": [
       "HBox(children=(FloatProgress(value=0.0), HTML(value='')))"
      ]
     },
     "metadata": {},
     "output_type": "display_data"
    },
    {
     "name": "stdout",
     "output_type": "stream",
     "text": [
      "[SOKOBAN] Runtime Error/Warning: Not enough free spots (#3) to place 1 player and 2 boxes.\n",
      "[SOKOBAN] Retry . . .\n",
      "\n",
      "Episode 3700 Epsilon 0.200 Learning Rate 0.000073 Solved: 57\n",
      "5 | 10\n",
      "12 | 20\n",
      "16 | 30\n",
      "24 | 40\n",
      "30 | 50\n",
      "[SOKOBAN] Runtime Error/Warning: Generated Model with score == 0\n",
      "[SOKOBAN] Retry . . .\n",
      "35 | 60\n",
      "40 | 70\n",
      "45 | 80\n",
      "52 | 90\n",
      "57 | 100\n"
     ]
    },
    {
     "data": {
      "application/vnd.jupyter.widget-view+json": {
       "model_id": "8e72e52d0d8e49508f3db51e4ae2eeff",
       "version_major": 2,
       "version_minor": 0
      },
      "text/plain": [
       "HBox(children=(FloatProgress(value=0.0), HTML(value='')))"
      ]
     },
     "metadata": {},
     "output_type": "display_data"
    },
    {
     "name": "stdout",
     "output_type": "stream",
     "text": [
      "[SOKOBAN] Runtime Error/Warning: Not enough free spots (#3) to place 1 player and 2 boxes.\n",
      "[SOKOBAN] Retry . . .\n",
      "\n",
      "Episode 3800 Epsilon 0.200 Learning Rate 0.000073 Solved: 54\n",
      "[SOKOBAN] Runtime Error/Warning: Generated Model with score == 0\n",
      "[SOKOBAN] Retry . . .\n",
      "5 | 10\n",
      "9 | 20\n",
      "14 | 30\n",
      "20 | 40\n",
      "26 | 50\n",
      "31 | 60\n",
      "33 | 70\n",
      "41 | 80\n",
      "46 | 90\n",
      "55 | 100\n"
     ]
    },
    {
     "data": {
      "application/vnd.jupyter.widget-view+json": {
       "model_id": "339351d043424a89a6ec1c0aa783dfe5",
       "version_major": 2,
       "version_minor": 0
      },
      "text/plain": [
       "HBox(children=(FloatProgress(value=0.0), HTML(value='')))"
      ]
     },
     "metadata": {},
     "output_type": "display_data"
    },
    {
     "name": "stdout",
     "output_type": "stream",
     "text": [
      "[SOKOBAN] Runtime Error/Warning: Not enough free spots (#3) to place 1 player and 2 boxes.\n",
      "[SOKOBAN] Retry . . .\n",
      "\n",
      "Episode 3900 Epsilon 0.200 Learning Rate 0.000072 Solved: 56\n",
      "7 | 10\n",
      "9 | 20\n",
      "16 | 30\n",
      "22 | 40\n",
      "30 | 50\n",
      "[SOKOBAN] Runtime Error/Warning: Generated Model with score == 0\n",
      "[SOKOBAN] Retry . . .\n",
      "[SOKOBAN] Runtime Error/Warning: Not enough free spots (#3) to place 1 player and 2 boxes.\n",
      "[SOKOBAN] Retry . . .\n",
      "37 | 60\n",
      "43 | 70\n",
      "[SOKOBAN] Runtime Error/Warning: Not enough free spots (#3) to place 1 player and 2 boxes.\n",
      "[SOKOBAN] Retry . . .\n",
      "47 | 80\n",
      "51 | 90\n",
      "58 | 100\n"
     ]
    },
    {
     "data": {
      "application/vnd.jupyter.widget-view+json": {
       "model_id": "6dd9ddb9a74641188852521c4503a145",
       "version_major": 2,
       "version_minor": 0
      },
      "text/plain": [
       "HBox(children=(FloatProgress(value=0.0), HTML(value='')))"
      ]
     },
     "metadata": {},
     "output_type": "display_data"
    },
    {
     "name": "stdout",
     "output_type": "stream",
     "text": [
      "[SOKOBAN] Runtime Error/Warning: Not enough free spots (#3) to place 1 player and 2 boxes.\n",
      "[SOKOBAN] Retry . . .\n",
      "\n",
      "Episode 4000 Epsilon 0.200 Learning Rate 0.000071 Solved: 61\n",
      "[SOKOBAN] Runtime Error/Warning: Generated Model with score == 0\n",
      "[SOKOBAN] Retry . . .\n",
      "[SOKOBAN] Runtime Error/Warning: Not enough free spots (#3) to place 1 player and 2 boxes.\n",
      "[SOKOBAN] Retry . . .\n",
      "6 | 10\n",
      "[SOKOBAN] Runtime Error/Warning: Generated Model with score == 0\n",
      "[SOKOBAN] Retry . . .\n",
      "13 | 20\n",
      "19 | 30\n",
      "21 | 40\n",
      "25 | 50\n",
      "29 | 60\n",
      "35 | 70\n",
      "41 | 80\n",
      "50 | 90\n",
      "59 | 100\n"
     ]
    },
    {
     "data": {
      "application/vnd.jupyter.widget-view+json": {
       "model_id": "d49bd10efc074ac4bb1b162926ef375c",
       "version_major": 2,
       "version_minor": 0
      },
      "text/plain": [
       "HBox(children=(FloatProgress(value=0.0), HTML(value='')))"
      ]
     },
     "metadata": {},
     "output_type": "display_data"
    },
    {
     "name": "stdout",
     "output_type": "stream",
     "text": [
      "[SOKOBAN] Runtime Error/Warning: Not enough free spots (#3) to place 1 player and 2 boxes.\n",
      "[SOKOBAN] Retry . . .\n",
      "\n",
      "Episode 4100 Epsilon 0.200 Learning Rate 0.000071 Solved: 58\n",
      "6 | 10\n",
      "11 | 20\n",
      "[SOKOBAN] Runtime Error/Warning: Not enough free spots (#3) to place 1 player and 2 boxes.\n",
      "[SOKOBAN] Retry . . .\n",
      "17 | 30\n",
      "[SOKOBAN] Runtime Error/Warning: Not enough free spots (#3) to place 1 player and 2 boxes.\n",
      "[SOKOBAN] Retry . . .\n",
      "[SOKOBAN] Runtime Error/Warning: Not enough free spots (#3) to place 1 player and 2 boxes.\n",
      "[SOKOBAN] Retry . . .\n",
      "22 | 40\n",
      "28 | 50\n",
      "33 | 60\n",
      "41 | 70\n",
      "47 | 80\n",
      "53 | 90\n",
      "56 | 100\n"
     ]
    },
    {
     "data": {
      "application/vnd.jupyter.widget-view+json": {
       "model_id": "c8fa284b747c4ffba280a40ccfa68a1f",
       "version_major": 2,
       "version_minor": 0
      },
      "text/plain": [
       "HBox(children=(FloatProgress(value=0.0), HTML(value='')))"
      ]
     },
     "metadata": {},
     "output_type": "display_data"
    },
    {
     "name": "stdout",
     "output_type": "stream",
     "text": [
      "[SOKOBAN] Runtime Error/Warning: Not enough free spots (#3) to place 1 player and 2 boxes.\n",
      "[SOKOBAN] Retry . . .\n",
      "\n",
      "Episode 4200 Epsilon 0.200 Learning Rate 0.000070 Solved: 56\n",
      "4 | 10\n",
      "11 | 20\n",
      "16 | 30\n",
      "19 | 40\n",
      "24 | 50\n",
      "29 | 60\n",
      "38 | 70\n",
      "44 | 80\n",
      "47 | 90\n",
      "56 | 100\n"
     ]
    },
    {
     "data": {
      "application/vnd.jupyter.widget-view+json": {
       "model_id": "b9cf4bc747a34ac8bc7ca3a6621a623f",
       "version_major": 2,
       "version_minor": 0
      },
      "text/plain": [
       "HBox(children=(FloatProgress(value=0.0), HTML(value='')))"
      ]
     },
     "metadata": {},
     "output_type": "display_data"
    },
    {
     "name": "stdout",
     "output_type": "stream",
     "text": [
      "[SOKOBAN] Runtime Error/Warning: Not enough free spots (#3) to place 1 player and 2 boxes.\n",
      "[SOKOBAN] Retry . . .\n",
      "\n",
      "Episode 4300 Epsilon 0.200 Learning Rate 0.000070 Solved: 61\n",
      "6 | 10\n",
      "11 | 20\n",
      "15 | 30\n",
      "23 | 40\n",
      "30 | 50\n",
      "36 | 60\n",
      "43 | 70\n",
      "47 | 80\n",
      "52 | 90\n",
      "54 | 100\n"
     ]
    },
    {
     "data": {
      "application/vnd.jupyter.widget-view+json": {
       "model_id": "3eef1584b0204d5d8efbed72c02fc802",
       "version_major": 2,
       "version_minor": 0
      },
      "text/plain": [
       "HBox(children=(FloatProgress(value=0.0), HTML(value='')))"
      ]
     },
     "metadata": {},
     "output_type": "display_data"
    },
    {
     "name": "stdout",
     "output_type": "stream",
     "text": [
      "[SOKOBAN] Runtime Error/Warning: Not enough free spots (#3) to place 1 player and 2 boxes.\n",
      "[SOKOBAN] Retry . . .\n",
      "\n",
      "Episode 4400 Epsilon 0.200 Learning Rate 0.000069 Solved: 52\n",
      "6 | 10\n",
      "11 | 20\n",
      "16 | 30\n",
      "23 | 40\n",
      "28 | 50\n",
      "33 | 60\n",
      "42 | 70\n",
      "49 | 80\n",
      "[SOKOBAN] Runtime Error/Warning: Generated Model with score == 0\n",
      "[SOKOBAN] Retry . . .\n",
      "54 | 90\n",
      "[SOKOBAN] Runtime Error/Warning: Not enough free spots (#3) to place 1 player and 2 boxes.\n",
      "[SOKOBAN] Retry . . .\n",
      "61 | 100\n"
     ]
    },
    {
     "data": {
      "application/vnd.jupyter.widget-view+json": {
       "model_id": "d7768508ee414b889b224e9e2e1e9623",
       "version_major": 2,
       "version_minor": 0
      },
      "text/plain": [
       "HBox(children=(FloatProgress(value=0.0), HTML(value='')))"
      ]
     },
     "metadata": {},
     "output_type": "display_data"
    },
    {
     "name": "stdout",
     "output_type": "stream",
     "text": [
      "[SOKOBAN] Runtime Error/Warning: Not enough free spots (#3) to place 1 player and 2 boxes.\n",
      "[SOKOBAN] Retry . . .\n",
      "\n",
      "Episode 4500 Epsilon 0.200 Learning Rate 0.000068 Solved: 55\n",
      "5 | 10\n",
      "10 | 20\n",
      "16 | 30\n",
      "[SOKOBAN] Runtime Error/Warning: Not enough free spots (#3) to place 1 player and 2 boxes.\n",
      "[SOKOBAN] Retry . . .\n",
      "22 | 40\n",
      "30 | 50\n",
      "33 | 60\n",
      "38 | 70\n",
      "[SOKOBAN] Runtime Error/Warning: Not enough free spots (#3) to place 1 player and 2 boxes.\n",
      "[SOKOBAN] Retry . . .\n",
      "43 | 80\n",
      "49 | 90\n",
      "53 | 100\n"
     ]
    },
    {
     "data": {
      "application/vnd.jupyter.widget-view+json": {
       "model_id": "1afa6a9b28104c5b855cda6ac15c5485",
       "version_major": 2,
       "version_minor": 0
      },
      "text/plain": [
       "HBox(children=(FloatProgress(value=0.0), HTML(value='')))"
      ]
     },
     "metadata": {},
     "output_type": "display_data"
    },
    {
     "name": "stdout",
     "output_type": "stream",
     "text": [
      "[SOKOBAN] Runtime Error/Warning: Not enough free spots (#3) to place 1 player and 2 boxes.\n",
      "[SOKOBAN] Retry . . .\n",
      "\n",
      "Episode 4600 Epsilon 0.200 Learning Rate 0.000068 Solved: 52\n",
      "4 | 10\n",
      "11 | 20\n",
      "17 | 30\n",
      "22 | 40\n",
      "31 | 50\n",
      "35 | 60\n",
      "40 | 70\n",
      "44 | 80\n",
      "51 | 90\n",
      "58 | 100\n"
     ]
    },
    {
     "data": {
      "application/vnd.jupyter.widget-view+json": {
       "model_id": "e945bb0abd724174a6ccd585a060a589",
       "version_major": 2,
       "version_minor": 0
      },
      "text/plain": [
       "HBox(children=(FloatProgress(value=0.0), HTML(value='')))"
      ]
     },
     "metadata": {},
     "output_type": "display_data"
    },
    {
     "name": "stdout",
     "output_type": "stream",
     "text": [
      "[SOKOBAN] Runtime Error/Warning: Not enough free spots (#3) to place 1 player and 2 boxes.\n",
      "[SOKOBAN] Retry . . .\n",
      "\n",
      "Episode 4700 Epsilon 0.200 Learning Rate 0.000067 Solved: 59\n",
      "6 | 10\n",
      "11 | 20\n",
      "16 | 30\n",
      "20 | 40\n",
      "[SOKOBAN] Runtime Error/Warning: Not enough free spots (#3) to place 1 player and 2 boxes.\n",
      "[SOKOBAN] Retry . . .\n",
      "26 | 50\n",
      "34 | 60\n",
      "40 | 70\n",
      "47 | 80\n",
      "54 | 90\n",
      "59 | 100\n"
     ]
    },
    {
     "data": {
      "application/vnd.jupyter.widget-view+json": {
       "model_id": "27bf7dbd8d494c1a839f29e03efc8472",
       "version_major": 2,
       "version_minor": 0
      },
      "text/plain": [
       "HBox(children=(FloatProgress(value=0.0), HTML(value='')))"
      ]
     },
     "metadata": {},
     "output_type": "display_data"
    },
    {
     "name": "stdout",
     "output_type": "stream",
     "text": [
      "[SOKOBAN] Runtime Error/Warning: Not enough free spots (#3) to place 1 player and 2 boxes.\n",
      "[SOKOBAN] Retry . . .\n",
      "\n",
      "Episode 4800 Epsilon 0.200 Learning Rate 0.000067 Solved: 53\n",
      "7 | 10\n",
      "13 | 20\n",
      "18 | 30\n",
      "23 | 40\n",
      "[SOKOBAN] Runtime Error/Warning: Not enough free spots (#3) to place 1 player and 2 boxes.\n",
      "[SOKOBAN] Retry . . .\n",
      "28 | 50\n",
      "33 | 60\n",
      "39 | 70\n",
      "44 | 80\n",
      "51 | 90\n",
      "54 | 100\n"
     ]
    },
    {
     "data": {
      "application/vnd.jupyter.widget-view+json": {
       "model_id": "6d37bf9dfb954eb1836cc8ac497f606d",
       "version_major": 2,
       "version_minor": 0
      },
      "text/plain": [
       "HBox(children=(FloatProgress(value=0.0), HTML(value='')))"
      ]
     },
     "metadata": {},
     "output_type": "display_data"
    },
    {
     "name": "stdout",
     "output_type": "stream",
     "text": [
      "[SOKOBAN] Runtime Error/Warning: Not enough free spots (#3) to place 1 player and 2 boxes.\n",
      "[SOKOBAN] Retry . . .\n",
      "\n",
      "Episode 4900 Epsilon 0.200 Learning Rate 0.000066 Solved: 55\n",
      "5 | 10\n",
      "8 | 20\n",
      "15 | 30\n",
      "24 | 40\n",
      "32 | 50\n",
      "37 | 60\n",
      "43 | 70\n",
      "49 | 80\n",
      "56 | 90\n",
      "62 | 100\n"
     ]
    },
    {
     "data": {
      "application/vnd.jupyter.widget-view+json": {
       "model_id": "c1632914bd9d4c5cbb78698dec879e59",
       "version_major": 2,
       "version_minor": 0
      },
      "text/plain": [
       "HBox(children=(FloatProgress(value=0.0), HTML(value='')))"
      ]
     },
     "metadata": {},
     "output_type": "display_data"
    },
    {
     "name": "stdout",
     "output_type": "stream",
     "text": [
      "[SOKOBAN] Runtime Error/Warning: Not enough free spots (#3) to place 1 player and 2 boxes.\n",
      "[SOKOBAN] Retry . . .\n",
      "\n",
      "Episode 5000 Epsilon 0.200 Learning Rate 0.000065 Solved: 58\n",
      "6 | 10\n",
      "11 | 20\n",
      "17 | 30\n",
      "24 | 40\n",
      "31 | 50\n",
      "37 | 60\n",
      "45 | 70\n",
      "50 | 80\n",
      "56 | 90\n",
      "64 | 100\n"
     ]
    },
    {
     "data": {
      "application/vnd.jupyter.widget-view+json": {
       "model_id": "3285c6e9255b4f69977d90e18786f2fb",
       "version_major": 2,
       "version_minor": 0
      },
      "text/plain": [
       "HBox(children=(FloatProgress(value=0.0), HTML(value='')))"
      ]
     },
     "metadata": {},
     "output_type": "display_data"
    },
    {
     "name": "stdout",
     "output_type": "stream",
     "text": [
      "[SOKOBAN] Runtime Error/Warning: Not enough free spots (#3) to place 1 player and 2 boxes.\n",
      "[SOKOBAN] Retry . . .\n",
      "\n",
      "Episode 5100 Epsilon 0.200 Learning Rate 0.000065 Solved: 60\n",
      "4 | 10\n",
      "13 | 20\n",
      "17 | 30\n",
      "21 | 40\n",
      "26 | 50\n",
      "31 | 60\n",
      "38 | 70\n",
      "45 | 80\n",
      "52 | 90\n",
      "58 | 100\n"
     ]
    },
    {
     "data": {
      "application/vnd.jupyter.widget-view+json": {
       "model_id": "b4be80e6dfdc4f85b75476a098047ad3",
       "version_major": 2,
       "version_minor": 0
      },
      "text/plain": [
       "HBox(children=(FloatProgress(value=0.0), HTML(value='')))"
      ]
     },
     "metadata": {},
     "output_type": "display_data"
    },
    {
     "name": "stdout",
     "output_type": "stream",
     "text": [
      "[SOKOBAN] Runtime Error/Warning: Not enough free spots (#3) to place 1 player and 2 boxes.\n",
      "[SOKOBAN] Retry . . .\n",
      "\n",
      "Episode 5200 Epsilon 0.200 Learning Rate 0.000064 Solved: 59\n",
      "7 | 10\n",
      "[SOKOBAN] Runtime Error/Warning: Generated Model with score == 0\n",
      "[SOKOBAN] Retry . . .\n",
      "[SOKOBAN] Runtime Error/Warning: Not enough free spots (#3) to place 1 player and 2 boxes.\n",
      "[SOKOBAN] Retry . . .\n",
      "15 | 20\n",
      "[SOKOBAN] Runtime Error/Warning: Generated Model with score == 0\n",
      "[SOKOBAN] Retry . . .\n",
      "22 | 30\n",
      "[SOKOBAN] Runtime Error/Warning: Generated Model with score == 0\n",
      "[SOKOBAN] Retry . . .\n",
      "24 | 40\n",
      "[SOKOBAN] Runtime Error/Warning: Generated Model with score == 0\n",
      "[SOKOBAN] Retry . . .\n",
      "27 | 50\n",
      "32 | 60\n",
      "37 | 70\n",
      "45 | 80\n",
      "50 | 90\n",
      "57 | 100\n"
     ]
    },
    {
     "data": {
      "application/vnd.jupyter.widget-view+json": {
       "model_id": "074a2d4ffffd4f6c87f159665896bb84",
       "version_major": 2,
       "version_minor": 0
      },
      "text/plain": [
       "HBox(children=(FloatProgress(value=0.0), HTML(value='')))"
      ]
     },
     "metadata": {},
     "output_type": "display_data"
    },
    {
     "name": "stdout",
     "output_type": "stream",
     "text": [
      "[SOKOBAN] Runtime Error/Warning: Not enough free spots (#3) to place 1 player and 2 boxes.\n",
      "[SOKOBAN] Retry . . .\n",
      "\n",
      "Episode 5300 Epsilon 0.200 Learning Rate 0.000064 Solved: 60\n",
      "4 | 10\n",
      "10 | 20\n",
      "14 | 30\n",
      "18 | 40\n",
      "[SOKOBAN] Runtime Error/Warning: Generated Model with score == 0\n",
      "[SOKOBAN] Retry . . .\n",
      "[SOKOBAN] Runtime Error/Warning: Not enough free spots (#3) to place 1 player and 2 boxes.\n",
      "[SOKOBAN] Retry . . .\n",
      "22 | 50\n",
      "30 | 60\n",
      "36 | 70\n",
      "44 | 80\n",
      "49 | 90\n",
      "56 | 100\n"
     ]
    },
    {
     "data": {
      "application/vnd.jupyter.widget-view+json": {
       "model_id": "e13b1f64df1c4a198067acb0945dc2d4",
       "version_major": 2,
       "version_minor": 0
      },
      "text/plain": [
       "HBox(children=(FloatProgress(value=0.0), HTML(value='')))"
      ]
     },
     "metadata": {},
     "output_type": "display_data"
    },
    {
     "name": "stdout",
     "output_type": "stream",
     "text": [
      "[SOKOBAN] Runtime Error/Warning: Not enough free spots (#3) to place 1 player and 2 boxes.\n",
      "[SOKOBAN] Retry . . .\n",
      "\n",
      "Episode 5400 Epsilon 0.200 Learning Rate 0.000063 Solved: 60\n",
      "4 | 10\n",
      "11 | 20\n",
      "19 | 30\n",
      "25 | 40\n",
      "31 | 50\n",
      "37 | 60\n",
      "[SOKOBAN] Runtime Error/Warning: Not enough free spots (#3) to place 1 player and 2 boxes.\n",
      "[SOKOBAN] Retry . . .\n",
      "42 | 70\n",
      "50 | 80\n",
      "58 | 90\n",
      "64 | 100\n"
     ]
    },
    {
     "data": {
      "application/vnd.jupyter.widget-view+json": {
       "model_id": "f48f475d5923498c880c983ba9bfe7fe",
       "version_major": 2,
       "version_minor": 0
      },
      "text/plain": [
       "HBox(children=(FloatProgress(value=0.0), HTML(value='')))"
      ]
     },
     "metadata": {},
     "output_type": "display_data"
    },
    {
     "name": "stdout",
     "output_type": "stream",
     "text": [
      "[SOKOBAN] Runtime Error/Warning: Not enough free spots (#3) to place 1 player and 2 boxes.\n",
      "[SOKOBAN] Retry . . .\n",
      "\n",
      "Episode 5500 Epsilon 0.200 Learning Rate 0.000063 Solved: 63\n",
      "7 | 10\n",
      "14 | 20\n",
      "19 | 30\n",
      "26 | 40\n",
      "31 | 50\n",
      "39 | 60\n",
      "45 | 70\n",
      "52 | 80\n",
      "58 | 90\n",
      "65 | 100\n"
     ]
    },
    {
     "data": {
      "application/vnd.jupyter.widget-view+json": {
       "model_id": "9040482681634b1981708207e77d1e35",
       "version_major": 2,
       "version_minor": 0
      },
      "text/plain": [
       "HBox(children=(FloatProgress(value=0.0), HTML(value='')))"
      ]
     },
     "metadata": {},
     "output_type": "display_data"
    },
    {
     "name": "stdout",
     "output_type": "stream",
     "text": [
      "[SOKOBAN] Runtime Error/Warning: Not enough free spots (#3) to place 1 player and 2 boxes.\n",
      "[SOKOBAN] Retry . . .\n",
      "\n",
      "Episode 5600 Epsilon 0.200 Learning Rate 0.000062 Solved: 63\n",
      "3 | 10\n",
      "7 | 20\n",
      "[SOKOBAN] Runtime Error/Warning: Generated Model with score == 0\n",
      "[SOKOBAN] Retry . . .\n",
      "12 | 30\n",
      "16 | 40\n",
      "22 | 50\n",
      "30 | 60\n",
      "35 | 70\n",
      "42 | 80\n",
      "46 | 90\n",
      "55 | 100\n"
     ]
    },
    {
     "data": {
      "application/vnd.jupyter.widget-view+json": {
       "model_id": "71cd611556f24c76a29b3d2ce2ce6151",
       "version_major": 2,
       "version_minor": 0
      },
      "text/plain": [
       "HBox(children=(FloatProgress(value=0.0), HTML(value='')))"
      ]
     },
     "metadata": {},
     "output_type": "display_data"
    },
    {
     "name": "stdout",
     "output_type": "stream",
     "text": [
      "[SOKOBAN] Runtime Error/Warning: Not enough free spots (#3) to place 1 player and 2 boxes.\n",
      "[SOKOBAN] Retry . . .\n",
      "\n",
      "Episode 5700 Epsilon 0.200 Learning Rate 0.000062 Solved: 60\n",
      "4 | 10\n",
      "13 | 20\n",
      "[SOKOBAN] Runtime Error/Warning: Generated Model with score == 0\n",
      "[SOKOBAN] Retry . . .\n",
      "18 | 30\n",
      "[SOKOBAN] Runtime Error/Warning: Generated Model with score == 0\n",
      "[SOKOBAN] Retry . . .\n",
      "24 | 40\n",
      "28 | 50\n",
      "32 | 60\n",
      "36 | 70\n",
      "[SOKOBAN] Runtime Error/Warning: Generated Model with score == 0\n",
      "[SOKOBAN] Retry . . .\n",
      "42 | 80\n",
      "46 | 90\n",
      "55 | 100\n"
     ]
    },
    {
     "data": {
      "application/vnd.jupyter.widget-view+json": {
       "model_id": "bef09c6fc8564013824faea70d81cdbf",
       "version_major": 2,
       "version_minor": 0
      },
      "text/plain": [
       "HBox(children=(FloatProgress(value=0.0), HTML(value='')))"
      ]
     },
     "metadata": {},
     "output_type": "display_data"
    },
    {
     "name": "stdout",
     "output_type": "stream",
     "text": [
      "[SOKOBAN] Runtime Error/Warning: Not enough free spots (#3) to place 1 player and 2 boxes.\n",
      "[SOKOBAN] Retry . . .\n",
      "\n",
      "Episode 5800 Epsilon 0.200 Learning Rate 0.000061 Solved: 55\n",
      "6 | 10\n",
      "13 | 20\n",
      "18 | 30\n",
      "28 | 40\n",
      "33 | 50\n",
      "39 | 60\n",
      "46 | 70\n",
      "54 | 80\n",
      "60 | 90\n",
      "64 | 100\n"
     ]
    },
    {
     "data": {
      "application/vnd.jupyter.widget-view+json": {
       "model_id": "6734fc2a15574a4795959d67c37e8485",
       "version_major": 2,
       "version_minor": 0
      },
      "text/plain": [
       "HBox(children=(FloatProgress(value=0.0), HTML(value='')))"
      ]
     },
     "metadata": {},
     "output_type": "display_data"
    },
    {
     "name": "stdout",
     "output_type": "stream",
     "text": [
      "[SOKOBAN] Runtime Error/Warning: Not enough free spots (#3) to place 1 player and 2 boxes.\n",
      "[SOKOBAN] Retry . . .\n",
      "\n",
      "Episode 5900 Epsilon 0.200 Learning Rate 0.000061 Solved: 63\n",
      "7 | 10\n",
      "10 | 20\n",
      "15 | 30\n",
      "17 | 40\n",
      "21 | 50\n",
      "26 | 60\n",
      "32 | 70\n",
      "[SOKOBAN] Runtime Error/Warning: Not enough free spots (#3) to place 1 player and 2 boxes.\n",
      "[SOKOBAN] Retry . . .\n",
      "39 | 80\n",
      "[SOKOBAN] Runtime Error/Warning: Generated Model with score == 0\n",
      "[SOKOBAN] Retry . . .\n",
      "44 | 90\n",
      "52 | 100\n"
     ]
    },
    {
     "data": {
      "application/vnd.jupyter.widget-view+json": {
       "model_id": "a60d50b556ae42d78e0701e8e7b616e7",
       "version_major": 2,
       "version_minor": 0
      },
      "text/plain": [
       "HBox(children=(FloatProgress(value=0.0), HTML(value='')))"
      ]
     },
     "metadata": {},
     "output_type": "display_data"
    },
    {
     "name": "stdout",
     "output_type": "stream",
     "text": [
      "[SOKOBAN] Runtime Error/Warning: Not enough free spots (#3) to place 1 player and 2 boxes.\n",
      "[SOKOBAN] Retry . . .\n",
      "\n",
      "Episode 6000 Epsilon 0.200 Learning Rate 0.000060 Solved: 63\n",
      "7 | 10\n",
      "13 | 20\n",
      "18 | 30\n",
      "25 | 40\n",
      "32 | 50\n",
      "38 | 60\n",
      "45 | 70\n",
      "[SOKOBAN] Runtime Error/Warning: Not enough free spots (#3) to place 1 player and 2 boxes.\n",
      "[SOKOBAN] Retry . . .\n",
      "52 | 80\n",
      "[SOKOBAN] Runtime Error/Warning: Not enough free spots (#3) to place 1 player and 2 boxes.\n",
      "[SOKOBAN] Retry . . .\n",
      "58 | 90\n",
      "65 | 100\n"
     ]
    },
    {
     "data": {
      "application/vnd.jupyter.widget-view+json": {
       "model_id": "f25828eb51394d6c9f97f6bb0b70f813",
       "version_major": 2,
       "version_minor": 0
      },
      "text/plain": [
       "HBox(children=(FloatProgress(value=0.0), HTML(value='')))"
      ]
     },
     "metadata": {},
     "output_type": "display_data"
    },
    {
     "name": "stdout",
     "output_type": "stream",
     "text": [
      "[SOKOBAN] Runtime Error/Warning: Not enough free spots (#3) to place 1 player and 2 boxes.\n",
      "[SOKOBAN] Retry . . .\n",
      "\n",
      "Episode 6100 Epsilon 0.200 Learning Rate 0.000059 Solved: 60\n",
      "6 | 10\n",
      "14 | 20\n",
      "20 | 30\n",
      "[SOKOBAN] Runtime Error/Warning: Not enough free spots (#3) to place 1 player and 2 boxes.\n",
      "[SOKOBAN] Retry . . .\n",
      "26 | 40\n",
      "32 | 50\n",
      "39 | 60\n",
      "46 | 70\n",
      "51 | 80\n",
      "56 | 90\n",
      "63 | 100\n"
     ]
    },
    {
     "data": {
      "application/vnd.jupyter.widget-view+json": {
       "model_id": "6df82acc9f714556ac9e82a3d7618205",
       "version_major": 2,
       "version_minor": 0
      },
      "text/plain": [
       "HBox(children=(FloatProgress(value=0.0), HTML(value='')))"
      ]
     },
     "metadata": {},
     "output_type": "display_data"
    },
    {
     "name": "stdout",
     "output_type": "stream",
     "text": [
      "[SOKOBAN] Runtime Error/Warning: Not enough free spots (#3) to place 1 player and 2 boxes.\n",
      "[SOKOBAN] Retry . . .\n",
      "\n",
      "Episode 6200 Epsilon 0.200 Learning Rate 0.000059 Solved: 59\n",
      "6 | 10\n",
      "12 | 20\n",
      "17 | 30\n",
      "25 | 40\n",
      "[SOKOBAN] Runtime Error/Warning: Not enough free spots (#3) to place 1 player and 2 boxes.\n",
      "[SOKOBAN] Retry . . .\n",
      "34 | 50\n",
      "42 | 60\n",
      "49 | 70\n",
      "53 | 80\n",
      "61 | 90\n",
      "69 | 100\n"
     ]
    },
    {
     "data": {
      "application/vnd.jupyter.widget-view+json": {
       "model_id": "4ebeae4081c346598a487363a9f8f2aa",
       "version_major": 2,
       "version_minor": 0
      },
      "text/plain": [
       "HBox(children=(FloatProgress(value=0.0), HTML(value='')))"
      ]
     },
     "metadata": {},
     "output_type": "display_data"
    },
    {
     "name": "stdout",
     "output_type": "stream",
     "text": [
      "[SOKOBAN] Runtime Error/Warning: Not enough free spots (#3) to place 1 player and 2 boxes.\n",
      "[SOKOBAN] Retry . . .\n",
      "\n",
      "Episode 6300 Epsilon 0.200 Learning Rate 0.000059 Solved: 62\n",
      "7 | 10\n",
      "14 | 20\n",
      "21 | 30\n",
      "24 | 40\n",
      "[SOKOBAN] Runtime Error/Warning: Not enough free spots (#3) to place 1 player and 2 boxes.\n",
      "[SOKOBAN] Retry . . .\n",
      "31 | 50\n",
      "36 | 60\n",
      "41 | 70\n",
      "48 | 80\n",
      "54 | 90\n",
      "59 | 100\n"
     ]
    },
    {
     "data": {
      "application/vnd.jupyter.widget-view+json": {
       "model_id": "a74499ee38704ca690931998e0a45dce",
       "version_major": 2,
       "version_minor": 0
      },
      "text/plain": [
       "HBox(children=(FloatProgress(value=0.0), HTML(value='')))"
      ]
     },
     "metadata": {},
     "output_type": "display_data"
    },
    {
     "name": "stdout",
     "output_type": "stream",
     "text": [
      "[SOKOBAN] Runtime Error/Warning: Not enough free spots (#3) to place 1 player and 2 boxes.\n",
      "[SOKOBAN] Retry . . .\n",
      "\n",
      "Episode 6400 Epsilon 0.200 Learning Rate 0.000058 Solved: 55\n",
      "7 | 10\n",
      "[SOKOBAN] Runtime Error/Warning: Not enough free spots (#3) to place 1 player and 2 boxes.\n",
      "[SOKOBAN] Retry . . .\n",
      "13 | 20\n",
      "18 | 30\n",
      "25 | 40\n",
      "32 | 50\n",
      "37 | 60\n",
      "44 | 70\n",
      "50 | 80\n",
      "51 | 90\n",
      "58 | 100\n"
     ]
    },
    {
     "data": {
      "application/vnd.jupyter.widget-view+json": {
       "model_id": "3397b00c46a147c2a971c5dc667e6663",
       "version_major": 2,
       "version_minor": 0
      },
      "text/plain": [
       "HBox(children=(FloatProgress(value=0.0), HTML(value='')))"
      ]
     },
     "metadata": {},
     "output_type": "display_data"
    },
    {
     "name": "stdout",
     "output_type": "stream",
     "text": [
      "[SOKOBAN] Runtime Error/Warning: Not enough free spots (#3) to place 1 player and 2 boxes.\n",
      "[SOKOBAN] Retry . . .\n",
      "\n",
      "Episode 6500 Epsilon 0.200 Learning Rate 0.000058 Solved: 63\n",
      "7 | 10\n",
      "15 | 20\n",
      "20 | 30\n",
      "24 | 40\n",
      "31 | 50\n",
      "[SOKOBAN] Runtime Error/Warning: Not enough free spots (#3) to place 1 player and 2 boxes.\n",
      "[SOKOBAN] Retry . . .\n",
      "38 | 60\n",
      "[SOKOBAN] Runtime Error/Warning: Generated Model with score == 0\n",
      "[SOKOBAN] Retry . . .\n",
      "45 | 70\n",
      "[SOKOBAN] Runtime Error/Warning: Generated Model with score == 0\n",
      "[SOKOBAN] Retry . . .\n",
      "51 | 80\n",
      "56 | 90\n",
      "63 | 100\n"
     ]
    },
    {
     "data": {
      "application/vnd.jupyter.widget-view+json": {
       "model_id": "1ffc0747c4d8491c988e020bb970638d",
       "version_major": 2,
       "version_minor": 0
      },
      "text/plain": [
       "HBox(children=(FloatProgress(value=0.0), HTML(value='')))"
      ]
     },
     "metadata": {},
     "output_type": "display_data"
    },
    {
     "name": "stdout",
     "output_type": "stream",
     "text": [
      "[SOKOBAN] Runtime Error/Warning: Not enough free spots (#3) to place 1 player and 2 boxes.\n",
      "[SOKOBAN] Retry . . .\n",
      "\n",
      "Episode 6600 Epsilon 0.200 Learning Rate 0.000057 Solved: 59\n",
      "[SOKOBAN] Runtime Error/Warning: Not enough free spots (#3) to place 1 player and 2 boxes.\n",
      "[SOKOBAN] Retry . . .\n",
      "[SOKOBAN] Runtime Error/Warning: Generated Model with score == 0\n",
      "[SOKOBAN] Retry . . .\n",
      "5 | 10\n",
      "14 | 20\n",
      "23 | 30\n",
      "26 | 40\n",
      "32 | 50\n",
      "37 | 60\n",
      "45 | 70\n",
      "51 | 80\n",
      "56 | 90\n",
      "62 | 100\n"
     ]
    },
    {
     "data": {
      "application/vnd.jupyter.widget-view+json": {
       "model_id": "fa4813f5c3ff4d7f808f9d6daf720315",
       "version_major": 2,
       "version_minor": 0
      },
      "text/plain": [
       "HBox(children=(FloatProgress(value=0.0), HTML(value='')))"
      ]
     },
     "metadata": {},
     "output_type": "display_data"
    },
    {
     "name": "stdout",
     "output_type": "stream",
     "text": [
      "[SOKOBAN] Runtime Error/Warning: Not enough free spots (#3) to place 1 player and 2 boxes.\n",
      "[SOKOBAN] Retry . . .\n",
      "\n",
      "Episode 6700 Epsilon 0.200 Learning Rate 0.000057 Solved: 54\n",
      "6 | 10\n",
      "11 | 20\n",
      "20 | 30\n",
      "25 | 40\n",
      "32 | 50\n",
      "39 | 60\n",
      "46 | 70\n",
      "53 | 80\n",
      "59 | 90\n",
      "[SOKOBAN] Runtime Error/Warning: Not enough free spots (#3) to place 1 player and 2 boxes.\n",
      "[SOKOBAN] Retry . . .\n",
      "67 | 100\n"
     ]
    },
    {
     "data": {
      "application/vnd.jupyter.widget-view+json": {
       "model_id": "eb92669767674f6fb1c1a0efb5be3c9c",
       "version_major": 2,
       "version_minor": 0
      },
      "text/plain": [
       "HBox(children=(FloatProgress(value=0.0), HTML(value='')))"
      ]
     },
     "metadata": {},
     "output_type": "display_data"
    },
    {
     "name": "stdout",
     "output_type": "stream",
     "text": [
      "[SOKOBAN] Runtime Error/Warning: Not enough free spots (#3) to place 1 player and 2 boxes.\n",
      "[SOKOBAN] Retry . . .\n",
      "\n",
      "Episode 6800 Epsilon 0.200 Learning Rate 0.000056 Solved: 50\n",
      "9 | 10\n",
      "15 | 20\n",
      "22 | 30\n",
      "27 | 40\n",
      "34 | 50\n",
      "39 | 60\n",
      "45 | 70\n",
      "[SOKOBAN] Runtime Error/Warning: Generated Model with score == 0\n",
      "[SOKOBAN] Retry . . .\n",
      "48 | 80\n",
      "56 | 90\n",
      "62 | 100\n"
     ]
    },
    {
     "data": {
      "application/vnd.jupyter.widget-view+json": {
       "model_id": "969c3f9e5e284790a500b41637da1d7e",
       "version_major": 2,
       "version_minor": 0
      },
      "text/plain": [
       "HBox(children=(FloatProgress(value=0.0), HTML(value='')))"
      ]
     },
     "metadata": {},
     "output_type": "display_data"
    },
    {
     "name": "stdout",
     "output_type": "stream",
     "text": [
      "[SOKOBAN] Runtime Error/Warning: Not enough free spots (#3) to place 1 player and 2 boxes.\n",
      "[SOKOBAN] Retry . . .\n",
      "\n",
      "Episode 6900 Epsilon 0.200 Learning Rate 0.000056 Solved: 56\n",
      "6 | 10\n",
      "15 | 20\n",
      "[SOKOBAN] Runtime Error/Warning: Generated Model with score == 0\n",
      "[SOKOBAN] Retry . . .\n",
      "23 | 30\n",
      "25 | 40\n",
      "29 | 50\n",
      "36 | 60\n",
      "39 | 70\n",
      "43 | 80\n",
      "48 | 90\n",
      "53 | 100\n"
     ]
    },
    {
     "data": {
      "application/vnd.jupyter.widget-view+json": {
       "model_id": "264e2396bae2471ab81c67b66ecbc936",
       "version_major": 2,
       "version_minor": 0
      },
      "text/plain": [
       "HBox(children=(FloatProgress(value=0.0), HTML(value='')))"
      ]
     },
     "metadata": {},
     "output_type": "display_data"
    },
    {
     "name": "stdout",
     "output_type": "stream",
     "text": [
      "[SOKOBAN] Runtime Error/Warning: Not enough free spots (#3) to place 1 player and 2 boxes.\n",
      "[SOKOBAN] Retry . . .\n",
      "\n",
      "Episode 7000 Epsilon 0.200 Learning Rate 0.000055 Solved: 55\n",
      "2 | 10\n",
      "[SOKOBAN] Runtime Error/Warning: Not enough free spots (#3) to place 1 player and 2 boxes.\n",
      "[SOKOBAN] Retry . . .\n",
      "8 | 20\n",
      "12 | 30\n",
      "19 | 40\n",
      "26 | 50\n",
      "33 | 60\n",
      "37 | 70\n",
      "43 | 80\n",
      "51 | 90\n",
      "56 | 100\n"
     ]
    },
    {
     "data": {
      "application/vnd.jupyter.widget-view+json": {
       "model_id": "979355cb8f244264886aff9cbf84eb87",
       "version_major": 2,
       "version_minor": 0
      },
      "text/plain": [
       "HBox(children=(FloatProgress(value=0.0), HTML(value='')))"
      ]
     },
     "metadata": {},
     "output_type": "display_data"
    },
    {
     "name": "stdout",
     "output_type": "stream",
     "text": [
      "[SOKOBAN] Runtime Error/Warning: Not enough free spots (#3) to place 1 player and 2 boxes.\n",
      "[SOKOBAN] Retry . . .\n",
      "\n",
      "Episode 7100 Epsilon 0.200 Learning Rate 0.000055 Solved: 58\n",
      "5 | 10\n",
      "10 | 20\n",
      "16 | 30\n",
      "[SOKOBAN] Runtime Error/Warning: Generated Model with score == 0\n",
      "[SOKOBAN] Retry . . .\n",
      "[SOKOBAN] Runtime Error/Warning: Generated Model with score == 0\n",
      "[SOKOBAN] Retry . . .\n",
      "22 | 40\n",
      "29 | 50\n",
      "[SOKOBAN] Runtime Error/Warning: Not enough free spots (#3) to place 1 player and 2 boxes.\n",
      "[SOKOBAN] Retry . . .\n",
      "35 | 60\n",
      "41 | 70\n",
      "48 | 80\n",
      "[SOKOBAN] Runtime Error/Warning: Not enough free spots (#3) to place 1 player and 2 boxes.\n",
      "[SOKOBAN] Retry . . .\n",
      "55 | 90\n",
      "59 | 100\n"
     ]
    },
    {
     "data": {
      "application/vnd.jupyter.widget-view+json": {
       "model_id": "8e63911127d74dceae3606f8164091f9",
       "version_major": 2,
       "version_minor": 0
      },
      "text/plain": [
       "HBox(children=(FloatProgress(value=0.0), HTML(value='')))"
      ]
     },
     "metadata": {},
     "output_type": "display_data"
    },
    {
     "name": "stdout",
     "output_type": "stream",
     "text": [
      "[SOKOBAN] Runtime Error/Warning: Not enough free spots (#3) to place 1 player and 2 boxes.\n",
      "[SOKOBAN] Retry . . .\n",
      "\n",
      "Episode 7200 Epsilon 0.200 Learning Rate 0.000054 Solved: 63\n",
      "4 | 10\n",
      "9 | 20\n",
      "16 | 30\n",
      "21 | 40\n",
      "27 | 50\n",
      "32 | 60\n",
      "37 | 70\n",
      "44 | 80\n",
      "50 | 90\n",
      "56 | 100\n"
     ]
    },
    {
     "data": {
      "application/vnd.jupyter.widget-view+json": {
       "model_id": "9582a82e3e6448838e8eb86bf7062a7e",
       "version_major": 2,
       "version_minor": 0
      },
      "text/plain": [
       "HBox(children=(FloatProgress(value=0.0), HTML(value='')))"
      ]
     },
     "metadata": {},
     "output_type": "display_data"
    },
    {
     "name": "stdout",
     "output_type": "stream",
     "text": [
      "[SOKOBAN] Runtime Error/Warning: Not enough free spots (#3) to place 1 player and 2 boxes.\n",
      "[SOKOBAN] Retry . . .\n",
      "\n",
      "Episode 7300 Epsilon 0.200 Learning Rate 0.000054 Solved: 61\n",
      "5 | 10\n",
      "11 | 20\n",
      "16 | 30\n",
      "21 | 40\n",
      "30 | 50\n",
      "37 | 60\n",
      "[SOKOBAN] Runtime Error/Warning: Not enough free spots (#3) to place 1 player and 2 boxes.\n",
      "[SOKOBAN] Retry . . .\n",
      "41 | 70\n",
      "48 | 80\n",
      "56 | 90\n",
      "62 | 100\n"
     ]
    },
    {
     "data": {
      "application/vnd.jupyter.widget-view+json": {
       "model_id": "e98e791f0fdf40b1bddf24bcff143510",
       "version_major": 2,
       "version_minor": 0
      },
      "text/plain": [
       "HBox(children=(FloatProgress(value=0.0), HTML(value='')))"
      ]
     },
     "metadata": {},
     "output_type": "display_data"
    },
    {
     "name": "stdout",
     "output_type": "stream",
     "text": [
      "[SOKOBAN] Runtime Error/Warning: Not enough free spots (#3) to place 1 player and 2 boxes.\n",
      "[SOKOBAN] Retry . . .\n",
      "\n",
      "Episode 7400 Epsilon 0.200 Learning Rate 0.000053 Solved: 65\n",
      "5 | 10\n",
      "13 | 20\n",
      "20 | 30\n",
      "26 | 40\n",
      "28 | 50\n",
      "[SOKOBAN] Runtime Error/Warning: Generated Model with score == 0\n",
      "[SOKOBAN] Retry . . .\n",
      "35 | 60\n",
      "41 | 70\n",
      "49 | 80\n",
      "57 | 90\n",
      "62 | 100\n"
     ]
    },
    {
     "data": {
      "application/vnd.jupyter.widget-view+json": {
       "model_id": "b0b4938680a048898faf3c9ff38047d2",
       "version_major": 2,
       "version_minor": 0
      },
      "text/plain": [
       "HBox(children=(FloatProgress(value=0.0), HTML(value='')))"
      ]
     },
     "metadata": {},
     "output_type": "display_data"
    },
    {
     "name": "stdout",
     "output_type": "stream",
     "text": [
      "[SOKOBAN] Runtime Error/Warning: Not enough free spots (#3) to place 1 player and 2 boxes.\n",
      "[SOKOBAN] Retry . . .\n",
      "\n",
      "Episode 7500 Epsilon 0.200 Learning Rate 0.000053 Solved: 63\n",
      "5 | 10\n",
      "11 | 20\n",
      "17 | 30\n",
      "22 | 40\n",
      "[SOKOBAN] Runtime Error/Warning: Not enough free spots (#3) to place 1 player and 2 boxes.\n",
      "[SOKOBAN] Retry . . .\n",
      "30 | 50\n",
      "34 | 60\n",
      "41 | 70\n",
      "47 | 80\n",
      "53 | 90\n",
      "60 | 100\n"
     ]
    },
    {
     "data": {
      "application/vnd.jupyter.widget-view+json": {
       "model_id": "fbf3d0d88ccb4fc48f3a848834e76b4b",
       "version_major": 2,
       "version_minor": 0
      },
      "text/plain": [
       "HBox(children=(FloatProgress(value=0.0), HTML(value='')))"
      ]
     },
     "metadata": {},
     "output_type": "display_data"
    },
    {
     "name": "stdout",
     "output_type": "stream",
     "text": [
      "[SOKOBAN] Runtime Error/Warning: Not enough free spots (#3) to place 1 player and 2 boxes.\n",
      "[SOKOBAN] Retry . . .\n",
      "\n",
      "Episode 7600 Epsilon 0.200 Learning Rate 0.000052 Solved: 67\n",
      "5 | 10\n",
      "[SOKOBAN] Runtime Error/Warning: Generated Model with score == 0\n",
      "[SOKOBAN] Retry . . .\n",
      "11 | 20\n",
      "16 | 30\n",
      "[SOKOBAN] Runtime Error/Warning: Generated Model with score == 0\n",
      "[SOKOBAN] Retry . . .\n",
      "23 | 40\n",
      "30 | 50\n",
      "38 | 60\n",
      "46 | 70\n",
      "51 | 80\n",
      "57 | 90\n",
      "61 | 100\n"
     ]
    },
    {
     "data": {
      "application/vnd.jupyter.widget-view+json": {
       "model_id": "94beb101c1a14667af9bbcb5efca2d32",
       "version_major": 2,
       "version_minor": 0
      },
      "text/plain": [
       "HBox(children=(FloatProgress(value=0.0), HTML(value='')))"
      ]
     },
     "metadata": {},
     "output_type": "display_data"
    },
    {
     "name": "stdout",
     "output_type": "stream",
     "text": [
      "[SOKOBAN] Runtime Error/Warning: Not enough free spots (#3) to place 1 player and 2 boxes.\n",
      "[SOKOBAN] Retry . . .\n",
      "\n",
      "Episode 7700 Epsilon 0.200 Learning Rate 0.000052 Solved: 60\n",
      "9 | 10\n",
      "15 | 20\n",
      "[SOKOBAN] Runtime Error/Warning: Not enough free spots (#3) to place 1 player and 2 boxes.\n",
      "[SOKOBAN] Retry . . .\n",
      "23 | 30\n",
      "29 | 40\n",
      "[SOKOBAN] Runtime Error/Warning: Generated Model with score == 0\n",
      "[SOKOBAN] Retry . . .\n",
      "32 | 50\n",
      "38 | 60\n",
      "44 | 70\n",
      "[SOKOBAN] Runtime Error/Warning: Not enough free spots (#3) to place 1 player and 2 boxes.\n",
      "[SOKOBAN] Retry . . .\n",
      "49 | 80\n",
      "54 | 90\n",
      "60 | 100\n"
     ]
    },
    {
     "data": {
      "application/vnd.jupyter.widget-view+json": {
       "model_id": "c5a57b5ef0b8475586c729aaf8de255e",
       "version_major": 2,
       "version_minor": 0
      },
      "text/plain": [
       "HBox(children=(FloatProgress(value=0.0), HTML(value='')))"
      ]
     },
     "metadata": {},
     "output_type": "display_data"
    },
    {
     "name": "stdout",
     "output_type": "stream",
     "text": [
      "[SOKOBAN] Runtime Error/Warning: Not enough free spots (#3) to place 1 player and 2 boxes.\n",
      "[SOKOBAN] Retry . . .\n",
      "\n",
      "Episode 7800 Epsilon 0.200 Learning Rate 0.000052 Solved: 64\n",
      "7 | 10\n",
      "[SOKOBAN] Runtime Error/Warning: Not enough free spots (#3) to place 1 player and 2 boxes.\n",
      "[SOKOBAN] Retry . . .\n",
      "10 | 20\n",
      "14 | 30\n",
      "22 | 40\n",
      "28 | 50\n",
      "35 | 60\n",
      "42 | 70\n",
      "46 | 80\n",
      "52 | 90\n",
      "59 | 100\n"
     ]
    },
    {
     "data": {
      "application/vnd.jupyter.widget-view+json": {
       "model_id": "75cb31298a454100a8e2ac5b6ffd1f7a",
       "version_major": 2,
       "version_minor": 0
      },
      "text/plain": [
       "HBox(children=(FloatProgress(value=0.0), HTML(value='')))"
      ]
     },
     "metadata": {},
     "output_type": "display_data"
    },
    {
     "name": "stdout",
     "output_type": "stream",
     "text": [
      "[SOKOBAN] Runtime Error/Warning: Not enough free spots (#3) to place 1 player and 2 boxes.\n",
      "[SOKOBAN] Retry . . .\n",
      "\n",
      "Episode 7900 Epsilon 0.200 Learning Rate 0.000051 Solved: 51\n",
      "4 | 10\n",
      "11 | 20\n",
      "[SOKOBAN] Runtime Error/Warning: Generated Model with score == 0\n",
      "[SOKOBAN] Retry . . .\n",
      "14 | 30\n",
      "20 | 40\n",
      "26 | 50\n",
      "35 | 60\n",
      "[SOKOBAN] Runtime Error/Warning: Not enough free spots (#3) to place 1 player and 2 boxes.\n",
      "[SOKOBAN] Retry . . .\n",
      "39 | 70\n",
      "43 | 80\n",
      "[SOKOBAN] Runtime Error/Warning: Generated Model with score == 0\n",
      "[SOKOBAN] Retry . . .\n",
      "[SOKOBAN] Runtime Error/Warning: Not enough free spots (#3) to place 1 player and 2 boxes.\n",
      "[SOKOBAN] Retry . . .\n",
      "46 | 90\n",
      "49 | 100\n"
     ]
    },
    {
     "data": {
      "application/vnd.jupyter.widget-view+json": {
       "model_id": "cc47e6eda70b4e3f9cc241584cb4dbd2",
       "version_major": 2,
       "version_minor": 0
      },
      "text/plain": [
       "HBox(children=(FloatProgress(value=0.0), HTML(value='')))"
      ]
     },
     "metadata": {},
     "output_type": "display_data"
    },
    {
     "name": "stdout",
     "output_type": "stream",
     "text": [
      "[SOKOBAN] Runtime Error/Warning: Not enough free spots (#3) to place 1 player and 2 boxes.\n",
      "[SOKOBAN] Retry . . .\n",
      "\n",
      "Episode 8000 Epsilon 0.200 Learning Rate 0.000051 Solved: 53\n",
      "8 | 10\n",
      "13 | 20\n",
      "[SOKOBAN] Runtime Error/Warning: Not enough free spots (#3) to place 1 player and 2 boxes.\n",
      "[SOKOBAN] Retry . . .\n",
      "[SOKOBAN] Runtime Error/Warning: Generated Model with score == 0\n",
      "[SOKOBAN] Retry . . .\n",
      "18 | 30\n",
      "[SOKOBAN] Runtime Error/Warning: Generated Model with score == 0\n",
      "[SOKOBAN] Retry . . .\n",
      "25 | 40\n",
      "32 | 50\n",
      "37 | 60\n",
      "43 | 70\n",
      "49 | 80\n",
      "54 | 90\n",
      "59 | 100\n"
     ]
    },
    {
     "data": {
      "application/vnd.jupyter.widget-view+json": {
       "model_id": "b6498f4c32544f1f9a3acb4a8f90d9b1",
       "version_major": 2,
       "version_minor": 0
      },
      "text/plain": [
       "HBox(children=(FloatProgress(value=0.0), HTML(value='')))"
      ]
     },
     "metadata": {},
     "output_type": "display_data"
    },
    {
     "name": "stdout",
     "output_type": "stream",
     "text": [
      "[SOKOBAN] Runtime Error/Warning: Not enough free spots (#3) to place 1 player and 2 boxes.\n",
      "[SOKOBAN] Retry . . .\n",
      "\n",
      "Episode 8100 Epsilon 0.200 Learning Rate 0.000050 Solved: 60\n",
      "5 | 10\n",
      "14 | 20\n",
      "[SOKOBAN] Runtime Error/Warning: Generated Model with score == 0\n",
      "[SOKOBAN] Retry . . .\n",
      "21 | 30\n",
      "29 | 40\n",
      "34 | 50\n",
      "39 | 60\n",
      "46 | 70\n",
      "49 | 80\n",
      "55 | 90\n",
      "61 | 100\n"
     ]
    },
    {
     "data": {
      "application/vnd.jupyter.widget-view+json": {
       "model_id": "95eafc58a4fa4341a996bf340ef322d1",
       "version_major": 2,
       "version_minor": 0
      },
      "text/plain": [
       "HBox(children=(FloatProgress(value=0.0), HTML(value='')))"
      ]
     },
     "metadata": {},
     "output_type": "display_data"
    },
    {
     "name": "stdout",
     "output_type": "stream",
     "text": [
      "[SOKOBAN] Runtime Error/Warning: Not enough free spots (#3) to place 1 player and 2 boxes.\n",
      "[SOKOBAN] Retry . . .\n",
      "\n",
      "Episode 8200 Epsilon 0.200 Learning Rate 0.000050 Solved: 63\n",
      "3 | 10\n",
      "10 | 20\n",
      "[SOKOBAN] Runtime Error/Warning: Not enough free spots (#3) to place 1 player and 2 boxes.\n",
      "[SOKOBAN] Retry . . .\n",
      "15 | 30\n",
      "23 | 40\n",
      "29 | 50\n",
      "33 | 60\n",
      "41 | 70\n",
      "47 | 80\n",
      "53 | 90\n",
      "59 | 100\n"
     ]
    },
    {
     "data": {
      "application/vnd.jupyter.widget-view+json": {
       "model_id": "0b054e7ae2944471befb79729cc848f8",
       "version_major": 2,
       "version_minor": 0
      },
      "text/plain": [
       "HBox(children=(FloatProgress(value=0.0), HTML(value='')))"
      ]
     },
     "metadata": {},
     "output_type": "display_data"
    },
    {
     "name": "stdout",
     "output_type": "stream",
     "text": [
      "[SOKOBAN] Runtime Error/Warning: Not enough free spots (#3) to place 1 player and 2 boxes.\n",
      "[SOKOBAN] Retry . . .\n",
      "\n",
      "Episode 8300 Epsilon 0.200 Learning Rate 0.000049 Solved: 51\n",
      "7 | 10\n",
      "14 | 20\n",
      "20 | 30\n",
      "23 | 40\n",
      "[SOKOBAN] Runtime Error/Warning: Generated Model with score == 0\n",
      "[SOKOBAN] Retry . . .\n",
      "27 | 50\n",
      "[SOKOBAN] Runtime Error/Warning: Generated Model with score == 0\n",
      "[SOKOBAN] Retry . . .\n",
      "32 | 60\n",
      "[SOKOBAN] Runtime Error/Warning: Not enough free spots (#3) to place 1 player and 2 boxes.\n",
      "[SOKOBAN] Retry . . .\n",
      "37 | 70\n",
      "41 | 80\n",
      "47 | 90\n",
      "56 | 100\n"
     ]
    },
    {
     "data": {
      "application/vnd.jupyter.widget-view+json": {
       "model_id": "fbfda476f22a4f339f198236c4f32448",
       "version_major": 2,
       "version_minor": 0
      },
      "text/plain": [
       "HBox(children=(FloatProgress(value=0.0), HTML(value='')))"
      ]
     },
     "metadata": {},
     "output_type": "display_data"
    },
    {
     "name": "stdout",
     "output_type": "stream",
     "text": [
      "[SOKOBAN] Runtime Error/Warning: Not enough free spots (#3) to place 1 player and 2 boxes.\n",
      "[SOKOBAN] Retry . . .\n",
      "\n",
      "Episode 8400 Epsilon 0.200 Learning Rate 0.000049 Solved: 61\n",
      "5 | 10\n",
      "12 | 20\n",
      "18 | 30\n",
      "25 | 40\n",
      "30 | 50\n",
      "35 | 60\n",
      "42 | 70\n",
      "47 | 80\n",
      "52 | 90\n",
      "60 | 100\n"
     ]
    },
    {
     "data": {
      "application/vnd.jupyter.widget-view+json": {
       "model_id": "601fd1862b9e4153b71765d3db104d53",
       "version_major": 2,
       "version_minor": 0
      },
      "text/plain": [
       "HBox(children=(FloatProgress(value=0.0), HTML(value='')))"
      ]
     },
     "metadata": {},
     "output_type": "display_data"
    },
    {
     "name": "stdout",
     "output_type": "stream",
     "text": [
      "[SOKOBAN] Runtime Error/Warning: Not enough free spots (#3) to place 1 player and 2 boxes.\n",
      "[SOKOBAN] Retry . . .\n",
      "\n",
      "Episode 8500 Epsilon 0.200 Learning Rate 0.000048 Solved: 59\n",
      "5 | 10\n",
      "[SOKOBAN] Runtime Error/Warning: Generated Model with score == 0\n",
      "[SOKOBAN] Retry . . .\n",
      "10 | 20\n",
      "17 | 30\n",
      "[SOKOBAN] Runtime Error/Warning: Generated Model with score == 0\n",
      "[SOKOBAN] Retry . . .\n",
      "22 | 40\n",
      "27 | 50\n",
      "33 | 60\n",
      "37 | 70\n",
      "[SOKOBAN] Runtime Error/Warning: Generated Model with score == 0\n",
      "[SOKOBAN] Retry . . .\n",
      "44 | 80\n",
      "50 | 90\n",
      "56 | 100\n"
     ]
    },
    {
     "data": {
      "application/vnd.jupyter.widget-view+json": {
       "model_id": "0d5a5ebbb16441f68426c74140e8765f",
       "version_major": 2,
       "version_minor": 0
      },
      "text/plain": [
       "HBox(children=(FloatProgress(value=0.0), HTML(value='')))"
      ]
     },
     "metadata": {},
     "output_type": "display_data"
    },
    {
     "name": "stdout",
     "output_type": "stream",
     "text": [
      "[SOKOBAN] Runtime Error/Warning: Not enough free spots (#3) to place 1 player and 2 boxes.\n",
      "[SOKOBAN] Retry . . .\n",
      "\n",
      "Episode 8600 Epsilon 0.200 Learning Rate 0.000048 Solved: 57\n",
      "4 | 10\n",
      "12 | 20\n",
      "20 | 30\n",
      "27 | 40\n",
      "31 | 50\n",
      "[SOKOBAN] Runtime Error/Warning: Generated Model with score == 0\n",
      "[SOKOBAN] Retry . . .\n",
      "39 | 60\n",
      "46 | 70\n",
      "51 | 80\n",
      "56 | 90\n",
      "61 | 100\n"
     ]
    },
    {
     "data": {
      "application/vnd.jupyter.widget-view+json": {
       "model_id": "067dc96a247a4237bbc85854572242fd",
       "version_major": 2,
       "version_minor": 0
      },
      "text/plain": [
       "HBox(children=(FloatProgress(value=0.0), HTML(value='')))"
      ]
     },
     "metadata": {},
     "output_type": "display_data"
    },
    {
     "name": "stdout",
     "output_type": "stream",
     "text": [
      "[SOKOBAN] Runtime Error/Warning: Not enough free spots (#3) to place 1 player and 2 boxes.\n",
      "[SOKOBAN] Retry . . .\n",
      "\n",
      "Episode 8700 Epsilon 0.200 Learning Rate 0.000048 Solved: 60\n",
      "5 | 10\n",
      "13 | 20\n",
      "20 | 30\n",
      "25 | 40\n",
      "29 | 50\n",
      "36 | 60\n",
      "39 | 70\n",
      "43 | 80\n",
      "48 | 90\n",
      "54 | 100\n"
     ]
    },
    {
     "data": {
      "application/vnd.jupyter.widget-view+json": {
       "model_id": "dd3d85c2c64c40f38f040347a65ddf00",
       "version_major": 2,
       "version_minor": 0
      },
      "text/plain": [
       "HBox(children=(FloatProgress(value=0.0), HTML(value='')))"
      ]
     },
     "metadata": {},
     "output_type": "display_data"
    },
    {
     "name": "stdout",
     "output_type": "stream",
     "text": [
      "[SOKOBAN] Runtime Error/Warning: Not enough free spots (#3) to place 1 player and 2 boxes.\n",
      "[SOKOBAN] Retry . . .\n",
      "\n",
      "Episode 8800 Epsilon 0.200 Learning Rate 0.000047 Solved: 61\n",
      "6 | 10\n",
      "9 | 20\n",
      "14 | 30\n",
      "22 | 40\n",
      "[SOKOBAN] Runtime Error/Warning: Generated Model with score == 0\n",
      "[SOKOBAN] Retry . . .\n",
      "29 | 50\n",
      "[SOKOBAN] Runtime Error/Warning: Not enough free spots (#3) to place 1 player and 2 boxes.\n",
      "[SOKOBAN] Retry . . .\n",
      "32 | 60\n",
      "38 | 70\n",
      "44 | 80\n",
      "[SOKOBAN] Runtime Error/Warning: Generated Model with score == 0\n",
      "[SOKOBAN] Retry . . .\n",
      "50 | 90\n",
      "56 | 100\n"
     ]
    },
    {
     "data": {
      "application/vnd.jupyter.widget-view+json": {
       "model_id": "8a6cd3bfd2ab4010afd730132b2a17ba",
       "version_major": 2,
       "version_minor": 0
      },
      "text/plain": [
       "HBox(children=(FloatProgress(value=0.0), HTML(value='')))"
      ]
     },
     "metadata": {},
     "output_type": "display_data"
    },
    {
     "name": "stdout",
     "output_type": "stream",
     "text": [
      "[SOKOBAN] Runtime Error/Warning: Not enough free spots (#3) to place 1 player and 2 boxes.\n",
      "[SOKOBAN] Retry . . .\n",
      "\n",
      "Episode 8900 Epsilon 0.200 Learning Rate 0.000047 Solved: 62\n",
      "7 | 10\n",
      "14 | 20\n",
      "20 | 30\n",
      "24 | 40\n",
      "32 | 50\n",
      "39 | 60\n",
      "47 | 70\n",
      "54 | 80\n",
      "59 | 90\n",
      "67 | 100\n"
     ]
    },
    {
     "data": {
      "application/vnd.jupyter.widget-view+json": {
       "model_id": "198c1737040f4ce9870629af4d6df123",
       "version_major": 2,
       "version_minor": 0
      },
      "text/plain": [
       "HBox(children=(FloatProgress(value=0.0), HTML(value='')))"
      ]
     },
     "metadata": {},
     "output_type": "display_data"
    },
    {
     "name": "stdout",
     "output_type": "stream",
     "text": [
      "[SOKOBAN] Runtime Error/Warning: Not enough free spots (#3) to place 1 player and 2 boxes.\n",
      "[SOKOBAN] Retry . . .\n",
      "\n",
      "Episode 9000 Epsilon 0.200 Learning Rate 0.000046 Solved: 59\n",
      "[SOKOBAN] Runtime Error/Warning: Generated Model with score == 0\n",
      "[SOKOBAN] Retry . . .\n",
      "9 | 10\n",
      "15 | 20\n",
      "20 | 30\n",
      "26 | 40\n",
      "33 | 50\n",
      "37 | 60\n",
      "41 | 70\n",
      "49 | 80\n",
      "53 | 90\n",
      "58 | 100\n"
     ]
    },
    {
     "data": {
      "application/vnd.jupyter.widget-view+json": {
       "model_id": "f3865dbd949a41fd9b08421dd26472a1",
       "version_major": 2,
       "version_minor": 0
      },
      "text/plain": [
       "HBox(children=(FloatProgress(value=0.0), HTML(value='')))"
      ]
     },
     "metadata": {},
     "output_type": "display_data"
    },
    {
     "name": "stdout",
     "output_type": "stream",
     "text": [
      "[SOKOBAN] Runtime Error/Warning: Not enough free spots (#3) to place 1 player and 2 boxes.\n",
      "[SOKOBAN] Retry . . .\n",
      "\n",
      "Episode 9100 Epsilon 0.200 Learning Rate 0.000046 Solved: 56\n",
      "6 | 10\n",
      "11 | 20\n",
      "15 | 30\n",
      "22 | 40\n",
      "28 | 50\n",
      "[SOKOBAN] Runtime Error/Warning: Generated Model with score == 0\n",
      "[SOKOBAN] Retry . . .\n",
      "34 | 60\n",
      "42 | 70\n",
      "50 | 80\n",
      "57 | 90\n",
      "63 | 100\n"
     ]
    },
    {
     "data": {
      "application/vnd.jupyter.widget-view+json": {
       "model_id": "c9a8188fc6bc4903af905780130092dc",
       "version_major": 2,
       "version_minor": 0
      },
      "text/plain": [
       "HBox(children=(FloatProgress(value=0.0), HTML(value='')))"
      ]
     },
     "metadata": {},
     "output_type": "display_data"
    },
    {
     "name": "stdout",
     "output_type": "stream",
     "text": [
      "[SOKOBAN] Runtime Error/Warning: Not enough free spots (#3) to place 1 player and 2 boxes.\n",
      "[SOKOBAN] Retry . . .\n",
      "\n",
      "Episode 9200 Epsilon 0.200 Learning Rate 0.000046 Solved: 62\n",
      "6 | 10\n",
      "10 | 20\n",
      "[SOKOBAN] Runtime Error/Warning: Generated Model with score == 0\n",
      "[SOKOBAN] Retry . . .\n",
      "18 | 30\n",
      "22 | 40\n",
      "30 | 50\n",
      "36 | 60\n",
      "40 | 70\n",
      "49 | 80\n",
      "[SOKOBAN] Runtime Error/Warning: Generated Model with score == 0\n",
      "[SOKOBAN] Retry . . .\n",
      "53 | 90\n",
      "61 | 100\n"
     ]
    },
    {
     "data": {
      "application/vnd.jupyter.widget-view+json": {
       "model_id": "3d970dddd17d40c18671b5a6c247e1aa",
       "version_major": 2,
       "version_minor": 0
      },
      "text/plain": [
       "HBox(children=(FloatProgress(value=0.0), HTML(value='')))"
      ]
     },
     "metadata": {},
     "output_type": "display_data"
    },
    {
     "name": "stdout",
     "output_type": "stream",
     "text": [
      "[SOKOBAN] Runtime Error/Warning: Not enough free spots (#3) to place 1 player and 2 boxes.\n",
      "[SOKOBAN] Retry . . .\n",
      "\n",
      "Episode 9300 Epsilon 0.200 Learning Rate 0.000045 Solved: 56\n",
      "4 | 10\n",
      "9 | 20\n",
      "17 | 30\n",
      "[SOKOBAN] Runtime Error/Warning: Generated Model with score == 0\n",
      "[SOKOBAN] Retry . . .\n",
      "20 | 40\n",
      "25 | 50\n",
      "32 | 60\n",
      "37 | 70\n",
      "41 | 80\n",
      "46 | 90\n",
      "51 | 100\n"
     ]
    },
    {
     "data": {
      "application/vnd.jupyter.widget-view+json": {
       "model_id": "98fc4577264b4bf98657111e4b1aae22",
       "version_major": 2,
       "version_minor": 0
      },
      "text/plain": [
       "HBox(children=(FloatProgress(value=0.0), HTML(value='')))"
      ]
     },
     "metadata": {},
     "output_type": "display_data"
    },
    {
     "name": "stdout",
     "output_type": "stream",
     "text": [
      "[SOKOBAN] Runtime Error/Warning: Not enough free spots (#3) to place 1 player and 2 boxes.\n",
      "[SOKOBAN] Retry . . .\n",
      "\n",
      "Episode 9400 Epsilon 0.200 Learning Rate 0.000045 Solved: 53\n",
      "6 | 10\n",
      "13 | 20\n",
      "21 | 30\n",
      "[SOKOBAN] Runtime Error/Warning: Not enough free spots (#3) to place 1 player and 2 boxes.\n",
      "[SOKOBAN] Retry . . .\n",
      "27 | 40\n",
      "29 | 50\n",
      "34 | 60\n",
      "39 | 70\n",
      "43 | 80\n",
      "49 | 90\n",
      "56 | 100\n"
     ]
    },
    {
     "data": {
      "application/vnd.jupyter.widget-view+json": {
       "model_id": "ff3266ce50bd44ae8db695f5daf05674",
       "version_major": 2,
       "version_minor": 0
      },
      "text/plain": [
       "HBox(children=(FloatProgress(value=0.0), HTML(value='')))"
      ]
     },
     "metadata": {},
     "output_type": "display_data"
    },
    {
     "name": "stdout",
     "output_type": "stream",
     "text": [
      "[SOKOBAN] Runtime Error/Warning: Not enough free spots (#3) to place 1 player and 2 boxes.\n",
      "[SOKOBAN] Retry . . .\n",
      "\n",
      "Episode 9500 Epsilon 0.200 Learning Rate 0.000044 Solved: 58\n",
      "4 | 10\n",
      "[SOKOBAN] Runtime Error/Warning: Generated Model with score == 0\n",
      "[SOKOBAN] Retry . . .\n",
      "10 | 20\n",
      "16 | 30\n",
      "22 | 40\n",
      "29 | 50\n",
      "[SOKOBAN] Runtime Error/Warning: Not enough free spots (#3) to place 1 player and 2 boxes.\n",
      "[SOKOBAN] Retry . . .\n",
      "35 | 60\n",
      "[SOKOBAN] Runtime Error/Warning: Not enough free spots (#3) to place 1 player and 2 boxes.\n",
      "[SOKOBAN] Retry . . .\n",
      "43 | 70\n",
      "51 | 80\n",
      "[SOKOBAN] Runtime Error/Warning: Not enough free spots (#3) to place 1 player and 2 boxes.\n",
      "[SOKOBAN] Retry . . .\n",
      "57 | 90\n",
      "60 | 100\n"
     ]
    },
    {
     "data": {
      "application/vnd.jupyter.widget-view+json": {
       "model_id": "7f50b59d04704b37bc89499daf72f6da",
       "version_major": 2,
       "version_minor": 0
      },
      "text/plain": [
       "HBox(children=(FloatProgress(value=0.0), HTML(value='')))"
      ]
     },
     "metadata": {},
     "output_type": "display_data"
    },
    {
     "name": "stdout",
     "output_type": "stream",
     "text": [
      "[SOKOBAN] Runtime Error/Warning: Not enough free spots (#3) to place 1 player and 2 boxes.\n",
      "[SOKOBAN] Retry . . .\n",
      "\n",
      "Episode 9600 Epsilon 0.200 Learning Rate 0.000044 Solved: 56\n",
      "8 | 10\n",
      "14 | 20\n",
      "23 | 30\n",
      "29 | 40\n",
      "34 | 50\n",
      "[SOKOBAN] Runtime Error/Warning: Generated Model with score == 0\n",
      "[SOKOBAN] Retry . . .\n",
      "41 | 60\n",
      "45 | 70\n",
      "53 | 80\n",
      "58 | 90\n",
      "66 | 100\n"
     ]
    },
    {
     "data": {
      "application/vnd.jupyter.widget-view+json": {
       "model_id": "e9535ebdc2344b669117825268b561c3",
       "version_major": 2,
       "version_minor": 0
      },
      "text/plain": [
       "HBox(children=(FloatProgress(value=0.0), HTML(value='')))"
      ]
     },
     "metadata": {},
     "output_type": "display_data"
    },
    {
     "name": "stdout",
     "output_type": "stream",
     "text": [
      "[SOKOBAN] Runtime Error/Warning: Not enough free spots (#3) to place 1 player and 2 boxes.\n",
      "[SOKOBAN] Retry . . .\n",
      "\n",
      "Episode 9700 Epsilon 0.200 Learning Rate 0.000044 Solved: 61\n",
      "[SOKOBAN] Runtime Error/Warning: Not enough free spots (#3) to place 1 player and 2 boxes.\n",
      "[SOKOBAN] Retry . . .\n",
      "7 | 10\n",
      "7 | 20\n",
      "13 | 30\n",
      "19 | 40\n",
      "27 | 50\n",
      "35 | 60\n",
      "41 | 70\n",
      "46 | 80\n",
      "52 | 90\n",
      "59 | 100\n"
     ]
    },
    {
     "data": {
      "application/vnd.jupyter.widget-view+json": {
       "model_id": "b7954ed20a63413b8a847cd47d6120ad",
       "version_major": 2,
       "version_minor": 0
      },
      "text/plain": [
       "HBox(children=(FloatProgress(value=0.0), HTML(value='')))"
      ]
     },
     "metadata": {},
     "output_type": "display_data"
    },
    {
     "name": "stdout",
     "output_type": "stream",
     "text": [
      "[SOKOBAN] Runtime Error/Warning: Not enough free spots (#3) to place 1 player and 2 boxes.\n",
      "[SOKOBAN] Retry . . .\n",
      "\n",
      "Episode 9800 Epsilon 0.200 Learning Rate 0.000043 Solved: 61\n",
      "5 | 10\n",
      "[SOKOBAN] Runtime Error/Warning: Generated Model with score == 0\n",
      "[SOKOBAN] Retry . . .\n",
      "11 | 20\n",
      "17 | 30\n",
      "24 | 40\n",
      "31 | 50\n",
      "38 | 60\n",
      "[SOKOBAN] Runtime Error/Warning: Not enough free spots (#3) to place 1 player and 2 boxes.\n",
      "[SOKOBAN] Retry . . .\n",
      "43 | 70\n",
      "48 | 80\n",
      "53 | 90\n",
      "59 | 100\n"
     ]
    },
    {
     "data": {
      "application/vnd.jupyter.widget-view+json": {
       "model_id": "e6e06ec5588f4493980ca114a8affaee",
       "version_major": 2,
       "version_minor": 0
      },
      "text/plain": [
       "HBox(children=(FloatProgress(value=0.0), HTML(value='')))"
      ]
     },
     "metadata": {},
     "output_type": "display_data"
    },
    {
     "name": "stdout",
     "output_type": "stream",
     "text": [
      "[SOKOBAN] Runtime Error/Warning: Not enough free spots (#3) to place 1 player and 2 boxes.\n",
      "[SOKOBAN] Retry . . .\n",
      "\n",
      "Episode 9900 Epsilon 0.200 Learning Rate 0.000043 Solved: 60\n",
      "8 | 10\n",
      "11 | 20\n",
      "[SOKOBAN] Runtime Error/Warning: Not enough free spots (#3) to place 1 player and 2 boxes.\n",
      "[SOKOBAN] Retry . . .\n",
      "17 | 30\n",
      "[SOKOBAN] Runtime Error/Warning: Generated Model with score == 0\n",
      "[SOKOBAN] Retry . . .\n",
      "22 | 40\n",
      "28 | 50\n",
      "34 | 60\n",
      "39 | 70\n",
      "[SOKOBAN] Runtime Error/Warning: Not enough free spots (#3) to place 1 player and 2 boxes.\n",
      "[SOKOBAN] Retry . . .\n",
      "46 | 80\n",
      "50 | 90\n",
      "[SOKOBAN] Runtime Error/Warning: Not enough free spots (#3) to place 1 player and 2 boxes.\n",
      "[SOKOBAN] Retry . . .\n",
      "55 | 100\n"
     ]
    },
    {
     "data": {
      "application/vnd.jupyter.widget-view+json": {
       "model_id": "30cd8f207fed478b99b5eeda65824490",
       "version_major": 2,
       "version_minor": 0
      },
      "text/plain": [
       "HBox(children=(FloatProgress(value=0.0), HTML(value='')))"
      ]
     },
     "metadata": {},
     "output_type": "display_data"
    },
    {
     "name": "stdout",
     "output_type": "stream",
     "text": [
      "[SOKOBAN] Runtime Error/Warning: Not enough free spots (#3) to place 1 player and 2 boxes.\n",
      "[SOKOBAN] Retry . . .\n",
      "\n",
      "Episode 10000 Epsilon 0.200 Learning Rate 0.000043 Solved: 60\n",
      "5 | 10\n",
      "11 | 20\n",
      "17 | 30\n",
      "23 | 40\n",
      "29 | 50\n",
      "36 | 60\n",
      "39 | 70\n",
      "47 | 80\n",
      "52 | 90\n",
      "61 | 100\n"
     ]
    },
    {
     "data": {
      "application/vnd.jupyter.widget-view+json": {
       "model_id": "129cb3f8613b4295bf2f32c5e291e9a1",
       "version_major": 2,
       "version_minor": 0
      },
      "text/plain": [
       "HBox(children=(FloatProgress(value=0.0), HTML(value='')))"
      ]
     },
     "metadata": {},
     "output_type": "display_data"
    },
    {
     "name": "stdout",
     "output_type": "stream",
     "text": [
      "[SOKOBAN] Runtime Error/Warning: Not enough free spots (#3) to place 1 player and 2 boxes.\n",
      "[SOKOBAN] Retry . . .\n",
      "\n",
      "Episode 10100 Epsilon 0.200 Learning Rate 0.000042 Solved: 52\n",
      "7 | 10\n",
      "14 | 20\n",
      "20 | 30\n",
      "26 | 40\n",
      "32 | 50\n",
      "[SOKOBAN] Runtime Error/Warning: Not enough free spots (#3) to place 1 player and 2 boxes.\n",
      "[SOKOBAN] Retry . . .\n",
      "38 | 60\n",
      "[SOKOBAN] Runtime Error/Warning: Not enough free spots (#3) to place 1 player and 2 boxes.\n",
      "[SOKOBAN] Retry . . .\n",
      "[SOKOBAN] Runtime Error/Warning: Not enough free spots (#2) to place 1 player and 2 boxes.\n",
      "[SOKOBAN] Retry . . .\n",
      "42 | 70\n",
      "[SOKOBAN] Runtime Error/Warning: Not enough free spots (#3) to place 1 player and 2 boxes.\n",
      "[SOKOBAN] Retry . . .\n",
      "49 | 80\n",
      "57 | 90\n",
      "64 | 100\n"
     ]
    },
    {
     "data": {
      "application/vnd.jupyter.widget-view+json": {
       "model_id": "4f2844613dc34ae3894789357891d1d1",
       "version_major": 2,
       "version_minor": 0
      },
      "text/plain": [
       "HBox(children=(FloatProgress(value=0.0), HTML(value='')))"
      ]
     },
     "metadata": {},
     "output_type": "display_data"
    },
    {
     "name": "stdout",
     "output_type": "stream",
     "text": [
      "[SOKOBAN] Runtime Error/Warning: Not enough free spots (#3) to place 1 player and 2 boxes.\n",
      "[SOKOBAN] Retry . . .\n",
      "\n",
      "Episode 10200 Epsilon 0.200 Learning Rate 0.000042 Solved: 55\n",
      "6 | 10\n",
      "14 | 20\n",
      "19 | 30\n",
      "[SOKOBAN] Runtime Error/Warning: Generated Model with score == 0\n",
      "[SOKOBAN] Retry . . .\n",
      "27 | 40\n",
      "34 | 50\n",
      "41 | 60\n",
      "46 | 70\n",
      "53 | 80\n",
      "60 | 90\n",
      "[SOKOBAN] Runtime Error/Warning: Not enough free spots (#3) to place 1 player and 2 boxes.\n",
      "[SOKOBAN] Retry . . .\n",
      "67 | 100\n"
     ]
    },
    {
     "data": {
      "application/vnd.jupyter.widget-view+json": {
       "model_id": "0f0fabe3ec344e0f9009ad2b86bf2672",
       "version_major": 2,
       "version_minor": 0
      },
      "text/plain": [
       "HBox(children=(FloatProgress(value=0.0), HTML(value='')))"
      ]
     },
     "metadata": {},
     "output_type": "display_data"
    },
    {
     "name": "stdout",
     "output_type": "stream",
     "text": [
      "[SOKOBAN] Runtime Error/Warning: Not enough free spots (#3) to place 1 player and 2 boxes.\n",
      "[SOKOBAN] Retry . . .\n",
      "\n",
      "Episode 10300 Epsilon 0.200 Learning Rate 0.000041 Solved: 59\n",
      "9 | 10\n",
      "16 | 20\n",
      "18 | 30\n",
      "25 | 40\n",
      "32 | 50\n",
      "38 | 60\n",
      "43 | 70\n",
      "45 | 80\n",
      "[SOKOBAN] Runtime Error/Warning: Not enough free spots (#3) to place 1 player and 2 boxes.\n",
      "[SOKOBAN] Retry . . .\n",
      "51 | 90\n",
      "58 | 100\n"
     ]
    },
    {
     "data": {
      "application/vnd.jupyter.widget-view+json": {
       "model_id": "a6ec2993b87f4b548306bccde855e48e",
       "version_major": 2,
       "version_minor": 0
      },
      "text/plain": [
       "HBox(children=(FloatProgress(value=0.0), HTML(value='')))"
      ]
     },
     "metadata": {},
     "output_type": "display_data"
    },
    {
     "name": "stdout",
     "output_type": "stream",
     "text": [
      "[SOKOBAN] Runtime Error/Warning: Not enough free spots (#3) to place 1 player and 2 boxes.\n",
      "[SOKOBAN] Retry . . .\n",
      "\n",
      "Episode 10400 Epsilon 0.200 Learning Rate 0.000041 Solved: 63\n",
      "7 | 10\n",
      "13 | 20\n",
      "[SOKOBAN] Runtime Error/Warning: Not enough free spots (#3) to place 1 player and 2 boxes.\n",
      "[SOKOBAN] Retry . . .\n",
      "19 | 30\n",
      "25 | 40\n",
      "32 | 50\n",
      "37 | 60\n",
      "46 | 70\n",
      "[SOKOBAN] Runtime Error/Warning: Not enough free spots (#3) to place 1 player and 2 boxes.\n",
      "[SOKOBAN] Retry . . .\n",
      "[SOKOBAN] Runtime Error/Warning: Generated Model with score == 0\n",
      "[SOKOBAN] Retry . . .\n",
      "55 | 80\n",
      "63 | 90\n",
      "69 | 100\n"
     ]
    },
    {
     "data": {
      "application/vnd.jupyter.widget-view+json": {
       "model_id": "51144ff7ce4c4d6f90626df6b26c1205",
       "version_major": 2,
       "version_minor": 0
      },
      "text/plain": [
       "HBox(children=(FloatProgress(value=0.0), HTML(value='')))"
      ]
     },
     "metadata": {},
     "output_type": "display_data"
    },
    {
     "name": "stdout",
     "output_type": "stream",
     "text": [
      "[SOKOBAN] Runtime Error/Warning: Not enough free spots (#3) to place 1 player and 2 boxes.\n",
      "[SOKOBAN] Retry . . .\n",
      "\n",
      "Episode 10500 Epsilon 0.200 Learning Rate 0.000041 Solved: 58\n",
      "4 | 10\n",
      "10 | 20\n",
      "12 | 30\n",
      "17 | 40\n",
      "25 | 50\n",
      "29 | 60\n",
      "34 | 70\n",
      "42 | 80\n",
      "46 | 90\n",
      "50 | 100\n"
     ]
    },
    {
     "data": {
      "application/vnd.jupyter.widget-view+json": {
       "model_id": "e8e91cb2ff0d4920b3c4c4a12b4c74a2",
       "version_major": 2,
       "version_minor": 0
      },
      "text/plain": [
       "HBox(children=(FloatProgress(value=0.0), HTML(value='')))"
      ]
     },
     "metadata": {},
     "output_type": "display_data"
    },
    {
     "name": "stdout",
     "output_type": "stream",
     "text": [
      "[SOKOBAN] Runtime Error/Warning: Not enough free spots (#3) to place 1 player and 2 boxes.\n",
      "[SOKOBAN] Retry . . .\n",
      "\n",
      "Episode 10600 Epsilon 0.200 Learning Rate 0.000040 Solved: 61\n",
      "[SOKOBAN] Runtime Error/Warning: Not enough free spots (#3) to place 1 player and 2 boxes.\n",
      "[SOKOBAN] Retry . . .\n",
      "7 | 10\n",
      "15 | 20\n",
      "19 | 30\n",
      "24 | 40\n",
      "30 | 50\n",
      "37 | 60\n",
      "43 | 70\n",
      "47 | 80\n",
      "54 | 90\n",
      "63 | 100\n"
     ]
    },
    {
     "data": {
      "application/vnd.jupyter.widget-view+json": {
       "model_id": "591b8bd01dac453a89cb2d22857b25a1",
       "version_major": 2,
       "version_minor": 0
      },
      "text/plain": [
       "HBox(children=(FloatProgress(value=0.0), HTML(value='')))"
      ]
     },
     "metadata": {},
     "output_type": "display_data"
    },
    {
     "name": "stdout",
     "output_type": "stream",
     "text": [
      "[SOKOBAN] Runtime Error/Warning: Not enough free spots (#3) to place 1 player and 2 boxes.\n",
      "[SOKOBAN] Retry . . .\n",
      "\n",
      "Episode 10700 Epsilon 0.200 Learning Rate 0.000040 Solved: 60\n",
      "6 | 10\n",
      "12 | 20\n",
      "18 | 30\n",
      "27 | 40\n",
      "32 | 50\n",
      "38 | 60\n",
      "43 | 70\n",
      "50 | 80\n",
      "57 | 90\n",
      "64 | 100\n"
     ]
    },
    {
     "data": {
      "application/vnd.jupyter.widget-view+json": {
       "model_id": "189c1846ec554ecd8782b78bf20060b1",
       "version_major": 2,
       "version_minor": 0
      },
      "text/plain": [
       "HBox(children=(FloatProgress(value=0.0), HTML(value='')))"
      ]
     },
     "metadata": {},
     "output_type": "display_data"
    },
    {
     "name": "stdout",
     "output_type": "stream",
     "text": [
      "[SOKOBAN] Runtime Error/Warning: Not enough free spots (#3) to place 1 player and 2 boxes.\n",
      "[SOKOBAN] Retry . . .\n",
      "\n",
      "Episode 10800 Epsilon 0.200 Learning Rate 0.000040 Solved: 59\n",
      "8 | 10\n",
      "15 | 20\n",
      "22 | 30\n",
      "26 | 40\n",
      "33 | 50\n",
      "41 | 60\n",
      "49 | 70\n",
      "[SOKOBAN] Runtime Error/Warning: Generated Model with score == 0\n",
      "[SOKOBAN] Retry . . .\n",
      "54 | 80\n",
      "58 | 90\n",
      "67 | 100\n"
     ]
    },
    {
     "data": {
      "application/vnd.jupyter.widget-view+json": {
       "model_id": "d6edacbdc754456e92ba39b3c36d744a",
       "version_major": 2,
       "version_minor": 0
      },
      "text/plain": [
       "HBox(children=(FloatProgress(value=0.0), HTML(value='')))"
      ]
     },
     "metadata": {},
     "output_type": "display_data"
    },
    {
     "name": "stdout",
     "output_type": "stream",
     "text": [
      "[SOKOBAN] Runtime Error/Warning: Not enough free spots (#3) to place 1 player and 2 boxes.\n",
      "[SOKOBAN] Retry . . .\n",
      "\n",
      "Episode 10900 Epsilon 0.200 Learning Rate 0.000039 Solved: 60\n",
      "5 | 10\n",
      "14 | 20\n",
      "22 | 30\n",
      "27 | 40\n",
      "33 | 50\n",
      "[SOKOBAN] Runtime Error/Warning: Not enough free spots (#3) to place 1 player and 2 boxes.\n",
      "[SOKOBAN] Retry . . .\n",
      "36 | 60\n",
      "[SOKOBAN] Runtime Error/Warning: Generated Model with score == 0\n",
      "[SOKOBAN] Retry . . .\n",
      "43 | 70\n",
      "47 | 80\n",
      "54 | 90\n",
      "58 | 100\n"
     ]
    },
    {
     "data": {
      "application/vnd.jupyter.widget-view+json": {
       "model_id": "43040ee0462a4e39875c792e9cb4afbd",
       "version_major": 2,
       "version_minor": 0
      },
      "text/plain": [
       "HBox(children=(FloatProgress(value=0.0), HTML(value='')))"
      ]
     },
     "metadata": {},
     "output_type": "display_data"
    },
    {
     "name": "stdout",
     "output_type": "stream",
     "text": [
      "[SOKOBAN] Runtime Error/Warning: Not enough free spots (#3) to place 1 player and 2 boxes.\n",
      "[SOKOBAN] Retry . . .\n",
      "\n",
      "Episode 11000 Epsilon 0.200 Learning Rate 0.000039 Solved: 58\n",
      "5 | 10\n",
      "[SOKOBAN] Runtime Error/Warning: Not enough free spots (#3) to place 1 player and 2 boxes.\n",
      "[SOKOBAN] Retry . . .\n",
      "9 | 20\n",
      "[SOKOBAN] Runtime Error/Warning: Not enough free spots (#3) to place 1 player and 2 boxes.\n",
      "[SOKOBAN] Retry . . .\n",
      "16 | 30\n",
      "19 | 40\n",
      "28 | 50\n",
      "35 | 60\n",
      "39 | 70\n",
      "46 | 80\n",
      "51 | 90\n",
      "60 | 100\n"
     ]
    },
    {
     "data": {
      "application/vnd.jupyter.widget-view+json": {
       "model_id": "a6a8f91511374377a41dfa53e600cdcc",
       "version_major": 2,
       "version_minor": 0
      },
      "text/plain": [
       "HBox(children=(FloatProgress(value=0.0), HTML(value='')))"
      ]
     },
     "metadata": {},
     "output_type": "display_data"
    },
    {
     "name": "stdout",
     "output_type": "stream",
     "text": [
      "[SOKOBAN] Runtime Error/Warning: Not enough free spots (#3) to place 1 player and 2 boxes.\n",
      "[SOKOBAN] Retry . . .\n",
      "\n",
      "Episode 11100 Epsilon 0.200 Learning Rate 0.000039 Solved: 58\n",
      "6 | 10\n",
      "12 | 20\n",
      "17 | 30\n",
      "23 | 40\n",
      "29 | 50\n",
      "32 | 60\n",
      "38 | 70\n",
      "44 | 80\n",
      "49 | 90\n",
      "[SOKOBAN] Runtime Error/Warning: Not enough free spots (#3) to place 1 player and 2 boxes.\n",
      "[SOKOBAN] Retry . . .\n",
      "[SOKOBAN] Runtime Error/Warning: Not enough free spots (#3) to place 1 player and 2 boxes.\n",
      "[SOKOBAN] Retry . . .\n",
      "55 | 100\n"
     ]
    },
    {
     "data": {
      "application/vnd.jupyter.widget-view+json": {
       "model_id": "0d90609e79074f4eaa98bb062daacf17",
       "version_major": 2,
       "version_minor": 0
      },
      "text/plain": [
       "HBox(children=(FloatProgress(value=0.0), HTML(value='')))"
      ]
     },
     "metadata": {},
     "output_type": "display_data"
    },
    {
     "name": "stdout",
     "output_type": "stream",
     "text": [
      "[SOKOBAN] Runtime Error/Warning: Not enough free spots (#3) to place 1 player and 2 boxes.\n",
      "[SOKOBAN] Retry . . .\n",
      "\n",
      "Episode 11200 Epsilon 0.200 Learning Rate 0.000038 Solved: 61\n",
      "6 | 10\n",
      "13 | 20\n",
      "19 | 30\n",
      "25 | 40\n",
      "32 | 50\n",
      "37 | 60\n",
      "43 | 70\n",
      "48 | 80\n",
      "52 | 90\n",
      "55 | 100\n"
     ]
    },
    {
     "data": {
      "application/vnd.jupyter.widget-view+json": {
       "model_id": "34583126e1644bb38097d831db0743b1",
       "version_major": 2,
       "version_minor": 0
      },
      "text/plain": [
       "HBox(children=(FloatProgress(value=0.0), HTML(value='')))"
      ]
     },
     "metadata": {},
     "output_type": "display_data"
    },
    {
     "name": "stdout",
     "output_type": "stream",
     "text": [
      "[SOKOBAN] Runtime Error/Warning: Not enough free spots (#3) to place 1 player and 2 boxes.\n",
      "[SOKOBAN] Retry . . .\n",
      "\n",
      "Episode 11300 Epsilon 0.200 Learning Rate 0.000038 Solved: 62\n",
      "5 | 10\n",
      "13 | 20\n",
      "[SOKOBAN] Runtime Error/Warning: Not enough free spots (#3) to place 1 player and 2 boxes.\n",
      "[SOKOBAN] Retry . . .\n",
      "20 | 30\n",
      "29 | 40\n",
      "34 | 50\n",
      "[SOKOBAN] Runtime Error/Warning: Generated Model with score == 0\n",
      "[SOKOBAN] Retry . . .\n",
      "38 | 60\n",
      "44 | 70\n",
      "50 | 80\n",
      "56 | 90\n",
      "64 | 100\n"
     ]
    },
    {
     "data": {
      "application/vnd.jupyter.widget-view+json": {
       "model_id": "805a492170464dd69d57dc948be6d8c3",
       "version_major": 2,
       "version_minor": 0
      },
      "text/plain": [
       "HBox(children=(FloatProgress(value=0.0), HTML(value='')))"
      ]
     },
     "metadata": {},
     "output_type": "display_data"
    },
    {
     "name": "stdout",
     "output_type": "stream",
     "text": [
      "[SOKOBAN] Runtime Error/Warning: Not enough free spots (#3) to place 1 player and 2 boxes.\n",
      "[SOKOBAN] Retry . . .\n",
      "\n",
      "Episode 11400 Epsilon 0.200 Learning Rate 0.000038 Solved: 57\n",
      "5 | 10\n",
      "[SOKOBAN] Runtime Error/Warning: Not enough free spots (#3) to place 1 player and 2 boxes.\n",
      "[SOKOBAN] Retry . . .\n",
      "13 | 20\n",
      "19 | 30\n",
      "23 | 40\n",
      "28 | 50\n",
      "32 | 60\n",
      "35 | 70\n",
      "38 | 80\n",
      "46 | 90\n",
      "52 | 100\n"
     ]
    },
    {
     "data": {
      "application/vnd.jupyter.widget-view+json": {
       "model_id": "ce3fc86c139f40d1bda0aa06e680622a",
       "version_major": 2,
       "version_minor": 0
      },
      "text/plain": [
       "HBox(children=(FloatProgress(value=0.0), HTML(value='')))"
      ]
     },
     "metadata": {},
     "output_type": "display_data"
    },
    {
     "name": "stdout",
     "output_type": "stream",
     "text": [
      "[SOKOBAN] Runtime Error/Warning: Not enough free spots (#3) to place 1 player and 2 boxes.\n",
      "[SOKOBAN] Retry . . .\n",
      "\n",
      "Episode 11500 Epsilon 0.200 Learning Rate 0.000037 Solved: 60\n",
      "[SOKOBAN] Runtime Error/Warning: Not enough free spots (#3) to place 1 player and 2 boxes.\n",
      "[SOKOBAN] Retry . . .\n",
      "8 | 10\n",
      "14 | 20\n",
      "17 | 30\n",
      "22 | 40\n",
      "28 | 50\n",
      "34 | 60\n",
      "41 | 70\n",
      "44 | 80\n",
      "50 | 90\n",
      "57 | 100\n"
     ]
    },
    {
     "data": {
      "application/vnd.jupyter.widget-view+json": {
       "model_id": "1d68fed6139e42fa86641772257fecef",
       "version_major": 2,
       "version_minor": 0
      },
      "text/plain": [
       "HBox(children=(FloatProgress(value=0.0), HTML(value='')))"
      ]
     },
     "metadata": {},
     "output_type": "display_data"
    },
    {
     "name": "stdout",
     "output_type": "stream",
     "text": [
      "[SOKOBAN] Runtime Error/Warning: Not enough free spots (#3) to place 1 player and 2 boxes.\n",
      "[SOKOBAN] Retry . . .\n",
      "\n",
      "Episode 11600 Epsilon 0.200 Learning Rate 0.000037 Solved: 61\n",
      "9 | 10\n",
      "14 | 20\n",
      "19 | 30\n",
      "[SOKOBAN] Runtime Error/Warning: Not enough free spots (#3) to place 1 player and 2 boxes.\n",
      "[SOKOBAN] Retry . . .\n",
      "[SOKOBAN] Runtime Error/Warning: Generated Model with score == 0\n",
      "[SOKOBAN] Retry . . .\n",
      "27 | 40\n",
      "32 | 50\n",
      "37 | 60\n",
      "42 | 70\n",
      "48 | 80\n",
      "55 | 90\n",
      "60 | 100\n"
     ]
    },
    {
     "data": {
      "application/vnd.jupyter.widget-view+json": {
       "model_id": "86cfdb7a1ca74d2289c0e9763b85f9c4",
       "version_major": 2,
       "version_minor": 0
      },
      "text/plain": [
       "HBox(children=(FloatProgress(value=0.0), HTML(value='')))"
      ]
     },
     "metadata": {},
     "output_type": "display_data"
    },
    {
     "name": "stdout",
     "output_type": "stream",
     "text": [
      "[SOKOBAN] Runtime Error/Warning: Not enough free spots (#3) to place 1 player and 2 boxes.\n",
      "[SOKOBAN] Retry . . .\n",
      "\n",
      "Episode 11700 Epsilon 0.200 Learning Rate 0.000037 Solved: 55\n",
      "7 | 10\n",
      "14 | 20\n",
      "16 | 30\n",
      "21 | 40\n",
      "27 | 50\n",
      "32 | 60\n",
      "38 | 70\n",
      "[SOKOBAN] Runtime Error/Warning: Not enough free spots (#3) to place 1 player and 2 boxes.\n",
      "[SOKOBAN] Retry . . .\n",
      "46 | 80\n",
      "54 | 90\n",
      "61 | 100\n"
     ]
    },
    {
     "data": {
      "application/vnd.jupyter.widget-view+json": {
       "model_id": "39071ae3e1224d6e89ee054be53303f2",
       "version_major": 2,
       "version_minor": 0
      },
      "text/plain": [
       "HBox(children=(FloatProgress(value=0.0), HTML(value='')))"
      ]
     },
     "metadata": {},
     "output_type": "display_data"
    },
    {
     "name": "stdout",
     "output_type": "stream",
     "text": [
      "[SOKOBAN] Runtime Error/Warning: Not enough free spots (#3) to place 1 player and 2 boxes.\n",
      "[SOKOBAN] Retry . . .\n",
      "\n",
      "Episode 11800 Epsilon 0.200 Learning Rate 0.000036 Solved: 59\n",
      "7 | 10\n",
      "15 | 20\n",
      "21 | 30\n",
      "28 | 40\n",
      "35 | 50\n",
      "44 | 60\n",
      "[SOKOBAN] Runtime Error/Warning: Generated Model with score == 0\n",
      "[SOKOBAN] Retry . . .\n",
      "49 | 70\n",
      "[SOKOBAN] Runtime Error/Warning: Not enough free spots (#3) to place 1 player and 2 boxes.\n",
      "[SOKOBAN] Retry . . .\n",
      "56 | 80\n",
      "63 | 90\n",
      "69 | 100\n"
     ]
    },
    {
     "data": {
      "application/vnd.jupyter.widget-view+json": {
       "model_id": "a08c1201705f4808a040a2d78b84c5f2",
       "version_major": 2,
       "version_minor": 0
      },
      "text/plain": [
       "HBox(children=(FloatProgress(value=0.0), HTML(value='')))"
      ]
     },
     "metadata": {},
     "output_type": "display_data"
    },
    {
     "name": "stdout",
     "output_type": "stream",
     "text": [
      "[SOKOBAN] Runtime Error/Warning: Not enough free spots (#3) to place 1 player and 2 boxes.\n",
      "[SOKOBAN] Retry . . .\n",
      "\n",
      "Episode 11900 Epsilon 0.200 Learning Rate 0.000036 Solved: 58\n",
      "5 | 10\n",
      "12 | 20\n",
      "19 | 30\n",
      "27 | 40\n",
      "33 | 50\n",
      "39 | 60\n",
      "46 | 70\n",
      "52 | 80\n",
      "58 | 90\n",
      "63 | 100\n"
     ]
    },
    {
     "data": {
      "application/vnd.jupyter.widget-view+json": {
       "model_id": "3a27e88298004ac7bb2563cbefed2b4e",
       "version_major": 2,
       "version_minor": 0
      },
      "text/plain": [
       "HBox(children=(FloatProgress(value=0.0), HTML(value='')))"
      ]
     },
     "metadata": {},
     "output_type": "display_data"
    },
    {
     "name": "stdout",
     "output_type": "stream",
     "text": [
      "[SOKOBAN] Runtime Error/Warning: Not enough free spots (#3) to place 1 player and 2 boxes.\n",
      "[SOKOBAN] Retry . . .\n",
      "\n",
      "Episode 12000 Epsilon 0.200 Learning Rate 0.000036 Solved: 61\n",
      "6 | 10\n",
      "10 | 20\n",
      "18 | 30\n",
      "25 | 40\n",
      "32 | 50\n",
      "42 | 60\n",
      "48 | 70\n",
      "51 | 80\n",
      "[SOKOBAN] Runtime Error/Warning: Generated Model with score == 0\n",
      "[SOKOBAN] Retry . . .\n",
      "56 | 90\n",
      "61 | 100\n"
     ]
    },
    {
     "data": {
      "application/vnd.jupyter.widget-view+json": {
       "model_id": "c6ac7da450eb4633ae397d29e0ec5416",
       "version_major": 2,
       "version_minor": 0
      },
      "text/plain": [
       "HBox(children=(FloatProgress(value=0.0), HTML(value='')))"
      ]
     },
     "metadata": {},
     "output_type": "display_data"
    },
    {
     "name": "stdout",
     "output_type": "stream",
     "text": [
      "[SOKOBAN] Runtime Error/Warning: Not enough free spots (#3) to place 1 player and 2 boxes.\n",
      "[SOKOBAN] Retry . . .\n",
      "\n",
      "Episode 12100 Epsilon 0.200 Learning Rate 0.000036 Solved: 60\n",
      "6 | 10\n",
      "14 | 20\n",
      "20 | 30\n",
      "27 | 40\n",
      "[SOKOBAN] Runtime Error/Warning: Generated Model with score == 0\n",
      "[SOKOBAN] Retry . . .\n",
      "34 | 50\n",
      "[SOKOBAN] Runtime Error/Warning: Generated Model with score == 0\n",
      "[SOKOBAN] Retry . . .\n",
      "39 | 60\n",
      "46 | 70\n",
      "52 | 80\n",
      "[SOKOBAN] Runtime Error/Warning: Not enough free spots (#3) to place 1 player and 2 boxes.\n",
      "[SOKOBAN] Retry . . .\n",
      "59 | 90\n",
      "65 | 100\n"
     ]
    },
    {
     "data": {
      "application/vnd.jupyter.widget-view+json": {
       "model_id": "8d7a3705ff944a21815162e1e8ecfc8c",
       "version_major": 2,
       "version_minor": 0
      },
      "text/plain": [
       "HBox(children=(FloatProgress(value=0.0), HTML(value='')))"
      ]
     },
     "metadata": {},
     "output_type": "display_data"
    },
    {
     "name": "stdout",
     "output_type": "stream",
     "text": [
      "[SOKOBAN] Runtime Error/Warning: Not enough free spots (#3) to place 1 player and 2 boxes.\n",
      "[SOKOBAN] Retry . . .\n",
      "\n",
      "Episode 12200 Epsilon 0.200 Learning Rate 0.000035 Solved: 62\n",
      "2 | 10\n",
      "5 | 20\n",
      "12 | 30\n",
      "17 | 40\n",
      "23 | 50\n",
      "28 | 60\n",
      "31 | 70\n",
      "39 | 80\n",
      "43 | 90\n",
      "50 | 100\n"
     ]
    },
    {
     "data": {
      "application/vnd.jupyter.widget-view+json": {
       "model_id": "7addec3685f4454bbff026d209bb6677",
       "version_major": 2,
       "version_minor": 0
      },
      "text/plain": [
       "HBox(children=(FloatProgress(value=0.0), HTML(value='')))"
      ]
     },
     "metadata": {},
     "output_type": "display_data"
    },
    {
     "name": "stdout",
     "output_type": "stream",
     "text": [
      "[SOKOBAN] Runtime Error/Warning: Not enough free spots (#3) to place 1 player and 2 boxes.\n",
      "[SOKOBAN] Retry . . .\n",
      "\n",
      "Episode 12300 Epsilon 0.200 Learning Rate 0.000035 Solved: 59\n",
      "5 | 10\n",
      "12 | 20\n",
      "[SOKOBAN] Runtime Error/Warning: Not enough free spots (#3) to place 1 player and 2 boxes.\n",
      "[SOKOBAN] Retry . . .\n",
      "22 | 30\n",
      "[SOKOBAN] Runtime Error/Warning: Not enough free spots (#3) to place 1 player and 2 boxes.\n",
      "[SOKOBAN] Retry . . .\n",
      "28 | 40\n",
      "[SOKOBAN] Runtime Error/Warning: Generated Model with score == 0\n",
      "[SOKOBAN] Retry . . .\n",
      "37 | 50\n",
      "44 | 60\n",
      "49 | 70\n",
      "56 | 80\n",
      "60 | 90\n",
      "67 | 100\n"
     ]
    },
    {
     "data": {
      "application/vnd.jupyter.widget-view+json": {
       "model_id": "e19a4ea7409b41b69cb8e87472d96967",
       "version_major": 2,
       "version_minor": 0
      },
      "text/plain": [
       "HBox(children=(FloatProgress(value=0.0), HTML(value='')))"
      ]
     },
     "metadata": {},
     "output_type": "display_data"
    },
    {
     "name": "stdout",
     "output_type": "stream",
     "text": [
      "[SOKOBAN] Runtime Error/Warning: Not enough free spots (#3) to place 1 player and 2 boxes.\n",
      "[SOKOBAN] Retry . . .\n",
      "\n",
      "Episode 12400 Epsilon 0.200 Learning Rate 0.000035 Solved: 59\n",
      "7 | 10\n",
      "15 | 20\n",
      "22 | 30\n",
      "30 | 40\n",
      "35 | 50\n",
      "45 | 60\n",
      "52 | 70\n",
      "59 | 80\n",
      "65 | 90\n",
      "71 | 100\n"
     ]
    },
    {
     "data": {
      "application/vnd.jupyter.widget-view+json": {
       "model_id": "648be458e47b4148875673baeef45cf4",
       "version_major": 2,
       "version_minor": 0
      },
      "text/plain": [
       "HBox(children=(FloatProgress(value=0.0), HTML(value='')))"
      ]
     },
     "metadata": {},
     "output_type": "display_data"
    },
    {
     "name": "stdout",
     "output_type": "stream",
     "text": [
      "[SOKOBAN] Runtime Error/Warning: Not enough free spots (#3) to place 1 player and 2 boxes.\n",
      "[SOKOBAN] Retry . . .\n",
      "\n",
      "Episode 12500 Epsilon 0.200 Learning Rate 0.000034 Solved: 63\n",
      "8 | 10\n",
      "[SOKOBAN] Runtime Error/Warning: Generated Model with score == 0\n",
      "[SOKOBAN] Retry . . .\n",
      "15 | 20\n",
      "22 | 30\n",
      "28 | 40\n",
      "35 | 50\n",
      "44 | 60\n",
      "49 | 70\n",
      "55 | 80\n",
      "62 | 90\n",
      "67 | 100\n"
     ]
    },
    {
     "data": {
      "application/vnd.jupyter.widget-view+json": {
       "model_id": "65d2130a1bed442ab2678b5fbc75811f",
       "version_major": 2,
       "version_minor": 0
      },
      "text/plain": [
       "HBox(children=(FloatProgress(value=0.0), HTML(value='')))"
      ]
     },
     "metadata": {},
     "output_type": "display_data"
    },
    {
     "name": "stdout",
     "output_type": "stream",
     "text": [
      "[SOKOBAN] Runtime Error/Warning: Not enough free spots (#3) to place 1 player and 2 boxes.\n",
      "[SOKOBAN] Retry . . .\n",
      "\n",
      "Episode 12600 Epsilon 0.200 Learning Rate 0.000034 Solved: 64\n",
      "5 | 10\n",
      "11 | 20\n",
      "17 | 30\n",
      "24 | 40\n",
      "[SOKOBAN] Runtime Error/Warning: Not enough free spots (#3) to place 1 player and 2 boxes.\n",
      "[SOKOBAN] Retry . . .\n",
      "31 | 50\n",
      "37 | 60\n",
      "[SOKOBAN] Runtime Error/Warning: Not enough free spots (#3) to place 1 player and 2 boxes.\n",
      "[SOKOBAN] Retry . . .\n",
      "44 | 70\n",
      "51 | 80\n",
      "56 | 90\n",
      "62 | 100\n"
     ]
    },
    {
     "data": {
      "application/vnd.jupyter.widget-view+json": {
       "model_id": "4328cbdadfc54fa294b608e3e1dd7dd0",
       "version_major": 2,
       "version_minor": 0
      },
      "text/plain": [
       "HBox(children=(FloatProgress(value=0.0), HTML(value='')))"
      ]
     },
     "metadata": {},
     "output_type": "display_data"
    },
    {
     "name": "stdout",
     "output_type": "stream",
     "text": [
      "[SOKOBAN] Runtime Error/Warning: Not enough free spots (#3) to place 1 player and 2 boxes.\n",
      "[SOKOBAN] Retry . . .\n",
      "\n",
      "Episode 12700 Epsilon 0.200 Learning Rate 0.000034 Solved: 65\n",
      "10 | 10\n",
      "17 | 20\n",
      "[SOKOBAN] Runtime Error/Warning: Not enough free spots (#3) to place 1 player and 2 boxes.\n",
      "[SOKOBAN] Retry . . .\n",
      "26 | 30\n",
      "32 | 40\n",
      "38 | 50\n",
      "[SOKOBAN] Runtime Error/Warning: Generated Model with score == 0\n",
      "[SOKOBAN] Retry . . .\n",
      "42 | 60\n",
      "47 | 70\n",
      "52 | 80\n",
      "61 | 90\n",
      "[SOKOBAN] Runtime Error/Warning: Not enough free spots (#3) to place 1 player and 2 boxes.\n",
      "[SOKOBAN] Retry . . .\n",
      "67 | 100\n"
     ]
    },
    {
     "data": {
      "application/vnd.jupyter.widget-view+json": {
       "model_id": "05d3266bc7ec4c72b50460ea119f454c",
       "version_major": 2,
       "version_minor": 0
      },
      "text/plain": [
       "HBox(children=(FloatProgress(value=0.0), HTML(value='')))"
      ]
     },
     "metadata": {},
     "output_type": "display_data"
    },
    {
     "name": "stdout",
     "output_type": "stream",
     "text": [
      "[SOKOBAN] Runtime Error/Warning: Not enough free spots (#3) to place 1 player and 2 boxes.\n",
      "[SOKOBAN] Retry . . .\n",
      "\n",
      "Episode 12800 Epsilon 0.200 Learning Rate 0.000034 Solved: 64\n",
      "5 | 10\n",
      "10 | 20\n",
      "16 | 30\n",
      "25 | 40\n",
      "30 | 50\n",
      "[SOKOBAN] Runtime Error/Warning: Not enough free spots (#3) to place 1 player and 2 boxes.\n",
      "[SOKOBAN] Retry . . .\n",
      "35 | 60\n",
      "41 | 70\n",
      "50 | 80\n",
      "57 | 90\n",
      "66 | 100\n"
     ]
    },
    {
     "data": {
      "application/vnd.jupyter.widget-view+json": {
       "model_id": "8af007d47ff44e3a948c39349ab024cd",
       "version_major": 2,
       "version_minor": 0
      },
      "text/plain": [
       "HBox(children=(FloatProgress(value=0.0), HTML(value='')))"
      ]
     },
     "metadata": {},
     "output_type": "display_data"
    },
    {
     "name": "stdout",
     "output_type": "stream",
     "text": [
      "[SOKOBAN] Runtime Error/Warning: Not enough free spots (#3) to place 1 player and 2 boxes.\n",
      "[SOKOBAN] Retry . . .\n",
      "\n",
      "Episode 12900 Epsilon 0.200 Learning Rate 0.000033 Solved: 64\n",
      "7 | 10\n",
      "13 | 20\n",
      "19 | 30\n",
      "27 | 40\n",
      "33 | 50\n",
      "37 | 60\n",
      "44 | 70\n",
      "47 | 80\n",
      "54 | 90\n",
      "63 | 100\n"
     ]
    },
    {
     "data": {
      "application/vnd.jupyter.widget-view+json": {
       "model_id": "2956564e44ad404ba335f0f32cf4a35b",
       "version_major": 2,
       "version_minor": 0
      },
      "text/plain": [
       "HBox(children=(FloatProgress(value=0.0), HTML(value='')))"
      ]
     },
     "metadata": {},
     "output_type": "display_data"
    },
    {
     "name": "stdout",
     "output_type": "stream",
     "text": [
      "[SOKOBAN] Runtime Error/Warning: Not enough free spots (#3) to place 1 player and 2 boxes.\n",
      "[SOKOBAN] Retry . . .\n",
      "\n",
      "Episode 13000 Epsilon 0.200 Learning Rate 0.000033 Solved: 61\n",
      "[SOKOBAN] Runtime Error/Warning: Generated Model with score == 0\n",
      "[SOKOBAN] Retry . . .\n",
      "9 | 10\n",
      "17 | 20\n",
      "24 | 30\n",
      "30 | 40\n",
      "38 | 50\n",
      "43 | 60\n",
      "[SOKOBAN] Runtime Error/Warning: Generated Model with score == 0\n",
      "[SOKOBAN] Retry . . .\n",
      "52 | 70\n",
      "54 | 80\n",
      "59 | 90\n",
      "63 | 100\n"
     ]
    },
    {
     "data": {
      "application/vnd.jupyter.widget-view+json": {
       "model_id": "c418fd1b13a24611a8a4ce6c959b99eb",
       "version_major": 2,
       "version_minor": 0
      },
      "text/plain": [
       "HBox(children=(FloatProgress(value=0.0), HTML(value='')))"
      ]
     },
     "metadata": {},
     "output_type": "display_data"
    },
    {
     "name": "stdout",
     "output_type": "stream",
     "text": [
      "[SOKOBAN] Runtime Error/Warning: Not enough free spots (#3) to place 1 player and 2 boxes.\n",
      "[SOKOBAN] Retry . . .\n",
      "\n",
      "Episode 13100 Epsilon 0.200 Learning Rate 0.000033 Solved: 61\n",
      "[SOKOBAN] Runtime Error/Warning: Not enough free spots (#3) to place 1 player and 2 boxes.\n",
      "[SOKOBAN] Retry . . .\n",
      "5 | 10\n",
      "11 | 20\n",
      "16 | 30\n",
      "[SOKOBAN] Runtime Error/Warning: Generated Model with score == 0\n",
      "[SOKOBAN] Retry . . .\n",
      "23 | 40\n",
      "30 | 50\n",
      "[SOKOBAN] Runtime Error/Warning: Not enough free spots (#3) to place 1 player and 2 boxes.\n",
      "[SOKOBAN] Retry . . .\n",
      "35 | 60\n",
      "41 | 70\n",
      "45 | 80\n",
      "51 | 90\n",
      "56 | 100\n"
     ]
    },
    {
     "data": {
      "application/vnd.jupyter.widget-view+json": {
       "model_id": "4a1b7769b8894a5db610f4d6a3faacae",
       "version_major": 2,
       "version_minor": 0
      },
      "text/plain": [
       "HBox(children=(FloatProgress(value=0.0), HTML(value='')))"
      ]
     },
     "metadata": {},
     "output_type": "display_data"
    },
    {
     "name": "stdout",
     "output_type": "stream",
     "text": [
      "[SOKOBAN] Runtime Error/Warning: Not enough free spots (#3) to place 1 player and 2 boxes.\n",
      "[SOKOBAN] Retry . . .\n",
      "\n",
      "Episode 13200 Epsilon 0.200 Learning Rate 0.000032 Solved: 60\n",
      "4 | 10\n",
      "[SOKOBAN] Runtime Error/Warning: Not enough free spots (#3) to place 1 player and 2 boxes.\n",
      "[SOKOBAN] Retry . . .\n",
      "11 | 20\n",
      "14 | 30\n",
      "19 | 40\n",
      "24 | 50\n",
      "32 | 60\n",
      "39 | 70\n",
      "44 | 80\n",
      "[SOKOBAN] Runtime Error/Warning: Generated Model with score == 0\n",
      "[SOKOBAN] Retry . . .\n",
      "53 | 90\n",
      "59 | 100\n"
     ]
    },
    {
     "data": {
      "application/vnd.jupyter.widget-view+json": {
       "model_id": "b25e5e334e14409693fed0e194ea8b16",
       "version_major": 2,
       "version_minor": 0
      },
      "text/plain": [
       "HBox(children=(FloatProgress(value=0.0), HTML(value='')))"
      ]
     },
     "metadata": {},
     "output_type": "display_data"
    },
    {
     "name": "stdout",
     "output_type": "stream",
     "text": [
      "[SOKOBAN] Runtime Error/Warning: Not enough free spots (#3) to place 1 player and 2 boxes.\n",
      "[SOKOBAN] Retry . . .\n",
      "\n",
      "Episode 13300 Epsilon 0.200 Learning Rate 0.000032 Solved: 57\n",
      "8 | 10\n",
      "16 | 20\n",
      "21 | 30\n",
      "30 | 40\n",
      "37 | 50\n",
      "[SOKOBAN] Runtime Error/Warning: Not enough free spots (#3) to place 1 player and 2 boxes.\n",
      "[SOKOBAN] Retry . . .\n",
      "43 | 60\n",
      "48 | 70\n",
      "56 | 80\n",
      "62 | 90\n",
      "67 | 100\n"
     ]
    },
    {
     "data": {
      "application/vnd.jupyter.widget-view+json": {
       "model_id": "3078d9f4d8a14854940f6f129eb85624",
       "version_major": 2,
       "version_minor": 0
      },
      "text/plain": [
       "HBox(children=(FloatProgress(value=0.0), HTML(value='')))"
      ]
     },
     "metadata": {},
     "output_type": "display_data"
    },
    {
     "name": "stdout",
     "output_type": "stream",
     "text": [
      "[SOKOBAN] Runtime Error/Warning: Not enough free spots (#3) to place 1 player and 2 boxes.\n",
      "[SOKOBAN] Retry . . .\n",
      "\n",
      "Episode 13400 Epsilon 0.200 Learning Rate 0.000032 Solved: 64\n",
      "6 | 10\n",
      "[SOKOBAN] Runtime Error/Warning: Generated Model with score == 0\n",
      "[SOKOBAN] Retry . . .\n",
      "11 | 20\n",
      "19 | 30\n",
      "27 | 40\n",
      "34 | 50\n",
      "39 | 60\n",
      "43 | 70\n",
      "48 | 80\n",
      "55 | 90\n",
      "61 | 100\n"
     ]
    },
    {
     "data": {
      "application/vnd.jupyter.widget-view+json": {
       "model_id": "543b2a818d7b4dad8bcf598efcc9db8d",
       "version_major": 2,
       "version_minor": 0
      },
      "text/plain": [
       "HBox(children=(FloatProgress(value=0.0), HTML(value='')))"
      ]
     },
     "metadata": {},
     "output_type": "display_data"
    },
    {
     "name": "stdout",
     "output_type": "stream",
     "text": [
      "[SOKOBAN] Runtime Error/Warning: Not enough free spots (#3) to place 1 player and 2 boxes.\n",
      "[SOKOBAN] Retry . . .\n",
      "\n",
      "Episode 13500 Epsilon 0.200 Learning Rate 0.000032 Solved: 63\n",
      "5 | 10\n",
      "11 | 20\n",
      "17 | 30\n",
      "[SOKOBAN] Runtime Error/Warning: Generated Model with score == 0\n",
      "[SOKOBAN] Retry . . .\n",
      "[SOKOBAN] Runtime Error/Warning: Not enough free spots (#3) to place 1 player and 2 boxes.\n",
      "[SOKOBAN] Retry . . .\n",
      "21 | 40\n",
      "[SOKOBAN] Runtime Error/Warning: Generated Model with score == 0\n",
      "[SOKOBAN] Retry . . .\n",
      "28 | 50\n",
      "35 | 60\n",
      "43 | 70\n",
      "46 | 80\n",
      "50 | 90\n",
      "58 | 100\n"
     ]
    },
    {
     "data": {
      "application/vnd.jupyter.widget-view+json": {
       "model_id": "aaa80c410f044da0bc5f1cd75b8c827e",
       "version_major": 2,
       "version_minor": 0
      },
      "text/plain": [
       "HBox(children=(FloatProgress(value=0.0), HTML(value='')))"
      ]
     },
     "metadata": {},
     "output_type": "display_data"
    },
    {
     "name": "stdout",
     "output_type": "stream",
     "text": [
      "[SOKOBAN] Runtime Error/Warning: Not enough free spots (#3) to place 1 player and 2 boxes.\n",
      "[SOKOBAN] Retry . . .\n",
      "\n",
      "Episode 13600 Epsilon 0.200 Learning Rate 0.000031 Solved: 65\n",
      "5 | 10\n",
      "12 | 20\n",
      "19 | 30\n",
      "23 | 40\n",
      "29 | 50\n",
      "34 | 60\n",
      "39 | 70\n",
      "[SOKOBAN] Runtime Error/Warning: Not enough free spots (#3) to place 1 player and 2 boxes.\n",
      "[SOKOBAN] Retry . . .\n",
      "47 | 80\n",
      "53 | 90\n",
      "[SOKOBAN] Runtime Error/Warning: Not enough free spots (#3) to place 1 player and 2 boxes.\n",
      "[SOKOBAN] Retry . . .\n",
      "57 | 100\n"
     ]
    },
    {
     "data": {
      "application/vnd.jupyter.widget-view+json": {
       "model_id": "f32e2604c34644a6a3a34b06f6a7dc34",
       "version_major": 2,
       "version_minor": 0
      },
      "text/plain": [
       "HBox(children=(FloatProgress(value=0.0), HTML(value='')))"
      ]
     },
     "metadata": {},
     "output_type": "display_data"
    },
    {
     "name": "stdout",
     "output_type": "stream",
     "text": [
      "[SOKOBAN] Runtime Error/Warning: Not enough free spots (#3) to place 1 player and 2 boxes.\n",
      "[SOKOBAN] Retry . . .\n",
      "\n",
      "Episode 13700 Epsilon 0.200 Learning Rate 0.000031 Solved: 63\n",
      "[SOKOBAN] Runtime Error/Warning: Generated Model with score == 0\n",
      "[SOKOBAN] Retry . . .\n",
      "5 | 10\n",
      "[SOKOBAN] Runtime Error/Warning: Generated Model with score == 0\n",
      "[SOKOBAN] Retry . . .\n",
      "10 | 20\n",
      "13 | 30\n",
      "20 | 40\n",
      "27 | 50\n",
      "35 | 60\n",
      "[SOKOBAN] Runtime Error/Warning: Not enough free spots (#3) to place 1 player and 2 boxes.\n",
      "[SOKOBAN] Retry . . .\n",
      "43 | 70\n",
      "[SOKOBAN] Runtime Error/Warning: Not enough free spots (#3) to place 1 player and 2 boxes.\n",
      "[SOKOBAN] Retry . . .\n",
      "46 | 80\n",
      "54 | 90\n",
      "59 | 100\n"
     ]
    },
    {
     "data": {
      "application/vnd.jupyter.widget-view+json": {
       "model_id": "093cdbdc511843e6b10a44a8ebe13697",
       "version_major": 2,
       "version_minor": 0
      },
      "text/plain": [
       "HBox(children=(FloatProgress(value=0.0), HTML(value='')))"
      ]
     },
     "metadata": {},
     "output_type": "display_data"
    },
    {
     "name": "stdout",
     "output_type": "stream",
     "text": [
      "[SOKOBAN] Runtime Error/Warning: Not enough free spots (#3) to place 1 player and 2 boxes.\n",
      "[SOKOBAN] Retry . . .\n",
      "\n",
      "Episode 13800 Epsilon 0.200 Learning Rate 0.000031 Solved: 61\n",
      "7 | 10\n",
      "12 | 20\n",
      "[SOKOBAN] Runtime Error/Warning: Generated Model with score == 0\n",
      "[SOKOBAN] Retry . . .\n",
      "20 | 30\n",
      "29 | 40\n",
      "33 | 50\n",
      "37 | 60\n",
      "40 | 70\n",
      "45 | 80\n",
      "52 | 90\n",
      "57 | 100\n"
     ]
    },
    {
     "data": {
      "application/vnd.jupyter.widget-view+json": {
       "model_id": "36ab15044aa54b94b7c13357da509ec1",
       "version_major": 2,
       "version_minor": 0
      },
      "text/plain": [
       "HBox(children=(FloatProgress(value=0.0), HTML(value='')))"
      ]
     },
     "metadata": {},
     "output_type": "display_data"
    },
    {
     "name": "stdout",
     "output_type": "stream",
     "text": [
      "[SOKOBAN] Runtime Error/Warning: Not enough free spots (#3) to place 1 player and 2 boxes.\n",
      "[SOKOBAN] Retry . . .\n",
      "\n",
      "Episode 13900 Epsilon 0.200 Learning Rate 0.000031 Solved: 61\n",
      "8 | 10\n",
      "14 | 20\n",
      "21 | 30\n",
      "30 | 40\n",
      "38 | 50\n",
      "46 | 60\n",
      "54 | 70\n",
      "[SOKOBAN] Runtime Error/Warning: Generated Model with score == 0\n",
      "[SOKOBAN] Retry . . .\n",
      "59 | 80\n",
      "66 | 90\n",
      "71 | 100\n"
     ]
    },
    {
     "data": {
      "application/vnd.jupyter.widget-view+json": {
       "model_id": "dbe1202a1efa48b99e561b55cc3edf63",
       "version_major": 2,
       "version_minor": 0
      },
      "text/plain": [
       "HBox(children=(FloatProgress(value=0.0), HTML(value='')))"
      ]
     },
     "metadata": {},
     "output_type": "display_data"
    },
    {
     "name": "stdout",
     "output_type": "stream",
     "text": [
      "[SOKOBAN] Runtime Error/Warning: Not enough free spots (#3) to place 1 player and 2 boxes.\n",
      "[SOKOBAN] Retry . . .\n",
      "\n",
      "Episode 14000 Epsilon 0.200 Learning Rate 0.000030 Solved: 65\n",
      "4 | 10\n",
      "11 | 20\n",
      "16 | 30\n",
      "23 | 40\n",
      "29 | 50\n",
      "34 | 60\n",
      "42 | 70\n",
      "49 | 80\n",
      "57 | 90\n",
      "62 | 100\n"
     ]
    },
    {
     "data": {
      "application/vnd.jupyter.widget-view+json": {
       "model_id": "3f1141ce09434450b3655b1f5cf37242",
       "version_major": 2,
       "version_minor": 0
      },
      "text/plain": [
       "HBox(children=(FloatProgress(value=0.0), HTML(value='')))"
      ]
     },
     "metadata": {},
     "output_type": "display_data"
    },
    {
     "name": "stdout",
     "output_type": "stream",
     "text": [
      "[SOKOBAN] Runtime Error/Warning: Not enough free spots (#3) to place 1 player and 2 boxes.\n",
      "[SOKOBAN] Retry . . .\n",
      "\n",
      "Episode 14100 Epsilon 0.200 Learning Rate 0.000030 Solved: 56\n",
      "8 | 10\n",
      "15 | 20\n",
      "20 | 30\n",
      "25 | 40\n",
      "[SOKOBAN] Runtime Error/Warning: Not enough free spots (#3) to place 1 player and 2 boxes.\n",
      "[SOKOBAN] Retry . . .\n",
      "33 | 50\n",
      "42 | 60\n",
      "49 | 70\n",
      "[SOKOBAN] Runtime Error/Warning: Generated Model with score == 0\n",
      "[SOKOBAN] Retry . . .\n",
      "53 | 80\n",
      "[SOKOBAN] Runtime Error/Warning: Generated Model with score == 0\n",
      "[SOKOBAN] Retry . . .\n",
      "60 | 90\n",
      "[SOKOBAN] Runtime Error/Warning: Not enough free spots (#3) to place 1 player and 2 boxes.\n",
      "[SOKOBAN] Retry . . .\n",
      "65 | 100\n"
     ]
    },
    {
     "data": {
      "application/vnd.jupyter.widget-view+json": {
       "model_id": "b1bffed0b3624f3ba24a8280a948eda5",
       "version_major": 2,
       "version_minor": 0
      },
      "text/plain": [
       "HBox(children=(FloatProgress(value=0.0), HTML(value='')))"
      ]
     },
     "metadata": {},
     "output_type": "display_data"
    },
    {
     "name": "stdout",
     "output_type": "stream",
     "text": [
      "[SOKOBAN] Runtime Error/Warning: Not enough free spots (#3) to place 1 player and 2 boxes.\n",
      "[SOKOBAN] Retry . . .\n",
      "\n",
      "Episode 14200 Epsilon 0.200 Learning Rate 0.000030 Solved: 61\n",
      "6 | 10\n",
      "14 | 20\n",
      "19 | 30\n",
      "25 | 40\n",
      "31 | 50\n",
      "39 | 60\n",
      "45 | 70\n",
      "50 | 80\n",
      "58 | 90\n",
      "[SOKOBAN] Runtime Error/Warning: Not enough free spots (#3) to place 1 player and 2 boxes.\n",
      "[SOKOBAN] Retry . . .\n",
      "64 | 100\n"
     ]
    },
    {
     "data": {
      "application/vnd.jupyter.widget-view+json": {
       "model_id": "de74efe31f6f4e00909d1c6616437f6a",
       "version_major": 2,
       "version_minor": 0
      },
      "text/plain": [
       "HBox(children=(FloatProgress(value=0.0), HTML(value='')))"
      ]
     },
     "metadata": {},
     "output_type": "display_data"
    },
    {
     "name": "stdout",
     "output_type": "stream",
     "text": [
      "[SOKOBAN] Runtime Error/Warning: Not enough free spots (#3) to place 1 player and 2 boxes.\n",
      "[SOKOBAN] Retry . . .\n",
      "\n",
      "Episode 14300 Epsilon 0.200 Learning Rate 0.000030 Solved: 56\n",
      "7 | 10\n",
      "12 | 20\n",
      "20 | 30\n",
      "26 | 40\n",
      "31 | 50\n",
      "37 | 60\n",
      "44 | 70\n",
      "50 | 80\n",
      "57 | 90\n",
      "64 | 100\n"
     ]
    },
    {
     "data": {
      "application/vnd.jupyter.widget-view+json": {
       "model_id": "5e4fdb09d1f349f4b7edebcfdd099037",
       "version_major": 2,
       "version_minor": 0
      },
      "text/plain": [
       "HBox(children=(FloatProgress(value=0.0), HTML(value='')))"
      ]
     },
     "metadata": {},
     "output_type": "display_data"
    },
    {
     "name": "stdout",
     "output_type": "stream",
     "text": [
      "[SOKOBAN] Runtime Error/Warning: Not enough free spots (#3) to place 1 player and 2 boxes.\n",
      "[SOKOBAN] Retry . . .\n",
      "\n",
      "Episode 14400 Epsilon 0.200 Learning Rate 0.000029 Solved: 59\n",
      "7 | 10\n",
      "[SOKOBAN] Runtime Error/Warning: Not enough free spots (#3) to place 1 player and 2 boxes.\n",
      "[SOKOBAN] Retry . . .\n",
      "14 | 20\n",
      "19 | 30\n",
      "[SOKOBAN] Runtime Error/Warning: Not enough free spots (#3) to place 1 player and 2 boxes.\n",
      "[SOKOBAN] Retry . . .\n",
      "23 | 40\n",
      "31 | 50\n",
      "39 | 60\n",
      "44 | 70\n",
      "52 | 80\n",
      "62 | 90\n",
      "[SOKOBAN] Runtime Error/Warning: Not enough free spots (#3) to place 1 player and 2 boxes.\n",
      "[SOKOBAN] Retry . . .\n",
      "70 | 100\n"
     ]
    },
    {
     "data": {
      "application/vnd.jupyter.widget-view+json": {
       "model_id": "b5e97688fdc643eaa0f31e3c41593c1d",
       "version_major": 2,
       "version_minor": 0
      },
      "text/plain": [
       "HBox(children=(FloatProgress(value=0.0), HTML(value='')))"
      ]
     },
     "metadata": {},
     "output_type": "display_data"
    },
    {
     "name": "stdout",
     "output_type": "stream",
     "text": [
      "[SOKOBAN] Runtime Error/Warning: Not enough free spots (#3) to place 1 player and 2 boxes.\n",
      "[SOKOBAN] Retry . . .\n",
      "\n",
      "Episode 14500 Epsilon 0.200 Learning Rate 0.000029 Solved: 62\n",
      "8 | 10\n",
      "12 | 20\n",
      "[SOKOBAN] Runtime Error/Warning: Not enough free spots (#3) to place 1 player and 2 boxes.\n",
      "[SOKOBAN] Retry . . .\n",
      "20 | 30\n",
      "26 | 40\n",
      "29 | 50\n",
      "36 | 60\n",
      "42 | 70\n",
      "48 | 80\n",
      "51 | 90\n",
      "57 | 100\n"
     ]
    },
    {
     "data": {
      "application/vnd.jupyter.widget-view+json": {
       "model_id": "f1b537b35c51412ab0aaa950eb0d50e5",
       "version_major": 2,
       "version_minor": 0
      },
      "text/plain": [
       "HBox(children=(FloatProgress(value=0.0), HTML(value='')))"
      ]
     },
     "metadata": {},
     "output_type": "display_data"
    },
    {
     "name": "stdout",
     "output_type": "stream",
     "text": [
      "[SOKOBAN] Runtime Error/Warning: Not enough free spots (#3) to place 1 player and 2 boxes.\n",
      "[SOKOBAN] Retry . . .\n",
      "\n",
      "Episode 14600 Epsilon 0.200 Learning Rate 0.000029 Solved: 58\n",
      "8 | 10\n",
      "[SOKOBAN] Runtime Error/Warning: Generated Model with score == 0\n",
      "[SOKOBAN] Retry . . .\n",
      "14 | 20\n",
      "19 | 30\n",
      "25 | 40\n",
      "30 | 50\n",
      "38 | 60\n",
      "43 | 70\n",
      "48 | 80\n",
      "53 | 90\n",
      "58 | 100\n"
     ]
    },
    {
     "data": {
      "application/vnd.jupyter.widget-view+json": {
       "model_id": "430b3ac0e0e04ac4a1cd5f435276f4c2",
       "version_major": 2,
       "version_minor": 0
      },
      "text/plain": [
       "HBox(children=(FloatProgress(value=0.0), HTML(value='')))"
      ]
     },
     "metadata": {},
     "output_type": "display_data"
    },
    {
     "name": "stdout",
     "output_type": "stream",
     "text": [
      "[SOKOBAN] Runtime Error/Warning: Not enough free spots (#3) to place 1 player and 2 boxes.\n",
      "[SOKOBAN] Retry . . .\n",
      "\n",
      "Episode 14700 Epsilon 0.200 Learning Rate 0.000029 Solved: 61\n",
      "7 | 10\n",
      "[SOKOBAN] Runtime Error/Warning: Generated Model with score == 0\n",
      "[SOKOBAN] Retry . . .\n",
      "13 | 20\n",
      "[SOKOBAN] Runtime Error/Warning: Generated Model with score == 0\n",
      "[SOKOBAN] Retry . . .\n",
      "20 | 30\n",
      "27 | 40\n",
      "35 | 50\n",
      "41 | 60\n",
      "47 | 70\n",
      "49 | 80\n",
      "54 | 90\n",
      "[SOKOBAN] Runtime Error/Warning: Generated Model with score == 0\n",
      "[SOKOBAN] Retry . . .\n",
      "57 | 100\n"
     ]
    },
    {
     "data": {
      "application/vnd.jupyter.widget-view+json": {
       "model_id": "f3a445dd354e48778bd7026ad957b22b",
       "version_major": 2,
       "version_minor": 0
      },
      "text/plain": [
       "HBox(children=(FloatProgress(value=0.0), HTML(value='')))"
      ]
     },
     "metadata": {},
     "output_type": "display_data"
    },
    {
     "name": "stdout",
     "output_type": "stream",
     "text": [
      "[SOKOBAN] Runtime Error/Warning: Not enough free spots (#3) to place 1 player and 2 boxes.\n",
      "[SOKOBAN] Retry . . .\n",
      "\n",
      "Episode 14800 Epsilon 0.200 Learning Rate 0.000028 Solved: 61\n",
      "8 | 10\n",
      "12 | 20\n",
      "14 | 30\n",
      "20 | 40\n",
      "27 | 50\n",
      "[SOKOBAN] Runtime Error/Warning: Not enough free spots (#3) to place 1 player and 2 boxes.\n",
      "[SOKOBAN] Retry . . .\n",
      "33 | 60\n",
      "39 | 70\n",
      "46 | 80\n",
      "53 | 90\n",
      "60 | 100\n"
     ]
    },
    {
     "data": {
      "application/vnd.jupyter.widget-view+json": {
       "model_id": "8b981ea1fb5b4ce1ac44ea161fb6099d",
       "version_major": 2,
       "version_minor": 0
      },
      "text/plain": [
       "HBox(children=(FloatProgress(value=0.0), HTML(value='')))"
      ]
     },
     "metadata": {},
     "output_type": "display_data"
    },
    {
     "name": "stdout",
     "output_type": "stream",
     "text": [
      "[SOKOBAN] Runtime Error/Warning: Not enough free spots (#3) to place 1 player and 2 boxes.\n",
      "[SOKOBAN] Retry . . .\n",
      "\n",
      "Episode 14900 Epsilon 0.200 Learning Rate 0.000028 Solved: 59\n",
      "9 | 10\n",
      "14 | 20\n",
      "21 | 30\n",
      "27 | 40\n",
      "35 | 50\n",
      "38 | 60\n",
      "[SOKOBAN] Runtime Error/Warning: Generated Model with score == 0\n",
      "[SOKOBAN] Retry . . .\n",
      "41 | 70\n",
      "45 | 80\n",
      "50 | 90\n",
      "57 | 100\n"
     ]
    },
    {
     "data": {
      "application/vnd.jupyter.widget-view+json": {
       "model_id": "c70565293d2f4c669ef50caf92af5540",
       "version_major": 2,
       "version_minor": 0
      },
      "text/plain": [
       "HBox(children=(FloatProgress(value=0.0), HTML(value='')))"
      ]
     },
     "metadata": {},
     "output_type": "display_data"
    },
    {
     "name": "stdout",
     "output_type": "stream",
     "text": [
      "[SOKOBAN] Runtime Error/Warning: Not enough free spots (#3) to place 1 player and 2 boxes.\n",
      "[SOKOBAN] Retry . . .\n",
      "\n",
      "Episode 15000 Epsilon 0.200 Learning Rate 0.000028 Solved: 60\n",
      "[SOKOBAN] Runtime Error/Warning: Not enough free spots (#3) to place 1 player and 2 boxes.\n",
      "[SOKOBAN] Retry . . .\n",
      "6 | 10\n",
      "10 | 20\n",
      "18 | 30\n",
      "25 | 40\n",
      "30 | 50\n",
      "37 | 60\n",
      "43 | 70\n",
      "53 | 80\n",
      "62 | 90\n",
      "68 | 100\n"
     ]
    },
    {
     "data": {
      "application/vnd.jupyter.widget-view+json": {
       "model_id": "3b9dda6ab1f1436b88e9bcb92a6f8755",
       "version_major": 2,
       "version_minor": 0
      },
      "text/plain": [
       "HBox(children=(FloatProgress(value=0.0), HTML(value='')))"
      ]
     },
     "metadata": {},
     "output_type": "display_data"
    },
    {
     "name": "stdout",
     "output_type": "stream",
     "text": [
      "[SOKOBAN] Runtime Error/Warning: Not enough free spots (#3) to place 1 player and 2 boxes.\n",
      "[SOKOBAN] Retry . . .\n",
      "\n",
      "Episode 15100 Epsilon 0.200 Learning Rate 0.000028 Solved: 62\n",
      "8 | 10\n",
      "14 | 20\n",
      "22 | 30\n",
      "25 | 40\n",
      "31 | 50\n",
      "39 | 60\n",
      "45 | 70\n",
      "51 | 80\n",
      "56 | 90\n",
      "62 | 100\n"
     ]
    },
    {
     "data": {
      "application/vnd.jupyter.widget-view+json": {
       "model_id": "8c152f4fb2c24568bdc547a14b88d633",
       "version_major": 2,
       "version_minor": 0
      },
      "text/plain": [
       "HBox(children=(FloatProgress(value=0.0), HTML(value='')))"
      ]
     },
     "metadata": {},
     "output_type": "display_data"
    },
    {
     "name": "stdout",
     "output_type": "stream",
     "text": [
      "[SOKOBAN] Runtime Error/Warning: Not enough free spots (#3) to place 1 player and 2 boxes.\n",
      "[SOKOBAN] Retry . . .\n",
      "\n",
      "Episode 15200 Epsilon 0.200 Learning Rate 0.000028 Solved: 62\n",
      "4 | 10\n",
      "11 | 20\n",
      "18 | 30\n",
      "24 | 40\n",
      "30 | 50\n",
      "37 | 60\n",
      "43 | 70\n",
      "[SOKOBAN] Runtime Error/Warning: Generated Model with score == 0\n",
      "[SOKOBAN] Retry . . .\n",
      "50 | 80\n",
      "59 | 90\n",
      "64 | 100\n"
     ]
    },
    {
     "data": {
      "application/vnd.jupyter.widget-view+json": {
       "model_id": "fd88aa22855344109e46aeb157b30cf2",
       "version_major": 2,
       "version_minor": 0
      },
      "text/plain": [
       "HBox(children=(FloatProgress(value=0.0), HTML(value='')))"
      ]
     },
     "metadata": {},
     "output_type": "display_data"
    },
    {
     "name": "stdout",
     "output_type": "stream",
     "text": [
      "[SOKOBAN] Runtime Error/Warning: Not enough free spots (#3) to place 1 player and 2 boxes.\n",
      "[SOKOBAN] Retry . . .\n",
      "\n",
      "Episode 15300 Epsilon 0.200 Learning Rate 0.000027 Solved: 61\n",
      "8 | 10\n",
      "14 | 20\n",
      "20 | 30\n",
      "26 | 40\n",
      "31 | 50\n",
      "38 | 60\n",
      "47 | 70\n",
      "53 | 80\n",
      "[SOKOBAN] Runtime Error/Warning: Generated Model with score == 0\n",
      "[SOKOBAN] Retry . . .\n",
      "57 | 90\n",
      "63 | 100\n"
     ]
    },
    {
     "data": {
      "application/vnd.jupyter.widget-view+json": {
       "model_id": "4783621f2c1b41b3bc76efd2d9de306e",
       "version_major": 2,
       "version_minor": 0
      },
      "text/plain": [
       "HBox(children=(FloatProgress(value=0.0), HTML(value='')))"
      ]
     },
     "metadata": {},
     "output_type": "display_data"
    },
    {
     "name": "stdout",
     "output_type": "stream",
     "text": [
      "[SOKOBAN] Runtime Error/Warning: Not enough free spots (#3) to place 1 player and 2 boxes.\n",
      "[SOKOBAN] Retry . . .\n",
      "\n",
      "Episode 15400 Epsilon 0.200 Learning Rate 0.000027 Solved: 60\n",
      "6 | 10\n",
      "11 | 20\n",
      "17 | 30\n",
      "23 | 40\n",
      "33 | 50\n",
      "39 | 60\n",
      "46 | 70\n",
      "[SOKOBAN] Runtime Error/Warning: Not enough free spots (#3) to place 1 player and 2 boxes.\n",
      "[SOKOBAN] Retry . . .\n",
      "51 | 80\n",
      "58 | 90\n",
      "[SOKOBAN] Runtime Error/Warning: Generated Model with score == 0\n",
      "[SOKOBAN] Retry . . .\n",
      "62 | 100\n"
     ]
    },
    {
     "data": {
      "application/vnd.jupyter.widget-view+json": {
       "model_id": "1b5021db8f6e4c1aabe716822058e9e6",
       "version_major": 2,
       "version_minor": 0
      },
      "text/plain": [
       "HBox(children=(FloatProgress(value=0.0), HTML(value='')))"
      ]
     },
     "metadata": {},
     "output_type": "display_data"
    },
    {
     "name": "stdout",
     "output_type": "stream",
     "text": [
      "[SOKOBAN] Runtime Error/Warning: Not enough free spots (#3) to place 1 player and 2 boxes.\n",
      "[SOKOBAN] Retry . . .\n",
      "\n",
      "Episode 15500 Epsilon 0.200 Learning Rate 0.000027 Solved: 62\n",
      "7 | 10\n",
      "15 | 20\n",
      "[SOKOBAN] Runtime Error/Warning: Not enough free spots (#3) to place 1 player and 2 boxes.\n",
      "[SOKOBAN] Retry . . .\n",
      "20 | 30\n",
      "26 | 40\n",
      "31 | 50\n",
      "[SOKOBAN] Runtime Error/Warning: Not enough free spots (#3) to place 1 player and 2 boxes.\n",
      "[SOKOBAN] Retry . . .\n",
      "37 | 60\n",
      "45 | 70\n",
      "51 | 80\n",
      "56 | 90\n",
      "61 | 100\n"
     ]
    },
    {
     "data": {
      "application/vnd.jupyter.widget-view+json": {
       "model_id": "458c84d93f004cb98a3a481746470e82",
       "version_major": 2,
       "version_minor": 0
      },
      "text/plain": [
       "HBox(children=(FloatProgress(value=0.0), HTML(value='')))"
      ]
     },
     "metadata": {},
     "output_type": "display_data"
    },
    {
     "name": "stdout",
     "output_type": "stream",
     "text": [
      "[SOKOBAN] Runtime Error/Warning: Not enough free spots (#3) to place 1 player and 2 boxes.\n",
      "[SOKOBAN] Retry . . .\n",
      "\n",
      "Episode 15600 Epsilon 0.200 Learning Rate 0.000027 Solved: 62\n",
      "[SOKOBAN] Runtime Error/Warning: Not enough free spots (#3) to place 1 player and 2 boxes.\n",
      "[SOKOBAN] Retry . . .\n",
      "8 | 10\n",
      "[SOKOBAN] Runtime Error/Warning: Generated Model with score == 0\n",
      "[SOKOBAN] Retry . . .\n",
      "12 | 20\n",
      "21 | 30\n",
      "24 | 40\n",
      "32 | 50\n",
      "40 | 60\n",
      "[SOKOBAN] Runtime Error/Warning: Not enough free spots (#3) to place 1 player and 2 boxes.\n",
      "[SOKOBAN] Retry . . .\n",
      "45 | 70\n",
      "51 | 80\n",
      "[SOKOBAN] Runtime Error/Warning: Not enough free spots (#3) to place 1 player and 2 boxes.\n",
      "[SOKOBAN] Retry . . .\n",
      "57 | 90\n",
      "65 | 100\n"
     ]
    },
    {
     "data": {
      "application/vnd.jupyter.widget-view+json": {
       "model_id": "85b0305ccac3415ca6dbbbab3473c8f3",
       "version_major": 2,
       "version_minor": 0
      },
      "text/plain": [
       "HBox(children=(FloatProgress(value=0.0), HTML(value='')))"
      ]
     },
     "metadata": {},
     "output_type": "display_data"
    },
    {
     "name": "stdout",
     "output_type": "stream",
     "text": [
      "[SOKOBAN] Runtime Error/Warning: Not enough free spots (#3) to place 1 player and 2 boxes.\n",
      "[SOKOBAN] Retry . . .\n",
      "\n",
      "Episode 15700 Epsilon 0.200 Learning Rate 0.000026 Solved: 63\n",
      "7 | 10\n",
      "10 | 20\n",
      "17 | 30\n",
      "24 | 40\n",
      "29 | 50\n",
      "33 | 60\n",
      "39 | 70\n",
      "44 | 80\n",
      "[SOKOBAN] Runtime Error/Warning: Generated Model with score == 0\n",
      "[SOKOBAN] Retry . . .\n",
      "52 | 90\n",
      "59 | 100\n"
     ]
    },
    {
     "data": {
      "application/vnd.jupyter.widget-view+json": {
       "model_id": "c54f88624386471bbf486ad1c3304118",
       "version_major": 2,
       "version_minor": 0
      },
      "text/plain": [
       "HBox(children=(FloatProgress(value=0.0), HTML(value='')))"
      ]
     },
     "metadata": {},
     "output_type": "display_data"
    },
    {
     "name": "stdout",
     "output_type": "stream",
     "text": [
      "[SOKOBAN] Runtime Error/Warning: Not enough free spots (#3) to place 1 player and 2 boxes.\n",
      "[SOKOBAN] Retry . . .\n",
      "\n",
      "Episode 15800 Epsilon 0.200 Learning Rate 0.000026 Solved: 63\n",
      "[SOKOBAN] Runtime Error/Warning: Not enough free spots (#3) to place 1 player and 2 boxes.\n",
      "[SOKOBAN] Retry . . .\n",
      "6 | 10\n",
      "13 | 20\n",
      "19 | 30\n",
      "24 | 40\n",
      "30 | 50\n",
      "33 | 60\n",
      "41 | 70\n",
      "47 | 80\n",
      "54 | 90\n",
      "59 | 100\n"
     ]
    },
    {
     "data": {
      "application/vnd.jupyter.widget-view+json": {
       "model_id": "d418a2b2740d494db1a5c3b23b194ba2",
       "version_major": 2,
       "version_minor": 0
      },
      "text/plain": [
       "HBox(children=(FloatProgress(value=0.0), HTML(value='')))"
      ]
     },
     "metadata": {},
     "output_type": "display_data"
    },
    {
     "name": "stdout",
     "output_type": "stream",
     "text": [
      "[SOKOBAN] Runtime Error/Warning: Not enough free spots (#3) to place 1 player and 2 boxes.\n",
      "[SOKOBAN] Retry . . .\n",
      "\n",
      "Episode 15900 Epsilon 0.200 Learning Rate 0.000026 Solved: 59\n",
      "6 | 10\n",
      "9 | 20\n",
      "14 | 30\n",
      "21 | 40\n",
      "27 | 50\n",
      "30 | 60\n",
      "35 | 70\n",
      "41 | 80\n",
      "48 | 90\n",
      "56 | 100\n"
     ]
    },
    {
     "data": {
      "application/vnd.jupyter.widget-view+json": {
       "model_id": "b868a9662ca949f6926af8a4ddf33792",
       "version_major": 2,
       "version_minor": 0
      },
      "text/plain": [
       "HBox(children=(FloatProgress(value=0.0), HTML(value='')))"
      ]
     },
     "metadata": {},
     "output_type": "display_data"
    },
    {
     "name": "stdout",
     "output_type": "stream",
     "text": [
      "[SOKOBAN] Runtime Error/Warning: Not enough free spots (#3) to place 1 player and 2 boxes.\n",
      "[SOKOBAN] Retry . . .\n",
      "\n",
      "Episode 16000 Epsilon 0.200 Learning Rate 0.000026 Solved: 61\n",
      "4 | 10\n",
      "11 | 20\n",
      "18 | 30\n",
      "26 | 40\n",
      "34 | 50\n",
      "40 | 60\n",
      "45 | 70\n",
      "50 | 80\n",
      "[SOKOBAN] Runtime Error/Warning: Not enough free spots (#3) to place 1 player and 2 boxes.\n",
      "[SOKOBAN] Retry . . .\n",
      "58 | 90\n",
      "65 | 100\n"
     ]
    },
    {
     "data": {
      "application/vnd.jupyter.widget-view+json": {
       "model_id": "93fbab5955564e32a59ae81c4f679832",
       "version_major": 2,
       "version_minor": 0
      },
      "text/plain": [
       "HBox(children=(FloatProgress(value=0.0), HTML(value='')))"
      ]
     },
     "metadata": {},
     "output_type": "display_data"
    },
    {
     "name": "stdout",
     "output_type": "stream",
     "text": [
      "[SOKOBAN] Runtime Error/Warning: Not enough free spots (#3) to place 1 player and 2 boxes.\n",
      "[SOKOBAN] Retry . . .\n",
      "\n",
      "Episode 16100 Epsilon 0.200 Learning Rate 0.000026 Solved: 59\n",
      "6 | 10\n",
      "10 | 20\n",
      "[SOKOBAN] Runtime Error/Warning: Generated Model with score == 0\n",
      "[SOKOBAN] Retry . . .\n",
      "14 | 30\n",
      "20 | 40\n",
      "26 | 50\n",
      "30 | 60\n",
      "36 | 70\n",
      "39 | 80\n",
      "44 | 90\n",
      "50 | 100\n"
     ]
    },
    {
     "data": {
      "application/vnd.jupyter.widget-view+json": {
       "model_id": "6afd4c7ab6d742178afdd4da41915f22",
       "version_major": 2,
       "version_minor": 0
      },
      "text/plain": [
       "HBox(children=(FloatProgress(value=0.0), HTML(value='')))"
      ]
     },
     "metadata": {},
     "output_type": "display_data"
    },
    {
     "name": "stdout",
     "output_type": "stream",
     "text": [
      "[SOKOBAN] Runtime Error/Warning: Not enough free spots (#3) to place 1 player and 2 boxes.\n",
      "[SOKOBAN] Retry . . .\n",
      "\n",
      "Episode 16200 Epsilon 0.200 Learning Rate 0.000025 Solved: 59\n",
      "8 | 10\n",
      "[SOKOBAN] Runtime Error/Warning: Generated Model with score == 0\n",
      "[SOKOBAN] Retry . . .\n",
      "14 | 20\n",
      "17 | 30\n",
      "22 | 40\n",
      "29 | 50\n",
      "36 | 60\n",
      "41 | 70\n",
      "48 | 80\n",
      "54 | 90\n",
      "61 | 100\n"
     ]
    },
    {
     "data": {
      "application/vnd.jupyter.widget-view+json": {
       "model_id": "ba3933d0a3484fe49a901e46d7b15313",
       "version_major": 2,
       "version_minor": 0
      },
      "text/plain": [
       "HBox(children=(FloatProgress(value=0.0), HTML(value='')))"
      ]
     },
     "metadata": {},
     "output_type": "display_data"
    },
    {
     "name": "stdout",
     "output_type": "stream",
     "text": [
      "[SOKOBAN] Runtime Error/Warning: Not enough free spots (#3) to place 1 player and 2 boxes.\n",
      "[SOKOBAN] Retry . . .\n",
      "\n",
      "Episode 16300 Epsilon 0.200 Learning Rate 0.000025 Solved: 60\n",
      "8 | 10\n",
      "15 | 20\n",
      "23 | 30\n",
      "31 | 40\n",
      "40 | 50\n",
      "46 | 60\n",
      "55 | 70\n",
      "61 | 80\n",
      "68 | 90\n",
      "[SOKOBAN] Runtime Error/Warning: Not enough free spots (#3) to place 1 player and 2 boxes.\n",
      "[SOKOBAN] Retry . . .\n",
      "[SOKOBAN] Runtime Error/Warning: Generated Model with score == 0\n",
      "[SOKOBAN] Retry . . .\n",
      "[SOKOBAN] Runtime Error/Warning: Generated Model with score == 0\n",
      "[SOKOBAN] Retry . . .\n",
      "72 | 100\n"
     ]
    },
    {
     "data": {
      "application/vnd.jupyter.widget-view+json": {
       "model_id": "7a195013c6ce4b238dc830dbdb91a228",
       "version_major": 2,
       "version_minor": 0
      },
      "text/plain": [
       "HBox(children=(FloatProgress(value=0.0), HTML(value='')))"
      ]
     },
     "metadata": {},
     "output_type": "display_data"
    },
    {
     "name": "stdout",
     "output_type": "stream",
     "text": [
      "[SOKOBAN] Runtime Error/Warning: Not enough free spots (#3) to place 1 player and 2 boxes.\n",
      "[SOKOBAN] Retry . . .\n",
      "\n",
      "Episode 16400 Epsilon 0.200 Learning Rate 0.000025 Solved: 60\n",
      "7 | 10\n",
      "15 | 20\n",
      "22 | 30\n",
      "26 | 40\n",
      "31 | 50\n",
      "[SOKOBAN] Runtime Error/Warning: Not enough free spots (#3) to place 1 player and 2 boxes.\n",
      "[SOKOBAN] Retry . . .\n",
      "35 | 60\n",
      "40 | 70\n",
      "45 | 80\n",
      "54 | 90\n",
      "58 | 100\n"
     ]
    },
    {
     "data": {
      "application/vnd.jupyter.widget-view+json": {
       "model_id": "67e41f64992b4c0ba60ae42469d70ca0",
       "version_major": 2,
       "version_minor": 0
      },
      "text/plain": [
       "HBox(children=(FloatProgress(value=0.0), HTML(value='')))"
      ]
     },
     "metadata": {},
     "output_type": "display_data"
    },
    {
     "name": "stdout",
     "output_type": "stream",
     "text": [
      "[SOKOBAN] Runtime Error/Warning: Not enough free spots (#3) to place 1 player and 2 boxes.\n",
      "[SOKOBAN] Retry . . .\n",
      "\n",
      "Episode 16500 Epsilon 0.200 Learning Rate 0.000025 Solved: 62\n",
      "5 | 10\n",
      "11 | 20\n",
      "19 | 30\n",
      "25 | 40\n",
      "33 | 50\n",
      "38 | 60\n",
      "[SOKOBAN] Runtime Error/Warning: Not enough free spots (#3) to place 1 player and 2 boxes.\n",
      "[SOKOBAN] Retry . . .\n",
      "44 | 70\n",
      "49 | 80\n",
      "56 | 90\n",
      "60 | 100\n"
     ]
    },
    {
     "data": {
      "application/vnd.jupyter.widget-view+json": {
       "model_id": "bcd72ce715be484cb1578c2ef969276a",
       "version_major": 2,
       "version_minor": 0
      },
      "text/plain": [
       "HBox(children=(FloatProgress(value=0.0), HTML(value='')))"
      ]
     },
     "metadata": {},
     "output_type": "display_data"
    },
    {
     "name": "stdout",
     "output_type": "stream",
     "text": [
      "[SOKOBAN] Runtime Error/Warning: Not enough free spots (#3) to place 1 player and 2 boxes.\n",
      "[SOKOBAN] Retry . . .\n",
      "\n",
      "Episode 16600 Epsilon 0.200 Learning Rate 0.000024 Solved: 62\n",
      "[SOKOBAN] Runtime Error/Warning: Generated Model with score == 0\n",
      "[SOKOBAN] Retry . . .\n",
      "7 | 10\n",
      "[SOKOBAN] Runtime Error/Warning: Generated Model with score == 0\n",
      "[SOKOBAN] Retry . . .\n",
      "15 | 20\n",
      "18 | 30\n",
      "25 | 40\n",
      "32 | 50\n",
      "37 | 60\n",
      "43 | 70\n",
      "[SOKOBAN] Runtime Error/Warning: Not enough free spots (#3) to place 1 player and 2 boxes.\n",
      "[SOKOBAN] Retry . . .\n",
      "50 | 80\n",
      "57 | 90\n",
      "62 | 100\n"
     ]
    },
    {
     "data": {
      "application/vnd.jupyter.widget-view+json": {
       "model_id": "1fbfb2ba59664c2abb94a5c8175c8308",
       "version_major": 2,
       "version_minor": 0
      },
      "text/plain": [
       "HBox(children=(FloatProgress(value=0.0), HTML(value='')))"
      ]
     },
     "metadata": {},
     "output_type": "display_data"
    },
    {
     "name": "stdout",
     "output_type": "stream",
     "text": [
      "[SOKOBAN] Runtime Error/Warning: Not enough free spots (#3) to place 1 player and 2 boxes.\n",
      "[SOKOBAN] Retry . . .\n",
      "\n",
      "Episode 16700 Epsilon 0.200 Learning Rate 0.000024 Solved: 55\n",
      "[SOKOBAN] Runtime Error/Warning: Generated Model with score == 0\n",
      "[SOKOBAN] Retry . . .\n",
      "6 | 10\n",
      "15 | 20\n",
      "20 | 30\n",
      "28 | 40\n",
      "32 | 50\n",
      "37 | 60\n",
      "46 | 70\n",
      "53 | 80\n",
      "[SOKOBAN] Runtime Error/Warning: Not enough free spots (#3) to place 1 player and 2 boxes.\n",
      "[SOKOBAN] Retry . . .\n",
      "57 | 90\n",
      "64 | 100\n"
     ]
    },
    {
     "data": {
      "application/vnd.jupyter.widget-view+json": {
       "model_id": "42e188f2d6a8404983ca3912a82ee68b",
       "version_major": 2,
       "version_minor": 0
      },
      "text/plain": [
       "HBox(children=(FloatProgress(value=0.0), HTML(value='')))"
      ]
     },
     "metadata": {},
     "output_type": "display_data"
    },
    {
     "name": "stdout",
     "output_type": "stream",
     "text": [
      "[SOKOBAN] Runtime Error/Warning: Not enough free spots (#3) to place 1 player and 2 boxes.\n",
      "[SOKOBAN] Retry . . .\n",
      "\n",
      "Episode 16800 Epsilon 0.200 Learning Rate 0.000024 Solved: 59\n",
      "6 | 10\n",
      "12 | 20\n",
      "19 | 30\n",
      "[SOKOBAN] Runtime Error/Warning: Generated Model with score == 0\n",
      "[SOKOBAN] Retry . . .\n",
      "25 | 40\n",
      "31 | 50\n",
      "[SOKOBAN] Runtime Error/Warning: Generated Model with score == 0\n",
      "[SOKOBAN] Retry . . .\n",
      "37 | 60\n",
      "[SOKOBAN] Runtime Error/Warning: Not enough free spots (#3) to place 1 player and 2 boxes.\n",
      "[SOKOBAN] Retry . . .\n",
      "42 | 70\n",
      "48 | 80\n",
      "55 | 90\n",
      "61 | 100\n"
     ]
    },
    {
     "data": {
      "application/vnd.jupyter.widget-view+json": {
       "model_id": "1d9027dc5c964ab7a460a1e71c60e949",
       "version_major": 2,
       "version_minor": 0
      },
      "text/plain": [
       "HBox(children=(FloatProgress(value=0.0), HTML(value='')))"
      ]
     },
     "metadata": {},
     "output_type": "display_data"
    },
    {
     "name": "stdout",
     "output_type": "stream",
     "text": [
      "[SOKOBAN] Runtime Error/Warning: Not enough free spots (#3) to place 1 player and 2 boxes.\n",
      "[SOKOBAN] Retry . . .\n",
      "\n",
      "Episode 16900 Epsilon 0.200 Learning Rate 0.000024 Solved: 60\n",
      "[SOKOBAN] Runtime Error/Warning: Generated Model with score == 0\n",
      "[SOKOBAN] Retry . . .\n",
      "8 | 10\n",
      "18 | 20\n",
      "22 | 30\n",
      "24 | 40\n",
      "25 | 50\n",
      "[SOKOBAN] Runtime Error/Warning: Not enough free spots (#2) to place 1 player and 2 boxes.\n",
      "[SOKOBAN] Retry . . .\n",
      "32 | 60\n",
      "40 | 70\n",
      "43 | 80\n",
      "[SOKOBAN] Runtime Error/Warning: Generated Model with score == 0\n",
      "[SOKOBAN] Retry . . .\n",
      "49 | 90\n",
      "55 | 100\n"
     ]
    },
    {
     "data": {
      "application/vnd.jupyter.widget-view+json": {
       "model_id": "4f0b722b732e45c19160dfb2e5430aa6",
       "version_major": 2,
       "version_minor": 0
      },
      "text/plain": [
       "HBox(children=(FloatProgress(value=0.0), HTML(value='')))"
      ]
     },
     "metadata": {},
     "output_type": "display_data"
    },
    {
     "name": "stdout",
     "output_type": "stream",
     "text": [
      "[SOKOBAN] Runtime Error/Warning: Not enough free spots (#3) to place 1 player and 2 boxes.\n",
      "[SOKOBAN] Retry . . .\n",
      "\n",
      "Episode 17000 Epsilon 0.200 Learning Rate 0.000024 Solved: 59\n",
      "5 | 10\n",
      "7 | 20\n",
      "13 | 30\n",
      "21 | 40\n",
      "27 | 50\n",
      "30 | 60\n",
      "35 | 70\n",
      "41 | 80\n",
      "48 | 90\n",
      "52 | 100\n"
     ]
    },
    {
     "data": {
      "application/vnd.jupyter.widget-view+json": {
       "model_id": "8f1582fd6ec3490f99face450c7f44b6",
       "version_major": 2,
       "version_minor": 0
      },
      "text/plain": [
       "HBox(children=(FloatProgress(value=0.0), HTML(value='')))"
      ]
     },
     "metadata": {},
     "output_type": "display_data"
    },
    {
     "name": "stdout",
     "output_type": "stream",
     "text": [
      "[SOKOBAN] Runtime Error/Warning: Not enough free spots (#3) to place 1 player and 2 boxes.\n",
      "[SOKOBAN] Retry . . .\n",
      "\n",
      "Episode 17100 Epsilon 0.200 Learning Rate 0.000023 Solved: 61\n",
      "4 | 10\n",
      "9 | 20\n",
      "17 | 30\n",
      "24 | 40\n",
      "29 | 50\n",
      "34 | 60\n",
      "42 | 70\n",
      "48 | 80\n",
      "55 | 90\n",
      "59 | 100\n"
     ]
    },
    {
     "data": {
      "application/vnd.jupyter.widget-view+json": {
       "model_id": "c64cdfc0def440329f82b4dc79c47145",
       "version_major": 2,
       "version_minor": 0
      },
      "text/plain": [
       "HBox(children=(FloatProgress(value=0.0), HTML(value='')))"
      ]
     },
     "metadata": {},
     "output_type": "display_data"
    },
    {
     "name": "stdout",
     "output_type": "stream",
     "text": [
      "[SOKOBAN] Runtime Error/Warning: Not enough free spots (#3) to place 1 player and 2 boxes.\n",
      "[SOKOBAN] Retry . . .\n",
      "\n",
      "Episode 17200 Epsilon 0.200 Learning Rate 0.000023 Solved: 57\n",
      "[SOKOBAN] Runtime Error/Warning: Not enough free spots (#3) to place 1 player and 2 boxes.\n",
      "[SOKOBAN] Retry . . .\n",
      "[SOKOBAN] Runtime Error/Warning: Generated Model with score == 0\n",
      "[SOKOBAN] Retry . . .\n",
      "4 | 10\n",
      "10 | 20\n",
      "14 | 30\n",
      "18 | 40\n",
      "26 | 50\n",
      "33 | 60\n",
      "40 | 70\n",
      "45 | 80\n",
      "52 | 90\n",
      "60 | 100\n"
     ]
    },
    {
     "data": {
      "application/vnd.jupyter.widget-view+json": {
       "model_id": "102ecfae87744632b567477d107dd27e",
       "version_major": 2,
       "version_minor": 0
      },
      "text/plain": [
       "HBox(children=(FloatProgress(value=0.0), HTML(value='')))"
      ]
     },
     "metadata": {},
     "output_type": "display_data"
    },
    {
     "name": "stdout",
     "output_type": "stream",
     "text": [
      "[SOKOBAN] Runtime Error/Warning: Not enough free spots (#3) to place 1 player and 2 boxes.\n",
      "[SOKOBAN] Retry . . .\n",
      "\n",
      "Episode 17300 Epsilon 0.200 Learning Rate 0.000023 Solved: 62\n",
      "6 | 10\n",
      "11 | 20\n",
      "17 | 30\n",
      "24 | 40\n",
      "29 | 50\n",
      "36 | 60\n",
      "40 | 70\n",
      "48 | 80\n",
      "54 | 90\n",
      "[SOKOBAN] Runtime Error/Warning: Not enough free spots (#3) to place 1 player and 2 boxes.\n",
      "[SOKOBAN] Retry . . .\n",
      "62 | 100\n"
     ]
    },
    {
     "data": {
      "application/vnd.jupyter.widget-view+json": {
       "model_id": "8145b27d0578477da2355ffeb203d49c",
       "version_major": 2,
       "version_minor": 0
      },
      "text/plain": [
       "HBox(children=(FloatProgress(value=0.0), HTML(value='')))"
      ]
     },
     "metadata": {},
     "output_type": "display_data"
    },
    {
     "name": "stdout",
     "output_type": "stream",
     "text": [
      "[SOKOBAN] Runtime Error/Warning: Not enough free spots (#3) to place 1 player and 2 boxes.\n",
      "[SOKOBAN] Retry . . .\n",
      "\n",
      "Episode 17400 Epsilon 0.200 Learning Rate 0.000023 Solved: 63\n",
      "[SOKOBAN] Runtime Error/Warning: Not enough free spots (#3) to place 1 player and 2 boxes.\n",
      "[SOKOBAN] Retry . . .\n",
      "8 | 10\n",
      "16 | 20\n",
      "23 | 30\n",
      "[SOKOBAN] Runtime Error/Warning: Generated Model with score == 0\n",
      "[SOKOBAN] Retry . . .\n",
      "29 | 40\n",
      "32 | 50\n",
      "39 | 60\n",
      "46 | 70\n",
      "49 | 80\n",
      "[SOKOBAN] Runtime Error/Warning: Generated Model with score == 0\n",
      "[SOKOBAN] Retry . . .\n",
      "57 | 90\n",
      "64 | 100\n"
     ]
    },
    {
     "data": {
      "application/vnd.jupyter.widget-view+json": {
       "model_id": "59ff237ec2634506bfbafe1c0a113497",
       "version_major": 2,
       "version_minor": 0
      },
      "text/plain": [
       "HBox(children=(FloatProgress(value=0.0), HTML(value='')))"
      ]
     },
     "metadata": {},
     "output_type": "display_data"
    },
    {
     "name": "stdout",
     "output_type": "stream",
     "text": [
      "[SOKOBAN] Runtime Error/Warning: Not enough free spots (#3) to place 1 player and 2 boxes.\n",
      "[SOKOBAN] Retry . . .\n",
      "\n",
      "Episode 17500 Epsilon 0.200 Learning Rate 0.000023 Solved: 60\n",
      "6 | 10\n",
      "11 | 20\n",
      "19 | 30\n",
      "26 | 40\n",
      "[SOKOBAN] Runtime Error/Warning: Not enough free spots (#3) to place 1 player and 2 boxes.\n",
      "[SOKOBAN] Retry . . .\n",
      "31 | 50\n",
      "37 | 60\n",
      "[SOKOBAN] Runtime Error/Warning: Not enough free spots (#3) to place 1 player and 2 boxes.\n",
      "[SOKOBAN] Retry . . .\n",
      "44 | 70\n",
      "50 | 80\n",
      "[SOKOBAN] Runtime Error/Warning: Not enough free spots (#3) to place 1 player and 2 boxes.\n",
      "[SOKOBAN] Retry . . .\n",
      "51 | 90\n",
      "57 | 100\n"
     ]
    },
    {
     "data": {
      "application/vnd.jupyter.widget-view+json": {
       "model_id": "de4a1dedf8b1450c9c2a68e8ddeaa800",
       "version_major": 2,
       "version_minor": 0
      },
      "text/plain": [
       "HBox(children=(FloatProgress(value=0.0), HTML(value='')))"
      ]
     },
     "metadata": {},
     "output_type": "display_data"
    },
    {
     "name": "stdout",
     "output_type": "stream",
     "text": [
      "[SOKOBAN] Runtime Error/Warning: Not enough free spots (#3) to place 1 player and 2 boxes.\n",
      "[SOKOBAN] Retry . . .\n",
      "\n",
      "Episode 17600 Epsilon 0.200 Learning Rate 0.000022 Solved: 64\n",
      "7 | 10\n",
      "14 | 20\n",
      "19 | 30\n",
      "26 | 40\n",
      "[SOKOBAN] Runtime Error/Warning: Not enough free spots (#3) to place 1 player and 2 boxes.\n",
      "[SOKOBAN] Retry . . .\n",
      "32 | 50\n",
      "38 | 60\n",
      "43 | 70\n",
      "49 | 80\n",
      "[SOKOBAN] Runtime Error/Warning: Not enough free spots (#3) to place 1 player and 2 boxes.\n",
      "[SOKOBAN] Retry . . .\n",
      "58 | 90\n",
      "64 | 100\n"
     ]
    },
    {
     "data": {
      "application/vnd.jupyter.widget-view+json": {
       "model_id": "879adc7b6ea043848ebdf0db5f93f2e3",
       "version_major": 2,
       "version_minor": 0
      },
      "text/plain": [
       "HBox(children=(FloatProgress(value=0.0), HTML(value='')))"
      ]
     },
     "metadata": {},
     "output_type": "display_data"
    },
    {
     "name": "stdout",
     "output_type": "stream",
     "text": [
      "[SOKOBAN] Runtime Error/Warning: Not enough free spots (#3) to place 1 player and 2 boxes.\n",
      "[SOKOBAN] Retry . . .\n",
      "\n",
      "Episode 17700 Epsilon 0.200 Learning Rate 0.000022 Solved: 65\n",
      "8 | 10\n",
      "[SOKOBAN] Runtime Error/Warning: Generated Model with score == 0\n",
      "[SOKOBAN] Retry . . .\n",
      "15 | 20\n",
      "24 | 30\n",
      "31 | 40\n",
      "40 | 50\n",
      "45 | 60\n",
      "52 | 70\n",
      "60 | 80\n",
      "[SOKOBAN] Runtime Error/Warning: Not enough free spots (#3) to place 1 player and 2 boxes.\n",
      "[SOKOBAN] Retry . . .\n",
      "65 | 90\n",
      "71 | 100\n"
     ]
    },
    {
     "data": {
      "application/vnd.jupyter.widget-view+json": {
       "model_id": "a1f74e37561247bc94f14e2876e406ee",
       "version_major": 2,
       "version_minor": 0
      },
      "text/plain": [
       "HBox(children=(FloatProgress(value=0.0), HTML(value='')))"
      ]
     },
     "metadata": {},
     "output_type": "display_data"
    },
    {
     "name": "stdout",
     "output_type": "stream",
     "text": [
      "[SOKOBAN] Runtime Error/Warning: Not enough free spots (#3) to place 1 player and 2 boxes.\n",
      "[SOKOBAN] Retry . . .\n",
      "\n",
      "Episode 17800 Epsilon 0.200 Learning Rate 0.000022 Solved: 61\n",
      "4 | 10\n",
      "9 | 20\n",
      "13 | 30\n",
      "18 | 40\n",
      "[SOKOBAN] Runtime Error/Warning: Not enough free spots (#3) to place 1 player and 2 boxes.\n",
      "[SOKOBAN] Retry . . .\n",
      "22 | 50\n",
      "30 | 60\n",
      "32 | 70\n",
      "41 | 80\n",
      "50 | 90\n",
      "56 | 100\n"
     ]
    },
    {
     "data": {
      "application/vnd.jupyter.widget-view+json": {
       "model_id": "f7c8d3e33fc84c05a918d36467df4e8b",
       "version_major": 2,
       "version_minor": 0
      },
      "text/plain": [
       "HBox(children=(FloatProgress(value=0.0), HTML(value='')))"
      ]
     },
     "metadata": {},
     "output_type": "display_data"
    },
    {
     "name": "stdout",
     "output_type": "stream",
     "text": [
      "[SOKOBAN] Runtime Error/Warning: Not enough free spots (#3) to place 1 player and 2 boxes.\n",
      "[SOKOBAN] Retry . . .\n",
      "\n",
      "Episode 17900 Epsilon 0.200 Learning Rate 0.000022 Solved: 62\n",
      "6 | 10\n",
      "11 | 20\n",
      "17 | 30\n",
      "25 | 40\n",
      "32 | 50\n",
      "39 | 60\n",
      "45 | 70\n",
      "51 | 80\n",
      "59 | 90\n",
      "[SOKOBAN] Runtime Error/Warning: Not enough free spots (#3) to place 1 player and 2 boxes.\n",
      "[SOKOBAN] Retry . . .\n",
      "66 | 100\n"
     ]
    },
    {
     "data": {
      "application/vnd.jupyter.widget-view+json": {
       "model_id": "44bc3ac6622b4b55b31e31fc7bd0e016",
       "version_major": 2,
       "version_minor": 0
      },
      "text/plain": [
       "HBox(children=(FloatProgress(value=0.0), HTML(value='')))"
      ]
     },
     "metadata": {},
     "output_type": "display_data"
    },
    {
     "name": "stdout",
     "output_type": "stream",
     "text": [
      "[SOKOBAN] Runtime Error/Warning: Not enough free spots (#3) to place 1 player and 2 boxes.\n",
      "[SOKOBAN] Retry . . .\n",
      "\n",
      "Episode 18000 Epsilon 0.200 Learning Rate 0.000022 Solved: 62\n",
      "6 | 10\n",
      "12 | 20\n",
      "17 | 30\n",
      "22 | 40\n",
      "29 | 50\n",
      "34 | 60\n",
      "38 | 70\n",
      "46 | 80\n",
      "50 | 90\n",
      "57 | 100\n"
     ]
    },
    {
     "data": {
      "application/vnd.jupyter.widget-view+json": {
       "model_id": "2fe16e7587084dbe9e590a4acab9da3f",
       "version_major": 2,
       "version_minor": 0
      },
      "text/plain": [
       "HBox(children=(FloatProgress(value=0.0), HTML(value='')))"
      ]
     },
     "metadata": {},
     "output_type": "display_data"
    },
    {
     "name": "stdout",
     "output_type": "stream",
     "text": [
      "[SOKOBAN] Runtime Error/Warning: Not enough free spots (#3) to place 1 player and 2 boxes.\n",
      "[SOKOBAN] Retry . . .\n",
      "\n",
      "Episode 18100 Epsilon 0.200 Learning Rate 0.000021 Solved: 60\n",
      "[SOKOBAN] Runtime Error/Warning: Not enough free spots (#3) to place 1 player and 2 boxes.\n",
      "[SOKOBAN] Retry . . .\n",
      "[SOKOBAN] Runtime Error/Warning: Not enough free spots (#3) to place 1 player and 2 boxes.\n",
      "[SOKOBAN] Retry . . .\n",
      "8 | 10\n",
      "14 | 20\n",
      "18 | 30\n",
      "26 | 40\n",
      "32 | 50\n",
      "39 | 60\n",
      "43 | 70\n",
      "49 | 80\n",
      "52 | 90\n",
      "56 | 100\n"
     ]
    },
    {
     "data": {
      "application/vnd.jupyter.widget-view+json": {
       "model_id": "863ba12e456d47d390231199f82184e3",
       "version_major": 2,
       "version_minor": 0
      },
      "text/plain": [
       "HBox(children=(FloatProgress(value=0.0), HTML(value='')))"
      ]
     },
     "metadata": {},
     "output_type": "display_data"
    },
    {
     "name": "stdout",
     "output_type": "stream",
     "text": [
      "[SOKOBAN] Runtime Error/Warning: Not enough free spots (#3) to place 1 player and 2 boxes.\n",
      "[SOKOBAN] Retry . . .\n",
      "\n",
      "Episode 18200 Epsilon 0.200 Learning Rate 0.000021 Solved: 63\n",
      "5 | 10\n",
      "11 | 20\n",
      "20 | 30\n",
      "24 | 40\n",
      "29 | 50\n",
      "34 | 60\n",
      "38 | 70\n",
      "[SOKOBAN] Runtime Error/Warning: Generated Model with score == 0\n",
      "[SOKOBAN] Retry . . .\n",
      "41 | 80\n",
      "46 | 90\n",
      "[SOKOBAN] Runtime Error/Warning: Generated Model with score == 0\n",
      "[SOKOBAN] Retry . . .\n",
      "53 | 100\n"
     ]
    },
    {
     "data": {
      "application/vnd.jupyter.widget-view+json": {
       "model_id": "d6d305250f1a4ee7bd8158d6c4accc03",
       "version_major": 2,
       "version_minor": 0
      },
      "text/plain": [
       "HBox(children=(FloatProgress(value=0.0), HTML(value='')))"
      ]
     },
     "metadata": {},
     "output_type": "display_data"
    },
    {
     "name": "stdout",
     "output_type": "stream",
     "text": [
      "[SOKOBAN] Runtime Error/Warning: Not enough free spots (#3) to place 1 player and 2 boxes.\n",
      "[SOKOBAN] Retry . . .\n",
      "\n",
      "Episode 18300 Epsilon 0.200 Learning Rate 0.000021 Solved: 62\n",
      "5 | 10\n",
      "9 | 20\n",
      "14 | 30\n",
      "[SOKOBAN] Runtime Error/Warning: Not enough free spots (#3) to place 1 player and 2 boxes.\n",
      "[SOKOBAN] Retry . . .\n",
      "21 | 40\n",
      "28 | 50\n",
      "34 | 60\n",
      "40 | 70\n",
      "48 | 80\n",
      "54 | 90\n",
      "61 | 100\n"
     ]
    },
    {
     "data": {
      "application/vnd.jupyter.widget-view+json": {
       "model_id": "833039b6341745bf99126246112a54ed",
       "version_major": 2,
       "version_minor": 0
      },
      "text/plain": [
       "HBox(children=(FloatProgress(value=0.0), HTML(value='')))"
      ]
     },
     "metadata": {},
     "output_type": "display_data"
    },
    {
     "name": "stdout",
     "output_type": "stream",
     "text": [
      "[SOKOBAN] Runtime Error/Warning: Not enough free spots (#3) to place 1 player and 2 boxes.\n",
      "[SOKOBAN] Retry . . .\n",
      "\n",
      "Episode 18400 Epsilon 0.200 Learning Rate 0.000021 Solved: 61\n",
      "7 | 10\n",
      "14 | 20\n",
      "[SOKOBAN] Runtime Error/Warning: Not enough free spots (#3) to place 1 player and 2 boxes.\n",
      "[SOKOBAN] Retry . . .\n",
      "20 | 30\n",
      "27 | 40\n",
      "33 | 50\n",
      "40 | 60\n",
      "46 | 70\n",
      "54 | 80\n",
      "60 | 90\n",
      "68 | 100\n"
     ]
    },
    {
     "data": {
      "application/vnd.jupyter.widget-view+json": {
       "model_id": "0f2f7523162b480ea0696980daffb57e",
       "version_major": 2,
       "version_minor": 0
      },
      "text/plain": [
       "HBox(children=(FloatProgress(value=0.0), HTML(value='')))"
      ]
     },
     "metadata": {},
     "output_type": "display_data"
    },
    {
     "name": "stdout",
     "output_type": "stream",
     "text": [
      "[SOKOBAN] Runtime Error/Warning: Not enough free spots (#3) to place 1 player and 2 boxes.\n",
      "[SOKOBAN] Retry . . .\n",
      "\n",
      "Episode 18500 Epsilon 0.200 Learning Rate 0.000021 Solved: 62\n",
      "9 | 10\n",
      "14 | 20\n",
      "19 | 30\n",
      "25 | 40\n",
      "[SOKOBAN] Runtime Error/Warning: Generated Model with score == 0\n",
      "[SOKOBAN] Retry . . .\n",
      "32 | 50\n",
      "39 | 60\n",
      "47 | 70\n",
      "[SOKOBAN] Runtime Error/Warning: Not enough free spots (#3) to place 1 player and 2 boxes.\n",
      "[SOKOBAN] Retry . . .\n",
      "53 | 80\n",
      "60 | 90\n",
      "65 | 100\n"
     ]
    },
    {
     "data": {
      "application/vnd.jupyter.widget-view+json": {
       "model_id": "43e5faa980b948a6ad01028ce3d46c53",
       "version_major": 2,
       "version_minor": 0
      },
      "text/plain": [
       "HBox(children=(FloatProgress(value=0.0), HTML(value='')))"
      ]
     },
     "metadata": {},
     "output_type": "display_data"
    },
    {
     "name": "stdout",
     "output_type": "stream",
     "text": [
      "[SOKOBAN] Runtime Error/Warning: Not enough free spots (#3) to place 1 player and 2 boxes.\n",
      "[SOKOBAN] Retry . . .\n",
      "\n",
      "Episode 18600 Epsilon 0.200 Learning Rate 0.000021 Solved: 61\n",
      "6 | 10\n",
      "11 | 20\n",
      "[SOKOBAN] Runtime Error/Warning: Generated Model with score == 0\n",
      "[SOKOBAN] Retry . . .\n",
      "19 | 30\n",
      "24 | 40\n",
      "[SOKOBAN] Runtime Error/Warning: Not enough free spots (#3) to place 1 player and 2 boxes.\n",
      "[SOKOBAN] Retry . . .\n",
      "33 | 50\n",
      "[SOKOBAN] Runtime Error/Warning: Not enough free spots (#3) to place 1 player and 2 boxes.\n",
      "[SOKOBAN] Retry . . .\n",
      "40 | 60\n",
      "[SOKOBAN] Runtime Error/Warning: Generated Model with score == 0\n",
      "[SOKOBAN] Retry . . .\n",
      "45 | 70\n",
      "[SOKOBAN] Runtime Error/Warning: Generated Model with score == 0\n",
      "[SOKOBAN] Retry . . .\n",
      "51 | 80\n",
      "57 | 90\n",
      "[SOKOBAN] Runtime Error/Warning: Not enough free spots (#3) to place 1 player and 2 boxes.\n",
      "[SOKOBAN] Retry . . .\n",
      "66 | 100\n"
     ]
    },
    {
     "data": {
      "application/vnd.jupyter.widget-view+json": {
       "model_id": "a5a8c5df93054871a8cd53f5ec453bfb",
       "version_major": 2,
       "version_minor": 0
      },
      "text/plain": [
       "HBox(children=(FloatProgress(value=0.0), HTML(value='')))"
      ]
     },
     "metadata": {},
     "output_type": "display_data"
    },
    {
     "name": "stdout",
     "output_type": "stream",
     "text": [
      "[SOKOBAN] Runtime Error/Warning: Not enough free spots (#3) to place 1 player and 2 boxes.\n",
      "[SOKOBAN] Retry . . .\n",
      "\n",
      "Episode 18700 Epsilon 0.200 Learning Rate 0.000020 Solved: 64\n",
      "6 | 10\n",
      "[SOKOBAN] Runtime Error/Warning: Generated Model with score == 0\n",
      "[SOKOBAN] Retry . . .\n",
      "14 | 20\n",
      "21 | 30\n",
      "26 | 40\n",
      "[SOKOBAN] Runtime Error/Warning: Not enough free spots (#3) to place 1 player and 2 boxes.\n",
      "[SOKOBAN] Retry . . .\n",
      "32 | 50\n",
      "39 | 60\n",
      "45 | 70\n",
      "53 | 80\n",
      "59 | 90\n",
      "65 | 100\n"
     ]
    },
    {
     "data": {
      "application/vnd.jupyter.widget-view+json": {
       "model_id": "c76abf2fa3fe42a1a2e7687fadb2c17c",
       "version_major": 2,
       "version_minor": 0
      },
      "text/plain": [
       "HBox(children=(FloatProgress(value=0.0), HTML(value='')))"
      ]
     },
     "metadata": {},
     "output_type": "display_data"
    },
    {
     "name": "stdout",
     "output_type": "stream",
     "text": [
      "[SOKOBAN] Runtime Error/Warning: Not enough free spots (#3) to place 1 player and 2 boxes.\n",
      "[SOKOBAN] Retry . . .\n",
      "\n",
      "Episode 18800 Epsilon 0.200 Learning Rate 0.000020 Solved: 62\n",
      "6 | 10\n",
      "12 | 20\n",
      "19 | 30\n",
      "26 | 40\n",
      "31 | 50\n",
      "36 | 60\n",
      "38 | 70\n",
      "45 | 80\n",
      "54 | 90\n",
      "61 | 100\n"
     ]
    },
    {
     "data": {
      "application/vnd.jupyter.widget-view+json": {
       "model_id": "197e0d02f5f54b56bdb339c3f6ae05aa",
       "version_major": 2,
       "version_minor": 0
      },
      "text/plain": [
       "HBox(children=(FloatProgress(value=0.0), HTML(value='')))"
      ]
     },
     "metadata": {},
     "output_type": "display_data"
    },
    {
     "name": "stdout",
     "output_type": "stream",
     "text": [
      "[SOKOBAN] Runtime Error/Warning: Not enough free spots (#3) to place 1 player and 2 boxes.\n",
      "[SOKOBAN] Retry . . .\n",
      "\n",
      "Episode 18900 Epsilon 0.200 Learning Rate 0.000020 Solved: 63\n",
      "7 | 10\n",
      "15 | 20\n",
      "21 | 30\n",
      "30 | 40\n",
      "37 | 50\n",
      "43 | 60\n",
      "52 | 70\n",
      "59 | 80\n",
      "64 | 90\n",
      "[SOKOBAN] Runtime Error/Warning: Generated Model with score == 0\n",
      "[SOKOBAN] Retry . . .\n",
      "70 | 100\n"
     ]
    },
    {
     "data": {
      "application/vnd.jupyter.widget-view+json": {
       "model_id": "bd6ecc8248db43acb6057b9fb94a0d57",
       "version_major": 2,
       "version_minor": 0
      },
      "text/plain": [
       "HBox(children=(FloatProgress(value=0.0), HTML(value='')))"
      ]
     },
     "metadata": {},
     "output_type": "display_data"
    },
    {
     "name": "stdout",
     "output_type": "stream",
     "text": [
      "[SOKOBAN] Runtime Error/Warning: Not enough free spots (#3) to place 1 player and 2 boxes.\n",
      "[SOKOBAN] Retry . . .\n",
      "\n",
      "Episode 19000 Epsilon 0.200 Learning Rate 0.000020 Solved: 63\n",
      "8 | 10\n",
      "14 | 20\n",
      "20 | 30\n",
      "29 | 40\n",
      "36 | 50\n",
      "43 | 60\n",
      "[SOKOBAN] Runtime Error/Warning: Not enough free spots (#3) to place 1 player and 2 boxes.\n",
      "[SOKOBAN] Retry . . .\n",
      "51 | 70\n",
      "58 | 80\n",
      "65 | 90\n",
      "71 | 100\n"
     ]
    },
    {
     "data": {
      "application/vnd.jupyter.widget-view+json": {
       "model_id": "0cf7b2c1c78b4b659b9a6241a39a181c",
       "version_major": 2,
       "version_minor": 0
      },
      "text/plain": [
       "HBox(children=(FloatProgress(value=0.0), HTML(value='')))"
      ]
     },
     "metadata": {},
     "output_type": "display_data"
    },
    {
     "name": "stdout",
     "output_type": "stream",
     "text": [
      "[SOKOBAN] Runtime Error/Warning: Not enough free spots (#3) to place 1 player and 2 boxes.\n",
      "[SOKOBAN] Retry . . .\n",
      "\n",
      "Episode 19100 Epsilon 0.200 Learning Rate 0.000020 Solved: 63\n",
      "[SOKOBAN] Runtime Error/Warning: Not enough free spots (#3) to place 1 player and 2 boxes.\n",
      "[SOKOBAN] Retry . . .\n",
      "7 | 10\n",
      "11 | 20\n",
      "[SOKOBAN] Runtime Error/Warning: Generated Model with score == 0\n",
      "[SOKOBAN] Retry . . .\n",
      "17 | 30\n",
      "21 | 40\n",
      "28 | 50\n",
      "34 | 60\n",
      "42 | 70\n",
      "48 | 80\n",
      "54 | 90\n",
      "60 | 100\n"
     ]
    },
    {
     "data": {
      "application/vnd.jupyter.widget-view+json": {
       "model_id": "fec6dbc412a140009a3d4a7247a4bef2",
       "version_major": 2,
       "version_minor": 0
      },
      "text/plain": [
       "HBox(children=(FloatProgress(value=0.0), HTML(value='')))"
      ]
     },
     "metadata": {},
     "output_type": "display_data"
    },
    {
     "name": "stdout",
     "output_type": "stream",
     "text": [
      "[SOKOBAN] Runtime Error/Warning: Not enough free spots (#3) to place 1 player and 2 boxes.\n",
      "[SOKOBAN] Retry . . .\n",
      "\n",
      "Episode 19200 Epsilon 0.200 Learning Rate 0.000020 Solved: 64\n",
      "[SOKOBAN] Runtime Error/Warning: Not enough free spots (#3) to place 1 player and 2 boxes.\n",
      "[SOKOBAN] Retry . . .\n",
      "8 | 10\n",
      "14 | 20\n",
      "[SOKOBAN] Runtime Error/Warning: Generated Model with score == 0\n",
      "[SOKOBAN] Retry . . .\n",
      "21 | 30\n",
      "27 | 40\n",
      "[SOKOBAN] Runtime Error/Warning: Not enough free spots (#3) to place 1 player and 2 boxes.\n",
      "[SOKOBAN] Retry . . .\n",
      "[SOKOBAN] Runtime Error/Warning: Not enough free spots (#3) to place 1 player and 2 boxes.\n",
      "[SOKOBAN] Retry . . .\n",
      "[SOKOBAN] Runtime Error/Warning: Generated Model with score == 0\n",
      "[SOKOBAN] Retry . . .\n",
      "34 | 50\n",
      "[SOKOBAN] Runtime Error/Warning: Not enough free spots (#3) to place 1 player and 2 boxes.\n",
      "[SOKOBAN] Retry . . .\n",
      "39 | 60\n",
      "48 | 70\n",
      "[SOKOBAN] Runtime Error/Warning: Not enough free spots (#3) to place 1 player and 2 boxes.\n",
      "[SOKOBAN] Retry . . .\n",
      "56 | 80\n",
      "64 | 90\n",
      "71 | 100\n"
     ]
    },
    {
     "data": {
      "application/vnd.jupyter.widget-view+json": {
       "model_id": "c4b9ca9d2ded4385b255d82c251ae045",
       "version_major": 2,
       "version_minor": 0
      },
      "text/plain": [
       "HBox(children=(FloatProgress(value=0.0), HTML(value='')))"
      ]
     },
     "metadata": {},
     "output_type": "display_data"
    },
    {
     "name": "stdout",
     "output_type": "stream",
     "text": [
      "[SOKOBAN] Runtime Error/Warning: Not enough free spots (#3) to place 1 player and 2 boxes.\n",
      "[SOKOBAN] Retry . . .\n",
      "\n",
      "Episode 19300 Epsilon 0.200 Learning Rate 0.000019 Solved: 62\n",
      "7 | 10\n",
      "[SOKOBAN] Runtime Error/Warning: Generated Model with score == 0\n",
      "[SOKOBAN] Retry . . .\n",
      "11 | 20\n",
      "18 | 30\n",
      "23 | 40\n",
      "[SOKOBAN] Runtime Error/Warning: Generated Model with score == 0\n",
      "[SOKOBAN] Retry . . .\n",
      "33 | 50\n",
      "[SOKOBAN] Runtime Error/Warning: Not enough free spots (#3) to place 1 player and 2 boxes.\n",
      "[SOKOBAN] Retry . . .\n",
      "39 | 60\n",
      "44 | 70\n",
      "51 | 80\n",
      "54 | 90\n",
      "60 | 100\n"
     ]
    },
    {
     "data": {
      "application/vnd.jupyter.widget-view+json": {
       "model_id": "b58bd2ace4384d6da7a032578ff01761",
       "version_major": 2,
       "version_minor": 0
      },
      "text/plain": [
       "HBox(children=(FloatProgress(value=0.0), HTML(value='')))"
      ]
     },
     "metadata": {},
     "output_type": "display_data"
    },
    {
     "name": "stdout",
     "output_type": "stream",
     "text": [
      "[SOKOBAN] Runtime Error/Warning: Not enough free spots (#3) to place 1 player and 2 boxes.\n",
      "[SOKOBAN] Retry . . .\n",
      "\n",
      "Episode 19400 Epsilon 0.200 Learning Rate 0.000019 Solved: 64\n",
      "6 | 10\n",
      "12 | 20\n",
      "20 | 30\n",
      "27 | 40\n",
      "32 | 50\n",
      "36 | 60\n",
      "41 | 70\n",
      "48 | 80\n",
      "54 | 90\n",
      "60 | 100\n"
     ]
    },
    {
     "data": {
      "application/vnd.jupyter.widget-view+json": {
       "model_id": "ca31cdbb3ba04f5c98e1759fb2b772f4",
       "version_major": 2,
       "version_minor": 0
      },
      "text/plain": [
       "HBox(children=(FloatProgress(value=0.0), HTML(value='')))"
      ]
     },
     "metadata": {},
     "output_type": "display_data"
    },
    {
     "name": "stdout",
     "output_type": "stream",
     "text": [
      "[SOKOBAN] Runtime Error/Warning: Not enough free spots (#3) to place 1 player and 2 boxes.\n",
      "[SOKOBAN] Retry . . .\n",
      "\n",
      "Episode 19500 Epsilon 0.200 Learning Rate 0.000019 Solved: 64\n",
      "[SOKOBAN] Runtime Error/Warning: Not enough free spots (#3) to place 1 player and 2 boxes.\n",
      "[SOKOBAN] Retry . . .\n",
      "6 | 10\n",
      "12 | 20\n",
      "20 | 30\n",
      "28 | 40\n",
      "35 | 50\n",
      "41 | 60\n",
      "48 | 70\n",
      "50 | 80\n",
      "56 | 90\n",
      "64 | 100\n"
     ]
    },
    {
     "data": {
      "application/vnd.jupyter.widget-view+json": {
       "model_id": "a968a9c0f65747578463a70ea7a19b8c",
       "version_major": 2,
       "version_minor": 0
      },
      "text/plain": [
       "HBox(children=(FloatProgress(value=0.0), HTML(value='')))"
      ]
     },
     "metadata": {},
     "output_type": "display_data"
    },
    {
     "name": "stdout",
     "output_type": "stream",
     "text": [
      "[SOKOBAN] Runtime Error/Warning: Not enough free spots (#3) to place 1 player and 2 boxes.\n",
      "[SOKOBAN] Retry . . .\n",
      "\n",
      "Episode 19600 Epsilon 0.200 Learning Rate 0.000019 Solved: 69\n",
      "6 | 10\n",
      "13 | 20\n",
      "20 | 30\n",
      "26 | 40\n",
      "32 | 50\n",
      "40 | 60\n",
      "47 | 70\n",
      "52 | 80\n",
      "56 | 90\n",
      "61 | 100\n"
     ]
    },
    {
     "data": {
      "application/vnd.jupyter.widget-view+json": {
       "model_id": "a339595ba8a14e6a8d5dedf67d8d479e",
       "version_major": 2,
       "version_minor": 0
      },
      "text/plain": [
       "HBox(children=(FloatProgress(value=0.0), HTML(value='')))"
      ]
     },
     "metadata": {},
     "output_type": "display_data"
    },
    {
     "name": "stdout",
     "output_type": "stream",
     "text": [
      "[SOKOBAN] Runtime Error/Warning: Not enough free spots (#3) to place 1 player and 2 boxes.\n",
      "[SOKOBAN] Retry . . .\n",
      "\n",
      "Episode 19700 Epsilon 0.200 Learning Rate 0.000019 Solved: 64\n",
      "6 | 10\n",
      "9 | 20\n",
      "16 | 30\n",
      "22 | 40\n",
      "30 | 50\n",
      "35 | 60\n",
      "39 | 70\n",
      "46 | 80\n",
      "52 | 90\n",
      "59 | 100\n"
     ]
    },
    {
     "data": {
      "application/vnd.jupyter.widget-view+json": {
       "model_id": "2e688d3db59644ca8bb77173af4ba243",
       "version_major": 2,
       "version_minor": 0
      },
      "text/plain": [
       "HBox(children=(FloatProgress(value=0.0), HTML(value='')))"
      ]
     },
     "metadata": {},
     "output_type": "display_data"
    },
    {
     "name": "stdout",
     "output_type": "stream",
     "text": [
      "[SOKOBAN] Runtime Error/Warning: Not enough free spots (#3) to place 1 player and 2 boxes.\n",
      "[SOKOBAN] Retry . . .\n",
      "\n",
      "Episode 19800 Epsilon 0.200 Learning Rate 0.000019 Solved: 63\n",
      "6 | 10\n",
      "11 | 20\n",
      "[SOKOBAN] Runtime Error/Warning: Not enough free spots (#3) to place 1 player and 2 boxes.\n",
      "[SOKOBAN] Retry . . .\n",
      "17 | 30\n",
      "[SOKOBAN] Runtime Error/Warning: Not enough free spots (#3) to place 1 player and 2 boxes.\n",
      "[SOKOBAN] Retry . . .\n",
      "24 | 40\n",
      "29 | 50\n",
      "36 | 60\n",
      "41 | 70\n",
      "47 | 80\n",
      "[SOKOBAN] Runtime Error/Warning: Not enough free spots (#3) to place 1 player and 2 boxes.\n",
      "[SOKOBAN] Retry . . .\n",
      "54 | 90\n",
      "59 | 100\n"
     ]
    },
    {
     "data": {
      "application/vnd.jupyter.widget-view+json": {
       "model_id": "232d1208c58e4d03ae280108425bad71",
       "version_major": 2,
       "version_minor": 0
      },
      "text/plain": [
       "HBox(children=(FloatProgress(value=0.0), HTML(value='')))"
      ]
     },
     "metadata": {},
     "output_type": "display_data"
    },
    {
     "name": "stdout",
     "output_type": "stream",
     "text": [
      "[SOKOBAN] Runtime Error/Warning: Not enough free spots (#3) to place 1 player and 2 boxes.\n",
      "[SOKOBAN] Retry . . .\n",
      "\n",
      "Episode 19900 Epsilon 0.200 Learning Rate 0.000018 Solved: 64\n",
      "6 | 10\n",
      "10 | 20\n",
      "18 | 30\n",
      "24 | 40\n",
      "27 | 50\n",
      "32 | 60\n",
      "39 | 70\n",
      "46 | 80\n",
      "49 | 90\n",
      "53 | 100\n"
     ]
    },
    {
     "data": {
      "application/vnd.jupyter.widget-view+json": {
       "model_id": "d5321a6044f74d14b1c0e0ae9a96f283",
       "version_major": 2,
       "version_minor": 0
      },
      "text/plain": [
       "HBox(children=(FloatProgress(value=0.0), HTML(value='')))"
      ]
     },
     "metadata": {},
     "output_type": "display_data"
    },
    {
     "name": "stdout",
     "output_type": "stream",
     "text": [
      "[SOKOBAN] Runtime Error/Warning: Not enough free spots (#3) to place 1 player and 2 boxes.\n",
      "[SOKOBAN] Retry . . .\n",
      "\n",
      "Episode 20000 Epsilon 0.200 Learning Rate 0.000018 Solved: 61\n",
      "[SOKOBAN] Runtime Error/Warning: Not enough free spots (#3) to place 1 player and 2 boxes.\n",
      "[SOKOBAN] Retry . . .\n",
      "7 | 10\n",
      "15 | 20\n",
      "23 | 30\n",
      "31 | 40\n",
      "38 | 50\n",
      "42 | 60\n",
      "51 | 70\n",
      "58 | 80\n",
      "65 | 90\n",
      "71 | 100\n"
     ]
    },
    {
     "data": {
      "application/vnd.jupyter.widget-view+json": {
       "model_id": "cb2a683941ff4f019dc643efe98c29cb",
       "version_major": 2,
       "version_minor": 0
      },
      "text/plain": [
       "HBox(children=(FloatProgress(value=0.0), HTML(value='')))"
      ]
     },
     "metadata": {},
     "output_type": "display_data"
    },
    {
     "name": "stdout",
     "output_type": "stream",
     "text": [
      "[SOKOBAN] Runtime Error/Warning: Not enough free spots (#3) to place 1 player and 2 boxes.\n",
      "[SOKOBAN] Retry . . .\n",
      "\n",
      "Episode 20100 Epsilon 0.200 Learning Rate 0.000018 Solved: 63\n",
      "6 | 10\n",
      "13 | 20\n",
      "20 | 30\n",
      "27 | 40\n",
      "31 | 50\n",
      "35 | 60\n",
      "44 | 70\n",
      "45 | 80\n",
      "47 | 90\n",
      "53 | 100\n"
     ]
    },
    {
     "data": {
      "application/vnd.jupyter.widget-view+json": {
       "model_id": "56e5da5a1ab543d1bf21801d92dcf859",
       "version_major": 2,
       "version_minor": 0
      },
      "text/plain": [
       "HBox(children=(FloatProgress(value=0.0), HTML(value='')))"
      ]
     },
     "metadata": {},
     "output_type": "display_data"
    },
    {
     "name": "stdout",
     "output_type": "stream",
     "text": [
      "[SOKOBAN] Runtime Error/Warning: Not enough free spots (#3) to place 1 player and 2 boxes.\n",
      "[SOKOBAN] Retry . . .\n",
      "\n",
      "Episode 20200 Epsilon 0.200 Learning Rate 0.000018 Solved: 58\n",
      "6 | 10\n",
      "13 | 20\n",
      "20 | 30\n",
      "28 | 40\n",
      "35 | 50\n",
      "40 | 60\n",
      "47 | 70\n",
      "53 | 80\n",
      "59 | 90\n",
      "62 | 100\n"
     ]
    },
    {
     "data": {
      "application/vnd.jupyter.widget-view+json": {
       "model_id": "e6495b8bc2a14c468b5e37369e19c6e1",
       "version_major": 2,
       "version_minor": 0
      },
      "text/plain": [
       "HBox(children=(FloatProgress(value=0.0), HTML(value='')))"
      ]
     },
     "metadata": {},
     "output_type": "display_data"
    },
    {
     "name": "stdout",
     "output_type": "stream",
     "text": [
      "[SOKOBAN] Runtime Error/Warning: Not enough free spots (#3) to place 1 player and 2 boxes.\n",
      "[SOKOBAN] Retry . . .\n",
      "\n",
      "Episode 20300 Epsilon 0.200 Learning Rate 0.000018 Solved: 60\n",
      "7 | 10\n",
      "17 | 20\n",
      "24 | 30\n",
      "30 | 40\n",
      "35 | 50\n",
      "43 | 60\n",
      "49 | 70\n",
      "[SOKOBAN] Runtime Error/Warning: Generated Model with score == 0\n",
      "[SOKOBAN] Retry . . .\n",
      "57 | 80\n",
      "[SOKOBAN] Runtime Error/Warning: Not enough free spots (#3) to place 1 player and 2 boxes.\n",
      "[SOKOBAN] Retry . . .\n",
      "64 | 90\n",
      "71 | 100\n"
     ]
    },
    {
     "data": {
      "application/vnd.jupyter.widget-view+json": {
       "model_id": "b2ce8f20cf4d4642acae4a9396166cc7",
       "version_major": 2,
       "version_minor": 0
      },
      "text/plain": [
       "HBox(children=(FloatProgress(value=0.0), HTML(value='')))"
      ]
     },
     "metadata": {},
     "output_type": "display_data"
    },
    {
     "name": "stdout",
     "output_type": "stream",
     "text": [
      "[SOKOBAN] Runtime Error/Warning: Not enough free spots (#3) to place 1 player and 2 boxes.\n",
      "[SOKOBAN] Retry . . .\n",
      "\n",
      "Episode 20400 Epsilon 0.200 Learning Rate 0.000018 Solved: 60\n",
      "7 | 10\n",
      "13 | 20\n",
      "17 | 30\n",
      "25 | 40\n",
      "[SOKOBAN] Runtime Error/Warning: Not enough free spots (#3) to place 1 player and 2 boxes.\n",
      "[SOKOBAN] Retry . . .\n",
      "32 | 50\n",
      "39 | 60\n",
      "44 | 70\n",
      "[SOKOBAN] Runtime Error/Warning: Not enough free spots (#3) to place 1 player and 2 boxes.\n",
      "[SOKOBAN] Retry . . .\n",
      "49 | 80\n",
      "57 | 90\n",
      "64 | 100\n"
     ]
    },
    {
     "data": {
      "application/vnd.jupyter.widget-view+json": {
       "model_id": "d83c9b6477dc4deb908ae74c1f863ca9",
       "version_major": 2,
       "version_minor": 0
      },
      "text/plain": [
       "HBox(children=(FloatProgress(value=0.0), HTML(value='')))"
      ]
     },
     "metadata": {},
     "output_type": "display_data"
    },
    {
     "name": "stdout",
     "output_type": "stream",
     "text": [
      "[SOKOBAN] Runtime Error/Warning: Not enough free spots (#3) to place 1 player and 2 boxes.\n",
      "[SOKOBAN] Retry . . .\n",
      "\n",
      "Episode 20500 Epsilon 0.200 Learning Rate 0.000018 Solved: 64\n",
      "5 | 10\n",
      "10 | 20\n",
      "[SOKOBAN] Runtime Error/Warning: Generated Model with score == 0\n",
      "[SOKOBAN] Retry . . .\n",
      "17 | 30\n",
      "23 | 40\n",
      "31 | 50\n",
      "39 | 60\n",
      "46 | 70\n",
      "50 | 80\n",
      "58 | 90\n",
      "61 | 100\n"
     ]
    },
    {
     "data": {
      "application/vnd.jupyter.widget-view+json": {
       "model_id": "544ffbba951d43adaf1fc074513635eb",
       "version_major": 2,
       "version_minor": 0
      },
      "text/plain": [
       "HBox(children=(FloatProgress(value=0.0), HTML(value='')))"
      ]
     },
     "metadata": {},
     "output_type": "display_data"
    },
    {
     "name": "stdout",
     "output_type": "stream",
     "text": [
      "[SOKOBAN] Runtime Error/Warning: Not enough free spots (#3) to place 1 player and 2 boxes.\n",
      "[SOKOBAN] Retry . . .\n",
      "\n",
      "Episode 20600 Epsilon 0.200 Learning Rate 0.000017 Solved: 63\n",
      "6 | 10\n",
      "[SOKOBAN] Runtime Error/Warning: Not enough free spots (#3) to place 1 player and 2 boxes.\n",
      "[SOKOBAN] Retry . . .\n",
      "14 | 20\n",
      "21 | 30\n",
      "30 | 40\n",
      "37 | 50\n",
      "[SOKOBAN] Runtime Error/Warning: Not enough free spots (#3) to place 1 player and 2 boxes.\n",
      "[SOKOBAN] Retry . . .\n",
      "43 | 60\n",
      "51 | 70\n",
      "57 | 80\n",
      "65 | 90\n",
      "69 | 100\n"
     ]
    },
    {
     "data": {
      "application/vnd.jupyter.widget-view+json": {
       "model_id": "ab567962f5c247db8fe7e21edfeded8c",
       "version_major": 2,
       "version_minor": 0
      },
      "text/plain": [
       "HBox(children=(FloatProgress(value=0.0), HTML(value='')))"
      ]
     },
     "metadata": {},
     "output_type": "display_data"
    },
    {
     "name": "stdout",
     "output_type": "stream",
     "text": [
      "[SOKOBAN] Runtime Error/Warning: Not enough free spots (#3) to place 1 player and 2 boxes.\n",
      "[SOKOBAN] Retry . . .\n",
      "\n",
      "Episode 20700 Epsilon 0.200 Learning Rate 0.000017 Solved: 66\n",
      "6 | 10\n",
      "13 | 20\n",
      "18 | 30\n",
      "26 | 40\n",
      "32 | 50\n",
      "38 | 60\n",
      "44 | 70\n",
      "51 | 80\n",
      "56 | 90\n",
      "62 | 100\n"
     ]
    },
    {
     "data": {
      "application/vnd.jupyter.widget-view+json": {
       "model_id": "8b5e387611ba4620b9d3f9de525fd437",
       "version_major": 2,
       "version_minor": 0
      },
      "text/plain": [
       "HBox(children=(FloatProgress(value=0.0), HTML(value='')))"
      ]
     },
     "metadata": {},
     "output_type": "display_data"
    },
    {
     "name": "stdout",
     "output_type": "stream",
     "text": [
      "[SOKOBAN] Runtime Error/Warning: Not enough free spots (#3) to place 1 player and 2 boxes.\n",
      "[SOKOBAN] Retry . . .\n",
      "\n",
      "Episode 20800 Epsilon 0.200 Learning Rate 0.000017 Solved: 61\n",
      "7 | 10\n",
      "14 | 20\n",
      "21 | 30\n",
      "23 | 40\n",
      "28 | 50\n",
      "37 | 60\n",
      "45 | 70\n",
      "50 | 80\n",
      "58 | 90\n",
      "65 | 100\n"
     ]
    },
    {
     "data": {
      "application/vnd.jupyter.widget-view+json": {
       "model_id": "a5ac105387f84c02b760f69ac9e637ca",
       "version_major": 2,
       "version_minor": 0
      },
      "text/plain": [
       "HBox(children=(FloatProgress(value=0.0), HTML(value='')))"
      ]
     },
     "metadata": {},
     "output_type": "display_data"
    },
    {
     "name": "stdout",
     "output_type": "stream",
     "text": [
      "[SOKOBAN] Runtime Error/Warning: Not enough free spots (#3) to place 1 player and 2 boxes.\n",
      "[SOKOBAN] Retry . . .\n",
      "\n",
      "Episode 20900 Epsilon 0.200 Learning Rate 0.000017 Solved: 63\n",
      "5 | 10\n",
      "[SOKOBAN] Runtime Error/Warning: Not enough free spots (#3) to place 1 player and 2 boxes.\n",
      "[SOKOBAN] Retry . . .\n",
      "11 | 20\n",
      "15 | 30\n",
      "20 | 40\n",
      "28 | 50\n",
      "[SOKOBAN] Runtime Error/Warning: Not enough free spots (#3) to place 1 player and 2 boxes.\n",
      "[SOKOBAN] Retry . . .\n",
      "33 | 60\n",
      "40 | 70\n",
      "44 | 80\n",
      "54 | 90\n",
      "61 | 100\n"
     ]
    },
    {
     "data": {
      "application/vnd.jupyter.widget-view+json": {
       "model_id": "4f2054483a9848119185201bdd5be1fc",
       "version_major": 2,
       "version_minor": 0
      },
      "text/plain": [
       "HBox(children=(FloatProgress(value=0.0), HTML(value='')))"
      ]
     },
     "metadata": {},
     "output_type": "display_data"
    },
    {
     "name": "stdout",
     "output_type": "stream",
     "text": [
      "[SOKOBAN] Runtime Error/Warning: Not enough free spots (#3) to place 1 player and 2 boxes.\n",
      "[SOKOBAN] Retry . . .\n",
      "\n",
      "Episode 21000 Epsilon 0.200 Learning Rate 0.000017 Solved: 62\n",
      "7 | 10\n",
      "12 | 20\n",
      "[SOKOBAN] Runtime Error/Warning: Generated Model with score == 0\n",
      "[SOKOBAN] Retry . . .\n",
      "20 | 30\n",
      "25 | 40\n",
      "29 | 50\n",
      "36 | 60\n",
      "[SOKOBAN] Runtime Error/Warning: Generated Model with score == 0\n",
      "[SOKOBAN] Retry . . .\n",
      "43 | 70\n",
      "49 | 80\n",
      "53 | 90\n",
      "59 | 100\n"
     ]
    },
    {
     "data": {
      "application/vnd.jupyter.widget-view+json": {
       "model_id": "2c86ec801f2a43979259c74c1c0b6c8b",
       "version_major": 2,
       "version_minor": 0
      },
      "text/plain": [
       "HBox(children=(FloatProgress(value=0.0), HTML(value='')))"
      ]
     },
     "metadata": {},
     "output_type": "display_data"
    },
    {
     "name": "stdout",
     "output_type": "stream",
     "text": [
      "[SOKOBAN] Runtime Error/Warning: Not enough free spots (#3) to place 1 player and 2 boxes.\n",
      "[SOKOBAN] Retry . . .\n",
      "\n",
      "Episode 21100 Epsilon 0.200 Learning Rate 0.000017 Solved: 63\n",
      "6 | 10\n",
      "11 | 20\n",
      "14 | 30\n",
      "21 | 40\n",
      "29 | 50\n",
      "34 | 60\n",
      "39 | 70\n",
      "44 | 80\n",
      "51 | 90\n",
      "58 | 100\n"
     ]
    },
    {
     "data": {
      "application/vnd.jupyter.widget-view+json": {
       "model_id": "b001bfdf214c435bb20c8acdb67613bb",
       "version_major": 2,
       "version_minor": 0
      },
      "text/plain": [
       "HBox(children=(FloatProgress(value=0.0), HTML(value='')))"
      ]
     },
     "metadata": {},
     "output_type": "display_data"
    },
    {
     "name": "stdout",
     "output_type": "stream",
     "text": [
      "[SOKOBAN] Runtime Error/Warning: Not enough free spots (#3) to place 1 player and 2 boxes.\n",
      "[SOKOBAN] Retry . . .\n",
      "\n",
      "Episode 21200 Epsilon 0.200 Learning Rate 0.000017 Solved: 62\n",
      "6 | 10\n",
      "12 | 20\n",
      "19 | 30\n",
      "25 | 40\n",
      "32 | 50\n",
      "40 | 60\n",
      "45 | 70\n",
      "[SOKOBAN] Runtime Error/Warning: Not enough free spots (#3) to place 1 player and 2 boxes.\n",
      "[SOKOBAN] Retry . . .\n",
      "52 | 80\n",
      "61 | 90\n",
      "69 | 100\n"
     ]
    },
    {
     "data": {
      "application/vnd.jupyter.widget-view+json": {
       "model_id": "2df745165dd9477f829b398f9b659ebf",
       "version_major": 2,
       "version_minor": 0
      },
      "text/plain": [
       "HBox(children=(FloatProgress(value=0.0), HTML(value='')))"
      ]
     },
     "metadata": {},
     "output_type": "display_data"
    },
    {
     "name": "stdout",
     "output_type": "stream",
     "text": [
      "[SOKOBAN] Runtime Error/Warning: Not enough free spots (#3) to place 1 player and 2 boxes.\n",
      "[SOKOBAN] Retry . . .\n",
      "\n",
      "Episode 21300 Epsilon 0.200 Learning Rate 0.000016 Solved: 61\n",
      "9 | 10\n",
      "15 | 20\n",
      "22 | 30\n",
      "28 | 40\n",
      "35 | 50\n",
      "41 | 60\n",
      "45 | 70\n",
      "53 | 80\n",
      "[SOKOBAN] Runtime Error/Warning: Not enough free spots (#3) to place 1 player and 2 boxes.\n",
      "[SOKOBAN] Retry . . .\n",
      "61 | 90\n",
      "68 | 100\n"
     ]
    },
    {
     "data": {
      "application/vnd.jupyter.widget-view+json": {
       "model_id": "4ec39166f64d445cbf43cc05adb099ac",
       "version_major": 2,
       "version_minor": 0
      },
      "text/plain": [
       "HBox(children=(FloatProgress(value=0.0), HTML(value='')))"
      ]
     },
     "metadata": {},
     "output_type": "display_data"
    },
    {
     "name": "stdout",
     "output_type": "stream",
     "text": [
      "[SOKOBAN] Runtime Error/Warning: Not enough free spots (#3) to place 1 player and 2 boxes.\n",
      "[SOKOBAN] Retry . . .\n",
      "\n",
      "Episode 21400 Epsilon 0.200 Learning Rate 0.000016 Solved: 65\n",
      "9 | 10\n",
      "16 | 20\n",
      "21 | 30\n",
      "27 | 40\n",
      "30 | 50\n",
      "[SOKOBAN] Runtime Error/Warning: Not enough free spots (#3) to place 1 player and 2 boxes.\n",
      "[SOKOBAN] Retry . . .\n",
      "37 | 60\n",
      "42 | 70\n",
      "46 | 80\n",
      "[SOKOBAN] Runtime Error/Warning: Not enough free spots (#3) to place 1 player and 2 boxes.\n",
      "[SOKOBAN] Retry . . .\n",
      "51 | 90\n",
      "58 | 100\n"
     ]
    },
    {
     "data": {
      "application/vnd.jupyter.widget-view+json": {
       "model_id": "eb532806e1854e87ad039d3aa06df596",
       "version_major": 2,
       "version_minor": 0
      },
      "text/plain": [
       "HBox(children=(FloatProgress(value=0.0), HTML(value='')))"
      ]
     },
     "metadata": {},
     "output_type": "display_data"
    },
    {
     "name": "stdout",
     "output_type": "stream",
     "text": [
      "[SOKOBAN] Runtime Error/Warning: Not enough free spots (#3) to place 1 player and 2 boxes.\n",
      "[SOKOBAN] Retry . . .\n",
      "\n",
      "Episode 21500 Epsilon 0.200 Learning Rate 0.000016 Solved: 64\n",
      "7 | 10\n",
      "14 | 20\n",
      "19 | 30\n",
      "26 | 40\n",
      "[SOKOBAN] Runtime Error/Warning: Not enough free spots (#3) to place 1 player and 2 boxes.\n",
      "[SOKOBAN] Retry . . .\n",
      "31 | 50\n",
      "[SOKOBAN] Runtime Error/Warning: Not enough free spots (#3) to place 1 player and 2 boxes.\n",
      "[SOKOBAN] Retry . . .\n",
      "39 | 60\n",
      "45 | 70\n",
      "[SOKOBAN] Runtime Error/Warning: Generated Model with score == 0\n",
      "[SOKOBAN] Retry . . .\n",
      "52 | 80\n",
      "58 | 90\n",
      "65 | 100\n"
     ]
    },
    {
     "data": {
      "application/vnd.jupyter.widget-view+json": {
       "model_id": "282e25dd1f5a450eabba19278cf82bb3",
       "version_major": 2,
       "version_minor": 0
      },
      "text/plain": [
       "HBox(children=(FloatProgress(value=0.0), HTML(value='')))"
      ]
     },
     "metadata": {},
     "output_type": "display_data"
    },
    {
     "name": "stdout",
     "output_type": "stream",
     "text": [
      "[SOKOBAN] Runtime Error/Warning: Not enough free spots (#3) to place 1 player and 2 boxes.\n",
      "[SOKOBAN] Retry . . .\n",
      "\n",
      "Episode 21600 Epsilon 0.200 Learning Rate 0.000016 Solved: 64\n",
      "[SOKOBAN] Runtime Error/Warning: Not enough free spots (#3) to place 1 player and 2 boxes.\n",
      "[SOKOBAN] Retry . . .\n",
      "4 | 10\n",
      "[SOKOBAN] Runtime Error/Warning: Not enough free spots (#3) to place 1 player and 2 boxes.\n",
      "[SOKOBAN] Retry . . .\n",
      "12 | 20\n",
      "18 | 30\n",
      "26 | 40\n",
      "32 | 50\n",
      "41 | 60\n",
      "47 | 70\n",
      "55 | 80\n",
      "[SOKOBAN] Runtime Error/Warning: Generated Model with score == 0\n",
      "[SOKOBAN] Retry . . .\n",
      "60 | 90\n",
      "[SOKOBAN] Runtime Error/Warning: Generated Model with score == 0\n",
      "[SOKOBAN] Retry . . .\n",
      "65 | 100\n"
     ]
    },
    {
     "data": {
      "application/vnd.jupyter.widget-view+json": {
       "model_id": "16ad6a6f511f493588e111b51fe57e66",
       "version_major": 2,
       "version_minor": 0
      },
      "text/plain": [
       "HBox(children=(FloatProgress(value=0.0), HTML(value='')))"
      ]
     },
     "metadata": {},
     "output_type": "display_data"
    },
    {
     "name": "stdout",
     "output_type": "stream",
     "text": [
      "[SOKOBAN] Runtime Error/Warning: Not enough free spots (#3) to place 1 player and 2 boxes.\n",
      "[SOKOBAN] Retry . . .\n",
      "\n",
      "Episode 21700 Epsilon 0.200 Learning Rate 0.000016 Solved: 63\n",
      "8 | 10\n",
      "12 | 20\n",
      "19 | 30\n",
      "26 | 40\n",
      "32 | 50\n",
      "38 | 60\n",
      "[SOKOBAN] Runtime Error/Warning: Generated Model with score == 0\n",
      "[SOKOBAN] Retry . . .\n",
      "44 | 70\n",
      "[SOKOBAN] Runtime Error/Warning: Not enough free spots (#3) to place 1 player and 2 boxes.\n",
      "[SOKOBAN] Retry . . .\n",
      "51 | 80\n",
      "57 | 90\n",
      "65 | 100\n"
     ]
    },
    {
     "data": {
      "application/vnd.jupyter.widget-view+json": {
       "model_id": "18b353c7fba247b3a0c37eefd5eeb0c0",
       "version_major": 2,
       "version_minor": 0
      },
      "text/plain": [
       "HBox(children=(FloatProgress(value=0.0), HTML(value='')))"
      ]
     },
     "metadata": {},
     "output_type": "display_data"
    },
    {
     "name": "stdout",
     "output_type": "stream",
     "text": [
      "[SOKOBAN] Runtime Error/Warning: Not enough free spots (#3) to place 1 player and 2 boxes.\n",
      "[SOKOBAN] Retry . . .\n",
      "\n",
      "Episode 21800 Epsilon 0.200 Learning Rate 0.000016 Solved: 65\n",
      "3 | 10\n",
      "10 | 20\n",
      "17 | 30\n",
      "23 | 40\n",
      "[SOKOBAN] Runtime Error/Warning: Generated Model with score == 0\n",
      "[SOKOBAN] Retry . . .\n",
      "29 | 50\n",
      "[SOKOBAN] Runtime Error/Warning: Not enough free spots (#3) to place 1 player and 2 boxes.\n",
      "[SOKOBAN] Retry . . .\n",
      "33 | 60\n",
      "37 | 70\n",
      "41 | 80\n",
      "49 | 90\n",
      "[SOKOBAN] Runtime Error/Warning: Not enough free spots (#3) to place 1 player and 2 boxes.\n",
      "[SOKOBAN] Retry . . .\n",
      "55 | 100\n"
     ]
    },
    {
     "data": {
      "application/vnd.jupyter.widget-view+json": {
       "model_id": "c61ab675380a4f02a99b4ec27da6e287",
       "version_major": 2,
       "version_minor": 0
      },
      "text/plain": [
       "HBox(children=(FloatProgress(value=0.0), HTML(value='')))"
      ]
     },
     "metadata": {},
     "output_type": "display_data"
    },
    {
     "name": "stdout",
     "output_type": "stream",
     "text": [
      "[SOKOBAN] Runtime Error/Warning: Not enough free spots (#3) to place 1 player and 2 boxes.\n",
      "[SOKOBAN] Retry . . .\n",
      "\n",
      "Episode 21900 Epsilon 0.200 Learning Rate 0.000016 Solved: 60\n",
      "5 | 10\n",
      "9 | 20\n",
      "16 | 30\n",
      "24 | 40\n",
      "33 | 50\n",
      "39 | 60\n",
      "47 | 70\n",
      "[SOKOBAN] Runtime Error/Warning: Not enough free spots (#3) to place 1 player and 2 boxes.\n",
      "[SOKOBAN] Retry . . .\n",
      "53 | 80\n",
      "58 | 90\n",
      "62 | 100\n"
     ]
    },
    {
     "data": {
      "application/vnd.jupyter.widget-view+json": {
       "model_id": "3db5aadfd81846bba8d9ade1bf65712e",
       "version_major": 2,
       "version_minor": 0
      },
      "text/plain": [
       "HBox(children=(FloatProgress(value=0.0), HTML(value='')))"
      ]
     },
     "metadata": {},
     "output_type": "display_data"
    },
    {
     "name": "stdout",
     "output_type": "stream",
     "text": [
      "[SOKOBAN] Runtime Error/Warning: Not enough free spots (#3) to place 1 player and 2 boxes.\n",
      "[SOKOBAN] Retry . . .\n",
      "\n",
      "Episode 22000 Epsilon 0.200 Learning Rate 0.000016 Solved: 62\n",
      "6 | 10\n",
      "14 | 20\n",
      "21 | 30\n",
      "29 | 40\n",
      "[SOKOBAN] Runtime Error/Warning: Not enough free spots (#3) to place 1 player and 2 boxes.\n",
      "[SOKOBAN] Retry . . .\n",
      "[SOKOBAN] Runtime Error/Warning: Generated Model with score == 0\n",
      "[SOKOBAN] Retry . . .\n",
      "33 | 50\n",
      "37 | 60\n",
      "45 | 70\n",
      "[SOKOBAN] Runtime Error/Warning: Not enough free spots (#3) to place 1 player and 2 boxes.\n",
      "[SOKOBAN] Retry . . .\n",
      "52 | 80\n",
      "61 | 90\n",
      "[SOKOBAN] Runtime Error/Warning: Generated Model with score == 0\n",
      "[SOKOBAN] Retry . . .\n",
      "66 | 100\n"
     ]
    },
    {
     "data": {
      "application/vnd.jupyter.widget-view+json": {
       "model_id": "47658ec2aa7f47c590c749630ca297b8",
       "version_major": 2,
       "version_minor": 0
      },
      "text/plain": [
       "HBox(children=(FloatProgress(value=0.0), HTML(value='')))"
      ]
     },
     "metadata": {},
     "output_type": "display_data"
    },
    {
     "name": "stdout",
     "output_type": "stream",
     "text": [
      "[SOKOBAN] Runtime Error/Warning: Not enough free spots (#3) to place 1 player and 2 boxes.\n",
      "[SOKOBAN] Retry . . .\n",
      "\n",
      "Episode 22100 Epsilon 0.200 Learning Rate 0.000015 Solved: 64\n",
      "1 | 10\n",
      "[SOKOBAN] Runtime Error/Warning: Not enough free spots (#3) to place 1 player and 2 boxes.\n",
      "[SOKOBAN] Retry . . .\n",
      "6 | 20\n",
      "10 | 30\n",
      "15 | 40\n",
      "[SOKOBAN] Runtime Error/Warning: Generated Model with score == 0\n",
      "[SOKOBAN] Retry . . .\n",
      "22 | 50\n",
      "28 | 60\n",
      "[SOKOBAN] Runtime Error/Warning: Generated Model with score == 0\n",
      "[SOKOBAN] Retry . . .\n",
      "36 | 70\n",
      "[SOKOBAN] Runtime Error/Warning: Generated Model with score == 0\n",
      "[SOKOBAN] Retry . . .\n",
      "42 | 80\n",
      "48 | 90\n",
      "55 | 100\n"
     ]
    },
    {
     "data": {
      "application/vnd.jupyter.widget-view+json": {
       "model_id": "f2b3f4d9e63c4d6ab7b5e477dc5e328e",
       "version_major": 2,
       "version_minor": 0
      },
      "text/plain": [
       "HBox(children=(FloatProgress(value=0.0), HTML(value='')))"
      ]
     },
     "metadata": {},
     "output_type": "display_data"
    },
    {
     "name": "stdout",
     "output_type": "stream",
     "text": [
      "[SOKOBAN] Runtime Error/Warning: Not enough free spots (#3) to place 1 player and 2 boxes.\n",
      "[SOKOBAN] Retry . . .\n",
      "\n",
      "Episode 22200 Epsilon 0.200 Learning Rate 0.000015 Solved: 61\n",
      "6 | 10\n",
      "[SOKOBAN] Runtime Error/Warning: Generated Model with score == 0\n",
      "[SOKOBAN] Retry . . .\n",
      "10 | 20\n",
      "17 | 30\n",
      "22 | 40\n",
      "27 | 50\n",
      "32 | 60\n",
      "39 | 70\n",
      "46 | 80\n",
      "54 | 90\n",
      "60 | 100\n"
     ]
    },
    {
     "data": {
      "application/vnd.jupyter.widget-view+json": {
       "model_id": "f647f2d60ef9494394a173c95d079edb",
       "version_major": 2,
       "version_minor": 0
      },
      "text/plain": [
       "HBox(children=(FloatProgress(value=0.0), HTML(value='')))"
      ]
     },
     "metadata": {},
     "output_type": "display_data"
    },
    {
     "name": "stdout",
     "output_type": "stream",
     "text": [
      "[SOKOBAN] Runtime Error/Warning: Not enough free spots (#3) to place 1 player and 2 boxes.\n",
      "[SOKOBAN] Retry . . .\n",
      "\n",
      "Episode 22300 Epsilon 0.200 Learning Rate 0.000015 Solved: 61\n",
      "9 | 10\n",
      "12 | 20\n",
      "19 | 30\n",
      "26 | 40\n",
      "33 | 50\n",
      "40 | 60\n",
      "48 | 70\n",
      "55 | 80\n",
      "65 | 90\n",
      "69 | 100\n"
     ]
    },
    {
     "data": {
      "application/vnd.jupyter.widget-view+json": {
       "model_id": "1ad3acb268e144eea437ba0a55f0967e",
       "version_major": 2,
       "version_minor": 0
      },
      "text/plain": [
       "HBox(children=(FloatProgress(value=0.0), HTML(value='')))"
      ]
     },
     "metadata": {},
     "output_type": "display_data"
    },
    {
     "name": "stdout",
     "output_type": "stream",
     "text": [
      "[SOKOBAN] Runtime Error/Warning: Not enough free spots (#3) to place 1 player and 2 boxes.\n",
      "[SOKOBAN] Retry . . .\n",
      "\n",
      "Episode 22400 Epsilon 0.200 Learning Rate 0.000015 Solved: 62\n",
      "7 | 10\n",
      "[SOKOBAN] Runtime Error/Warning: Not enough free spots (#3) to place 1 player and 2 boxes.\n",
      "[SOKOBAN] Retry . . .\n",
      "15 | 20\n",
      "23 | 30\n",
      "31 | 40\n",
      "38 | 50\n",
      "44 | 60\n",
      "52 | 70\n",
      "59 | 80\n",
      "64 | 90\n",
      "71 | 100\n"
     ]
    },
    {
     "data": {
      "application/vnd.jupyter.widget-view+json": {
       "model_id": "ae9992774cb143c6a44894ccb44e3817",
       "version_major": 2,
       "version_minor": 0
      },
      "text/plain": [
       "HBox(children=(FloatProgress(value=0.0), HTML(value='')))"
      ]
     },
     "metadata": {},
     "output_type": "display_data"
    },
    {
     "name": "stdout",
     "output_type": "stream",
     "text": [
      "[SOKOBAN] Runtime Error/Warning: Not enough free spots (#3) to place 1 player and 2 boxes.\n",
      "[SOKOBAN] Retry . . .\n",
      "\n",
      "Episode 22500 Epsilon 0.200 Learning Rate 0.000015 Solved: 65\n",
      "5 | 10\n",
      "10 | 20\n",
      "16 | 30\n",
      "23 | 40\n",
      "28 | 50\n",
      "32 | 60\n",
      "40 | 70\n",
      "49 | 80\n",
      "54 | 90\n",
      "59 | 100\n"
     ]
    },
    {
     "data": {
      "application/vnd.jupyter.widget-view+json": {
       "model_id": "4e5121662bb3458fb2ef2dd2377ffdf9",
       "version_major": 2,
       "version_minor": 0
      },
      "text/plain": [
       "HBox(children=(FloatProgress(value=0.0), HTML(value='')))"
      ]
     },
     "metadata": {},
     "output_type": "display_data"
    },
    {
     "name": "stdout",
     "output_type": "stream",
     "text": [
      "[SOKOBAN] Runtime Error/Warning: Not enough free spots (#3) to place 1 player and 2 boxes.\n",
      "[SOKOBAN] Retry . . .\n",
      "\n",
      "Episode 22600 Epsilon 0.200 Learning Rate 0.000015 Solved: 62\n",
      "5 | 10\n",
      "12 | 20\n",
      "20 | 30\n",
      "26 | 40\n",
      "31 | 50\n",
      "38 | 60\n",
      "42 | 70\n",
      "49 | 80\n",
      "56 | 90\n",
      "61 | 100\n"
     ]
    },
    {
     "data": {
      "application/vnd.jupyter.widget-view+json": {
       "model_id": "a4780da823ca4716a4ea04b95f81415d",
       "version_major": 2,
       "version_minor": 0
      },
      "text/plain": [
       "HBox(children=(FloatProgress(value=0.0), HTML(value='')))"
      ]
     },
     "metadata": {},
     "output_type": "display_data"
    },
    {
     "name": "stdout",
     "output_type": "stream",
     "text": [
      "[SOKOBAN] Runtime Error/Warning: Not enough free spots (#3) to place 1 player and 2 boxes.\n",
      "[SOKOBAN] Retry . . .\n",
      "\n",
      "Episode 22700 Epsilon 0.200 Learning Rate 0.000015 Solved: 63\n",
      "6 | 10\n",
      "13 | 20\n",
      "[SOKOBAN] Runtime Error/Warning: Generated Model with score == 0\n",
      "[SOKOBAN] Retry . . .\n",
      "22 | 30\n",
      "30 | 40\n",
      "37 | 50\n",
      "44 | 60\n",
      "53 | 70\n",
      "57 | 80\n",
      "65 | 90\n",
      "71 | 100\n"
     ]
    },
    {
     "data": {
      "application/vnd.jupyter.widget-view+json": {
       "model_id": "55788f907bbf41eb954b78dda8b6f77a",
       "version_major": 2,
       "version_minor": 0
      },
      "text/plain": [
       "HBox(children=(FloatProgress(value=0.0), HTML(value='')))"
      ]
     },
     "metadata": {},
     "output_type": "display_data"
    },
    {
     "name": "stdout",
     "output_type": "stream",
     "text": [
      "[SOKOBAN] Runtime Error/Warning: Not enough free spots (#3) to place 1 player and 2 boxes.\n",
      "[SOKOBAN] Retry . . .\n",
      "\n",
      "Episode 22800 Epsilon 0.200 Learning Rate 0.000015 Solved: 65\n",
      "6 | 10\n",
      "15 | 20\n",
      "22 | 30\n",
      "30 | 40\n",
      "37 | 50\n",
      "[SOKOBAN] Runtime Error/Warning: Generated Model with score == 0\n",
      "[SOKOBAN] Retry . . .\n",
      "45 | 60\n",
      "51 | 70\n",
      "57 | 80\n",
      "63 | 90\n",
      "70 | 100\n"
     ]
    },
    {
     "data": {
      "application/vnd.jupyter.widget-view+json": {
       "model_id": "308d9cd9004e4d378123c9a4f9146985",
       "version_major": 2,
       "version_minor": 0
      },
      "text/plain": [
       "HBox(children=(FloatProgress(value=0.0), HTML(value='')))"
      ]
     },
     "metadata": {},
     "output_type": "display_data"
    },
    {
     "name": "stdout",
     "output_type": "stream",
     "text": [
      "[SOKOBAN] Runtime Error/Warning: Not enough free spots (#3) to place 1 player and 2 boxes.\n",
      "[SOKOBAN] Retry . . .\n",
      "\n",
      "Episode 22900 Epsilon 0.200 Learning Rate 0.000014 Solved: 63\n",
      "2 | 10\n",
      "7 | 20\n",
      "13 | 30\n",
      "[SOKOBAN] Runtime Error/Warning: Generated Model with score == 0\n",
      "[SOKOBAN] Retry . . .\n",
      "18 | 40\n",
      "22 | 50\n",
      "30 | 60\n",
      "38 | 70\n",
      "43 | 80\n",
      "49 | 90\n",
      "55 | 100\n"
     ]
    },
    {
     "data": {
      "application/vnd.jupyter.widget-view+json": {
       "model_id": "3c6e8a64d5c04e0aa0a1ccef9274b91f",
       "version_major": 2,
       "version_minor": 0
      },
      "text/plain": [
       "HBox(children=(FloatProgress(value=0.0), HTML(value='')))"
      ]
     },
     "metadata": {},
     "output_type": "display_data"
    },
    {
     "name": "stdout",
     "output_type": "stream",
     "text": [
      "[SOKOBAN] Runtime Error/Warning: Not enough free spots (#3) to place 1 player and 2 boxes.\n",
      "[SOKOBAN] Retry . . .\n",
      "\n",
      "Episode 23000 Epsilon 0.200 Learning Rate 0.000014 Solved: 65\n",
      "[SOKOBAN] Runtime Error/Warning: Not enough free spots (#3) to place 1 player and 2 boxes.\n",
      "[SOKOBAN] Retry . . .\n",
      "7 | 10\n",
      "14 | 20\n",
      "[SOKOBAN] Runtime Error/Warning: Generated Model with score == 0\n",
      "[SOKOBAN] Retry . . .\n",
      "21 | 30\n",
      "27 | 40\n",
      "32 | 50\n",
      "41 | 60\n",
      "[SOKOBAN] Runtime Error/Warning: Generated Model with score == 0\n",
      "[SOKOBAN] Retry . . .\n",
      "47 | 70\n",
      "55 | 80\n",
      "62 | 90\n",
      "67 | 100\n"
     ]
    },
    {
     "data": {
      "application/vnd.jupyter.widget-view+json": {
       "model_id": "8b38d4c545024d9f8bdaf563c791e91d",
       "version_major": 2,
       "version_minor": 0
      },
      "text/plain": [
       "HBox(children=(FloatProgress(value=0.0), HTML(value='')))"
      ]
     },
     "metadata": {},
     "output_type": "display_data"
    },
    {
     "name": "stdout",
     "output_type": "stream",
     "text": [
      "[SOKOBAN] Runtime Error/Warning: Not enough free spots (#3) to place 1 player and 2 boxes.\n",
      "[SOKOBAN] Retry . . .\n",
      "\n",
      "Episode 23100 Epsilon 0.200 Learning Rate 0.000014 Solved: 62\n",
      "8 | 10\n",
      "[SOKOBAN] Runtime Error/Warning: Generated Model with score == 0\n",
      "[SOKOBAN] Retry . . .\n",
      "12 | 20\n",
      "20 | 30\n",
      "[SOKOBAN] Runtime Error/Warning: Generated Model with score == 0\n",
      "[SOKOBAN] Retry . . .\n",
      "27 | 40\n",
      "33 | 50\n",
      "40 | 60\n",
      "[SOKOBAN] Runtime Error/Warning: Not enough free spots (#3) to place 1 player and 2 boxes.\n",
      "[SOKOBAN] Retry . . .\n",
      "42 | 70\n",
      "50 | 80\n",
      "56 | 90\n",
      "63 | 100\n"
     ]
    },
    {
     "data": {
      "application/vnd.jupyter.widget-view+json": {
       "model_id": "ae230996b44d465a866210a517d09725",
       "version_major": 2,
       "version_minor": 0
      },
      "text/plain": [
       "HBox(children=(FloatProgress(value=0.0), HTML(value='')))"
      ]
     },
     "metadata": {},
     "output_type": "display_data"
    },
    {
     "name": "stdout",
     "output_type": "stream",
     "text": [
      "[SOKOBAN] Runtime Error/Warning: Not enough free spots (#3) to place 1 player and 2 boxes.\n",
      "[SOKOBAN] Retry . . .\n",
      "\n",
      "Episode 23200 Epsilon 0.200 Learning Rate 0.000014 Solved: 63\n",
      "6 | 10\n",
      "14 | 20\n",
      "20 | 30\n",
      "25 | 40\n",
      "33 | 50\n",
      "38 | 60\n",
      "44 | 70\n",
      "51 | 80\n",
      "58 | 90\n",
      "66 | 100\n"
     ]
    },
    {
     "data": {
      "application/vnd.jupyter.widget-view+json": {
       "model_id": "7b51c9f755a84afe90d6a6412a08b0df",
       "version_major": 2,
       "version_minor": 0
      },
      "text/plain": [
       "HBox(children=(FloatProgress(value=0.0), HTML(value='')))"
      ]
     },
     "metadata": {},
     "output_type": "display_data"
    },
    {
     "name": "stdout",
     "output_type": "stream",
     "text": [
      "[SOKOBAN] Runtime Error/Warning: Not enough free spots (#3) to place 1 player and 2 boxes.\n",
      "[SOKOBAN] Retry . . .\n",
      "\n",
      "Episode 23300 Epsilon 0.200 Learning Rate 0.000014 Solved: 60\n",
      "5 | 10\n",
      "[SOKOBAN] Runtime Error/Warning: Not enough free spots (#3) to place 1 player and 2 boxes.\n",
      "[SOKOBAN] Retry . . .\n",
      "12 | 20\n",
      "19 | 30\n",
      "25 | 40\n",
      "32 | 50\n",
      "39 | 60\n",
      "43 | 70\n",
      "51 | 80\n",
      "55 | 90\n",
      "[SOKOBAN] Runtime Error/Warning: Generated Model with score == 0\n",
      "[SOKOBAN] Retry . . .\n",
      "60 | 100\n"
     ]
    },
    {
     "data": {
      "application/vnd.jupyter.widget-view+json": {
       "model_id": "3e3ade113c4244679ec2fd4ef5697dbb",
       "version_major": 2,
       "version_minor": 0
      },
      "text/plain": [
       "HBox(children=(FloatProgress(value=0.0), HTML(value='')))"
      ]
     },
     "metadata": {},
     "output_type": "display_data"
    },
    {
     "name": "stdout",
     "output_type": "stream",
     "text": [
      "[SOKOBAN] Runtime Error/Warning: Not enough free spots (#3) to place 1 player and 2 boxes.\n",
      "[SOKOBAN] Retry . . .\n",
      "\n",
      "Episode 23400 Epsilon 0.200 Learning Rate 0.000014 Solved: 61\n",
      "8 | 10\n",
      "13 | 20\n",
      "21 | 30\n",
      "[SOKOBAN] Runtime Error/Warning: Generated Model with score == 0\n",
      "[SOKOBAN] Retry . . .\n",
      "30 | 40\n",
      "36 | 50\n",
      "43 | 60\n",
      "[SOKOBAN] Runtime Error/Warning: Generated Model with score == 0\n",
      "[SOKOBAN] Retry . . .\n",
      "50 | 70\n",
      "57 | 80\n",
      "64 | 90\n",
      "[SOKOBAN] Runtime Error/Warning: Not enough free spots (#3) to place 1 player and 2 boxes.\n",
      "[SOKOBAN] Retry . . .\n",
      "71 | 100\n"
     ]
    },
    {
     "data": {
      "application/vnd.jupyter.widget-view+json": {
       "model_id": "0c6bc74251764a1b84c80d649ffb11cd",
       "version_major": 2,
       "version_minor": 0
      },
      "text/plain": [
       "HBox(children=(FloatProgress(value=0.0), HTML(value='')))"
      ]
     },
     "metadata": {},
     "output_type": "display_data"
    },
    {
     "name": "stdout",
     "output_type": "stream",
     "text": [
      "[SOKOBAN] Runtime Error/Warning: Not enough free spots (#3) to place 1 player and 2 boxes.\n",
      "[SOKOBAN] Retry . . .\n",
      "\n",
      "Episode 23500 Epsilon 0.200 Learning Rate 0.000014 Solved: 58\n",
      "7 | 10\n",
      "12 | 20\n",
      "20 | 30\n",
      "28 | 40\n",
      "32 | 50\n",
      "36 | 60\n",
      "42 | 70\n",
      "47 | 80\n",
      "54 | 90\n",
      "60 | 100\n"
     ]
    },
    {
     "data": {
      "application/vnd.jupyter.widget-view+json": {
       "model_id": "7ab65571d7be4bc4bbfab1f6e94509f9",
       "version_major": 2,
       "version_minor": 0
      },
      "text/plain": [
       "HBox(children=(FloatProgress(value=0.0), HTML(value='')))"
      ]
     },
     "metadata": {},
     "output_type": "display_data"
    },
    {
     "name": "stdout",
     "output_type": "stream",
     "text": [
      "[SOKOBAN] Runtime Error/Warning: Not enough free spots (#3) to place 1 player and 2 boxes.\n",
      "[SOKOBAN] Retry . . .\n",
      "\n",
      "Episode 23600 Epsilon 0.200 Learning Rate 0.000014 Solved: 61\n",
      "8 | 10\n",
      "12 | 20\n",
      "20 | 30\n",
      "27 | 40\n",
      "32 | 50\n",
      "38 | 60\n",
      "45 | 70\n",
      "52 | 80\n",
      "58 | 90\n",
      "62 | 100\n"
     ]
    },
    {
     "data": {
      "application/vnd.jupyter.widget-view+json": {
       "model_id": "1334a509a170487aa137071b72b21096",
       "version_major": 2,
       "version_minor": 0
      },
      "text/plain": [
       "HBox(children=(FloatProgress(value=0.0), HTML(value='')))"
      ]
     },
     "metadata": {},
     "output_type": "display_data"
    },
    {
     "name": "stdout",
     "output_type": "stream",
     "text": [
      "[SOKOBAN] Runtime Error/Warning: Not enough free spots (#3) to place 1 player and 2 boxes.\n",
      "[SOKOBAN] Retry . . .\n",
      "\n",
      "Episode 23700 Epsilon 0.200 Learning Rate 0.000013 Solved: 62\n",
      "8 | 10\n",
      "14 | 20\n",
      "22 | 30\n",
      "28 | 40\n",
      "33 | 50\n",
      "40 | 60\n",
      "48 | 70\n",
      "56 | 80\n",
      "60 | 90\n",
      "66 | 100\n"
     ]
    },
    {
     "data": {
      "application/vnd.jupyter.widget-view+json": {
       "model_id": "84607862f059422db83000fdf22531a3",
       "version_major": 2,
       "version_minor": 0
      },
      "text/plain": [
       "HBox(children=(FloatProgress(value=0.0), HTML(value='')))"
      ]
     },
     "metadata": {},
     "output_type": "display_data"
    },
    {
     "name": "stdout",
     "output_type": "stream",
     "text": [
      "[SOKOBAN] Runtime Error/Warning: Not enough free spots (#3) to place 1 player and 2 boxes.\n",
      "[SOKOBAN] Retry . . .\n",
      "\n",
      "Episode 23800 Epsilon 0.200 Learning Rate 0.000013 Solved: 61\n",
      "4 | 10\n",
      "[SOKOBAN] Runtime Error/Warning: Not enough free spots (#3) to place 1 player and 2 boxes.\n",
      "[SOKOBAN] Retry . . .\n",
      "11 | 20\n",
      "[SOKOBAN] Runtime Error/Warning: Generated Model with score == 0\n",
      "[SOKOBAN] Retry . . .\n",
      "16 | 30\n",
      "25 | 40\n",
      "28 | 50\n",
      "34 | 60\n",
      "38 | 70\n",
      "45 | 80\n",
      "[SOKOBAN] Runtime Error/Warning: Not enough free spots (#3) to place 1 player and 2 boxes.\n",
      "[SOKOBAN] Retry . . .\n",
      "49 | 90\n",
      "53 | 100\n"
     ]
    },
    {
     "data": {
      "application/vnd.jupyter.widget-view+json": {
       "model_id": "c62f5152cc1b4f7e9f1abae1028affa9",
       "version_major": 2,
       "version_minor": 0
      },
      "text/plain": [
       "HBox(children=(FloatProgress(value=0.0), HTML(value='')))"
      ]
     },
     "metadata": {},
     "output_type": "display_data"
    },
    {
     "name": "stdout",
     "output_type": "stream",
     "text": [
      "[SOKOBAN] Runtime Error/Warning: Not enough free spots (#3) to place 1 player and 2 boxes.\n",
      "[SOKOBAN] Retry . . .\n",
      "\n",
      "Episode 23900 Epsilon 0.200 Learning Rate 0.000013 Solved: 62\n",
      "5 | 10\n",
      "9 | 20\n",
      "[SOKOBAN] Runtime Error/Warning: Generated Model with score == 0\n",
      "[SOKOBAN] Retry . . .\n",
      "15 | 30\n",
      "20 | 40\n",
      "25 | 50\n",
      "[SOKOBAN] Runtime Error/Warning: Generated Model with score == 0\n",
      "[SOKOBAN] Retry . . .\n",
      "34 | 60\n",
      "38 | 70\n",
      "43 | 80\n",
      "49 | 90\n",
      "55 | 100\n"
     ]
    },
    {
     "data": {
      "application/vnd.jupyter.widget-view+json": {
       "model_id": "31c31f11e2fa4134827e769e309f5ba9",
       "version_major": 2,
       "version_minor": 0
      },
      "text/plain": [
       "HBox(children=(FloatProgress(value=0.0), HTML(value='')))"
      ]
     },
     "metadata": {},
     "output_type": "display_data"
    },
    {
     "name": "stdout",
     "output_type": "stream",
     "text": [
      "[SOKOBAN] Runtime Error/Warning: Not enough free spots (#3) to place 1 player and 2 boxes.\n",
      "[SOKOBAN] Retry . . .\n",
      "\n",
      "Episode 24000 Epsilon 0.200 Learning Rate 0.000013 Solved: 62\n",
      "6 | 10\n",
      "10 | 20\n",
      "17 | 30\n",
      "[SOKOBAN] Runtime Error/Warning: Generated Model with score == 0\n",
      "[SOKOBAN] Retry . . .\n",
      "21 | 40\n",
      "27 | 50\n",
      "34 | 60\n",
      "37 | 70\n",
      "44 | 80\n",
      "49 | 90\n",
      "54 | 100\n"
     ]
    },
    {
     "data": {
      "application/vnd.jupyter.widget-view+json": {
       "model_id": "1e0a5c4e52cc4f71b746ecaa10a923be",
       "version_major": 2,
       "version_minor": 0
      },
      "text/plain": [
       "HBox(children=(FloatProgress(value=0.0), HTML(value='')))"
      ]
     },
     "metadata": {},
     "output_type": "display_data"
    },
    {
     "name": "stdout",
     "output_type": "stream",
     "text": [
      "[SOKOBAN] Runtime Error/Warning: Not enough free spots (#3) to place 1 player and 2 boxes.\n",
      "[SOKOBAN] Retry . . .\n",
      "\n",
      "Episode 24100 Epsilon 0.200 Learning Rate 0.000013 Solved: 62\n",
      "8 | 10\n",
      "14 | 20\n",
      "20 | 30\n",
      "[SOKOBAN] Runtime Error/Warning: Not enough free spots (#3) to place 1 player and 2 boxes.\n",
      "[SOKOBAN] Retry . . .\n",
      "27 | 40\n",
      "34 | 50\n",
      "[SOKOBAN] Runtime Error/Warning: Not enough free spots (#3) to place 1 player and 2 boxes.\n",
      "[SOKOBAN] Retry . . .\n",
      "40 | 60\n",
      "48 | 70\n",
      "56 | 80\n",
      "63 | 90\n",
      "69 | 100\n"
     ]
    },
    {
     "data": {
      "application/vnd.jupyter.widget-view+json": {
       "model_id": "f797691360a94b64869bb2f29acc452f",
       "version_major": 2,
       "version_minor": 0
      },
      "text/plain": [
       "HBox(children=(FloatProgress(value=0.0), HTML(value='')))"
      ]
     },
     "metadata": {},
     "output_type": "display_data"
    },
    {
     "name": "stdout",
     "output_type": "stream",
     "text": [
      "[SOKOBAN] Runtime Error/Warning: Not enough free spots (#3) to place 1 player and 2 boxes.\n",
      "[SOKOBAN] Retry . . .\n",
      "\n",
      "Episode 24200 Epsilon 0.200 Learning Rate 0.000013 Solved: 66\n",
      "6 | 10\n",
      "11 | 20\n",
      "[SOKOBAN] Runtime Error/Warning: Not enough free spots (#3) to place 1 player and 2 boxes.\n",
      "[SOKOBAN] Retry . . .\n",
      "18 | 30\n",
      "25 | 40\n",
      "29 | 50\n",
      "32 | 60\n",
      "[SOKOBAN] Runtime Error/Warning: Generated Model with score == 0\n",
      "[SOKOBAN] Retry . . .\n",
      "41 | 70\n",
      "[SOKOBAN] Runtime Error/Warning: Not enough free spots (#3) to place 1 player and 2 boxes.\n",
      "[SOKOBAN] Retry . . .\n",
      "46 | 80\n",
      "52 | 90\n",
      "58 | 100\n"
     ]
    },
    {
     "data": {
      "application/vnd.jupyter.widget-view+json": {
       "model_id": "eb92575d1fa74756a03a0c845ccbb421",
       "version_major": 2,
       "version_minor": 0
      },
      "text/plain": [
       "HBox(children=(FloatProgress(value=0.0), HTML(value='')))"
      ]
     },
     "metadata": {},
     "output_type": "display_data"
    },
    {
     "name": "stdout",
     "output_type": "stream",
     "text": [
      "[SOKOBAN] Runtime Error/Warning: Not enough free spots (#3) to place 1 player and 2 boxes.\n",
      "[SOKOBAN] Retry . . .\n",
      "\n",
      "Episode 24300 Epsilon 0.200 Learning Rate 0.000013 Solved: 61\n",
      "6 | 10\n",
      "12 | 20\n",
      "19 | 30\n",
      "25 | 40\n",
      "31 | 50\n",
      "37 | 60\n",
      "[SOKOBAN] Runtime Error/Warning: Not enough free spots (#3) to place 1 player and 2 boxes.\n",
      "[SOKOBAN] Retry . . .\n",
      "[SOKOBAN] Runtime Error/Warning: Generated Model with score == 0\n",
      "[SOKOBAN] Retry . . .\n",
      "43 | 70\n",
      "50 | 80\n",
      "57 | 90\n",
      "[SOKOBAN] Runtime Error/Warning: Not enough free spots (#3) to place 1 player and 2 boxes.\n",
      "[SOKOBAN] Retry . . .\n",
      "65 | 100\n"
     ]
    },
    {
     "data": {
      "application/vnd.jupyter.widget-view+json": {
       "model_id": "e136620cd3cf4769bcf7ac39d1ea5edc",
       "version_major": 2,
       "version_minor": 0
      },
      "text/plain": [
       "HBox(children=(FloatProgress(value=0.0), HTML(value='')))"
      ]
     },
     "metadata": {},
     "output_type": "display_data"
    },
    {
     "name": "stdout",
     "output_type": "stream",
     "text": [
      "[SOKOBAN] Runtime Error/Warning: Not enough free spots (#3) to place 1 player and 2 boxes.\n",
      "[SOKOBAN] Retry . . .\n",
      "\n",
      "Episode 24400 Epsilon 0.200 Learning Rate 0.000013 Solved: 60\n",
      "8 | 10\n",
      "13 | 20\n",
      "19 | 30\n",
      "23 | 40\n",
      "29 | 50\n",
      "36 | 60\n",
      "42 | 70\n",
      "47 | 80\n",
      "55 | 90\n",
      "61 | 100\n"
     ]
    },
    {
     "data": {
      "application/vnd.jupyter.widget-view+json": {
       "model_id": "30ac7a3518f14d7198ee28eefb3b6f1c",
       "version_major": 2,
       "version_minor": 0
      },
      "text/plain": [
       "HBox(children=(FloatProgress(value=0.0), HTML(value='')))"
      ]
     },
     "metadata": {},
     "output_type": "display_data"
    },
    {
     "name": "stdout",
     "output_type": "stream",
     "text": [
      "[SOKOBAN] Runtime Error/Warning: Not enough free spots (#3) to place 1 player and 2 boxes.\n",
      "[SOKOBAN] Retry . . .\n",
      "\n",
      "Episode 24500 Epsilon 0.200 Learning Rate 0.000013 Solved: 59\n",
      "5 | 10\n",
      "11 | 20\n",
      "18 | 30\n",
      "24 | 40\n",
      "28 | 50\n",
      "34 | 60\n",
      "36 | 70\n",
      "43 | 80\n",
      "51 | 90\n",
      "58 | 100\n"
     ]
    },
    {
     "data": {
      "application/vnd.jupyter.widget-view+json": {
       "model_id": "f42cc39c3870498d875498b23e94f25d",
       "version_major": 2,
       "version_minor": 0
      },
      "text/plain": [
       "HBox(children=(FloatProgress(value=0.0), HTML(value='')))"
      ]
     },
     "metadata": {},
     "output_type": "display_data"
    },
    {
     "name": "stdout",
     "output_type": "stream",
     "text": [
      "[SOKOBAN] Runtime Error/Warning: Not enough free spots (#3) to place 1 player and 2 boxes.\n",
      "[SOKOBAN] Retry . . .\n",
      "\n",
      "Episode 24600 Epsilon 0.200 Learning Rate 0.000012 Solved: 59\n",
      "7 | 10\n",
      "[SOKOBAN] Runtime Error/Warning: Generated Model with score == 0\n",
      "[SOKOBAN] Retry . . .\n",
      "12 | 20\n",
      "17 | 30\n",
      "24 | 40\n",
      "28 | 50\n",
      "36 | 60\n",
      "[SOKOBAN] Runtime Error/Warning: Generated Model with score == 0\n",
      "[SOKOBAN] Retry . . .\n",
      "40 | 70\n",
      "45 | 80\n",
      "[SOKOBAN] Runtime Error/Warning: Generated Model with score == 0\n",
      "[SOKOBAN] Retry . . .\n",
      "50 | 90\n",
      "57 | 100\n"
     ]
    },
    {
     "data": {
      "application/vnd.jupyter.widget-view+json": {
       "model_id": "03526135e10e485dbd5b53b0e3d997b2",
       "version_major": 2,
       "version_minor": 0
      },
      "text/plain": [
       "HBox(children=(FloatProgress(value=0.0), HTML(value='')))"
      ]
     },
     "metadata": {},
     "output_type": "display_data"
    },
    {
     "name": "stdout",
     "output_type": "stream",
     "text": [
      "[SOKOBAN] Runtime Error/Warning: Not enough free spots (#3) to place 1 player and 2 boxes.\n",
      "[SOKOBAN] Retry . . .\n",
      "\n",
      "Episode 24700 Epsilon 0.200 Learning Rate 0.000012 Solved: 64\n",
      "2 | 10\n",
      "6 | 20\n",
      "10 | 30\n",
      "17 | 40\n",
      "[SOKOBAN] Runtime Error/Warning: Generated Model with score == 0\n",
      "[SOKOBAN] Retry . . .\n",
      "25 | 50\n",
      "31 | 60\n",
      "38 | 70\n",
      "[SOKOBAN] Runtime Error/Warning: Not enough free spots (#3) to place 1 player and 2 boxes.\n",
      "[SOKOBAN] Retry . . .\n",
      "44 | 80\n",
      "[SOKOBAN] Runtime Error/Warning: Not enough free spots (#3) to place 1 player and 2 boxes.\n",
      "[SOKOBAN] Retry . . .\n",
      "48 | 90\n",
      "55 | 100\n"
     ]
    },
    {
     "data": {
      "application/vnd.jupyter.widget-view+json": {
       "model_id": "3f14da233e1c4011b795bd1094353880",
       "version_major": 2,
       "version_minor": 0
      },
      "text/plain": [
       "HBox(children=(FloatProgress(value=0.0), HTML(value='')))"
      ]
     },
     "metadata": {},
     "output_type": "display_data"
    },
    {
     "name": "stdout",
     "output_type": "stream",
     "text": [
      "[SOKOBAN] Runtime Error/Warning: Not enough free spots (#3) to place 1 player and 2 boxes.\n",
      "[SOKOBAN] Retry . . .\n",
      "\n",
      "Episode 24800 Epsilon 0.200 Learning Rate 0.000012 Solved: 62\n",
      "4 | 10\n",
      "[SOKOBAN] Runtime Error/Warning: Not enough free spots (#3) to place 1 player and 2 boxes.\n",
      "[SOKOBAN] Retry . . .\n",
      "[SOKOBAN] Runtime Error/Warning: Not enough free spots (#3) to place 1 player and 2 boxes.\n",
      "[SOKOBAN] Retry . . .\n",
      "10 | 20\n",
      "14 | 30\n",
      "21 | 40\n",
      "29 | 50\n",
      "33 | 60\n",
      "38 | 70\n",
      "40 | 80\n",
      "[SOKOBAN] Runtime Error/Warning: Generated Model with score == 0\n",
      "[SOKOBAN] Retry . . .\n",
      "[SOKOBAN] Runtime Error/Warning: Generated Model with score == 0\n",
      "[SOKOBAN] Retry . . .\n",
      "46 | 90\n",
      "53 | 100\n"
     ]
    },
    {
     "data": {
      "application/vnd.jupyter.widget-view+json": {
       "model_id": "7466c5dab2324df4bd308f73c816d543",
       "version_major": 2,
       "version_minor": 0
      },
      "text/plain": [
       "HBox(children=(FloatProgress(value=0.0), HTML(value='')))"
      ]
     },
     "metadata": {},
     "output_type": "display_data"
    },
    {
     "name": "stdout",
     "output_type": "stream",
     "text": [
      "[SOKOBAN] Runtime Error/Warning: Not enough free spots (#3) to place 1 player and 2 boxes.\n",
      "[SOKOBAN] Retry . . .\n",
      "\n",
      "Episode 24900 Epsilon 0.200 Learning Rate 0.000012 Solved: 63\n",
      "[SOKOBAN] Runtime Error/Warning: Generated Model with score == 0\n",
      "[SOKOBAN] Retry . . .\n",
      "8 | 10\n",
      "14 | 20\n",
      "18 | 30\n",
      "23 | 40\n",
      "29 | 50\n",
      "35 | 60\n",
      "42 | 70\n",
      "49 | 80\n",
      "55 | 90\n",
      "61 | 100\n"
     ]
    },
    {
     "data": {
      "application/vnd.jupyter.widget-view+json": {
       "model_id": "c51c782a7af54ce986cf759e1599320a",
       "version_major": 2,
       "version_minor": 0
      },
      "text/plain": [
       "HBox(children=(FloatProgress(value=0.0), HTML(value='')))"
      ]
     },
     "metadata": {},
     "output_type": "display_data"
    },
    {
     "name": "stdout",
     "output_type": "stream",
     "text": [
      "[SOKOBAN] Runtime Error/Warning: Not enough free spots (#3) to place 1 player and 2 boxes.\n",
      "[SOKOBAN] Retry . . .\n",
      "\n",
      "Episode 25000 Epsilon 0.200 Learning Rate 0.000012 Solved: 63\n",
      "6 | 10\n",
      "13 | 20\n",
      "17 | 30\n",
      "25 | 40\n",
      "32 | 50\n",
      "41 | 60\n",
      "47 | 70\n",
      "53 | 80\n",
      "60 | 90\n",
      "[SOKOBAN] Runtime Error/Warning: Not enough free spots (#3) to place 1 player and 2 boxes.\n",
      "[SOKOBAN] Retry . . .\n",
      "68 | 100\n"
     ]
    },
    {
     "data": {
      "application/vnd.jupyter.widget-view+json": {
       "model_id": "a69c2fbadc4e4c7691703be55748c286",
       "version_major": 2,
       "version_minor": 0
      },
      "text/plain": [
       "HBox(children=(FloatProgress(value=0.0), HTML(value='')))"
      ]
     },
     "metadata": {},
     "output_type": "display_data"
    },
    {
     "name": "stdout",
     "output_type": "stream",
     "text": [
      "[SOKOBAN] Runtime Error/Warning: Not enough free spots (#3) to place 1 player and 2 boxes.\n",
      "[SOKOBAN] Retry . . .\n",
      "\n",
      "Episode 25100 Epsilon 0.200 Learning Rate 0.000012 Solved: 62\n",
      "7 | 10\n",
      "10 | 20\n",
      "18 | 30\n",
      "26 | 40\n",
      "30 | 50\n",
      "35 | 60\n",
      "39 | 70\n",
      "45 | 80\n",
      "[SOKOBAN] Runtime Error/Warning: Not enough free spots (#3) to place 1 player and 2 boxes.\n",
      "[SOKOBAN] Retry . . .\n",
      "50 | 90\n",
      "[SOKOBAN] Runtime Error/Warning: Not enough free spots (#3) to place 1 player and 2 boxes.\n",
      "[SOKOBAN] Retry . . .\n",
      "56 | 100\n"
     ]
    },
    {
     "data": {
      "application/vnd.jupyter.widget-view+json": {
       "model_id": "bcd2a262410a4063b6af264bdfe4f91e",
       "version_major": 2,
       "version_minor": 0
      },
      "text/plain": [
       "HBox(children=(FloatProgress(value=0.0), HTML(value='')))"
      ]
     },
     "metadata": {},
     "output_type": "display_data"
    },
    {
     "name": "stdout",
     "output_type": "stream",
     "text": [
      "[SOKOBAN] Runtime Error/Warning: Not enough free spots (#3) to place 1 player and 2 boxes.\n",
      "[SOKOBAN] Retry . . .\n",
      "\n",
      "Episode 25200 Epsilon 0.200 Learning Rate 0.000012 Solved: 61\n",
      "7 | 10\n",
      "11 | 20\n",
      "18 | 30\n",
      "23 | 40\n",
      "29 | 50\n",
      "36 | 60\n",
      "[SOKOBAN] Runtime Error/Warning: Not enough free spots (#3) to place 1 player and 2 boxes.\n",
      "[SOKOBAN] Retry . . .\n",
      "43 | 70\n",
      "47 | 80\n",
      "51 | 90\n",
      "59 | 100\n"
     ]
    },
    {
     "data": {
      "application/vnd.jupyter.widget-view+json": {
       "model_id": "9a550b2250f54ef78f9cf3ee9493a2f9",
       "version_major": 2,
       "version_minor": 0
      },
      "text/plain": [
       "HBox(children=(FloatProgress(value=0.0), HTML(value='')))"
      ]
     },
     "metadata": {},
     "output_type": "display_data"
    },
    {
     "name": "stdout",
     "output_type": "stream",
     "text": [
      "[SOKOBAN] Runtime Error/Warning: Not enough free spots (#3) to place 1 player and 2 boxes.\n",
      "[SOKOBAN] Retry . . .\n",
      "\n",
      "Episode 25300 Epsilon 0.200 Learning Rate 0.000012 Solved: 61\n",
      "6 | 10\n",
      "13 | 20\n",
      "20 | 30\n",
      "29 | 40\n",
      "34 | 50\n",
      "39 | 60\n",
      "47 | 70\n",
      "55 | 80\n",
      "58 | 90\n",
      "64 | 100\n"
     ]
    },
    {
     "data": {
      "application/vnd.jupyter.widget-view+json": {
       "model_id": "0e5f6f336e7042ba900fd9bb63f6e2b7",
       "version_major": 2,
       "version_minor": 0
      },
      "text/plain": [
       "HBox(children=(FloatProgress(value=0.0), HTML(value='')))"
      ]
     },
     "metadata": {},
     "output_type": "display_data"
    },
    {
     "name": "stdout",
     "output_type": "stream",
     "text": [
      "[SOKOBAN] Runtime Error/Warning: Not enough free spots (#3) to place 1 player and 2 boxes.\n",
      "[SOKOBAN] Retry . . .\n",
      "\n",
      "Episode 25400 Epsilon 0.200 Learning Rate 0.000012 Solved: 61\n",
      "[SOKOBAN] Runtime Error/Warning: Not enough free spots (#3) to place 1 player and 2 boxes.\n",
      "[SOKOBAN] Retry . . .\n",
      "3 | 10\n",
      "7 | 20\n",
      "13 | 30\n",
      "20 | 40\n",
      "[SOKOBAN] Runtime Error/Warning: Not enough free spots (#3) to place 1 player and 2 boxes.\n",
      "[SOKOBAN] Retry . . .\n",
      "28 | 50\n",
      "34 | 60\n",
      "38 | 70\n",
      "46 | 80\n",
      "53 | 90\n",
      "58 | 100\n"
     ]
    },
    {
     "data": {
      "application/vnd.jupyter.widget-view+json": {
       "model_id": "661731853fc64df3b2cb190917816bc2",
       "version_major": 2,
       "version_minor": 0
      },
      "text/plain": [
       "HBox(children=(FloatProgress(value=0.0), HTML(value='')))"
      ]
     },
     "metadata": {},
     "output_type": "display_data"
    },
    {
     "name": "stdout",
     "output_type": "stream",
     "text": [
      "[SOKOBAN] Runtime Error/Warning: Not enough free spots (#3) to place 1 player and 2 boxes.\n",
      "[SOKOBAN] Retry . . .\n",
      "\n",
      "Episode 25500 Epsilon 0.200 Learning Rate 0.000011 Solved: 61\n",
      "6 | 10\n",
      "12 | 20\n",
      "19 | 30\n",
      "27 | 40\n",
      "34 | 50\n",
      "43 | 60\n",
      "47 | 70\n",
      "54 | 80\n",
      "60 | 90\n",
      "67 | 100\n"
     ]
    },
    {
     "data": {
      "application/vnd.jupyter.widget-view+json": {
       "model_id": "9d62588983064f40b97ca4db78015adc",
       "version_major": 2,
       "version_minor": 0
      },
      "text/plain": [
       "HBox(children=(FloatProgress(value=0.0), HTML(value='')))"
      ]
     },
     "metadata": {},
     "output_type": "display_data"
    },
    {
     "name": "stdout",
     "output_type": "stream",
     "text": [
      "[SOKOBAN] Runtime Error/Warning: Not enough free spots (#3) to place 1 player and 2 boxes.\n",
      "[SOKOBAN] Retry . . .\n",
      "\n",
      "Episode 25600 Epsilon 0.200 Learning Rate 0.000011 Solved: 63\n",
      "4 | 10\n",
      "9 | 20\n",
      "14 | 30\n",
      "19 | 40\n",
      "26 | 50\n",
      "32 | 60\n",
      "39 | 70\n",
      "49 | 80\n",
      "53 | 90\n",
      "58 | 100\n"
     ]
    },
    {
     "data": {
      "application/vnd.jupyter.widget-view+json": {
       "model_id": "53fafe5dbbbe49ba86ccf814a0de6ca3",
       "version_major": 2,
       "version_minor": 0
      },
      "text/plain": [
       "HBox(children=(FloatProgress(value=0.0), HTML(value='')))"
      ]
     },
     "metadata": {},
     "output_type": "display_data"
    },
    {
     "name": "stdout",
     "output_type": "stream",
     "text": [
      "[SOKOBAN] Runtime Error/Warning: Not enough free spots (#3) to place 1 player and 2 boxes.\n",
      "[SOKOBAN] Retry . . .\n",
      "\n",
      "Episode 25700 Epsilon 0.200 Learning Rate 0.000011 Solved: 62\n",
      "7 | 10\n",
      "14 | 20\n",
      "19 | 30\n",
      "[SOKOBAN] Runtime Error/Warning: Generated Model with score == 0\n",
      "[SOKOBAN] Retry . . .\n",
      "24 | 40\n",
      "31 | 50\n",
      "36 | 60\n",
      "43 | 70\n",
      "49 | 80\n",
      "55 | 90\n",
      "62 | 100\n"
     ]
    },
    {
     "data": {
      "application/vnd.jupyter.widget-view+json": {
       "model_id": "a4a1368992c5489ebc6f94a5ed479f5b",
       "version_major": 2,
       "version_minor": 0
      },
      "text/plain": [
       "HBox(children=(FloatProgress(value=0.0), HTML(value='')))"
      ]
     },
     "metadata": {},
     "output_type": "display_data"
    },
    {
     "name": "stdout",
     "output_type": "stream",
     "text": [
      "[SOKOBAN] Runtime Error/Warning: Not enough free spots (#3) to place 1 player and 2 boxes.\n",
      "[SOKOBAN] Retry . . .\n",
      "\n",
      "Episode 25800 Epsilon 0.200 Learning Rate 0.000011 Solved: 59\n",
      "[SOKOBAN] Runtime Error/Warning: Generated Model with score == 0\n",
      "[SOKOBAN] Retry . . .\n",
      "5 | 10\n",
      "10 | 20\n",
      "16 | 30\n",
      "23 | 40\n",
      "29 | 50\n",
      "[SOKOBAN] Runtime Error/Warning: Not enough free spots (#3) to place 1 player and 2 boxes.\n",
      "[SOKOBAN] Retry . . .\n",
      "37 | 60\n",
      "45 | 70\n",
      "50 | 80\n",
      "[SOKOBAN] Runtime Error/Warning: Generated Model with score == 0\n",
      "[SOKOBAN] Retry . . .\n",
      "57 | 90\n",
      "63 | 100\n"
     ]
    },
    {
     "data": {
      "application/vnd.jupyter.widget-view+json": {
       "model_id": "e22f03a3c62648bdb8a8f1b7f1bca1a9",
       "version_major": 2,
       "version_minor": 0
      },
      "text/plain": [
       "HBox(children=(FloatProgress(value=0.0), HTML(value='')))"
      ]
     },
     "metadata": {},
     "output_type": "display_data"
    },
    {
     "name": "stdout",
     "output_type": "stream",
     "text": [
      "[SOKOBAN] Runtime Error/Warning: Not enough free spots (#3) to place 1 player and 2 boxes.\n",
      "[SOKOBAN] Retry . . .\n",
      "\n",
      "Episode 25900 Epsilon 0.200 Learning Rate 0.000011 Solved: 65\n",
      "7 | 10\n",
      "12 | 20\n",
      "17 | 30\n",
      "26 | 40\n",
      "31 | 50\n",
      "39 | 60\n",
      "[SOKOBAN] Runtime Error/Warning: Not enough free spots (#3) to place 1 player and 2 boxes.\n",
      "[SOKOBAN] Retry . . .\n",
      "44 | 70\n",
      "50 | 80\n",
      "58 | 90\n",
      "65 | 100\n"
     ]
    },
    {
     "data": {
      "application/vnd.jupyter.widget-view+json": {
       "model_id": "43851ea9de844c3492e9b7466e7eee6d",
       "version_major": 2,
       "version_minor": 0
      },
      "text/plain": [
       "HBox(children=(FloatProgress(value=0.0), HTML(value='')))"
      ]
     },
     "metadata": {},
     "output_type": "display_data"
    },
    {
     "name": "stdout",
     "output_type": "stream",
     "text": [
      "[SOKOBAN] Runtime Error/Warning: Not enough free spots (#3) to place 1 player and 2 boxes.\n",
      "[SOKOBAN] Retry . . .\n",
      "\n",
      "Episode 26000 Epsilon 0.200 Learning Rate 0.000011 Solved: 64\n",
      "5 | 10\n",
      "12 | 20\n",
      "21 | 30\n",
      "26 | 40\n",
      "33 | 50\n",
      "34 | 60\n",
      "41 | 70\n",
      "47 | 80\n",
      "52 | 90\n",
      "58 | 100\n"
     ]
    },
    {
     "data": {
      "application/vnd.jupyter.widget-view+json": {
       "model_id": "63046144fd5441a59887b30405cc29b2",
       "version_major": 2,
       "version_minor": 0
      },
      "text/plain": [
       "HBox(children=(FloatProgress(value=0.0), HTML(value='')))"
      ]
     },
     "metadata": {},
     "output_type": "display_data"
    },
    {
     "name": "stdout",
     "output_type": "stream",
     "text": [
      "[SOKOBAN] Runtime Error/Warning: Not enough free spots (#3) to place 1 player and 2 boxes.\n",
      "[SOKOBAN] Retry . . .\n",
      "\n",
      "Episode 26100 Epsilon 0.200 Learning Rate 0.000011 Solved: 62\n",
      "[SOKOBAN] Runtime Error/Warning: Not enough free spots (#3) to place 1 player and 2 boxes.\n",
      "[SOKOBAN] Retry . . .\n",
      "7 | 10\n",
      "15 | 20\n",
      "22 | 30\n",
      "[SOKOBAN] Runtime Error/Warning: Generated Model with score == 0\n",
      "[SOKOBAN] Retry . . .\n",
      "27 | 40\n",
      "35 | 50\n",
      "39 | 60\n",
      "46 | 70\n",
      "49 | 80\n",
      "54 | 90\n",
      "59 | 100\n"
     ]
    },
    {
     "data": {
      "application/vnd.jupyter.widget-view+json": {
       "model_id": "698ea6fdc4ed4c6e8a2c9729cf455332",
       "version_major": 2,
       "version_minor": 0
      },
      "text/plain": [
       "HBox(children=(FloatProgress(value=0.0), HTML(value='')))"
      ]
     },
     "metadata": {},
     "output_type": "display_data"
    },
    {
     "name": "stdout",
     "output_type": "stream",
     "text": [
      "[SOKOBAN] Runtime Error/Warning: Not enough free spots (#3) to place 1 player and 2 boxes.\n",
      "[SOKOBAN] Retry . . .\n",
      "\n",
      "Episode 26200 Epsilon 0.200 Learning Rate 0.000011 Solved: 62\n",
      "6 | 10\n",
      "[SOKOBAN] Runtime Error/Warning: Generated Model with score == 0\n",
      "[SOKOBAN] Retry . . .\n",
      "13 | 20\n",
      "19 | 30\n",
      "24 | 40\n",
      "30 | 50\n",
      "35 | 60\n",
      "41 | 70\n",
      "[SOKOBAN] Runtime Error/Warning: Not enough free spots (#3) to place 1 player and 2 boxes.\n",
      "[SOKOBAN] Retry . . .\n",
      "49 | 80\n",
      "[SOKOBAN] Runtime Error/Warning: Not enough free spots (#3) to place 1 player and 2 boxes.\n",
      "[SOKOBAN] Retry . . .\n",
      "[SOKOBAN] Runtime Error/Warning: Generated Model with score == 0\n",
      "[SOKOBAN] Retry . . .\n",
      "58 | 90\n",
      "64 | 100\n"
     ]
    },
    {
     "data": {
      "application/vnd.jupyter.widget-view+json": {
       "model_id": "83962f8a0966473aa7663c065bfb1f57",
       "version_major": 2,
       "version_minor": 0
      },
      "text/plain": [
       "HBox(children=(FloatProgress(value=0.0), HTML(value='')))"
      ]
     },
     "metadata": {},
     "output_type": "display_data"
    },
    {
     "name": "stdout",
     "output_type": "stream",
     "text": [
      "[SOKOBAN] Runtime Error/Warning: Not enough free spots (#3) to place 1 player and 2 boxes.\n",
      "[SOKOBAN] Retry . . .\n",
      "\n",
      "Episode 26300 Epsilon 0.200 Learning Rate 0.000011 Solved: 62\n",
      "6 | 10\n",
      "[SOKOBAN] Runtime Error/Warning: Generated Model with score == 0\n",
      "[SOKOBAN] Retry . . .\n",
      "10 | 20\n",
      "16 | 30\n",
      "23 | 40\n",
      "32 | 50\n",
      "39 | 60\n",
      "46 | 70\n",
      "55 | 80\n",
      "61 | 90\n",
      "67 | 100\n"
     ]
    },
    {
     "data": {
      "application/vnd.jupyter.widget-view+json": {
       "model_id": "145469eb778a4e9eb641453c771affaf",
       "version_major": 2,
       "version_minor": 0
      },
      "text/plain": [
       "HBox(children=(FloatProgress(value=0.0), HTML(value='')))"
      ]
     },
     "metadata": {},
     "output_type": "display_data"
    },
    {
     "name": "stdout",
     "output_type": "stream",
     "text": [
      "[SOKOBAN] Runtime Error/Warning: Not enough free spots (#3) to place 1 player and 2 boxes.\n",
      "[SOKOBAN] Retry . . .\n",
      "\n",
      "Episode 26400 Epsilon 0.200 Learning Rate 0.000011 Solved: 63\n",
      "6 | 10\n",
      "11 | 20\n",
      "15 | 30\n",
      "23 | 40\n",
      "29 | 50\n",
      "38 | 60\n",
      "43 | 70\n",
      "[SOKOBAN] Runtime Error/Warning: Not enough free spots (#3) to place 1 player and 2 boxes.\n",
      "[SOKOBAN] Retry . . .\n",
      "51 | 80\n",
      "57 | 90\n",
      "63 | 100\n"
     ]
    },
    {
     "data": {
      "application/vnd.jupyter.widget-view+json": {
       "model_id": "5dc6bdf748d146f2ba5b3ada138f8f20",
       "version_major": 2,
       "version_minor": 0
      },
      "text/plain": [
       "HBox(children=(FloatProgress(value=0.0), HTML(value='')))"
      ]
     },
     "metadata": {},
     "output_type": "display_data"
    },
    {
     "name": "stdout",
     "output_type": "stream",
     "text": [
      "[SOKOBAN] Runtime Error/Warning: Not enough free spots (#3) to place 1 player and 2 boxes.\n",
      "[SOKOBAN] Retry . . .\n",
      "\n",
      "Episode 26500 Epsilon 0.200 Learning Rate 0.000011 Solved: 62\n",
      "8 | 10\n",
      "[SOKOBAN] Runtime Error/Warning: Generated Model with score == 0\n",
      "[SOKOBAN] Retry . . .\n",
      "15 | 20\n",
      "23 | 30\n",
      "30 | 40\n",
      "39 | 50\n",
      "44 | 60\n",
      "49 | 70\n",
      "[SOKOBAN] Runtime Error/Warning: Not enough free spots (#3) to place 1 player and 2 boxes.\n",
      "[SOKOBAN] Retry . . .\n",
      "55 | 80\n",
      "61 | 90\n",
      "69 | 100\n"
     ]
    },
    {
     "data": {
      "application/vnd.jupyter.widget-view+json": {
       "model_id": "782c3b23232945c1855d42eede3c0e8b",
       "version_major": 2,
       "version_minor": 0
      },
      "text/plain": [
       "HBox(children=(FloatProgress(value=0.0), HTML(value='')))"
      ]
     },
     "metadata": {},
     "output_type": "display_data"
    },
    {
     "name": "stdout",
     "output_type": "stream",
     "text": [
      "[SOKOBAN] Runtime Error/Warning: Not enough free spots (#3) to place 1 player and 2 boxes.\n",
      "[SOKOBAN] Retry . . .\n",
      "\n",
      "Episode 26600 Epsilon 0.200 Learning Rate 0.000010 Solved: 65\n",
      "[SOKOBAN] Runtime Error/Warning: Generated Model with score == 0\n",
      "[SOKOBAN] Retry . . .\n",
      "6 | 10\n",
      "13 | 20\n",
      "[SOKOBAN] Runtime Error/Warning: Generated Model with score == 0\n",
      "[SOKOBAN] Retry . . .\n",
      "19 | 30\n",
      "25 | 40\n",
      "34 | 50\n",
      "43 | 60\n",
      "52 | 70\n",
      "59 | 80\n",
      "67 | 90\n",
      "73 | 100\n"
     ]
    },
    {
     "data": {
      "application/vnd.jupyter.widget-view+json": {
       "model_id": "15e6c276a667471fb2a5d128a1986ba7",
       "version_major": 2,
       "version_minor": 0
      },
      "text/plain": [
       "HBox(children=(FloatProgress(value=0.0), HTML(value='')))"
      ]
     },
     "metadata": {},
     "output_type": "display_data"
    },
    {
     "name": "stdout",
     "output_type": "stream",
     "text": [
      "[SOKOBAN] Runtime Error/Warning: Not enough free spots (#3) to place 1 player and 2 boxes.\n",
      "[SOKOBAN] Retry . . .\n",
      "\n",
      "Episode 26700 Epsilon 0.200 Learning Rate 0.000010 Solved: 62\n",
      "[SOKOBAN] Runtime Error/Warning: Generated Model with score == 0\n",
      "[SOKOBAN] Retry . . .\n",
      "5 | 10\n",
      "11 | 20\n",
      "15 | 30\n",
      "22 | 40\n",
      "27 | 50\n",
      "34 | 60\n",
      "39 | 70\n",
      "45 | 80\n",
      "54 | 90\n",
      "61 | 100\n"
     ]
    },
    {
     "data": {
      "application/vnd.jupyter.widget-view+json": {
       "model_id": "52589ff07d9d45948eda58bbc6be7390",
       "version_major": 2,
       "version_minor": 0
      },
      "text/plain": [
       "HBox(children=(FloatProgress(value=0.0), HTML(value='')))"
      ]
     },
     "metadata": {},
     "output_type": "display_data"
    },
    {
     "name": "stdout",
     "output_type": "stream",
     "text": [
      "[SOKOBAN] Runtime Error/Warning: Not enough free spots (#3) to place 1 player and 2 boxes.\n",
      "[SOKOBAN] Retry . . .\n",
      "\n",
      "Episode 26800 Epsilon 0.200 Learning Rate 0.000010 Solved: 61\n",
      "7 | 10\n",
      "12 | 20\n",
      "16 | 30\n",
      "23 | 40\n",
      "32 | 50\n",
      "40 | 60\n",
      "47 | 70\n",
      "55 | 80\n",
      "61 | 90\n",
      "[SOKOBAN] Runtime Error/Warning: Not enough free spots (#3) to place 1 player and 2 boxes.\n",
      "[SOKOBAN] Retry . . .\n",
      "67 | 100\n"
     ]
    },
    {
     "data": {
      "application/vnd.jupyter.widget-view+json": {
       "model_id": "8f8aac1c266649aa8ab43a53f0f3d1f0",
       "version_major": 2,
       "version_minor": 0
      },
      "text/plain": [
       "HBox(children=(FloatProgress(value=0.0), HTML(value='')))"
      ]
     },
     "metadata": {},
     "output_type": "display_data"
    },
    {
     "name": "stdout",
     "output_type": "stream",
     "text": [
      "[SOKOBAN] Runtime Error/Warning: Not enough free spots (#3) to place 1 player and 2 boxes.\n",
      "[SOKOBAN] Retry . . .\n",
      "\n",
      "Episode 26900 Epsilon 0.200 Learning Rate 0.000010 Solved: 61\n",
      "[SOKOBAN] Runtime Error/Warning: Not enough free spots (#3) to place 1 player and 2 boxes.\n",
      "[SOKOBAN] Retry . . .\n",
      "6 | 10\n",
      "8 | 20\n",
      "15 | 30\n",
      "21 | 40\n",
      "30 | 50\n",
      "36 | 60\n",
      "43 | 70\n",
      "51 | 80\n",
      "57 | 90\n",
      "63 | 100\n"
     ]
    },
    {
     "data": {
      "application/vnd.jupyter.widget-view+json": {
       "model_id": "5b30b1c9b82d44639a4d77d09e428366",
       "version_major": 2,
       "version_minor": 0
      },
      "text/plain": [
       "HBox(children=(FloatProgress(value=0.0), HTML(value='')))"
      ]
     },
     "metadata": {},
     "output_type": "display_data"
    },
    {
     "name": "stdout",
     "output_type": "stream",
     "text": [
      "[SOKOBAN] Runtime Error/Warning: Not enough free spots (#3) to place 1 player and 2 boxes.\n",
      "[SOKOBAN] Retry . . .\n",
      "\n",
      "Episode 27000 Epsilon 0.200 Learning Rate 0.000010 Solved: 62\n",
      "5 | 10\n",
      "[SOKOBAN] Runtime Error/Warning: Not enough free spots (#3) to place 1 player and 2 boxes.\n",
      "[SOKOBAN] Retry . . .\n",
      "9 | 20\n",
      "14 | 30\n",
      "[SOKOBAN] Runtime Error/Warning: Generated Model with score == 0\n",
      "[SOKOBAN] Retry . . .\n",
      "20 | 40\n",
      "27 | 50\n",
      "[SOKOBAN] Runtime Error/Warning: Generated Model with score == 0\n",
      "[SOKOBAN] Retry . . .\n",
      "[SOKOBAN] Runtime Error/Warning: Generated Model with score == 0\n",
      "[SOKOBAN] Retry . . .\n",
      "35 | 60\n",
      "42 | 70\n",
      "49 | 80\n",
      "58 | 90\n",
      "[SOKOBAN] Runtime Error/Warning: Not enough free spots (#3) to place 1 player and 2 boxes.\n",
      "[SOKOBAN] Retry . . .\n",
      "65 | 100\n"
     ]
    },
    {
     "data": {
      "application/vnd.jupyter.widget-view+json": {
       "model_id": "c5710d1695e64f879e6ca55246800132",
       "version_major": 2,
       "version_minor": 0
      },
      "text/plain": [
       "HBox(children=(FloatProgress(value=0.0), HTML(value='')))"
      ]
     },
     "metadata": {},
     "output_type": "display_data"
    },
    {
     "name": "stdout",
     "output_type": "stream",
     "text": [
      "[SOKOBAN] Runtime Error/Warning: Not enough free spots (#3) to place 1 player and 2 boxes.\n",
      "[SOKOBAN] Retry . . .\n",
      "\n",
      "Episode 27100 Epsilon 0.200 Learning Rate 0.000010 Solved: 61\n",
      "6 | 10\n",
      "[SOKOBAN] Runtime Error/Warning: Not enough free spots (#3) to place 1 player and 2 boxes.\n",
      "[SOKOBAN] Retry . . .\n",
      "11 | 20\n",
      "21 | 30\n",
      "27 | 40\n",
      "36 | 50\n",
      "43 | 60\n",
      "48 | 70\n",
      "53 | 80\n",
      "58 | 90\n",
      "65 | 100\n"
     ]
    },
    {
     "data": {
      "application/vnd.jupyter.widget-view+json": {
       "model_id": "d21b5103ae134a6fad55078e3dc7408d",
       "version_major": 2,
       "version_minor": 0
      },
      "text/plain": [
       "HBox(children=(FloatProgress(value=0.0), HTML(value='')))"
      ]
     },
     "metadata": {},
     "output_type": "display_data"
    },
    {
     "name": "stdout",
     "output_type": "stream",
     "text": [
      "[SOKOBAN] Runtime Error/Warning: Not enough free spots (#3) to place 1 player and 2 boxes.\n",
      "[SOKOBAN] Retry . . .\n",
      "\n",
      "Episode 27200 Epsilon 0.200 Learning Rate 0.000010 Solved: 65\n",
      "6 | 10\n",
      "12 | 20\n",
      "19 | 30\n",
      "24 | 40\n",
      "31 | 50\n",
      "35 | 60\n",
      "41 | 70\n",
      "47 | 80\n",
      "53 | 90\n",
      "61 | 100\n"
     ]
    },
    {
     "data": {
      "application/vnd.jupyter.widget-view+json": {
       "model_id": "0a9c55c0f16c48bf91cdca52b820d3a9",
       "version_major": 2,
       "version_minor": 0
      },
      "text/plain": [
       "HBox(children=(FloatProgress(value=0.0), HTML(value='')))"
      ]
     },
     "metadata": {},
     "output_type": "display_data"
    },
    {
     "name": "stdout",
     "output_type": "stream",
     "text": [
      "[SOKOBAN] Runtime Error/Warning: Not enough free spots (#3) to place 1 player and 2 boxes.\n",
      "[SOKOBAN] Retry . . .\n",
      "\n",
      "Episode 27300 Epsilon 0.200 Learning Rate 0.000010 Solved: 61\n",
      "6 | 10\n",
      "13 | 20\n",
      "20 | 30\n",
      "24 | 40\n",
      "30 | 50\n",
      "38 | 60\n",
      "44 | 70\n",
      "51 | 80\n",
      "59 | 90\n",
      "66 | 100\n"
     ]
    },
    {
     "data": {
      "application/vnd.jupyter.widget-view+json": {
       "model_id": "a7c3c1e0cc2b4044b16a7bf9478bd2fe",
       "version_major": 2,
       "version_minor": 0
      },
      "text/plain": [
       "HBox(children=(FloatProgress(value=0.0), HTML(value='')))"
      ]
     },
     "metadata": {},
     "output_type": "display_data"
    },
    {
     "name": "stdout",
     "output_type": "stream",
     "text": [
      "[SOKOBAN] Runtime Error/Warning: Not enough free spots (#3) to place 1 player and 2 boxes.\n",
      "[SOKOBAN] Retry . . .\n",
      "\n",
      "Episode 27400 Epsilon 0.200 Learning Rate 0.000010 Solved: 63\n",
      "8 | 10\n",
      "14 | 20\n",
      "20 | 30\n",
      "[SOKOBAN] Runtime Error/Warning: Generated Model with score == 0\n",
      "[SOKOBAN] Retry . . .\n",
      "[SOKOBAN] Runtime Error/Warning: Generated Model with score == 0\n",
      "[SOKOBAN] Retry . . .\n",
      "25 | 40\n",
      "31 | 50\n",
      "37 | 60\n",
      "42 | 70\n",
      "[SOKOBAN] Runtime Error/Warning: Not enough free spots (#3) to place 1 player and 2 boxes.\n",
      "[SOKOBAN] Retry . . .\n",
      "[SOKOBAN] Runtime Error/Warning: Generated Model with score == 0\n",
      "[SOKOBAN] Retry . . .\n",
      "47 | 80\n",
      "54 | 90\n",
      "60 | 100\n"
     ]
    },
    {
     "data": {
      "application/vnd.jupyter.widget-view+json": {
       "model_id": "4ef6ce8da7ca445b84473521d0bc5173",
       "version_major": 2,
       "version_minor": 0
      },
      "text/plain": [
       "HBox(children=(FloatProgress(value=0.0), HTML(value='')))"
      ]
     },
     "metadata": {},
     "output_type": "display_data"
    },
    {
     "name": "stdout",
     "output_type": "stream",
     "text": [
      "[SOKOBAN] Runtime Error/Warning: Not enough free spots (#3) to place 1 player and 2 boxes.\n",
      "[SOKOBAN] Retry . . .\n",
      "\n",
      "Episode 27500 Epsilon 0.200 Learning Rate 0.000010 Solved: 63\n",
      "6 | 10\n",
      "12 | 20\n",
      "17 | 30\n",
      "23 | 40\n",
      "29 | 50\n",
      "36 | 60\n",
      "42 | 70\n",
      "47 | 80\n",
      "54 | 90\n",
      "60 | 100\n"
     ]
    },
    {
     "data": {
      "application/vnd.jupyter.widget-view+json": {
       "model_id": "6f417e91522b4517ad938fd05124b204",
       "version_major": 2,
       "version_minor": 0
      },
      "text/plain": [
       "HBox(children=(FloatProgress(value=0.0), HTML(value='')))"
      ]
     },
     "metadata": {},
     "output_type": "display_data"
    },
    {
     "name": "stdout",
     "output_type": "stream",
     "text": [
      "[SOKOBAN] Runtime Error/Warning: Not enough free spots (#3) to place 1 player and 2 boxes.\n",
      "[SOKOBAN] Retry . . .\n",
      "\n",
      "Episode 27600 Epsilon 0.200 Learning Rate 0.000010 Solved: 62\n",
      "6 | 10\n",
      "11 | 20\n",
      "18 | 30\n",
      "[SOKOBAN] Runtime Error/Warning: Not enough free spots (#3) to place 1 player and 2 boxes.\n",
      "[SOKOBAN] Retry . . .\n",
      "26 | 40\n",
      "34 | 50\n",
      "39 | 60\n",
      "42 | 70\n",
      "49 | 80\n",
      "56 | 90\n",
      "61 | 100\n"
     ]
    },
    {
     "data": {
      "application/vnd.jupyter.widget-view+json": {
       "model_id": "eb542bb5df04420b9985dc738e199609",
       "version_major": 2,
       "version_minor": 0
      },
      "text/plain": [
       "HBox(children=(FloatProgress(value=0.0), HTML(value='')))"
      ]
     },
     "metadata": {},
     "output_type": "display_data"
    },
    {
     "name": "stdout",
     "output_type": "stream",
     "text": [
      "[SOKOBAN] Runtime Error/Warning: Not enough free spots (#3) to place 1 player and 2 boxes.\n",
      "[SOKOBAN] Retry . . .\n",
      "\n",
      "Episode 27700 Epsilon 0.200 Learning Rate 0.000010 Solved: 63\n",
      "6 | 10\n",
      "[SOKOBAN] Runtime Error/Warning: Generated Model with score == 0\n",
      "[SOKOBAN] Retry . . .\n",
      "13 | 20\n",
      "19 | 30\n",
      "[SOKOBAN] Runtime Error/Warning: Generated Model with score == 0\n",
      "[SOKOBAN] Retry . . .\n",
      "24 | 40\n",
      "33 | 50\n",
      "[SOKOBAN] Runtime Error/Warning: Not enough free spots (#3) to place 1 player and 2 boxes.\n",
      "[SOKOBAN] Retry . . .\n",
      "40 | 60\n",
      "45 | 70\n",
      "50 | 80\n",
      "[SOKOBAN] Runtime Error/Warning: Generated Model with score == 0\n",
      "[SOKOBAN] Retry . . .\n",
      "57 | 90\n",
      "63 | 100\n"
     ]
    },
    {
     "data": {
      "application/vnd.jupyter.widget-view+json": {
       "model_id": "6ce5c3410fa34b7abd049eccfd5c4ee0",
       "version_major": 2,
       "version_minor": 0
      },
      "text/plain": [
       "HBox(children=(FloatProgress(value=0.0), HTML(value='')))"
      ]
     },
     "metadata": {},
     "output_type": "display_data"
    },
    {
     "name": "stdout",
     "output_type": "stream",
     "text": [
      "[SOKOBAN] Runtime Error/Warning: Not enough free spots (#3) to place 1 player and 2 boxes.\n",
      "[SOKOBAN] Retry . . .\n",
      "\n",
      "Episode 27800 Epsilon 0.200 Learning Rate 0.000009 Solved: 61\n",
      "5 | 10\n",
      "13 | 20\n",
      "17 | 30\n",
      "25 | 40\n",
      "33 | 50\n",
      "38 | 60\n",
      "[SOKOBAN] Runtime Error/Warning: Not enough free spots (#3) to place 1 player and 2 boxes.\n",
      "[SOKOBAN] Retry . . .\n",
      "43 | 70\n",
      "50 | 80\n",
      "56 | 90\n",
      "61 | 100\n"
     ]
    },
    {
     "data": {
      "application/vnd.jupyter.widget-view+json": {
       "model_id": "a6ec832232774796bf63ffcb9926671e",
       "version_major": 2,
       "version_minor": 0
      },
      "text/plain": [
       "HBox(children=(FloatProgress(value=0.0), HTML(value='')))"
      ]
     },
     "metadata": {},
     "output_type": "display_data"
    },
    {
     "name": "stdout",
     "output_type": "stream",
     "text": [
      "[SOKOBAN] Runtime Error/Warning: Not enough free spots (#3) to place 1 player and 2 boxes.\n",
      "[SOKOBAN] Retry . . .\n",
      "\n",
      "Episode 27900 Epsilon 0.200 Learning Rate 0.000009 Solved: 63\n",
      "5 | 10\n",
      "13 | 20\n",
      "21 | 30\n",
      "29 | 40\n",
      "34 | 50\n",
      "42 | 60\n",
      "49 | 70\n",
      "55 | 80\n",
      "60 | 90\n",
      "69 | 100\n"
     ]
    },
    {
     "data": {
      "application/vnd.jupyter.widget-view+json": {
       "model_id": "7e6192d8759c43f3ab06a30a9c806b92",
       "version_major": 2,
       "version_minor": 0
      },
      "text/plain": [
       "HBox(children=(FloatProgress(value=0.0), HTML(value='')))"
      ]
     },
     "metadata": {},
     "output_type": "display_data"
    },
    {
     "name": "stdout",
     "output_type": "stream",
     "text": [
      "[SOKOBAN] Runtime Error/Warning: Not enough free spots (#3) to place 1 player and 2 boxes.\n",
      "[SOKOBAN] Retry . . .\n",
      "\n",
      "Episode 28000 Epsilon 0.200 Learning Rate 0.000009 Solved: 62\n",
      "[SOKOBAN] Runtime Error/Warning: Not enough free spots (#3) to place 1 player and 2 boxes.\n",
      "[SOKOBAN] Retry . . .\n",
      "7 | 10\n",
      "14 | 20\n",
      "[SOKOBAN] Runtime Error/Warning: Not enough free spots (#3) to place 1 player and 2 boxes.\n",
      "[SOKOBAN] Retry . . .\n",
      "[SOKOBAN] Runtime Error/Warning: Not enough free spots (#3) to place 1 player and 2 boxes.\n",
      "[SOKOBAN] Retry . . .\n",
      "21 | 30\n",
      "24 | 40\n",
      "[SOKOBAN] Runtime Error/Warning: Generated Model with score == 0\n",
      "[SOKOBAN] Retry . . .\n",
      "31 | 50\n",
      "38 | 60\n",
      "46 | 70\n",
      "52 | 80\n",
      "58 | 90\n",
      "66 | 100\n"
     ]
    },
    {
     "data": {
      "application/vnd.jupyter.widget-view+json": {
       "model_id": "50ec3dfb703f497d98ad14aef74d970c",
       "version_major": 2,
       "version_minor": 0
      },
      "text/plain": [
       "HBox(children=(FloatProgress(value=0.0), HTML(value='')))"
      ]
     },
     "metadata": {},
     "output_type": "display_data"
    },
    {
     "name": "stdout",
     "output_type": "stream",
     "text": [
      "[SOKOBAN] Runtime Error/Warning: Not enough free spots (#3) to place 1 player and 2 boxes.\n",
      "[SOKOBAN] Retry . . .\n",
      "\n",
      "Episode 28100 Epsilon 0.200 Learning Rate 0.000009 Solved: 60\n",
      "3 | 10\n",
      "7 | 20\n",
      "12 | 30\n",
      "20 | 40\n",
      "26 | 50\n",
      "33 | 60\n",
      "37 | 70\n",
      "[SOKOBAN] Runtime Error/Warning: Generated Model with score == 0\n",
      "[SOKOBAN] Retry . . .\n",
      "[SOKOBAN] Runtime Error/Warning: Generated Model with score == 0\n",
      "[SOKOBAN] Retry . . .\n",
      "46 | 80\n",
      "54 | 90\n",
      "59 | 100\n"
     ]
    },
    {
     "data": {
      "application/vnd.jupyter.widget-view+json": {
       "model_id": "6b58ff1821ff4089a6f6e5e463d3aa09",
       "version_major": 2,
       "version_minor": 0
      },
      "text/plain": [
       "HBox(children=(FloatProgress(value=0.0), HTML(value='')))"
      ]
     },
     "metadata": {},
     "output_type": "display_data"
    },
    {
     "name": "stdout",
     "output_type": "stream",
     "text": [
      "[SOKOBAN] Runtime Error/Warning: Not enough free spots (#3) to place 1 player and 2 boxes.\n",
      "[SOKOBAN] Retry . . .\n",
      "\n",
      "Episode 28200 Epsilon 0.200 Learning Rate 0.000009 Solved: 63\n",
      "[SOKOBAN] Runtime Error/Warning: Generated Model with score == 0\n",
      "[SOKOBAN] Retry . . .\n",
      "7 | 10\n",
      "14 | 20\n",
      "19 | 30\n",
      "27 | 40\n",
      "33 | 50\n",
      "[SOKOBAN] Runtime Error/Warning: Not enough free spots (#3) to place 1 player and 2 boxes.\n",
      "[SOKOBAN] Retry . . .\n",
      "37 | 60\n",
      "43 | 70\n",
      "48 | 80\n",
      "56 | 90\n",
      "62 | 100\n"
     ]
    },
    {
     "data": {
      "application/vnd.jupyter.widget-view+json": {
       "model_id": "e6b9eec3da4c4385987f72bfde68b37a",
       "version_major": 2,
       "version_minor": 0
      },
      "text/plain": [
       "HBox(children=(FloatProgress(value=0.0), HTML(value='')))"
      ]
     },
     "metadata": {},
     "output_type": "display_data"
    },
    {
     "name": "stdout",
     "output_type": "stream",
     "text": [
      "[SOKOBAN] Runtime Error/Warning: Not enough free spots (#3) to place 1 player and 2 boxes.\n",
      "[SOKOBAN] Retry . . .\n",
      "\n",
      "Episode 28300 Epsilon 0.200 Learning Rate 0.000009 Solved: 62\n",
      "6 | 10\n",
      "14 | 20\n",
      "22 | 30\n",
      "32 | 40\n",
      "38 | 50\n",
      "42 | 60\n",
      "48 | 70\n",
      "54 | 80\n",
      "60 | 90\n",
      "67 | 100\n"
     ]
    },
    {
     "data": {
      "application/vnd.jupyter.widget-view+json": {
       "model_id": "41f197e25d6a4beba65f3780c02672df",
       "version_major": 2,
       "version_minor": 0
      },
      "text/plain": [
       "HBox(children=(FloatProgress(value=0.0), HTML(value='')))"
      ]
     },
     "metadata": {},
     "output_type": "display_data"
    },
    {
     "name": "stdout",
     "output_type": "stream",
     "text": [
      "[SOKOBAN] Runtime Error/Warning: Not enough free spots (#3) to place 1 player and 2 boxes.\n",
      "[SOKOBAN] Retry . . .\n",
      "\n",
      "Episode 28400 Epsilon 0.200 Learning Rate 0.000009 Solved: 63\n",
      "[SOKOBAN] Runtime Error/Warning: Not enough free spots (#3) to place 1 player and 2 boxes.\n",
      "[SOKOBAN] Retry . . .\n",
      "5 | 10\n",
      "13 | 20\n",
      "[SOKOBAN] Runtime Error/Warning: Not enough free spots (#3) to place 1 player and 2 boxes.\n",
      "[SOKOBAN] Retry . . .\n",
      "18 | 30\n",
      "25 | 40\n",
      "33 | 50\n",
      "39 | 60\n",
      "44 | 70\n",
      "51 | 80\n",
      "60 | 90\n",
      "[SOKOBAN] Runtime Error/Warning: Not enough free spots (#3) to place 1 player and 2 boxes.\n",
      "[SOKOBAN] Retry . . .\n",
      "68 | 100\n"
     ]
    },
    {
     "data": {
      "application/vnd.jupyter.widget-view+json": {
       "model_id": "256c640a2f2d40c4b3ef0b869492cc72",
       "version_major": 2,
       "version_minor": 0
      },
      "text/plain": [
       "HBox(children=(FloatProgress(value=0.0), HTML(value='')))"
      ]
     },
     "metadata": {},
     "output_type": "display_data"
    },
    {
     "name": "stdout",
     "output_type": "stream",
     "text": [
      "[SOKOBAN] Runtime Error/Warning: Not enough free spots (#3) to place 1 player and 2 boxes.\n",
      "[SOKOBAN] Retry . . .\n",
      "\n",
      "Episode 28500 Epsilon 0.200 Learning Rate 0.000009 Solved: 61\n",
      "6 | 10\n",
      "13 | 20\n",
      "[SOKOBAN] Runtime Error/Warning: Generated Model with score == 0\n",
      "[SOKOBAN] Retry . . .\n",
      "20 | 30\n",
      "26 | 40\n",
      "30 | 50\n",
      "36 | 60\n",
      "45 | 70\n",
      "50 | 80\n",
      "53 | 90\n",
      "60 | 100\n"
     ]
    },
    {
     "data": {
      "application/vnd.jupyter.widget-view+json": {
       "model_id": "77d86eca44a246d1ac35a60eb371bd8a",
       "version_major": 2,
       "version_minor": 0
      },
      "text/plain": [
       "HBox(children=(FloatProgress(value=0.0), HTML(value='')))"
      ]
     },
     "metadata": {},
     "output_type": "display_data"
    },
    {
     "name": "stdout",
     "output_type": "stream",
     "text": [
      "[SOKOBAN] Runtime Error/Warning: Not enough free spots (#3) to place 1 player and 2 boxes.\n",
      "[SOKOBAN] Retry . . .\n",
      "\n",
      "Episode 28600 Epsilon 0.200 Learning Rate 0.000009 Solved: 62\n",
      "[SOKOBAN] Runtime Error/Warning: Generated Model with score == 0\n",
      "[SOKOBAN] Retry . . .\n",
      "8 | 10\n",
      "16 | 20\n",
      "21 | 30\n",
      "29 | 40\n",
      "36 | 50\n",
      "44 | 60\n",
      "53 | 70\n",
      "60 | 80\n",
      "68 | 90\n",
      "74 | 100\n"
     ]
    },
    {
     "data": {
      "application/vnd.jupyter.widget-view+json": {
       "model_id": "c4a825dc17d34c928f05327b0af93522",
       "version_major": 2,
       "version_minor": 0
      },
      "text/plain": [
       "HBox(children=(FloatProgress(value=0.0), HTML(value='')))"
      ]
     },
     "metadata": {},
     "output_type": "display_data"
    },
    {
     "name": "stdout",
     "output_type": "stream",
     "text": [
      "[SOKOBAN] Runtime Error/Warning: Not enough free spots (#3) to place 1 player and 2 boxes.\n",
      "[SOKOBAN] Retry . . .\n",
      "\n",
      "Episode 28700 Epsilon 0.200 Learning Rate 0.000009 Solved: 62\n",
      "5 | 10\n",
      "[SOKOBAN] Runtime Error/Warning: Not enough free spots (#3) to place 1 player and 2 boxes.\n",
      "[SOKOBAN] Retry . . .\n",
      "9 | 20\n",
      "14 | 30\n",
      "[SOKOBAN] Runtime Error/Warning: Not enough free spots (#3) to place 1 player and 2 boxes.\n",
      "[SOKOBAN] Retry . . .\n",
      "19 | 40\n",
      "25 | 50\n",
      "[SOKOBAN] Runtime Error/Warning: Generated Model with score == 0\n",
      "[SOKOBAN] Retry . . .\n",
      "34 | 60\n",
      "[SOKOBAN] Runtime Error/Warning: Not enough free spots (#3) to place 1 player and 2 boxes.\n",
      "[SOKOBAN] Retry . . .\n",
      "39 | 70\n",
      "46 | 80\n",
      "51 | 90\n",
      "58 | 100\n"
     ]
    },
    {
     "data": {
      "application/vnd.jupyter.widget-view+json": {
       "model_id": "e5c5413489984a29baa547362dc58e0a",
       "version_major": 2,
       "version_minor": 0
      },
      "text/plain": [
       "HBox(children=(FloatProgress(value=0.0), HTML(value='')))"
      ]
     },
     "metadata": {},
     "output_type": "display_data"
    },
    {
     "name": "stdout",
     "output_type": "stream",
     "text": [
      "[SOKOBAN] Runtime Error/Warning: Not enough free spots (#3) to place 1 player and 2 boxes.\n",
      "[SOKOBAN] Retry . . .\n",
      "\n",
      "Episode 28800 Epsilon 0.200 Learning Rate 0.000009 Solved: 60\n",
      "6 | 10\n",
      "11 | 20\n",
      "16 | 30\n",
      "20 | 40\n",
      "27 | 50\n",
      "[SOKOBAN] Runtime Error/Warning: Generated Model with score == 0\n",
      "[SOKOBAN] Retry . . .\n",
      "31 | 60\n",
      "[SOKOBAN] Runtime Error/Warning: Not enough free spots (#3) to place 1 player and 2 boxes.\n",
      "[SOKOBAN] Retry . . .\n",
      "36 | 70\n",
      "44 | 80\n",
      "49 | 90\n",
      "55 | 100\n"
     ]
    },
    {
     "data": {
      "application/vnd.jupyter.widget-view+json": {
       "model_id": "a158240efa65410089a6eb6e590775ef",
       "version_major": 2,
       "version_minor": 0
      },
      "text/plain": [
       "HBox(children=(FloatProgress(value=0.0), HTML(value='')))"
      ]
     },
     "metadata": {},
     "output_type": "display_data"
    },
    {
     "name": "stdout",
     "output_type": "stream",
     "text": [
      "[SOKOBAN] Runtime Error/Warning: Not enough free spots (#3) to place 1 player and 2 boxes.\n",
      "[SOKOBAN] Retry . . .\n",
      "\n",
      "Episode 28900 Epsilon 0.200 Learning Rate 0.000009 Solved: 61\n",
      "4 | 10\n",
      "8 | 20\n",
      "16 | 30\n",
      "20 | 40\n",
      "28 | 50\n",
      "32 | 60\n",
      "41 | 70\n",
      "[SOKOBAN] Runtime Error/Warning: Not enough free spots (#3) to place 1 player and 2 boxes.\n",
      "[SOKOBAN] Retry . . .\n",
      "50 | 80\n",
      "58 | 90\n",
      "65 | 100\n"
     ]
    },
    {
     "data": {
      "application/vnd.jupyter.widget-view+json": {
       "model_id": "b642b010c51c46adbc26664dc7236022",
       "version_major": 2,
       "version_minor": 0
      },
      "text/plain": [
       "HBox(children=(FloatProgress(value=0.0), HTML(value='')))"
      ]
     },
     "metadata": {},
     "output_type": "display_data"
    },
    {
     "name": "stdout",
     "output_type": "stream",
     "text": [
      "[SOKOBAN] Runtime Error/Warning: Not enough free spots (#3) to place 1 player and 2 boxes.\n",
      "[SOKOBAN] Retry . . .\n",
      "\n",
      "Episode 29000 Epsilon 0.200 Learning Rate 0.000009 Solved: 61\n",
      "5 | 10\n",
      "10 | 20\n",
      "16 | 30\n",
      "21 | 40\n",
      "28 | 50\n",
      "[SOKOBAN] Runtime Error/Warning: Not enough free spots (#3) to place 1 player and 2 boxes.\n",
      "[SOKOBAN] Retry . . .\n",
      "36 | 60\n",
      "43 | 70\n",
      "51 | 80\n",
      "59 | 90\n",
      "66 | 100\n"
     ]
    },
    {
     "data": {
      "application/vnd.jupyter.widget-view+json": {
       "model_id": "92b38eafa9a242d5876e725fa1941f69",
       "version_major": 2,
       "version_minor": 0
      },
      "text/plain": [
       "HBox(children=(FloatProgress(value=0.0), HTML(value='')))"
      ]
     },
     "metadata": {},
     "output_type": "display_data"
    },
    {
     "name": "stdout",
     "output_type": "stream",
     "text": [
      "[SOKOBAN] Runtime Error/Warning: Not enough free spots (#3) to place 1 player and 2 boxes.\n",
      "[SOKOBAN] Retry . . .\n",
      "\n",
      "Episode 29100 Epsilon 0.200 Learning Rate 0.000009 Solved: 63\n",
      "6 | 10\n",
      "14 | 20\n",
      "18 | 30\n",
      "25 | 40\n",
      "31 | 50\n",
      "38 | 60\n",
      "47 | 70\n",
      "54 | 80\n",
      "63 | 90\n",
      "69 | 100\n"
     ]
    },
    {
     "data": {
      "application/vnd.jupyter.widget-view+json": {
       "model_id": "76f3ad0ddbe649fda205808e5dd00ec0",
       "version_major": 2,
       "version_minor": 0
      },
      "text/plain": [
       "HBox(children=(FloatProgress(value=0.0), HTML(value='')))"
      ]
     },
     "metadata": {},
     "output_type": "display_data"
    },
    {
     "name": "stdout",
     "output_type": "stream",
     "text": [
      "[SOKOBAN] Runtime Error/Warning: Not enough free spots (#3) to place 1 player and 2 boxes.\n",
      "[SOKOBAN] Retry . . .\n",
      "\n",
      "Episode 29200 Epsilon 0.200 Learning Rate 0.000008 Solved: 62\n",
      "8 | 10\n",
      "[SOKOBAN] Runtime Error/Warning: Generated Model with score == 0\n",
      "[SOKOBAN] Retry . . .\n",
      "13 | 20\n",
      "18 | 30\n",
      "23 | 40\n",
      "28 | 50\n",
      "35 | 60\n",
      "42 | 70\n",
      "50 | 80\n",
      "57 | 90\n",
      "[SOKOBAN] Runtime Error/Warning: Not enough free spots (#3) to place 1 player and 2 boxes.\n",
      "[SOKOBAN] Retry . . .\n",
      "[SOKOBAN] Runtime Error/Warning: Generated Model with score == 0\n",
      "[SOKOBAN] Retry . . .\n",
      "64 | 100\n"
     ]
    },
    {
     "data": {
      "application/vnd.jupyter.widget-view+json": {
       "model_id": "c9e1865e18614178bca25bb360d9a827",
       "version_major": 2,
       "version_minor": 0
      },
      "text/plain": [
       "HBox(children=(FloatProgress(value=0.0), HTML(value='')))"
      ]
     },
     "metadata": {},
     "output_type": "display_data"
    },
    {
     "name": "stdout",
     "output_type": "stream",
     "text": [
      "[SOKOBAN] Runtime Error/Warning: Not enough free spots (#3) to place 1 player and 2 boxes.\n",
      "[SOKOBAN] Retry . . .\n",
      "\n",
      "Episode 29300 Epsilon 0.200 Learning Rate 0.000008 Solved: 61\n",
      "[SOKOBAN] Runtime Error/Warning: Not enough free spots (#3) to place 1 player and 2 boxes.\n",
      "[SOKOBAN] Retry . . .\n",
      "8 | 10\n",
      "[SOKOBAN] Runtime Error/Warning: Not enough free spots (#3) to place 1 player and 2 boxes.\n",
      "[SOKOBAN] Retry . . .\n",
      "14 | 20\n",
      "20 | 30\n",
      "[SOKOBAN] Runtime Error/Warning: Not enough free spots (#3) to place 1 player and 2 boxes.\n",
      "[SOKOBAN] Retry . . .\n",
      "23 | 40\n",
      "30 | 50\n",
      "36 | 60\n",
      "43 | 70\n",
      "50 | 80\n",
      "56 | 90\n",
      "62 | 100\n"
     ]
    },
    {
     "data": {
      "application/vnd.jupyter.widget-view+json": {
       "model_id": "ff6a0383898f499fbb311ab68f25bbd1",
       "version_major": 2,
       "version_minor": 0
      },
      "text/plain": [
       "HBox(children=(FloatProgress(value=0.0), HTML(value='')))"
      ]
     },
     "metadata": {},
     "output_type": "display_data"
    },
    {
     "name": "stdout",
     "output_type": "stream",
     "text": [
      "[SOKOBAN] Runtime Error/Warning: Not enough free spots (#3) to place 1 player and 2 boxes.\n",
      "[SOKOBAN] Retry . . .\n",
      "\n",
      "Episode 29400 Epsilon 0.200 Learning Rate 0.000008 Solved: 64\n",
      "7 | 10\n",
      "13 | 20\n",
      "20 | 30\n",
      "27 | 40\n",
      "33 | 50\n",
      "40 | 60\n",
      "43 | 70\n",
      "50 | 80\n",
      "54 | 90\n",
      "59 | 100\n"
     ]
    },
    {
     "data": {
      "application/vnd.jupyter.widget-view+json": {
       "model_id": "ab42a38e8fdb44eab2e56577c4256fb6",
       "version_major": 2,
       "version_minor": 0
      },
      "text/plain": [
       "HBox(children=(FloatProgress(value=0.0), HTML(value='')))"
      ]
     },
     "metadata": {},
     "output_type": "display_data"
    },
    {
     "name": "stdout",
     "output_type": "stream",
     "text": [
      "[SOKOBAN] Runtime Error/Warning: Not enough free spots (#3) to place 1 player and 2 boxes.\n",
      "[SOKOBAN] Retry . . .\n",
      "\n",
      "Episode 29500 Epsilon 0.200 Learning Rate 0.000008 Solved: 66\n",
      "[SOKOBAN] Runtime Error/Warning: Generated Model with score == 0\n",
      "[SOKOBAN] Retry . . .\n",
      "8 | 10\n",
      "17 | 20\n",
      "[SOKOBAN] Runtime Error/Warning: Generated Model with score == 0\n",
      "[SOKOBAN] Retry . . .\n",
      "23 | 30\n",
      "29 | 40\n",
      "[SOKOBAN] Runtime Error/Warning: Generated Model with score == 0\n",
      "[SOKOBAN] Retry . . .\n",
      "38 | 50\n",
      "44 | 60\n",
      "[SOKOBAN] Runtime Error/Warning: Generated Model with score == 0\n",
      "[SOKOBAN] Retry . . .\n",
      "51 | 70\n",
      "55 | 80\n",
      "60 | 90\n",
      "68 | 100\n"
     ]
    },
    {
     "data": {
      "application/vnd.jupyter.widget-view+json": {
       "model_id": "21fc9e82c32d4019b22b73aaa7443c31",
       "version_major": 2,
       "version_minor": 0
      },
      "text/plain": [
       "HBox(children=(FloatProgress(value=0.0), HTML(value='')))"
      ]
     },
     "metadata": {},
     "output_type": "display_data"
    },
    {
     "name": "stdout",
     "output_type": "stream",
     "text": [
      "[SOKOBAN] Runtime Error/Warning: Not enough free spots (#3) to place 1 player and 2 boxes.\n",
      "[SOKOBAN] Retry . . .\n",
      "\n",
      "Episode 29600 Epsilon 0.200 Learning Rate 0.000008 Solved: 66\n",
      "8 | 10\n",
      "16 | 20\n",
      "20 | 30\n",
      "23 | 40\n",
      "28 | 50\n",
      "31 | 60\n",
      "37 | 70\n",
      "45 | 80\n",
      "53 | 90\n",
      "[SOKOBAN] Runtime Error/Warning: Not enough free spots (#3) to place 1 player and 2 boxes.\n",
      "[SOKOBAN] Retry . . .\n",
      "57 | 100\n"
     ]
    },
    {
     "data": {
      "application/vnd.jupyter.widget-view+json": {
       "model_id": "b732d848a20e43c2a2b510b3facf17fb",
       "version_major": 2,
       "version_minor": 0
      },
      "text/plain": [
       "HBox(children=(FloatProgress(value=0.0), HTML(value='')))"
      ]
     },
     "metadata": {},
     "output_type": "display_data"
    },
    {
     "name": "stdout",
     "output_type": "stream",
     "text": [
      "[SOKOBAN] Runtime Error/Warning: Not enough free spots (#3) to place 1 player and 2 boxes.\n",
      "[SOKOBAN] Retry . . .\n",
      "\n",
      "Episode 29700 Epsilon 0.200 Learning Rate 0.000008 Solved: 62\n",
      "8 | 10\n",
      "15 | 20\n",
      "22 | 30\n",
      "27 | 40\n",
      "34 | 50\n",
      "39 | 60\n",
      "47 | 70\n",
      "50 | 80\n",
      "58 | 90\n",
      "63 | 100\n"
     ]
    },
    {
     "data": {
      "application/vnd.jupyter.widget-view+json": {
       "model_id": "cab94e16951945d19b48f1d33ab30c5b",
       "version_major": 2,
       "version_minor": 0
      },
      "text/plain": [
       "HBox(children=(FloatProgress(value=0.0), HTML(value='')))"
      ]
     },
     "metadata": {},
     "output_type": "display_data"
    },
    {
     "name": "stdout",
     "output_type": "stream",
     "text": [
      "[SOKOBAN] Runtime Error/Warning: Not enough free spots (#3) to place 1 player and 2 boxes.\n",
      "[SOKOBAN] Retry . . .\n",
      "\n",
      "Episode 29800 Epsilon 0.200 Learning Rate 0.000008 Solved: 62\n",
      "6 | 10\n"
     ]
    }
   ],
   "source": [
    "agent = SOK_Agent()\n",
    "\n",
    "agent.load(\"models\\Q3_06A_53.h5\")\n",
    "\n",
    "running_puzzles = 0\n",
    "running_solved = 0\n",
    "solved_in_train = []\n",
    "solved_in_test = []\n",
    "test_record = 0\n",
    "\n",
    "for e in range(max_episodes):\n",
    "    sok = init_sok(e+100)\n",
    "    random.seed(e)\n",
    "    running_puzzles += 1\n",
    "    \n",
    "    state = process_frame(sok.get_image('rgb_array'))\n",
    "    room_state = sok.room_state.copy() \n",
    "    maze_info = get_maze_info(room_state)\n",
    "    \n",
    "    for step in range(sok.max_steps):\n",
    "        action = agent.act(state, stochastic=True)\n",
    "        if action < 4:\n",
    "            next_state, reward, done, _ = sok.step(action+1) \n",
    "        else:\n",
    "            next_state, reward, done, _ = sok.step(action+5)         \n",
    "        \n",
    "        next_state = process_frame(next_state)        \n",
    "        next_room_state = sok.room_state\n",
    "        \n",
    "        if not done:\n",
    "            reward += box2target_change_reward(room_state, next_room_state, maze_info)\n",
    "        \n",
    "        agent.remember(state, action, reward, next_state, done)\n",
    "        \n",
    "        state = next_state.copy() \n",
    "        room_state = next_room_state.copy()                \n",
    "        \n",
    "        if e >= 200 and (step+1) % agent.replay_rate == 0:\n",
    "            agent.replay()            \n",
    "        \n",
    "        if done: \n",
    "            if sok.boxes_on_target == 2:  \n",
    "                agent.copy_to_prioritized_buffer(step+1)  \n",
    "                running_solved += 1\n",
    "                \n",
    "            if (e+1) % 10 == 0 and e > 0:\n",
    "                print(f\"{running_solved} | {running_puzzles}\") \n",
    "\n",
    "                if (e+1) % 100 == 0:\n",
    "                    solved_in_train.append(running_solved)\n",
    "                    running_puzzles = 0\n",
    "                    running_solved = 0\n",
    "                    \n",
    "            break\n",
    "            \n",
    "    if (e+1) % 100 == 0 and e > 0:\n",
    "        solved_tests, test_record = test_agent(e, test_record, stochastic=False) \n",
    "        solved_in_test.append(solved_tests)"
   ]
  },
  {
   "cell_type": "code",
   "execution_count": null,
   "metadata": {},
   "outputs": [],
   "source": []
  }
 ],
 "metadata": {
  "colab": {
   "provenance": []
  },
  "gpuClass": "standard",
  "kernelspec": {
   "display_name": "Python 3",
   "language": "python",
   "name": "python3"
  },
  "language_info": {
   "codemirror_mode": {
    "name": "ipython",
    "version": 3
   },
   "file_extension": ".py",
   "mimetype": "text/x-python",
   "name": "python",
   "nbconvert_exporter": "python",
   "pygments_lexer": "ipython3",
   "version": "3.8.3"
  }
 },
 "nbformat": 4,
 "nbformat_minor": 1
}
